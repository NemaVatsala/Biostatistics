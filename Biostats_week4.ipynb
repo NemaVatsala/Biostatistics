{
 "cells": [
  {
   "cell_type": "markdown",
   "id": "3e5be3db",
   "metadata": {},
   "source": [
    "# Biostatistics - Week 4\n",
    "\n",
    "Control for confounding variables relevant to the experiment - paired Dataset \n",
    "\n",
    "Preference for paired datasets \n",
    "\n"
   ]
  },
  {
   "cell_type": "code",
   "execution_count": 5,
   "id": "6dc9829f",
   "metadata": {},
   "outputs": [
    {
     "ename": "NameError",
     "evalue": "name 'setwd' is not defined",
     "output_type": "error",
     "traceback": [
      "\u001b[1;31m---------------------------------------------------------------------------\u001b[0m",
      "\u001b[1;31mNameError\u001b[0m                                 Traceback (most recent call last)",
      "Cell \u001b[1;32mIn[5], line 1\u001b[0m\n\u001b[1;32m----> 1\u001b[0m \u001b[43msetwd\u001b[49m(\u001b[38;5;124m\"\u001b[39m\u001b[38;5;124mC:/Users/VATSALA NEMA/Documents/SEM 8/Biostatistics\u001b[39m\u001b[38;5;124m\"\u001b[39m)\n",
      "\u001b[1;31mNameError\u001b[0m: name 'setwd' is not defined"
     ]
    }
   ],
   "source": [
    "setwd(\"C:/Users/VATSALA NEMA/Documents/SEM 8/Biostatistics\")#But this will work\n"
   ]
  },
  {
   "cell_type": "code",
   "execution_count": null,
   "id": "98598618",
   "metadata": {},
   "outputs": [],
   "source": [
    "plot(gapminder_unfiltered)"
   ]
  }
 ],
 "metadata": {
  "kernelspec": {
   "display_name": "Python 3 (ipykernel)",
   "language": "python",
   "name": "python3"
  },
  "language_info": {
   "codemirror_mode": {
    "name": "ipython",
    "version": 3
   },
   "file_extension": ".py",
   "mimetype": "text/x-python",
   "name": "python",
   "nbconvert_exporter": "python",
   "pygments_lexer": "ipython3",
   "version": "3.8.15"
  }
 },
 "nbformat": 4,
 "nbformat_minor": 5
}
