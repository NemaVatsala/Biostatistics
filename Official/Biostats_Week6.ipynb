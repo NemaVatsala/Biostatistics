{
 "cells": [
  {
   "cell_type": "code",
   "execution_count": 1,
   "id": "66b2adf9",
   "metadata": {},
   "outputs": [
    {
     "name": "stderr",
     "output_type": "stream",
     "text": [
      "also installing the dependencies 'glue', 'pillar', 'tibble', 'stringi', 'cli', 'dplyr', 'lifecycle', 'purrr', 'rlang', 'stringr', 'tidyselect', 'vctrs', 'cpp11'\n",
      "\n"
     ]
    },
    {
     "name": "stdout",
     "output_type": "stream",
     "text": [
      "\n",
      "  There are binary versions available but the source versions are later:\n",
      "           binary source needs_compilation\n",
      "glue        1.4.2  1.6.2              TRUE\n",
      "pillar      1.6.0  1.8.1             FALSE\n",
      "tibble      3.1.1  3.2.0              TRUE\n",
      "stringi     1.6.1 1.7.12              TRUE\n",
      "cli         2.5.0  3.6.0              TRUE\n",
      "dplyr       1.0.6  1.1.0              TRUE\n",
      "lifecycle   1.0.0  1.0.3             FALSE\n",
      "purrr       0.3.4  1.0.1              TRUE\n",
      "rlang      0.4.11  1.0.6              TRUE\n",
      "stringr     1.4.0  1.5.0             FALSE\n",
      "tidyselect  1.1.1  1.2.0             FALSE\n",
      "vctrs       0.3.8  0.5.2              TRUE\n",
      "cpp11       0.2.7  0.4.3             FALSE\n",
      "tidyr       1.1.3  1.3.0              TRUE\n",
      "\n"
     ]
    },
    {
     "name": "stderr",
     "output_type": "stream",
     "text": [
      "installing the source packages 'glue', 'pillar', 'tibble', 'stringi', 'cli', 'dplyr', 'lifecycle', 'purrr', 'rlang', 'stringr', 'tidyselect', 'vctrs', 'cpp11', 'tidyr'\n",
      "\n",
      "Warning message in install.packages(\"tidyr\"):\n",
      "\"installation of package 'glue' had non-zero exit status\"Warning message in install.packages(\"tidyr\"):\n",
      "\"installation of package 'stringi' had non-zero exit status\"Warning message in install.packages(\"tidyr\"):\n",
      "\"installation of package 'cli' had non-zero exit status\"Warning message in install.packages(\"tidyr\"):\n",
      "\"installation of package 'rlang' had non-zero exit status\"Warning message in install.packages(\"tidyr\"):\n",
      "\"installation of package 'lifecycle' had non-zero exit status\"Warning message in install.packages(\"tidyr\"):\n",
      "\"installation of package 'vctrs' had non-zero exit status\"Warning message in install.packages(\"tidyr\"):\n",
      "\"installation of package 'pillar' had non-zero exit status\"Warning message in install.packages(\"tidyr\"):\n",
      "\"installation of package 'purrr' had non-zero exit status\"Warning message in install.packages(\"tidyr\"):\n",
      "\"installation of package 'stringr' had non-zero exit status\"Warning message in install.packages(\"tidyr\"):\n",
      "\"installation of package 'tidyselect' had non-zero exit status\"Warning message in install.packages(\"tidyr\"):\n",
      "\"installation of package 'tibble' had non-zero exit status\"Warning message in install.packages(\"tidyr\"):\n",
      "\"installation of package 'dplyr' had non-zero exit status\"Warning message in install.packages(\"tidyr\"):\n",
      "\"installation of package 'tidyr' had non-zero exit status\""
     ]
    }
   ],
   "source": [
    "install.packages('tidyr')"
   ]
  },
  {
   "cell_type": "code",
   "execution_count": 1,
   "id": "1d384787",
   "metadata": {},
   "outputs": [],
   "source": [
    "a<-rnorm(n=10, sd=10, mean=50)"
   ]
  },
  {
   "cell_type": "code",
   "execution_count": 2,
   "id": "ce4681ab",
   "metadata": {},
   "outputs": [
    {
     "data": {
      "text/html": [
       "<ol class=list-inline>\n",
       "\t<li>52.7897026128562</li>\n",
       "\t<li>56.3360046182013</li>\n",
       "\t<li>56.1617613949488</li>\n",
       "\t<li>70.0287322860152</li>\n",
       "\t<li>64.4491088495214</li>\n",
       "\t<li>52.620503342533</li>\n",
       "\t<li>44.8058944422101</li>\n",
       "\t<li>54.4816379637245</li>\n",
       "\t<li>71.5837280472434</li>\n",
       "\t<li>37.4220025856872</li>\n",
       "</ol>\n"
      ],
      "text/latex": [
       "\\begin{enumerate*}\n",
       "\\item 52.7897026128562\n",
       "\\item 56.3360046182013\n",
       "\\item 56.1617613949488\n",
       "\\item 70.0287322860152\n",
       "\\item 64.4491088495214\n",
       "\\item 52.620503342533\n",
       "\\item 44.8058944422101\n",
       "\\item 54.4816379637245\n",
       "\\item 71.5837280472434\n",
       "\\item 37.4220025856872\n",
       "\\end{enumerate*}\n"
      ],
      "text/markdown": [
       "1. 52.7897026128562\n",
       "2. 56.3360046182013\n",
       "3. 56.1617613949488\n",
       "4. 70.0287322860152\n",
       "5. 64.4491088495214\n",
       "6. 52.620503342533\n",
       "7. 44.8058944422101\n",
       "8. 54.4816379637245\n",
       "9. 71.5837280472434\n",
       "10. 37.4220025856872\n",
       "\n",
       "\n"
      ],
      "text/plain": [
       " [1] 52.78970 56.33600 56.16176 70.02873 64.44911 52.62050 44.80589 54.48164\n",
       " [9] 71.58373 37.42200"
      ]
     },
     "metadata": {},
     "output_type": "display_data"
    }
   ],
   "source": [
    "a"
   ]
  },
  {
   "cell_type": "markdown",
   "id": "abe84a99",
   "metadata": {},
   "source": [
    "### Class: 16th March 2023\n",
    "\n"
   ]
  },
  {
   "cell_type": "code",
   "execution_count": null,
   "id": "b7627e91",
   "metadata": {},
   "outputs": [],
   "source": []
  },
  {
   "cell_type": "code",
   "execution_count": null,
   "id": "40f0822b",
   "metadata": {},
   "outputs": [],
   "source": [
    "abline(reg_model3, col=\"green\")\n",
    "summary(reg_model3)"
   ]
  },
  {
   "cell_type": "code",
   "execution_count": null,
   "id": "8ecec299",
   "metadata": {},
   "outputs": [],
   "source": [
    "AIC(reg_model)\n",
    "AIC(reg_model2)\n",
    "AIC(reg_model3)"
   ]
  },
  {
   "cell_type": "markdown",
   "id": "84f1e7c2",
   "metadata": {},
   "source": [
    "# 23rd March 2023"
   ]
  },
  {
   "cell_type": "markdown",
   "id": "1da61fa0",
   "metadata": {},
   "source": [
    "PCA </br>\n",
    "Curse of Dimensionality\n",
    "\n",
    "1. Standardization \n",
    "x-mean(x)->x_1\n",
    "2. Covariance decomposition\n",
    "$\\sum \\frac{(x-\\overline(x))(y-\\overline(y))}{N-1}$\n",
    "3. Eigen Decomposition\n",
    "\n",
    "\n",
    "A. Components </br>\n",
    "B. Loadings - relative contributions of the entities \n"
   ]
  },
  {
   "cell_type": "code",
   "execution_count": null,
   "id": "057864bb",
   "metadata": {},
   "outputs": [],
   "source": [
    "x<-c()\n",
    "y<-c()"
   ]
  },
  {
   "cell_type": "code",
   "execution_count": null,
   "id": "b094d780",
   "metadata": {},
   "outputs": [],
   "source": [
    "m<-matrix(c(cov(x1,y1), cov(x1, y1), cov(y1,x1), cov(y1,x1)), nrow=2, ncol=2, byrow=TRUE, dimnames=list(c(\"x\", \"y\"), c(\"x\",\"y\")))"
   ]
  },
  {
   "cell_type": "code",
   "execution_count": null,
   "id": "1f5673f7",
   "metadata": {},
   "outputs": [],
   "source": [
    "e<-eigen(m)"
   ]
  },
  {
   "cell_type": "code",
   "execution_count": null,
   "id": "fdc1d5e1",
   "metadata": {},
   "outputs": [],
   "source": [
    "pc1<-x1*e$vectors[1,1]+y1*e$vectors[2,1]"
   ]
  },
  {
   "cell_type": "code",
   "execution_count": null,
   "id": "3a888807",
   "metadata": {},
   "outputs": [],
   "source": [
    "pc2<-x"
   ]
  },
  {
   "cell_type": "code",
   "execution_count": null,
   "id": "8855b839",
   "metadata": {},
   "outputs": [],
   "source": [
    "data<-data.frame(x, y)\n",
    "data.pca(x,y)"
   ]
  }
 ],
 "metadata": {
  "kernelspec": {
   "display_name": "R",
   "language": "R",
   "name": "ir"
  },
  "language_info": {
   "codemirror_mode": "r",
   "file_extension": ".r",
   "mimetype": "text/x-r-source",
   "name": "R",
   "pygments_lexer": "r",
   "version": "3.6.1"
  }
 },
 "nbformat": 4,
 "nbformat_minor": 5
}
