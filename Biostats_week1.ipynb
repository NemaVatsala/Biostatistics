{
 "cells": [
  {
   "cell_type": "markdown",
   "id": "f8cd341a",
   "metadata": {},
   "source": [
    "# BIOSTATISTICS"
   ]
  },
  {
   "cell_type": "markdown",
   "id": "4763efa0",
   "metadata": {},
   "source": [
    "<h1>Course Info:</h1>\n",
    "<h2>Grading policy </h2>\n",
    "30 - midsem <br>\n",
    "40 - endsem <br>\n",
    "25 - project and presentation <br>\n",
    "5 - attendance<br>\n",
    "\n",
    "<h2> Ref books: </h2>\n",
    "1. R book - https://r4ds.had.co.nz/index.html <br>\n",
    "2. Learning R "
   ]
  },
  {
   "cell_type": "markdown",
   "id": "eb1d682e",
   "metadata": {},
   "source": [
    "# Generating Random Numbers"
   ]
  },
  {
   "cell_type": "code",
   "execution_count": 1,
   "id": "d69379dd",
   "metadata": {},
   "outputs": [
    {
     "data": {
      "text/html": [
       "<ol class=list-inline>\n",
       "\t<li>0.714290318544954</li>\n",
       "\t<li>0.602358059724793</li>\n",
       "\t<li>0.775512376800179</li>\n",
       "</ol>\n"
      ],
      "text/latex": [
       "\\begin{enumerate*}\n",
       "\\item 0.714290318544954\n",
       "\\item 0.602358059724793\n",
       "\\item 0.775512376800179\n",
       "\\end{enumerate*}\n"
      ],
      "text/markdown": [
       "1. 0.714290318544954\n",
       "2. 0.602358059724793\n",
       "3. 0.775512376800179\n",
       "\n",
       "\n"
      ],
      "text/plain": [
       "[1] 0.7142903 0.6023581 0.7755124"
      ]
     },
     "metadata": {},
     "output_type": "display_data"
    }
   ],
   "source": [
    "runif(3)"
   ]
  },
  {
   "cell_type": "code",
   "execution_count": 2,
   "id": "6b932b9c",
   "metadata": {},
   "outputs": [
    {
     "data": {
      "text/html": [
       "<ol class=list-inline>\n",
       "\t<li>-0.93272496946156</li>\n",
       "\t<li>-0.12195309670642</li>\n",
       "</ol>\n"
      ],
      "text/latex": [
       "\\begin{enumerate*}\n",
       "\\item -0.93272496946156\n",
       "\\item -0.12195309670642\n",
       "\\end{enumerate*}\n"
      ],
      "text/markdown": [
       "1. -0.93272496946156\n",
       "2. -0.12195309670642\n",
       "\n",
       "\n"
      ],
      "text/plain": [
       "[1] -0.9327250 -0.1219531"
      ]
     },
     "metadata": {},
     "output_type": "display_data"
    }
   ],
   "source": [
    "runif(2, -1, 1)"
   ]
  },
  {
   "cell_type": "code",
   "execution_count": 3,
   "id": "5c893f58",
   "metadata": {},
   "outputs": [
    {
     "data": {
      "image/png": "[encoded data removed]",
      "text/plain": [
       "Plot with title \"Histogram of rnorm(200, mean = 35)\""
      ]
     },
     "metadata": {},
     "output_type": "display_data"
    }
   ],
   "source": [
    "hist(rnorm(200, mean=35))"
   ]
  },
  {
   "cell_type": "code",
   "execution_count": 4,
   "id": "7311985e",
   "metadata": {},
   "outputs": [
    {
     "data": {
      "image/png": "[encoded data removed]",
      "text/plain": [
       "Plot with title \"Histogram of runif(100, 0, 100)\""
      ]
     },
     "metadata": {},
     "output_type": "display_data"
    }
   ],
   "source": [
    "hist(runif(100, 0, 100))"
   ]
  },
  {
   "cell_type": "code",
   "execution_count": 5,
   "id": "3a785410",
   "metadata": {},
   "outputs": [],
   "source": [
    "#hist(rnorm(120, mean=50), xlim=0, ylim=55 )"
   ]
  },
  {
   "cell_type": "markdown",
   "id": "68b98af9",
   "metadata": {},
   "source": [
    "# Class 10th January 2023"
   ]
  },
  {
   "cell_type": "code",
   "execution_count": 6,
   "id": "770369c6",
   "metadata": {},
   "outputs": [
    {
     "data": {
      "text/html": [
       "<ol class=list-inline>\n",
       "\t<li>1</li>\n",
       "\t<li>2</li>\n",
       "\t<li>3</li>\n",
       "\t<li>4</li>\n",
       "\t<li>5</li>\n",
       "\t<li>6</li>\n",
       "\t<li>7</li>\n",
       "\t<li>8</li>\n",
       "\t<li>9</li>\n",
       "\t<li>10</li>\n",
       "</ol>\n"
      ],
      "text/latex": [
       "\\begin{enumerate*}\n",
       "\\item 1\n",
       "\\item 2\n",
       "\\item 3\n",
       "\\item 4\n",
       "\\item 5\n",
       "\\item 6\n",
       "\\item 7\n",
       "\\item 8\n",
       "\\item 9\n",
       "\\item 10\n",
       "\\end{enumerate*}\n"
      ],
      "text/markdown": [
       "1. 1\n",
       "2. 2\n",
       "3. 3\n",
       "4. 4\n",
       "5. 5\n",
       "6. 6\n",
       "7. 7\n",
       "8. 8\n",
       "9. 9\n",
       "10. 10\n",
       "\n",
       "\n"
      ],
      "text/plain": [
       " [1]  1  2  3  4  5  6  7  8  9 10"
      ]
     },
     "metadata": {},
     "output_type": "display_data"
    }
   ],
   "source": [
    "#Vectors of numbers, alphabets, booleans\n",
    "c(1:10)"
   ]
  },
  {
   "cell_type": "code",
   "execution_count": 7,
   "id": "eb88e999",
   "metadata": {},
   "outputs": [
    {
     "data": {
      "text/html": [
       "<ol class=list-inline>\n",
       "\t<li>'mon'</li>\n",
       "\t<li>'tue'</li>\n",
       "\t<li>'wed'</li>\n",
       "</ol>\n"
      ],
      "text/latex": [
       "\\begin{enumerate*}\n",
       "\\item 'mon'\n",
       "\\item 'tue'\n",
       "\\item 'wed'\n",
       "\\end{enumerate*}\n"
      ],
      "text/markdown": [
       "1. 'mon'\n",
       "2. 'tue'\n",
       "3. 'wed'\n",
       "\n",
       "\n"
      ],
      "text/plain": [
       "[1] \"mon\" \"tue\" \"wed\""
      ]
     },
     "metadata": {},
     "output_type": "display_data"
    }
   ],
   "source": [
    "c(\"mon\", \"tue\", \"wed\")"
   ]
  },
  {
   "cell_type": "code",
   "execution_count": 8,
   "id": "1816c535",
   "metadata": {},
   "outputs": [],
   "source": [
    "#use double square brackets to access elements in a list "
   ]
  },
  {
   "cell_type": "code",
   "execution_count": 9,
   "id": "3676dce5",
   "metadata": {},
   "outputs": [],
   "source": [
    "days<-c(\"mon\", \"tue\", \"wed\")"
   ]
  },
  {
   "cell_type": "code",
   "execution_count": 10,
   "id": "ebd10137",
   "metadata": {},
   "outputs": [
    {
     "data": {
      "text/html": [
       "<ol class=list-inline>\n",
       "\t<li>'mon'</li>\n",
       "\t<li>'wed'</li>\n",
       "</ol>\n"
      ],
      "text/latex": [
       "\\begin{enumerate*}\n",
       "\\item 'mon'\n",
       "\\item 'wed'\n",
       "\\end{enumerate*}\n"
      ],
      "text/markdown": [
       "1. 'mon'\n",
       "2. 'wed'\n",
       "\n",
       "\n"
      ],
      "text/plain": [
       "[1] \"mon\" \"wed\""
      ]
     },
     "metadata": {},
     "output_type": "display_data"
    }
   ],
   "source": [
    "days[c(1,3)]"
   ]
  },
  {
   "cell_type": "code",
   "execution_count": 11,
   "id": "50844933",
   "metadata": {},
   "outputs": [],
   "source": [
    "#days[c(1:)]"
   ]
  },
  {
   "cell_type": "code",
   "execution_count": 12,
   "id": "58358400",
   "metadata": {},
   "outputs": [],
   "source": [
    "new.function <- function(a,b,c)\n",
    "    {\n",
    "    sum<-a+b+c\n",
    "    print(sum)\n",
    "}"
   ]
  },
  {
   "cell_type": "code",
   "execution_count": 13,
   "id": "e58b08b7",
   "metadata": {},
   "outputs": [
    {
     "name": "stdout",
     "output_type": "stream",
     "text": [
      "[1] 19\n"
     ]
    }
   ],
   "source": [
    "new.function(a = 11, b = 5, c = 3)"
   ]
  },
  {
   "cell_type": "code",
   "execution_count": 14,
   "id": "a8e25080",
   "metadata": {},
   "outputs": [
    {
     "name": "stdout",
     "output_type": "stream",
     "text": [
      "[1] 12\n"
     ]
    }
   ],
   "source": [
    "new.function(5, 3, 4)"
   ]
  },
  {
   "cell_type": "code",
   "execution_count": 15,
   "id": "a44bb0ff",
   "metadata": {},
   "outputs": [],
   "source": [
    "x<-c(1,2,3,47,85,23)"
   ]
  },
  {
   "cell_type": "code",
   "execution_count": 16,
   "id": "b919cbf5",
   "metadata": {},
   "outputs": [],
   "source": [
    "new.my_mean<- function(x){\n",
    "    n<-length(x)\n",
    "    avg<-sum(x)/n\n",
    "    print(avg)\n",
    "    \n",
    "}"
   ]
  },
  {
   "cell_type": "code",
   "execution_count": 17,
   "id": "878cb1cf",
   "metadata": {},
   "outputs": [
    {
     "name": "stdout",
     "output_type": "stream",
     "text": [
      "[1] 26.83333\n"
     ]
    }
   ],
   "source": [
    "new.my_mean(x)"
   ]
  },
  {
   "cell_type": "code",
   "execution_count": 18,
   "id": "276da811",
   "metadata": {},
   "outputs": [],
   "source": [
    "#Data frames\n",
    "\n",
    "id<-(1:200)\n",
    "group<-c(rep(\"Vehicle\", 100), rep(\"Drug\", 100))\n",
    "group2<-rep(c(rep(\"Vehicle\", 50), rep(\"Drug\", 50)), 2)"
   ]
  },
  {
   "cell_type": "code",
   "execution_count": 19,
   "id": "5b9204cb",
   "metadata": {},
   "outputs": [],
   "source": [
    "#group2"
   ]
  },
  {
   "cell_type": "code",
   "execution_count": 20,
   "id": "c5ef7d56",
   "metadata": {},
   "outputs": [],
   "source": [
    "response<-c(rnorm(100, mean=25, sd=5),rnorm(100, mean=23, sd=10))"
   ]
  },
  {
   "cell_type": "code",
   "execution_count": 21,
   "id": "af2b3d1c",
   "metadata": {},
   "outputs": [],
   "source": [
    "myData<-data.frame(Patient=id, Treatment=group, Response=response)"
   ]
  },
  {
   "cell_type": "code",
   "execution_count": 22,
   "id": "3f30a12e",
   "metadata": {},
   "outputs": [
    {
     "data": {
      "text/html": [
       "<table>\n",
       "<thead><tr><th scope=col>Patient</th><th scope=col>Treatment</th><th scope=col>Response</th></tr></thead>\n",
       "<tbody>\n",
       "\t<tr><td>1       </td><td>Vehicle </td><td>24.74908</td></tr>\n",
       "\t<tr><td>2       </td><td>Vehicle </td><td>17.38864</td></tr>\n",
       "\t<tr><td>3       </td><td>Vehicle </td><td>25.47375</td></tr>\n",
       "\t<tr><td>4       </td><td>Vehicle </td><td>24.81057</td></tr>\n",
       "\t<tr><td>5       </td><td>Vehicle </td><td>33.19121</td></tr>\n",
       "\t<tr><td>6       </td><td>Vehicle </td><td>23.03454</td></tr>\n",
       "</tbody>\n",
       "</table>\n"
      ],
      "text/latex": [
       "\\begin{tabular}{r|lll}\n",
       " Patient & Treatment & Response\\\\\n",
       "\\hline\n",
       "\t 1        & Vehicle  & 24.74908\\\\\n",
       "\t 2        & Vehicle  & 17.38864\\\\\n",
       "\t 3        & Vehicle  & 25.47375\\\\\n",
       "\t 4        & Vehicle  & 24.81057\\\\\n",
       "\t 5        & Vehicle  & 33.19121\\\\\n",
       "\t 6        & Vehicle  & 23.03454\\\\\n",
       "\\end{tabular}\n"
      ],
      "text/markdown": [
       "\n",
       "| Patient | Treatment | Response |\n",
       "|---|---|---|\n",
       "| 1        | Vehicle  | 24.74908 |\n",
       "| 2        | Vehicle  | 17.38864 |\n",
       "| 3        | Vehicle  | 25.47375 |\n",
       "| 4        | Vehicle  | 24.81057 |\n",
       "| 5        | Vehicle  | 33.19121 |\n",
       "| 6        | Vehicle  | 23.03454 |\n",
       "\n"
      ],
      "text/plain": [
       "  Patient Treatment Response\n",
       "1 1       Vehicle   24.74908\n",
       "2 2       Vehicle   17.38864\n",
       "3 3       Vehicle   25.47375\n",
       "4 4       Vehicle   24.81057\n",
       "5 5       Vehicle   33.19121\n",
       "6 6       Vehicle   23.03454"
      ]
     },
     "metadata": {},
     "output_type": "display_data"
    }
   ],
   "source": [
    "head(myData)"
   ]
  },
  {
   "cell_type": "code",
   "execution_count": 23,
   "id": "daad3ee7",
   "metadata": {},
   "outputs": [
    {
     "data": {
      "text/html": [
       "<table>\n",
       "<thead><tr><th scope=col>Patient</th><th scope=col>Treatment</th><th scope=col>Response</th></tr></thead>\n",
       "<tbody>\n",
       "\t<tr><td> 1      </td><td>Vehicle </td><td>24.74908</td></tr>\n",
       "\t<tr><td> 2      </td><td>Vehicle </td><td>17.38864</td></tr>\n",
       "\t<tr><td> 3      </td><td>Vehicle </td><td>25.47375</td></tr>\n",
       "\t<tr><td> 4      </td><td>Vehicle </td><td>24.81057</td></tr>\n",
       "\t<tr><td> 5      </td><td>Vehicle </td><td>33.19121</td></tr>\n",
       "\t<tr><td> 6      </td><td>Vehicle </td><td>23.03454</td></tr>\n",
       "\t<tr><td> 7      </td><td>Vehicle </td><td>23.78816</td></tr>\n",
       "\t<tr><td> 8      </td><td>Vehicle </td><td>18.37565</td></tr>\n",
       "\t<tr><td> 9      </td><td>Vehicle </td><td>29.80722</td></tr>\n",
       "\t<tr><td>10      </td><td>Vehicle </td><td>22.11325</td></tr>\n",
       "\t<tr><td>11      </td><td>Vehicle </td><td>30.03129</td></tr>\n",
       "\t<tr><td>12      </td><td>Vehicle </td><td>28.60066</td></tr>\n",
       "</tbody>\n",
       "</table>\n"
      ],
      "text/latex": [
       "\\begin{tabular}{r|lll}\n",
       " Patient & Treatment & Response\\\\\n",
       "\\hline\n",
       "\t  1       & Vehicle  & 24.74908\\\\\n",
       "\t  2       & Vehicle  & 17.38864\\\\\n",
       "\t  3       & Vehicle  & 25.47375\\\\\n",
       "\t  4       & Vehicle  & 24.81057\\\\\n",
       "\t  5       & Vehicle  & 33.19121\\\\\n",
       "\t  6       & Vehicle  & 23.03454\\\\\n",
       "\t  7       & Vehicle  & 23.78816\\\\\n",
       "\t  8       & Vehicle  & 18.37565\\\\\n",
       "\t  9       & Vehicle  & 29.80722\\\\\n",
       "\t 10       & Vehicle  & 22.11325\\\\\n",
       "\t 11       & Vehicle  & 30.03129\\\\\n",
       "\t 12       & Vehicle  & 28.60066\\\\\n",
       "\\end{tabular}\n"
      ],
      "text/markdown": [
       "\n",
       "| Patient | Treatment | Response |\n",
       "|---|---|---|\n",
       "|  1       | Vehicle  | 24.74908 |\n",
       "|  2       | Vehicle  | 17.38864 |\n",
       "|  3       | Vehicle  | 25.47375 |\n",
       "|  4       | Vehicle  | 24.81057 |\n",
       "|  5       | Vehicle  | 33.19121 |\n",
       "|  6       | Vehicle  | 23.03454 |\n",
       "|  7       | Vehicle  | 23.78816 |\n",
       "|  8       | Vehicle  | 18.37565 |\n",
       "|  9       | Vehicle  | 29.80722 |\n",
       "| 10       | Vehicle  | 22.11325 |\n",
       "| 11       | Vehicle  | 30.03129 |\n",
       "| 12       | Vehicle  | 28.60066 |\n",
       "\n"
      ],
      "text/plain": [
       "   Patient Treatment Response\n",
       "1   1      Vehicle   24.74908\n",
       "2   2      Vehicle   17.38864\n",
       "3   3      Vehicle   25.47375\n",
       "4   4      Vehicle   24.81057\n",
       "5   5      Vehicle   33.19121\n",
       "6   6      Vehicle   23.03454\n",
       "7   7      Vehicle   23.78816\n",
       "8   8      Vehicle   18.37565\n",
       "9   9      Vehicle   29.80722\n",
       "10 10      Vehicle   22.11325\n",
       "11 11      Vehicle   30.03129\n",
       "12 12      Vehicle   28.60066"
      ]
     },
     "metadata": {},
     "output_type": "display_data"
    },
    {
     "data": {
      "text/html": [
       "<table>\n",
       "<thead><tr><th></th><th scope=col>Patient</th><th scope=col>Treatment</th><th scope=col>Response</th></tr></thead>\n",
       "<tbody>\n",
       "\t<tr><th scope=row>186</th><td>186      </td><td>Drug     </td><td>-6.894333</td></tr>\n",
       "\t<tr><th scope=row>187</th><td>187      </td><td>Drug     </td><td>36.918288</td></tr>\n",
       "\t<tr><th scope=row>188</th><td>188      </td><td>Drug     </td><td>13.517914</td></tr>\n",
       "\t<tr><th scope=row>189</th><td>189      </td><td>Drug     </td><td>19.962482</td></tr>\n",
       "\t<tr><th scope=row>190</th><td>190      </td><td>Drug     </td><td>16.495299</td></tr>\n",
       "\t<tr><th scope=row>191</th><td>191      </td><td>Drug     </td><td>22.836682</td></tr>\n",
       "\t<tr><th scope=row>192</th><td>192      </td><td>Drug     </td><td>39.011726</td></tr>\n",
       "\t<tr><th scope=row>193</th><td>193      </td><td>Drug     </td><td>35.437874</td></tr>\n",
       "\t<tr><th scope=row>194</th><td>194      </td><td>Drug     </td><td>30.685279</td></tr>\n",
       "\t<tr><th scope=row>195</th><td>195      </td><td>Drug     </td><td>25.059163</td></tr>\n",
       "\t<tr><th scope=row>196</th><td>196      </td><td>Drug     </td><td>31.025009</td></tr>\n",
       "\t<tr><th scope=row>197</th><td>197      </td><td>Drug     </td><td>10.317927</td></tr>\n",
       "\t<tr><th scope=row>198</th><td>198      </td><td>Drug     </td><td>29.166988</td></tr>\n",
       "\t<tr><th scope=row>199</th><td>199      </td><td>Drug     </td><td>40.928388</td></tr>\n",
       "\t<tr><th scope=row>200</th><td>200      </td><td>Drug     </td><td>32.153698</td></tr>\n",
       "</tbody>\n",
       "</table>\n"
      ],
      "text/latex": [
       "\\begin{tabular}{r|lll}\n",
       "  & Patient & Treatment & Response\\\\\n",
       "\\hline\n",
       "\t186 & 186       & Drug      & -6.894333\\\\\n",
       "\t187 & 187       & Drug      & 36.918288\\\\\n",
       "\t188 & 188       & Drug      & 13.517914\\\\\n",
       "\t189 & 189       & Drug      & 19.962482\\\\\n",
       "\t190 & 190       & Drug      & 16.495299\\\\\n",
       "\t191 & 191       & Drug      & 22.836682\\\\\n",
       "\t192 & 192       & Drug      & 39.011726\\\\\n",
       "\t193 & 193       & Drug      & 35.437874\\\\\n",
       "\t194 & 194       & Drug      & 30.685279\\\\\n",
       "\t195 & 195       & Drug      & 25.059163\\\\\n",
       "\t196 & 196       & Drug      & 31.025009\\\\\n",
       "\t197 & 197       & Drug      & 10.317927\\\\\n",
       "\t198 & 198       & Drug      & 29.166988\\\\\n",
       "\t199 & 199       & Drug      & 40.928388\\\\\n",
       "\t200 & 200       & Drug      & 32.153698\\\\\n",
       "\\end{tabular}\n"
      ],
      "text/markdown": [
       "\n",
       "| <!--/--> | Patient | Treatment | Response |\n",
       "|---|---|---|---|\n",
       "| 186 | 186       | Drug      | -6.894333 |\n",
       "| 187 | 187       | Drug      | 36.918288 |\n",
       "| 188 | 188       | Drug      | 13.517914 |\n",
       "| 189 | 189       | Drug      | 19.962482 |\n",
       "| 190 | 190       | Drug      | 16.495299 |\n",
       "| 191 | 191       | Drug      | 22.836682 |\n",
       "| 192 | 192       | Drug      | 39.011726 |\n",
       "| 193 | 193       | Drug      | 35.437874 |\n",
       "| 194 | 194       | Drug      | 30.685279 |\n",
       "| 195 | 195       | Drug      | 25.059163 |\n",
       "| 196 | 196       | Drug      | 31.025009 |\n",
       "| 197 | 197       | Drug      | 10.317927 |\n",
       "| 198 | 198       | Drug      | 29.166988 |\n",
       "| 199 | 199       | Drug      | 40.928388 |\n",
       "| 200 | 200       | Drug      | 32.153698 |\n",
       "\n"
      ],
      "text/plain": [
       "    Patient Treatment Response \n",
       "186 186     Drug      -6.894333\n",
       "187 187     Drug      36.918288\n",
       "188 188     Drug      13.517914\n",
       "189 189     Drug      19.962482\n",
       "190 190     Drug      16.495299\n",
       "191 191     Drug      22.836682\n",
       "192 192     Drug      39.011726\n",
       "193 193     Drug      35.437874\n",
       "194 194     Drug      30.685279\n",
       "195 195     Drug      25.059163\n",
       "196 196     Drug      31.025009\n",
       "197 197     Drug      10.317927\n",
       "198 198     Drug      29.166988\n",
       "199 199     Drug      40.928388\n",
       "200 200     Drug      32.153698"
      ]
     },
     "metadata": {},
     "output_type": "display_data"
    }
   ],
   "source": [
    "head(myData, 12)\n",
    "tail(myData,15)"
   ]
  },
  {
   "cell_type": "code",
   "execution_count": 24,
   "id": "a4a7ea8e",
   "metadata": {},
   "outputs": [
    {
     "ename": "ERROR",
     "evalue": "Error in view(myData): could not find function \"view\"\n",
     "output_type": "error",
     "traceback": [
      "Error in view(myData): could not find function \"view\"\nTraceback:\n"
     ]
    }
   ],
   "source": [
    "#view(myData)"
   ]
  },
  {
   "cell_type": "code",
   "execution_count": 25,
   "id": "91e2a39f",
   "metadata": {},
   "outputs": [
    {
     "data": {
      "text/html": [
       "'data.frame'"
      ],
      "text/latex": [
       "'data.frame'"
      ],
      "text/markdown": [
       "'data.frame'"
      ],
      "text/plain": [
       "[1] \"data.frame\""
      ]
     },
     "metadata": {},
     "output_type": "display_data"
    },
    {
     "data": {
      "text/html": [
       "<ol class=list-inline>\n",
       "\t<li>200</li>\n",
       "\t<li>3</li>\n",
       "</ol>\n"
      ],
      "text/latex": [
       "\\begin{enumerate*}\n",
       "\\item 200\n",
       "\\item 3\n",
       "\\end{enumerate*}\n"
      ],
      "text/markdown": [
       "1. 200\n",
       "2. 3\n",
       "\n",
       "\n"
      ],
      "text/plain": [
       "[1] 200   3"
      ]
     },
     "metadata": {},
     "output_type": "display_data"
    }
   ],
   "source": [
    "class(myData)\n",
    "dim(myData)"
   ]
  },
  {
   "cell_type": "code",
   "execution_count": 26,
   "id": "83cfdd36",
   "metadata": {},
   "outputs": [
    {
     "name": "stdout",
     "output_type": "stream",
     "text": [
      "'data.frame':\t200 obs. of  3 variables:\n",
      " $ Patient  : int  1 2 3 4 5 6 7 8 9 10 ...\n",
      " $ Treatment: Factor w/ 2 levels \"Drug\",\"Vehicle\": 2 2 2 2 2 2 2 2 2 2 ...\n",
      " $ Response : num  24.7 17.4 25.5 24.8 33.2 ...\n"
     ]
    }
   ],
   "source": [
    "str(myData) # structure of the dataframes"
   ]
  },
  {
   "cell_type": "code",
   "execution_count": 27,
   "id": "19e62178",
   "metadata": {},
   "outputs": [
    {
     "data": {
      "text/plain": [
       "    Patient         Treatment      Response     \n",
       " Min.   :  1.00   Drug   :100   Min.   :-6.894  \n",
       " 1st Qu.: 50.75   Vehicle:100   1st Qu.:19.155  \n",
       " Median :100.50                 Median :25.064  \n",
       " Mean   :100.50                 Mean   :24.575  \n",
       " 3rd Qu.:150.25                 3rd Qu.:29.458  \n",
       " Max.   :200.00                 Max.   :47.981  "
      ]
     },
     "metadata": {},
     "output_type": "display_data"
    }
   ],
   "source": [
    "summary(myData)"
   ]
  },
  {
   "cell_type": "code",
   "execution_count": null,
   "id": "702e7ae3",
   "metadata": {},
   "outputs": [],
   "source": [
    "#subsetting dataframes - questions"
   ]
  },
  {
   "cell_type": "markdown",
   "id": "001dcd8f",
   "metadata": {},
   "source": [
    "# Class 11th January 2023\n"
   ]
  },
  {
   "cell_type": "code",
   "execution_count": 28,
   "id": "d04a064a",
   "metadata": {},
   "outputs": [
    {
     "data": {
      "text/html": [
       "Vehicle\n",
       "<details>\n",
       "\t<summary style=display:list-item;cursor:pointer>\n",
       "\t\t<strong>Levels</strong>:\n",
       "\t</summary>\n",
       "\t<ol class=list-inline>\n",
       "\t\t<li>'Drug'</li>\n",
       "\t\t<li>'Vehicle'</li>\n",
       "\t</ol>\n",
       "</details>"
      ],
      "text/latex": [
       "Vehicle\n",
       "\\emph{Levels}: \\begin{enumerate*}\n",
       "\\item 'Drug'\n",
       "\\item 'Vehicle'\n",
       "\\end{enumerate*}\n"
      ],
      "text/markdown": [
       "Vehicle\n",
       "**Levels**: 1. 'Drug'\n",
       "2. 'Vehicle'\n",
       "\n",
       "\n"
      ],
      "text/plain": [
       "[1] Vehicle\n",
       "Levels: Drug Vehicle"
      ]
     },
     "metadata": {},
     "output_type": "display_data"
    }
   ],
   "source": [
    "myData[1, 2]"
   ]
  },
  {
   "cell_type": "code",
   "execution_count": 29,
   "id": "7244bcea",
   "metadata": {},
   "outputs": [
    {
     "data": {
      "text/html": [
       "<table>\n",
       "<thead><tr><th></th><th scope=col>Patient</th><th scope=col>Treatment</th><th scope=col>Response</th></tr></thead>\n",
       "<tbody>\n",
       "\t<tr><th scope=row>5</th><td> 5      </td><td>Vehicle </td><td>33.19121</td></tr>\n",
       "\t<tr><th scope=row>9</th><td> 9      </td><td>Vehicle </td><td>29.80722</td></tr>\n",
       "\t<tr><th scope=row>11</th><td>11      </td><td>Vehicle </td><td>30.03129</td></tr>\n",
       "\t<tr><th scope=row>12</th><td>12      </td><td>Vehicle </td><td>28.60066</td></tr>\n",
       "\t<tr><th scope=row>13</th><td>13      </td><td>Vehicle </td><td>26.31856</td></tr>\n",
       "\t<tr><th scope=row>16</th><td>16      </td><td>Vehicle </td><td>28.24248</td></tr>\n",
       "\t<tr><th scope=row>19</th><td>19      </td><td>Vehicle </td><td>29.32867</td></tr>\n",
       "\t<tr><th scope=row>22</th><td>22      </td><td>Vehicle </td><td>28.41299</td></tr>\n",
       "\t<tr><th scope=row>24</th><td>24      </td><td>Vehicle </td><td>27.38930</td></tr>\n",
       "\t<tr><th scope=row>25</th><td>25      </td><td>Vehicle </td><td>32.61969</td></tr>\n",
       "\t<tr><th scope=row>26</th><td>26      </td><td>Vehicle </td><td>28.92338</td></tr>\n",
       "\t<tr><th scope=row>28</th><td>28      </td><td>Vehicle </td><td>26.77091</td></tr>\n",
       "\t<tr><th scope=row>30</th><td>30      </td><td>Vehicle </td><td>27.08878</td></tr>\n",
       "\t<tr><th scope=row>34</th><td>34      </td><td>Vehicle </td><td>31.45239</td></tr>\n",
       "\t<tr><th scope=row>35</th><td>35      </td><td>Vehicle </td><td>30.80262</td></tr>\n",
       "\t<tr><th scope=row>37</th><td>37      </td><td>Vehicle </td><td>29.23733</td></tr>\n",
       "\t<tr><th scope=row>39</th><td>39      </td><td>Vehicle </td><td>29.32263</td></tr>\n",
       "\t<tr><th scope=row>40</th><td>40      </td><td>Vehicle </td><td>30.63724</td></tr>\n",
       "\t<tr><th scope=row>42</th><td>42      </td><td>Vehicle </td><td>29.01990</td></tr>\n",
       "\t<tr><th scope=row>44</th><td>44      </td><td>Vehicle </td><td>26.34117</td></tr>\n",
       "\t<tr><th scope=row>50</th><td>50      </td><td>Vehicle </td><td>35.08800</td></tr>\n",
       "\t<tr><th scope=row>52</th><td>52      </td><td>Vehicle </td><td>29.20808</td></tr>\n",
       "\t<tr><th scope=row>53</th><td>53      </td><td>Vehicle </td><td>27.01010</td></tr>\n",
       "\t<tr><th scope=row>54</th><td>54      </td><td>Vehicle </td><td>34.86764</td></tr>\n",
       "\t<tr><th scope=row>56</th><td>56      </td><td>Vehicle </td><td>29.44952</td></tr>\n",
       "\t<tr><th scope=row>61</th><td>61      </td><td>Vehicle </td><td>27.62170</td></tr>\n",
       "\t<tr><th scope=row>65</th><td>65      </td><td>Vehicle </td><td>29.67772</td></tr>\n",
       "\t<tr><th scope=row>68</th><td>68      </td><td>Vehicle </td><td>30.58776</td></tr>\n",
       "\t<tr><th scope=row>70</th><td>70      </td><td>Vehicle </td><td>34.08743</td></tr>\n",
       "\t<tr><th scope=row>71</th><td>71      </td><td>Vehicle </td><td>26.21118</td></tr>\n",
       "\t<tr><th scope=row>...</th><td>...</td><td>...</td><td>...</td></tr>\n",
       "\t<tr><th scope=row>137</th><td>137     </td><td>Drug    </td><td>29.61155</td></tr>\n",
       "\t<tr><th scope=row>138</th><td>138     </td><td>Drug    </td><td>26.14271</td></tr>\n",
       "\t<tr><th scope=row>139</th><td>139     </td><td>Drug    </td><td>27.74241</td></tr>\n",
       "\t<tr><th scope=row>140</th><td>140     </td><td>Drug    </td><td>31.82455</td></tr>\n",
       "\t<tr><th scope=row>141</th><td>141     </td><td>Drug    </td><td>26.62319</td></tr>\n",
       "\t<tr><th scope=row>143</th><td>143     </td><td>Drug    </td><td>32.64910</td></tr>\n",
       "\t<tr><th scope=row>145</th><td>145     </td><td>Drug    </td><td>37.10753</td></tr>\n",
       "\t<tr><th scope=row>148</th><td>148     </td><td>Drug    </td><td>42.73304</td></tr>\n",
       "\t<tr><th scope=row>153</th><td>153     </td><td>Drug    </td><td>28.75150</td></tr>\n",
       "\t<tr><th scope=row>154</th><td>154     </td><td>Drug    </td><td>35.97748</td></tr>\n",
       "\t<tr><th scope=row>159</th><td>159     </td><td>Drug    </td><td>31.13082</td></tr>\n",
       "\t<tr><th scope=row>161</th><td>161     </td><td>Drug    </td><td>34.82851</td></tr>\n",
       "\t<tr><th scope=row>162</th><td>162     </td><td>Drug    </td><td>33.83541</td></tr>\n",
       "\t<tr><th scope=row>163</th><td>163     </td><td>Drug    </td><td>47.98117</td></tr>\n",
       "\t<tr><th scope=row>168</th><td>168     </td><td>Drug    </td><td>30.93346</td></tr>\n",
       "\t<tr><th scope=row>169</th><td>169     </td><td>Drug    </td><td>33.25614</td></tr>\n",
       "\t<tr><th scope=row>174</th><td>174     </td><td>Drug    </td><td>43.92241</td></tr>\n",
       "\t<tr><th scope=row>175</th><td>175     </td><td>Drug    </td><td>30.17385</td></tr>\n",
       "\t<tr><th scope=row>176</th><td>176     </td><td>Drug    </td><td>42.18837</td></tr>\n",
       "\t<tr><th scope=row>181</th><td>181     </td><td>Drug    </td><td>43.20156</td></tr>\n",
       "\t<tr><th scope=row>182</th><td>182     </td><td>Drug    </td><td>38.04329</td></tr>\n",
       "\t<tr><th scope=row>184</th><td>184     </td><td>Drug    </td><td>29.48472</td></tr>\n",
       "\t<tr><th scope=row>187</th><td>187     </td><td>Drug    </td><td>36.91829</td></tr>\n",
       "\t<tr><th scope=row>192</th><td>192     </td><td>Drug    </td><td>39.01173</td></tr>\n",
       "\t<tr><th scope=row>193</th><td>193     </td><td>Drug    </td><td>35.43787</td></tr>\n",
       "\t<tr><th scope=row>194</th><td>194     </td><td>Drug    </td><td>30.68528</td></tr>\n",
       "\t<tr><th scope=row>196</th><td>196     </td><td>Drug    </td><td>31.02501</td></tr>\n",
       "\t<tr><th scope=row>198</th><td>198     </td><td>Drug    </td><td>29.16699</td></tr>\n",
       "\t<tr><th scope=row>199</th><td>199     </td><td>Drug    </td><td>40.92839</td></tr>\n",
       "\t<tr><th scope=row>200</th><td>200     </td><td>Drug    </td><td>32.15370</td></tr>\n",
       "</tbody>\n",
       "</table>\n"
      ],
      "text/latex": [
       "\\begin{tabular}{r|lll}\n",
       "  & Patient & Treatment & Response\\\\\n",
       "\\hline\n",
       "\t5 &  5       & Vehicle  & 33.19121\\\\\n",
       "\t9 &  9       & Vehicle  & 29.80722\\\\\n",
       "\t11 & 11       & Vehicle  & 30.03129\\\\\n",
       "\t12 & 12       & Vehicle  & 28.60066\\\\\n",
       "\t13 & 13       & Vehicle  & 26.31856\\\\\n",
       "\t16 & 16       & Vehicle  & 28.24248\\\\\n",
       "\t19 & 19       & Vehicle  & 29.32867\\\\\n",
       "\t22 & 22       & Vehicle  & 28.41299\\\\\n",
       "\t24 & 24       & Vehicle  & 27.38930\\\\\n",
       "\t25 & 25       & Vehicle  & 32.61969\\\\\n",
       "\t26 & 26       & Vehicle  & 28.92338\\\\\n",
       "\t28 & 28       & Vehicle  & 26.77091\\\\\n",
       "\t30 & 30       & Vehicle  & 27.08878\\\\\n",
       "\t34 & 34       & Vehicle  & 31.45239\\\\\n",
       "\t35 & 35       & Vehicle  & 30.80262\\\\\n",
       "\t37 & 37       & Vehicle  & 29.23733\\\\\n",
       "\t39 & 39       & Vehicle  & 29.32263\\\\\n",
       "\t40 & 40       & Vehicle  & 30.63724\\\\\n",
       "\t42 & 42       & Vehicle  & 29.01990\\\\\n",
       "\t44 & 44       & Vehicle  & 26.34117\\\\\n",
       "\t50 & 50       & Vehicle  & 35.08800\\\\\n",
       "\t52 & 52       & Vehicle  & 29.20808\\\\\n",
       "\t53 & 53       & Vehicle  & 27.01010\\\\\n",
       "\t54 & 54       & Vehicle  & 34.86764\\\\\n",
       "\t56 & 56       & Vehicle  & 29.44952\\\\\n",
       "\t61 & 61       & Vehicle  & 27.62170\\\\\n",
       "\t65 & 65       & Vehicle  & 29.67772\\\\\n",
       "\t68 & 68       & Vehicle  & 30.58776\\\\\n",
       "\t70 & 70       & Vehicle  & 34.08743\\\\\n",
       "\t71 & 71       & Vehicle  & 26.21118\\\\\n",
       "\t... & ... & ... & ...\\\\\n",
       "\t137 & 137      & Drug     & 29.61155\\\\\n",
       "\t138 & 138      & Drug     & 26.14271\\\\\n",
       "\t139 & 139      & Drug     & 27.74241\\\\\n",
       "\t140 & 140      & Drug     & 31.82455\\\\\n",
       "\t141 & 141      & Drug     & 26.62319\\\\\n",
       "\t143 & 143      & Drug     & 32.64910\\\\\n",
       "\t145 & 145      & Drug     & 37.10753\\\\\n",
       "\t148 & 148      & Drug     & 42.73304\\\\\n",
       "\t153 & 153      & Drug     & 28.75150\\\\\n",
       "\t154 & 154      & Drug     & 35.97748\\\\\n",
       "\t159 & 159      & Drug     & 31.13082\\\\\n",
       "\t161 & 161      & Drug     & 34.82851\\\\\n",
       "\t162 & 162      & Drug     & 33.83541\\\\\n",
       "\t163 & 163      & Drug     & 47.98117\\\\\n",
       "\t168 & 168      & Drug     & 30.93346\\\\\n",
       "\t169 & 169      & Drug     & 33.25614\\\\\n",
       "\t174 & 174      & Drug     & 43.92241\\\\\n",
       "\t175 & 175      & Drug     & 30.17385\\\\\n",
       "\t176 & 176      & Drug     & 42.18837\\\\\n",
       "\t181 & 181      & Drug     & 43.20156\\\\\n",
       "\t182 & 182      & Drug     & 38.04329\\\\\n",
       "\t184 & 184      & Drug     & 29.48472\\\\\n",
       "\t187 & 187      & Drug     & 36.91829\\\\\n",
       "\t192 & 192      & Drug     & 39.01173\\\\\n",
       "\t193 & 193      & Drug     & 35.43787\\\\\n",
       "\t194 & 194      & Drug     & 30.68528\\\\\n",
       "\t196 & 196      & Drug     & 31.02501\\\\\n",
       "\t198 & 198      & Drug     & 29.16699\\\\\n",
       "\t199 & 199      & Drug     & 40.92839\\\\\n",
       "\t200 & 200      & Drug     & 32.15370\\\\\n",
       "\\end{tabular}\n"
      ],
      "text/markdown": [
       "\n",
       "| <!--/--> | Patient | Treatment | Response |\n",
       "|---|---|---|---|\n",
       "| 5 |  5       | Vehicle  | 33.19121 |\n",
       "| 9 |  9       | Vehicle  | 29.80722 |\n",
       "| 11 | 11       | Vehicle  | 30.03129 |\n",
       "| 12 | 12       | Vehicle  | 28.60066 |\n",
       "| 13 | 13       | Vehicle  | 26.31856 |\n",
       "| 16 | 16       | Vehicle  | 28.24248 |\n",
       "| 19 | 19       | Vehicle  | 29.32867 |\n",
       "| 22 | 22       | Vehicle  | 28.41299 |\n",
       "| 24 | 24       | Vehicle  | 27.38930 |\n",
       "| 25 | 25       | Vehicle  | 32.61969 |\n",
       "| 26 | 26       | Vehicle  | 28.92338 |\n",
       "| 28 | 28       | Vehicle  | 26.77091 |\n",
       "| 30 | 30       | Vehicle  | 27.08878 |\n",
       "| 34 | 34       | Vehicle  | 31.45239 |\n",
       "| 35 | 35       | Vehicle  | 30.80262 |\n",
       "| 37 | 37       | Vehicle  | 29.23733 |\n",
       "| 39 | 39       | Vehicle  | 29.32263 |\n",
       "| 40 | 40       | Vehicle  | 30.63724 |\n",
       "| 42 | 42       | Vehicle  | 29.01990 |\n",
       "| 44 | 44       | Vehicle  | 26.34117 |\n",
       "| 50 | 50       | Vehicle  | 35.08800 |\n",
       "| 52 | 52       | Vehicle  | 29.20808 |\n",
       "| 53 | 53       | Vehicle  | 27.01010 |\n",
       "| 54 | 54       | Vehicle  | 34.86764 |\n",
       "| 56 | 56       | Vehicle  | 29.44952 |\n",
       "| 61 | 61       | Vehicle  | 27.62170 |\n",
       "| 65 | 65       | Vehicle  | 29.67772 |\n",
       "| 68 | 68       | Vehicle  | 30.58776 |\n",
       "| 70 | 70       | Vehicle  | 34.08743 |\n",
       "| 71 | 71       | Vehicle  | 26.21118 |\n",
       "| ... | ... | ... | ... |\n",
       "| 137 | 137      | Drug     | 29.61155 |\n",
       "| 138 | 138      | Drug     | 26.14271 |\n",
       "| 139 | 139      | Drug     | 27.74241 |\n",
       "| 140 | 140      | Drug     | 31.82455 |\n",
       "| 141 | 141      | Drug     | 26.62319 |\n",
       "| 143 | 143      | Drug     | 32.64910 |\n",
       "| 145 | 145      | Drug     | 37.10753 |\n",
       "| 148 | 148      | Drug     | 42.73304 |\n",
       "| 153 | 153      | Drug     | 28.75150 |\n",
       "| 154 | 154      | Drug     | 35.97748 |\n",
       "| 159 | 159      | Drug     | 31.13082 |\n",
       "| 161 | 161      | Drug     | 34.82851 |\n",
       "| 162 | 162      | Drug     | 33.83541 |\n",
       "| 163 | 163      | Drug     | 47.98117 |\n",
       "| 168 | 168      | Drug     | 30.93346 |\n",
       "| 169 | 169      | Drug     | 33.25614 |\n",
       "| 174 | 174      | Drug     | 43.92241 |\n",
       "| 175 | 175      | Drug     | 30.17385 |\n",
       "| 176 | 176      | Drug     | 42.18837 |\n",
       "| 181 | 181      | Drug     | 43.20156 |\n",
       "| 182 | 182      | Drug     | 38.04329 |\n",
       "| 184 | 184      | Drug     | 29.48472 |\n",
       "| 187 | 187      | Drug     | 36.91829 |\n",
       "| 192 | 192      | Drug     | 39.01173 |\n",
       "| 193 | 193      | Drug     | 35.43787 |\n",
       "| 194 | 194      | Drug     | 30.68528 |\n",
       "| 196 | 196      | Drug     | 31.02501 |\n",
       "| 198 | 198      | Drug     | 29.16699 |\n",
       "| 199 | 199      | Drug     | 40.92839 |\n",
       "| 200 | 200      | Drug     | 32.15370 |\n",
       "\n"
      ],
      "text/plain": [
       "    Patient Treatment Response\n",
       "5    5      Vehicle   33.19121\n",
       "9    9      Vehicle   29.80722\n",
       "11  11      Vehicle   30.03129\n",
       "12  12      Vehicle   28.60066\n",
       "13  13      Vehicle   26.31856\n",
       "16  16      Vehicle   28.24248\n",
       "19  19      Vehicle   29.32867\n",
       "22  22      Vehicle   28.41299\n",
       "24  24      Vehicle   27.38930\n",
       "25  25      Vehicle   32.61969\n",
       "26  26      Vehicle   28.92338\n",
       "28  28      Vehicle   26.77091\n",
       "30  30      Vehicle   27.08878\n",
       "34  34      Vehicle   31.45239\n",
       "35  35      Vehicle   30.80262\n",
       "37  37      Vehicle   29.23733\n",
       "39  39      Vehicle   29.32263\n",
       "40  40      Vehicle   30.63724\n",
       "42  42      Vehicle   29.01990\n",
       "44  44      Vehicle   26.34117\n",
       "50  50      Vehicle   35.08800\n",
       "52  52      Vehicle   29.20808\n",
       "53  53      Vehicle   27.01010\n",
       "54  54      Vehicle   34.86764\n",
       "56  56      Vehicle   29.44952\n",
       "61  61      Vehicle   27.62170\n",
       "65  65      Vehicle   29.67772\n",
       "68  68      Vehicle   30.58776\n",
       "70  70      Vehicle   34.08743\n",
       "71  71      Vehicle   26.21118\n",
       "... ...     ...       ...     \n",
       "137 137     Drug      29.61155\n",
       "138 138     Drug      26.14271\n",
       "139 139     Drug      27.74241\n",
       "140 140     Drug      31.82455\n",
       "141 141     Drug      26.62319\n",
       "143 143     Drug      32.64910\n",
       "145 145     Drug      37.10753\n",
       "148 148     Drug      42.73304\n",
       "153 153     Drug      28.75150\n",
       "154 154     Drug      35.97748\n",
       "159 159     Drug      31.13082\n",
       "161 161     Drug      34.82851\n",
       "162 162     Drug      33.83541\n",
       "163 163     Drug      47.98117\n",
       "168 168     Drug      30.93346\n",
       "169 169     Drug      33.25614\n",
       "174 174     Drug      43.92241\n",
       "175 175     Drug      30.17385\n",
       "176 176     Drug      42.18837\n",
       "181 181     Drug      43.20156\n",
       "182 182     Drug      38.04329\n",
       "184 184     Drug      29.48472\n",
       "187 187     Drug      36.91829\n",
       "192 192     Drug      39.01173\n",
       "193 193     Drug      35.43787\n",
       "194 194     Drug      30.68528\n",
       "196 196     Drug      31.02501\n",
       "198 198     Drug      29.16699\n",
       "199 199     Drug      40.92839\n",
       "200 200     Drug      32.15370"
      ]
     },
     "metadata": {},
     "output_type": "display_data"
    }
   ],
   "source": [
    "myData[myData$Response > 26, ]"
   ]
  },
  {
   "cell_type": "code",
   "execution_count": 30,
   "id": "246584b4",
   "metadata": {},
   "outputs": [
    {
     "data": {
      "text/html": [
       "<table>\n",
       "<thead><tr><th></th><th scope=col>Patient</th><th scope=col>Treatment</th><th scope=col>Response</th></tr></thead>\n",
       "<tbody>\n",
       "\t<tr><th scope=row>1</th><td>  1     </td><td>Vehicle </td><td>24.74908</td></tr>\n",
       "\t<tr><th scope=row>2</th><td>  2     </td><td>Vehicle </td><td>17.38864</td></tr>\n",
       "\t<tr><th scope=row>3</th><td>  3     </td><td>Vehicle </td><td>25.47375</td></tr>\n",
       "\t<tr><th scope=row>4</th><td>  4     </td><td>Vehicle </td><td>24.81057</td></tr>\n",
       "\t<tr><th scope=row>6</th><td>  6     </td><td>Vehicle </td><td>23.03454</td></tr>\n",
       "\t<tr><th scope=row>7</th><td>  7     </td><td>Vehicle </td><td>23.78816</td></tr>\n",
       "\t<tr><th scope=row>8</th><td>  8     </td><td>Vehicle </td><td>18.37565</td></tr>\n",
       "\t<tr><th scope=row>10</th><td> 10     </td><td>Vehicle </td><td>22.11325</td></tr>\n",
       "\t<tr><th scope=row>14</th><td> 14     </td><td>Vehicle </td><td>19.56967</td></tr>\n",
       "\t<tr><th scope=row>15</th><td> 15     </td><td>Vehicle </td><td>23.30724</td></tr>\n",
       "\t<tr><th scope=row>17</th><td> 17     </td><td>Vehicle </td><td>25.56780</td></tr>\n",
       "\t<tr><th scope=row>18</th><td> 18     </td><td>Vehicle </td><td>24.00395</td></tr>\n",
       "\t<tr><th scope=row>20</th><td> 20     </td><td>Vehicle </td><td>13.61617</td></tr>\n",
       "\t<tr><th scope=row>21</th><td> 21     </td><td>Vehicle </td><td>20.40604</td></tr>\n",
       "\t<tr><th scope=row>23</th><td> 23     </td><td>Vehicle </td><td>16.28391</td></tr>\n",
       "\t<tr><th scope=row>27</th><td> 27     </td><td>Vehicle </td><td>19.29661</td></tr>\n",
       "\t<tr><th scope=row>29</th><td> 29     </td><td>Vehicle </td><td>24.82896</td></tr>\n",
       "\t<tr><th scope=row>31</th><td> 31     </td><td>Vehicle </td><td>20.84093</td></tr>\n",
       "\t<tr><th scope=row>32</th><td> 32     </td><td>Vehicle </td><td>24.38083</td></tr>\n",
       "\t<tr><th scope=row>33</th><td> 33     </td><td>Vehicle </td><td>22.08641</td></tr>\n",
       "\t<tr><th scope=row>36</th><td> 36     </td><td>Vehicle </td><td>25.64317</td></tr>\n",
       "\t<tr><th scope=row>38</th><td> 38     </td><td>Vehicle </td><td>14.97413</td></tr>\n",
       "\t<tr><th scope=row>41</th><td> 41     </td><td>Vehicle </td><td>19.26453</td></tr>\n",
       "\t<tr><th scope=row>43</th><td> 43     </td><td>Vehicle </td><td>23.41886</td></tr>\n",
       "\t<tr><th scope=row>45</th><td> 45     </td><td>Vehicle </td><td>22.42049</td></tr>\n",
       "\t<tr><th scope=row>46</th><td> 46     </td><td>Vehicle </td><td>25.05528</td></tr>\n",
       "\t<tr><th scope=row>47</th><td> 47     </td><td>Vehicle </td><td>14.74640</td></tr>\n",
       "\t<tr><th scope=row>48</th><td> 48     </td><td>Vehicle </td><td>21.42445</td></tr>\n",
       "\t<tr><th scope=row>49</th><td> 49     </td><td>Vehicle </td><td>18.82015</td></tr>\n",
       "\t<tr><th scope=row>51</th><td> 51     </td><td>Vehicle </td><td>15.71328</td></tr>\n",
       "\t<tr><th scope=row>55</th><td> 55     </td><td>Vehicle </td><td>19.20464</td></tr>\n",
       "\t<tr><th scope=row>57</th><td> 57     </td><td>Vehicle </td><td>25.31364</td></tr>\n",
       "\t<tr><th scope=row>58</th><td> 58     </td><td>Vehicle </td><td>23.71719</td></tr>\n",
       "\t<tr><th scope=row>59</th><td> 59     </td><td>Vehicle </td><td>25.80127</td></tr>\n",
       "\t<tr><th scope=row>60</th><td> 60     </td><td>Vehicle </td><td>15.15756</td></tr>\n",
       "\t<tr><th scope=row>62</th><td> 62     </td><td>Vehicle </td><td>19.15722</td></tr>\n",
       "\t<tr><th scope=row>63</th><td> 63     </td><td>Vehicle </td><td>22.13376</td></tr>\n",
       "\t<tr><th scope=row>64</th><td> 64     </td><td>Vehicle </td><td>16.31684</td></tr>\n",
       "\t<tr><th scope=row>66</th><td> 66     </td><td>Vehicle </td><td>25.44087</td></tr>\n",
       "\t<tr><th scope=row>67</th><td> 67     </td><td>Vehicle </td><td>23.29483</td></tr>\n",
       "\t<tr><th scope=row>69</th><td> 69     </td><td>Vehicle </td><td>19.77297</td></tr>\n",
       "\t<tr><th scope=row>72</th><td> 72     </td><td>Vehicle </td><td>24.76165</td></tr>\n",
       "\t<tr><th scope=row>74</th><td> 74     </td><td>Vehicle </td><td>24.40205</td></tr>\n",
       "\t<tr><th scope=row>75</th><td> 75     </td><td>Vehicle </td><td>25.91949</td></tr>\n",
       "\t<tr><th scope=row>76</th><td> 76     </td><td>Vehicle </td><td>25.04542</td></tr>\n",
       "\t<tr><th scope=row>79</th><td> 79     </td><td>Vehicle </td><td>21.03048</td></tr>\n",
       "\t<tr><th scope=row>81</th><td> 81     </td><td>Vehicle </td><td>18.44424</td></tr>\n",
       "\t<tr><th scope=row>82</th><td> 82     </td><td>Vehicle </td><td>21.60554</td></tr>\n",
       "\t<tr><th scope=row>83</th><td> 83     </td><td>Vehicle </td><td>25.39358</td></tr>\n",
       "\t<tr><th scope=row>84</th><td> 84     </td><td>Vehicle </td><td>22.29454</td></tr>\n",
       "\t<tr><th scope=row>87</th><td> 87     </td><td>Vehicle </td><td>20.30579</td></tr>\n",
       "\t<tr><th scope=row>88</th><td> 88     </td><td>Vehicle </td><td>23.38102</td></tr>\n",
       "\t<tr><th scope=row>92</th><td> 92     </td><td>Vehicle </td><td>20.32780</td></tr>\n",
       "\t<tr><th scope=row>95</th><td> 95     </td><td>Vehicle </td><td>20.98476</td></tr>\n",
       "\t<tr><th scope=row>99</th><td> 99     </td><td>Vehicle </td><td>19.95500</td></tr>\n",
       "\t<tr><th scope=row>100</th><td>100     </td><td>Vehicle </td><td>23.98755</td></tr>\n",
       "</tbody>\n",
       "</table>\n"
      ],
      "text/latex": [
       "\\begin{tabular}{r|lll}\n",
       "  & Patient & Treatment & Response\\\\\n",
       "\\hline\n",
       "\t1 &   1      & Vehicle  & 24.74908\\\\\n",
       "\t2 &   2      & Vehicle  & 17.38864\\\\\n",
       "\t3 &   3      & Vehicle  & 25.47375\\\\\n",
       "\t4 &   4      & Vehicle  & 24.81057\\\\\n",
       "\t6 &   6      & Vehicle  & 23.03454\\\\\n",
       "\t7 &   7      & Vehicle  & 23.78816\\\\\n",
       "\t8 &   8      & Vehicle  & 18.37565\\\\\n",
       "\t10 &  10      & Vehicle  & 22.11325\\\\\n",
       "\t14 &  14      & Vehicle  & 19.56967\\\\\n",
       "\t15 &  15      & Vehicle  & 23.30724\\\\\n",
       "\t17 &  17      & Vehicle  & 25.56780\\\\\n",
       "\t18 &  18      & Vehicle  & 24.00395\\\\\n",
       "\t20 &  20      & Vehicle  & 13.61617\\\\\n",
       "\t21 &  21      & Vehicle  & 20.40604\\\\\n",
       "\t23 &  23      & Vehicle  & 16.28391\\\\\n",
       "\t27 &  27      & Vehicle  & 19.29661\\\\\n",
       "\t29 &  29      & Vehicle  & 24.82896\\\\\n",
       "\t31 &  31      & Vehicle  & 20.84093\\\\\n",
       "\t32 &  32      & Vehicle  & 24.38083\\\\\n",
       "\t33 &  33      & Vehicle  & 22.08641\\\\\n",
       "\t36 &  36      & Vehicle  & 25.64317\\\\\n",
       "\t38 &  38      & Vehicle  & 14.97413\\\\\n",
       "\t41 &  41      & Vehicle  & 19.26453\\\\\n",
       "\t43 &  43      & Vehicle  & 23.41886\\\\\n",
       "\t45 &  45      & Vehicle  & 22.42049\\\\\n",
       "\t46 &  46      & Vehicle  & 25.05528\\\\\n",
       "\t47 &  47      & Vehicle  & 14.74640\\\\\n",
       "\t48 &  48      & Vehicle  & 21.42445\\\\\n",
       "\t49 &  49      & Vehicle  & 18.82015\\\\\n",
       "\t51 &  51      & Vehicle  & 15.71328\\\\\n",
       "\t55 &  55      & Vehicle  & 19.20464\\\\\n",
       "\t57 &  57      & Vehicle  & 25.31364\\\\\n",
       "\t58 &  58      & Vehicle  & 23.71719\\\\\n",
       "\t59 &  59      & Vehicle  & 25.80127\\\\\n",
       "\t60 &  60      & Vehicle  & 15.15756\\\\\n",
       "\t62 &  62      & Vehicle  & 19.15722\\\\\n",
       "\t63 &  63      & Vehicle  & 22.13376\\\\\n",
       "\t64 &  64      & Vehicle  & 16.31684\\\\\n",
       "\t66 &  66      & Vehicle  & 25.44087\\\\\n",
       "\t67 &  67      & Vehicle  & 23.29483\\\\\n",
       "\t69 &  69      & Vehicle  & 19.77297\\\\\n",
       "\t72 &  72      & Vehicle  & 24.76165\\\\\n",
       "\t74 &  74      & Vehicle  & 24.40205\\\\\n",
       "\t75 &  75      & Vehicle  & 25.91949\\\\\n",
       "\t76 &  76      & Vehicle  & 25.04542\\\\\n",
       "\t79 &  79      & Vehicle  & 21.03048\\\\\n",
       "\t81 &  81      & Vehicle  & 18.44424\\\\\n",
       "\t82 &  82      & Vehicle  & 21.60554\\\\\n",
       "\t83 &  83      & Vehicle  & 25.39358\\\\\n",
       "\t84 &  84      & Vehicle  & 22.29454\\\\\n",
       "\t87 &  87      & Vehicle  & 20.30579\\\\\n",
       "\t88 &  88      & Vehicle  & 23.38102\\\\\n",
       "\t92 &  92      & Vehicle  & 20.32780\\\\\n",
       "\t95 &  95      & Vehicle  & 20.98476\\\\\n",
       "\t99 &  99      & Vehicle  & 19.95500\\\\\n",
       "\t100 & 100      & Vehicle  & 23.98755\\\\\n",
       "\\end{tabular}\n"
      ],
      "text/markdown": [
       "\n",
       "| <!--/--> | Patient | Treatment | Response |\n",
       "|---|---|---|---|\n",
       "| 1 |   1      | Vehicle  | 24.74908 |\n",
       "| 2 |   2      | Vehicle  | 17.38864 |\n",
       "| 3 |   3      | Vehicle  | 25.47375 |\n",
       "| 4 |   4      | Vehicle  | 24.81057 |\n",
       "| 6 |   6      | Vehicle  | 23.03454 |\n",
       "| 7 |   7      | Vehicle  | 23.78816 |\n",
       "| 8 |   8      | Vehicle  | 18.37565 |\n",
       "| 10 |  10      | Vehicle  | 22.11325 |\n",
       "| 14 |  14      | Vehicle  | 19.56967 |\n",
       "| 15 |  15      | Vehicle  | 23.30724 |\n",
       "| 17 |  17      | Vehicle  | 25.56780 |\n",
       "| 18 |  18      | Vehicle  | 24.00395 |\n",
       "| 20 |  20      | Vehicle  | 13.61617 |\n",
       "| 21 |  21      | Vehicle  | 20.40604 |\n",
       "| 23 |  23      | Vehicle  | 16.28391 |\n",
       "| 27 |  27      | Vehicle  | 19.29661 |\n",
       "| 29 |  29      | Vehicle  | 24.82896 |\n",
       "| 31 |  31      | Vehicle  | 20.84093 |\n",
       "| 32 |  32      | Vehicle  | 24.38083 |\n",
       "| 33 |  33      | Vehicle  | 22.08641 |\n",
       "| 36 |  36      | Vehicle  | 25.64317 |\n",
       "| 38 |  38      | Vehicle  | 14.97413 |\n",
       "| 41 |  41      | Vehicle  | 19.26453 |\n",
       "| 43 |  43      | Vehicle  | 23.41886 |\n",
       "| 45 |  45      | Vehicle  | 22.42049 |\n",
       "| 46 |  46      | Vehicle  | 25.05528 |\n",
       "| 47 |  47      | Vehicle  | 14.74640 |\n",
       "| 48 |  48      | Vehicle  | 21.42445 |\n",
       "| 49 |  49      | Vehicle  | 18.82015 |\n",
       "| 51 |  51      | Vehicle  | 15.71328 |\n",
       "| 55 |  55      | Vehicle  | 19.20464 |\n",
       "| 57 |  57      | Vehicle  | 25.31364 |\n",
       "| 58 |  58      | Vehicle  | 23.71719 |\n",
       "| 59 |  59      | Vehicle  | 25.80127 |\n",
       "| 60 |  60      | Vehicle  | 15.15756 |\n",
       "| 62 |  62      | Vehicle  | 19.15722 |\n",
       "| 63 |  63      | Vehicle  | 22.13376 |\n",
       "| 64 |  64      | Vehicle  | 16.31684 |\n",
       "| 66 |  66      | Vehicle  | 25.44087 |\n",
       "| 67 |  67      | Vehicle  | 23.29483 |\n",
       "| 69 |  69      | Vehicle  | 19.77297 |\n",
       "| 72 |  72      | Vehicle  | 24.76165 |\n",
       "| 74 |  74      | Vehicle  | 24.40205 |\n",
       "| 75 |  75      | Vehicle  | 25.91949 |\n",
       "| 76 |  76      | Vehicle  | 25.04542 |\n",
       "| 79 |  79      | Vehicle  | 21.03048 |\n",
       "| 81 |  81      | Vehicle  | 18.44424 |\n",
       "| 82 |  82      | Vehicle  | 21.60554 |\n",
       "| 83 |  83      | Vehicle  | 25.39358 |\n",
       "| 84 |  84      | Vehicle  | 22.29454 |\n",
       "| 87 |  87      | Vehicle  | 20.30579 |\n",
       "| 88 |  88      | Vehicle  | 23.38102 |\n",
       "| 92 |  92      | Vehicle  | 20.32780 |\n",
       "| 95 |  95      | Vehicle  | 20.98476 |\n",
       "| 99 |  99      | Vehicle  | 19.95500 |\n",
       "| 100 | 100      | Vehicle  | 23.98755 |\n",
       "\n"
      ],
      "text/plain": [
       "    Patient Treatment Response\n",
       "1     1     Vehicle   24.74908\n",
       "2     2     Vehicle   17.38864\n",
       "3     3     Vehicle   25.47375\n",
       "4     4     Vehicle   24.81057\n",
       "6     6     Vehicle   23.03454\n",
       "7     7     Vehicle   23.78816\n",
       "8     8     Vehicle   18.37565\n",
       "10   10     Vehicle   22.11325\n",
       "14   14     Vehicle   19.56967\n",
       "15   15     Vehicle   23.30724\n",
       "17   17     Vehicle   25.56780\n",
       "18   18     Vehicle   24.00395\n",
       "20   20     Vehicle   13.61617\n",
       "21   21     Vehicle   20.40604\n",
       "23   23     Vehicle   16.28391\n",
       "27   27     Vehicle   19.29661\n",
       "29   29     Vehicle   24.82896\n",
       "31   31     Vehicle   20.84093\n",
       "32   32     Vehicle   24.38083\n",
       "33   33     Vehicle   22.08641\n",
       "36   36     Vehicle   25.64317\n",
       "38   38     Vehicle   14.97413\n",
       "41   41     Vehicle   19.26453\n",
       "43   43     Vehicle   23.41886\n",
       "45   45     Vehicle   22.42049\n",
       "46   46     Vehicle   25.05528\n",
       "47   47     Vehicle   14.74640\n",
       "48   48     Vehicle   21.42445\n",
       "49   49     Vehicle   18.82015\n",
       "51   51     Vehicle   15.71328\n",
       "55   55     Vehicle   19.20464\n",
       "57   57     Vehicle   25.31364\n",
       "58   58     Vehicle   23.71719\n",
       "59   59     Vehicle   25.80127\n",
       "60   60     Vehicle   15.15756\n",
       "62   62     Vehicle   19.15722\n",
       "63   63     Vehicle   22.13376\n",
       "64   64     Vehicle   16.31684\n",
       "66   66     Vehicle   25.44087\n",
       "67   67     Vehicle   23.29483\n",
       "69   69     Vehicle   19.77297\n",
       "72   72     Vehicle   24.76165\n",
       "74   74     Vehicle   24.40205\n",
       "75   75     Vehicle   25.91949\n",
       "76   76     Vehicle   25.04542\n",
       "79   79     Vehicle   21.03048\n",
       "81   81     Vehicle   18.44424\n",
       "82   82     Vehicle   21.60554\n",
       "83   83     Vehicle   25.39358\n",
       "84   84     Vehicle   22.29454\n",
       "87   87     Vehicle   20.30579\n",
       "88   88     Vehicle   23.38102\n",
       "92   92     Vehicle   20.32780\n",
       "95   95     Vehicle   20.98476\n",
       "99   99     Vehicle   19.95500\n",
       "100 100     Vehicle   23.98755"
      ]
     },
     "metadata": {},
     "output_type": "display_data"
    }
   ],
   "source": [
    "myData[myData$Treatment == \"Vehicle\" & myData$Response <= 26, ]"
   ]
  },
  {
   "cell_type": "code",
   "execution_count": 31,
   "id": "f6781d9a",
   "metadata": {},
   "outputs": [
    {
     "ename": "ERROR",
     "evalue": "Error in myData$Patient[myData$Treatment != \"Vehicle\" | myData$Response > : incorrect number of dimensions\n",
     "output_type": "error",
     "traceback": [
      "Error in myData$Patient[myData$Treatment != \"Vehicle\" | myData$Response > : incorrect number of dimensions\nTraceback:\n"
     ]
    }
   ],
   "source": [
    "myData$Patient[myData$Treatment!=\"Vehicle\" | myData$Response > 25, ]"
   ]
  },
  {
   "cell_type": "code",
   "execution_count": null,
   "id": "1a1502a6",
   "metadata": {},
   "outputs": [],
   "source": [
    "my_Patient_out_time<- function(x, Data_frame){\n",
    "    myData$Patient[myData$Treatment!=\"Vehicle\" | myData$Response > 25, ]\n",
    "        print(\"in 5 days\")   \n",
    "}"
   ]
  },
  {
   "cell_type": "code",
   "execution_count": null,
   "id": "9eab7486",
   "metadata": {},
   "outputs": [],
   "source": [
    "#Takes vector x and returns average \n",
    "new.my_mean<- function(x){\n",
    "    n<-length(x)\n",
    "    avg<-sum(x)/n\n",
    "    print(avg)\n",
    "    \n",
    "} #important for midsem- functions\n",
    " "
   ]
  },
  {
   "cell_type": "code",
   "execution_count": 32,
   "id": "0c2769bb",
   "metadata": {},
   "outputs": [
    {
     "data": {
      "text/html": [
       "'C:/Users/VATSALA NEMA'"
      ],
      "text/latex": [
       "'C:/Users/VATSALA NEMA'"
      ],
      "text/markdown": [
       "'C:/Users/VATSALA NEMA'"
      ],
      "text/plain": [
       "[1] \"C:/Users/VATSALA NEMA\""
      ]
     },
     "metadata": {},
     "output_type": "display_data"
    }
   ],
   "source": [
    "getwd()"
   ]
  },
  {
   "cell_type": "code",
   "execution_count": 33,
   "id": "e92b1f06",
   "metadata": {},
   "outputs": [],
   "source": [
    "setwd(\"C:/Users/VATSALA NEMA/Documents/SEM 8/Biostatistics/Biostatistics\")"
   ]
  },
  {
   "cell_type": "code",
   "execution_count": 34,
   "id": "a0d7e3ae",
   "metadata": {},
   "outputs": [],
   "source": [
    "Suicide_rates <- read.csv(\"suicide_total_deaths.csv\", header=T)"
   ]
  },
  {
   "cell_type": "code",
   "execution_count": 35,
   "id": "556567af",
   "metadata": {},
   "outputs": [
    {
     "data": {
      "text/html": [
       "<table>\n",
       "<thead><tr><th scope=col>ï..country</th><th scope=col>X1990</th><th scope=col>X1991</th><th scope=col>X1992</th><th scope=col>X1993</th><th scope=col>X1994</th><th scope=col>X1995</th><th scope=col>X1996</th><th scope=col>X1997</th><th scope=col>X1998</th><th scope=col>...</th><th scope=col>X2010</th><th scope=col>X2011</th><th scope=col>X2012</th><th scope=col>X2013</th><th scope=col>X2014</th><th scope=col>X2015</th><th scope=col>X2016</th><th scope=col>X2017</th><th scope=col>X2018</th><th scope=col>X2019</th></tr></thead>\n",
       "<tbody>\n",
       "\t<tr><td>Afghanistan           </td><td>696                   </td><td>751                   </td><td>855                   </td><td>943                   </td><td>993                   </td><td>1030                  </td><td>1070                  </td><td>1100                  </td><td>1110                  </td><td>...                   </td><td>1370                  </td><td>1390                  </td><td>1410                  </td><td>1430                  </td><td>1440                  </td><td>1470                  </td><td>1500                  </td><td>1550                  </td><td>1580                  </td><td>1610                  </td></tr>\n",
       "\t<tr><td>Angola                </td><td>973                   </td><td>991                   </td><td>1020                  </td><td>1070                  </td><td>1110                  </td><td>1120                  </td><td>1080                  </td><td>1090                  </td><td>1160                  </td><td>...                   </td><td>1500                  </td><td>1550                  </td><td>1600                  </td><td>1640                  </td><td>1650                  </td><td>1690                  </td><td>1720                  </td><td>1800                  </td><td>1870                  </td><td>1930                  </td></tr>\n",
       "\t<tr><td>Albania               </td><td>125                   </td><td>136                   </td><td>132                   </td><td>131                   </td><td>125                   </td><td>133                   </td><td>141                   </td><td>158                   </td><td>170                   </td><td>...                   </td><td>160                   </td><td>160                   </td><td>158                   </td><td>157                   </td><td>158                   </td><td>160                   </td><td>158                   </td><td>156                   </td><td>154                   </td><td>152                   </td></tr>\n",
       "\t<tr><td>Andorra               </td><td>5.96                  </td><td>6.46                  </td><td>6.81                  </td><td>7.25                  </td><td>7.24                  </td><td>7.11                  </td><td>7.09                  </td><td>7                     </td><td>6.97                  </td><td>...                   </td><td>8.08                  </td><td>7.46                  </td><td>7.28                  </td><td>7.29                  </td><td>7.49                  </td><td>7.56                  </td><td>7.63                  </td><td>7.81                  </td><td>7.98                  </td><td>8.13                  </td></tr>\n",
       "\t<tr><td>United Arab Emirates  </td><td>114                   </td><td>121                   </td><td>130                   </td><td>140                   </td><td>147                   </td><td>161                   </td><td>170                   </td><td>181                   </td><td>190                   </td><td>...                   </td><td>541                   </td><td>562                   </td><td>580                   </td><td>610                   </td><td>636                   </td><td>645                   </td><td>648                   </td><td>648                   </td><td>655                   </td><td>664                   </td></tr>\n",
       "\t<tr><td>Argentina             </td><td>2760                  </td><td>2870                  </td><td>3070                  </td><td>3190                  </td><td>3340                  </td><td>3500                  </td><td>3710                  </td><td>3970                  </td><td>4160                  </td><td>...                   </td><td>4580                  </td><td>4680                  </td><td>4780                  </td><td>4840                  </td><td>4810                  </td><td>4770                  </td><td>4930                  </td><td>4980                  </td><td>5010                  </td><td>5030                  </td></tr>\n",
       "\t<tr><td>Armenia               </td><td>105                   </td><td>110                   </td><td>128                   </td><td>142                   </td><td>148                   </td><td>142                   </td><td>139                   </td><td>134                   </td><td>129                   </td><td>...                   </td><td>296                   </td><td>306                   </td><td>308                   </td><td>299                   </td><td>297                   </td><td>302                   </td><td>297                   </td><td>289                   </td><td>289                   </td><td>287                   </td></tr>\n",
       "\t<tr><td>American Samoa        </td><td>3.05                  </td><td>3.14                  </td><td>3.22                  </td><td>3.26                  </td><td>3.34                  </td><td>3.42                  </td><td>3.47                  </td><td>3.52                  </td><td>3.49                  </td><td>...                   </td><td>3.29                  </td><td>3.38                  </td><td>3.46                  </td><td>3.57                  </td><td>3.68                  </td><td>3.78                  </td><td>3.9                   </td><td>3.92                  </td><td>3.93                  </td><td>3.95                  </td></tr>\n",
       "\t<tr><td>Antigua and Barbuda   </td><td>1.35                  </td><td>1.37                  </td><td>1.41                  </td><td>1.48                  </td><td>1.52                  </td><td>1.58                  </td><td>1.7                   </td><td>1.77                  </td><td>1.84                  </td><td>...                   </td><td>2.47                  </td><td>2.52                  </td><td>2.56                  </td><td>2.58                  </td><td>2.63                  </td><td>2.66                  </td><td>2.69                  </td><td>2.67                  </td><td>2.69                  </td><td>2.74                  </td></tr>\n",
       "\t<tr><td>Australia             </td><td>2340                  </td><td>2360                  </td><td>2390                  </td><td>2380                  </td><td>2470                  </td><td>2530                  </td><td>2600                  </td><td>2680                  </td><td>2720                  </td><td>...                   </td><td>2670                  </td><td>2690                  </td><td>2720                  </td><td>2770                  </td><td>2910                  </td><td>3010                  </td><td>2930                  </td><td>2860                  </td><td>2880                  </td><td>2900                  </td></tr>\n",
       "\t<tr><td>Austria               </td><td>1860                  </td><td>1860                  </td><td>1830                  </td><td>1820                  </td><td>1810                  </td><td>1780                  </td><td>1740                  </td><td>1660                  </td><td>1610                  </td><td>...                   </td><td>1450                  </td><td>1450                  </td><td>1450                  </td><td>1450                  </td><td>1450                  </td><td>1470                  </td><td>1460                  </td><td>1440                  </td><td>1430                  </td><td>1420                  </td></tr>\n",
       "\t<tr><td>Azerbaijan            </td><td>224                   </td><td>231                   </td><td>272                   </td><td>275                   </td><td>272                   </td><td>220                   </td><td>198                   </td><td>198                   </td><td>202                   </td><td>...                   </td><td>408                   </td><td>406                   </td><td>398                   </td><td>394                   </td><td>387                   </td><td>376                   </td><td>368                   </td><td>369                   </td><td>375                   </td><td>379                   </td></tr>\n",
       "\t<tr><td>Burundi               </td><td>615                   </td><td>617                   </td><td>619                   </td><td>644                   </td><td>656                   </td><td>657                   </td><td>658                   </td><td>656                   </td><td>651                   </td><td>...                   </td><td>648                   </td><td>661                   </td><td>678                   </td><td>690                   </td><td>696                   </td><td>702                   </td><td>714                   </td><td>737                   </td><td>774                   </td><td>800                   </td></tr>\n",
       "\t<tr><td>Belgium               </td><td>2190                  </td><td>2190                  </td><td>2250                  </td><td>2310                  </td><td>2340                  </td><td>2350                  </td><td>2330                  </td><td>2340                  </td><td>2330                  </td><td>...                   </td><td>2360                  </td><td>2370                  </td><td>2360                  </td><td>2320                  </td><td>2260                  </td><td>2250                  </td><td>2230                  </td><td>2240                  </td><td>2230                  </td><td>2210                  </td></tr>\n",
       "\t<tr><td>Benin                 </td><td>282                   </td><td>292                   </td><td>303                   </td><td>315                   </td><td>332                   </td><td>349                   </td><td>367                   </td><td>383                   </td><td>400                   </td><td>...                   </td><td>582                   </td><td>607                   </td><td>623                   </td><td>640                   </td><td>658                   </td><td>668                   </td><td>690                   </td><td>714                   </td><td>723                   </td><td>742                   </td></tr>\n",
       "\t<tr><td>Burkina Faso          </td><td>700                   </td><td>700                   </td><td>711                   </td><td>727                   </td><td>743                   </td><td>763                   </td><td>774                   </td><td>797                   </td><td>822                   </td><td>...                   </td><td>1070                  </td><td>1100                  </td><td>1170                  </td><td>1230                  </td><td>1300                  </td><td>1350                  </td><td>1420                  </td><td>1480                  </td><td>1530                  </td><td>1550                  </td></tr>\n",
       "\t<tr><td>Bangladesh            </td><td>10.9k                 </td><td>10.3k                 </td><td>10.5k                 </td><td>10.5k                 </td><td>10.5k                 </td><td>10.7k                 </td><td>10.5k                 </td><td>10.1k                 </td><td>9690                  </td><td>...                   </td><td>8130                  </td><td>7530                  </td><td>7120                  </td><td>6950                  </td><td>6970                  </td><td>6860                  </td><td>6890                  </td><td>7100                  </td><td>7210                  </td><td>7370                  </td></tr>\n",
       "\t<tr><td>Bulgaria              </td><td>1790                  </td><td>1820                  </td><td>1950                  </td><td>2040                  </td><td>2150                  </td><td>2170                  </td><td>2180                  </td><td>2230                  </td><td>2160                  </td><td>...                   </td><td>1200                  </td><td>1150                  </td><td>1110                  </td><td>1070                  </td><td>1080                  </td><td>1060                  </td><td>1080                  </td><td>1080                  </td><td>1090                  </td><td>1090                  </td></tr>\n",
       "\t<tr><td>Bahrain               </td><td>27.6                  </td><td>28.8                  </td><td>29.4                  </td><td>30.4                  </td><td>31.4                  </td><td>32.2                  </td><td>33.4                  </td><td>34                    </td><td>36.9                  </td><td>...                   </td><td>86.2                  </td><td>85.5                  </td><td>85.2                  </td><td>83.8                  </td><td>84.7                  </td><td>83.7                  </td><td>80.8                  </td><td>79.2                  </td><td>78                    </td><td>77.3                  </td></tr>\n",
       "\t<tr><td>Bahamas               </td><td>6.78                  </td><td>7.14                  </td><td>7.38                  </td><td>7.78                  </td><td>7.92                  </td><td>8.33                  </td><td>8.46                  </td><td>8.6                   </td><td>8.71                  </td><td>...                   </td><td>10.4                  </td><td>10.5                  </td><td>10.5                  </td><td>10.4                  </td><td>10.7                  </td><td>11                    </td><td>11.2                  </td><td>11.3                  </td><td>11.5                  </td><td>11.7                  </td></tr>\n",
       "\t<tr><td>Bosnia and Herzegovina</td><td>471                   </td><td>549                   </td><td>540                   </td><td>502                   </td><td>481                   </td><td>451                   </td><td>428                   </td><td>424                   </td><td>404                   </td><td>...                   </td><td>414                   </td><td>409                   </td><td>396                   </td><td>397                   </td><td>392                   </td><td>393                   </td><td>379                   </td><td>372                   </td><td>369                   </td><td>366                   </td></tr>\n",
       "\t<tr><td>Belarus               </td><td>2340                  </td><td>2520                  </td><td>2770                  </td><td>3220                  </td><td>3410                  </td><td>3710                  </td><td>3780                  </td><td>3960                  </td><td>4170                  </td><td>...                   </td><td>3420                  </td><td>3400                  </td><td>2820                  </td><td>2620                  </td><td>2480                  </td><td>2350                  </td><td>2300                  </td><td>2320                  </td><td>2320                  </td><td>2270                  </td></tr>\n",
       "\t<tr><td>Belize                </td><td>7.44                  </td><td>8.43                  </td><td>8.96                  </td><td>9.41                  </td><td>9.8                   </td><td>11.9                  </td><td>12.9                  </td><td>14.3                  </td><td>15.4                  </td><td>...                   </td><td>20.2                  </td><td>21.4                  </td><td>21.4                  </td><td>21.8                  </td><td>22.3                  </td><td>23.2                  </td><td>24.3                  </td><td>26                    </td><td>26.8                  </td><td>27.7                  </td></tr>\n",
       "\t<tr><td>Bermuda               </td><td>3.82                  </td><td>3.8                   </td><td>3.66                  </td><td>3.56                  </td><td>3.46                  </td><td>3.44                  </td><td>3.26                  </td><td>3.24                  </td><td>3.19                  </td><td>...                   </td><td>2.9                   </td><td>2.89                  </td><td>2.9                   </td><td>2.92                  </td><td>2.88                  </td><td>2.86                  </td><td>2.86                  </td><td>2.88                  </td><td>2.89                  </td><td>2.87                  </td></tr>\n",
       "\t<tr><td>Bolivia               </td><td>390                   </td><td>405                   </td><td>421                   </td><td>440                   </td><td>454                   </td><td>475                   </td><td>489                   </td><td>517                   </td><td>537                   </td><td>...                   </td><td>676                   </td><td>683                   </td><td>688                   </td><td>693                   </td><td>695                   </td><td>708                   </td><td>727                   </td><td>736                   </td><td>742                   </td><td>743                   </td></tr>\n",
       "\t<tr><td>Brazil                </td><td>9250                  </td><td>9150                  </td><td>9200                  </td><td>9440                  </td><td>9540                  </td><td>9560                  </td><td>9720                  </td><td>10000                 </td><td>10.4k                 </td><td>...                   </td><td>12.4k                 </td><td>12.7k                 </td><td>12.9k                 </td><td>13.1k                 </td><td>13.2k                 </td><td>13.4k                 </td><td>13.8k                 </td><td>13.7k                 </td><td>13.5k                 </td><td>13.5k                 </td></tr>\n",
       "\t<tr><td>Barbados              </td><td>12.4                  </td><td>12.5                  </td><td>12.9                  </td><td>13.6                  </td><td>13.6                  </td><td>13.9                  </td><td>14.3                  </td><td>14.2                  </td><td>14                    </td><td>...                   </td><td>12.9                  </td><td>12.8                  </td><td>12.9                  </td><td>13.1                  </td><td>13.3                  </td><td>13.5                  </td><td>13.7                  </td><td>13.8                  </td><td>14.2                  </td><td>14.9                  </td></tr>\n",
       "\t<tr><td>Brunei                </td><td>12.2                  </td><td>12.3                  </td><td>12.5                  </td><td>12.5                  </td><td>12.4                  </td><td>12.5                  </td><td>12.6                  </td><td>12.4                  </td><td>11.9                  </td><td>...                   </td><td>18.1                  </td><td>19.2                  </td><td>20.2                  </td><td>21.1                  </td><td>21.7                  </td><td>22                    </td><td>22.5                  </td><td>23.3                  </td><td>24                    </td><td>24.6                  </td></tr>\n",
       "\t<tr><td>Bhutan                </td><td>36.9                  </td><td>35.8                  </td><td>35                    </td><td>34.7                  </td><td>35                    </td><td>35.6                  </td><td>35.4                  </td><td>36.1                  </td><td>36.7                  </td><td>...                   </td><td>38                    </td><td>38.7                  </td><td>39.3                  </td><td>39.7                  </td><td>40.1                  </td><td>40.4                  </td><td>40.5                  </td><td>40.5                  </td><td>40.7                  </td><td>41                    </td></tr>\n",
       "\t<tr><td>Botswana              </td><td>162                   </td><td>178                   </td><td>200                   </td><td>225                   </td><td>254                   </td><td>284                   </td><td>311                   </td><td>336                   </td><td>363                   </td><td>...                   </td><td>384                   </td><td>387                   </td><td>386                   </td><td>385                   </td><td>384                   </td><td>388                   </td><td>388                   </td><td>395                   </td><td>402                   </td><td>403                   </td></tr>\n",
       "\t<tr><td>...</td><td>...</td><td>...</td><td>...</td><td>...</td><td>...</td><td>...</td><td>...</td><td>...</td><td>...</td><td>   </td><td>...</td><td>...</td><td>...</td><td>...</td><td>...</td><td>...</td><td>...</td><td>...</td><td>...</td><td>...</td></tr>\n",
       "\t<tr><td>Syria                         </td><td>292                           </td><td>299                           </td><td>313                           </td><td>303                           </td><td>302                           </td><td>300                           </td><td>300                           </td><td>299                           </td><td>305                           </td><td>...                           </td><td>415                           </td><td>398                           </td><td>364                           </td><td>338                           </td><td>322                           </td><td>311                           </td><td>305                           </td><td>303                           </td><td>309                           </td><td>320                           </td></tr>\n",
       "\t<tr><td>Chad                          </td><td>356                           </td><td>356                           </td><td>375                           </td><td>399                           </td><td>410                           </td><td>427                           </td><td>467                           </td><td>507                           </td><td>545                           </td><td>...                           </td><td>823                           </td><td>839                           </td><td>850                           </td><td>856                           </td><td>867                           </td><td>879                           </td><td>903                           </td><td>930                           </td><td>964                           </td><td>996                           </td></tr>\n",
       "\t<tr><td>Togo                          </td><td>200                           </td><td>208                           </td><td>218                           </td><td>229                           </td><td>241                           </td><td>254                           </td><td>269                           </td><td>285                           </td><td>303                           </td><td>...                           </td><td>485                           </td><td>495                           </td><td>501                           </td><td>507                           </td><td>524                           </td><td>537                           </td><td>557                           </td><td>575                           </td><td>582                           </td><td>591                           </td></tr>\n",
       "\t<tr><td>Thailand                      </td><td>7040                          </td><td>7580                          </td><td>8050                          </td><td>8760                          </td><td>9700                          </td><td>10.8k                         </td><td>11.6k                         </td><td>10.7k                         </td><td>10.3k                         </td><td>...                           </td><td>7030                          </td><td>6920                          </td><td>6840                          </td><td>6650                          </td><td>6690                          </td><td>6810                          </td><td>7030                          </td><td>7090                          </td><td>7150                          </td><td>7110                          </td></tr>\n",
       "\t<tr><td>Tajikistan                    </td><td>264                           </td><td>267                           </td><td>290                           </td><td>297                           </td><td>325                           </td><td>310                           </td><td>300                           </td><td>288                           </td><td>273                           </td><td>...                           </td><td>342                           </td><td>359                           </td><td>374                           </td><td>382                           </td><td>398                           </td><td>416                           </td><td>443                           </td><td>446                           </td><td>453                           </td><td>464                           </td></tr>\n",
       "\t<tr><td>Tokelau                       </td><td>0.2                           </td><td>0.19                          </td><td>0.19                          </td><td>0.19                          </td><td>0.19                          </td><td>0.18                          </td><td>0.18                          </td><td>0.18                          </td><td>0.18                          </td><td>...                           </td><td>0.13                          </td><td>0.13                          </td><td>0.13                          </td><td>0.13                          </td><td>0.13                          </td><td>0.13                          </td><td>0.13                          </td><td>0.13                          </td><td>0.13                          </td><td>0.13                          </td></tr>\n",
       "\t<tr><td>Turkmenistan                  </td><td>268                           </td><td>271                           </td><td>268                           </td><td>301                           </td><td>317                           </td><td>328                           </td><td>365                           </td><td>406                           </td><td>449                           </td><td>...                           </td><td>430                           </td><td>430                           </td><td>428                           </td><td>435                           </td><td>440                           </td><td>443                           </td><td>444                           </td><td>444                           </td><td>442                           </td><td>440                           </td></tr>\n",
       "\t<tr><td>Timor-Leste                   </td><td>51.7                          </td><td>50.1                          </td><td>51.4                          </td><td>52.1                          </td><td>51                            </td><td>50                            </td><td>48.5                          </td><td>45.2                          </td><td>45.2                          </td><td>...                           </td><td>38.4                          </td><td>44.5                          </td><td>49                            </td><td>51.1                          </td><td>53.7                          </td><td>56                            </td><td>58                            </td><td>59.5                          </td><td>61.3                          </td><td>62.9                          </td></tr>\n",
       "\t<tr><td>Tonga                         </td><td>3.87                          </td><td>3.88                          </td><td>3.8                           </td><td>3.85                          </td><td>3.9                           </td><td>3.9                           </td><td>3.96                          </td><td>4.07                          </td><td>4.3                           </td><td>...                           </td><td>4.72                          </td><td>4.74                          </td><td>4.75                          </td><td>4.78                          </td><td>4.79                          </td><td>4.79                          </td><td>4.81                          </td><td>4.82                          </td><td>4.82                          </td><td>4.81                          </td></tr>\n",
       "\t<tr><td>Trinidad and Tobago           </td><td>167                           </td><td>166                           </td><td>171                           </td><td>183                           </td><td>186                           </td><td>186                           </td><td>191                           </td><td>181                           </td><td>188                           </td><td>...                           </td><td>167                           </td><td>159                           </td><td>149                           </td><td>154                           </td><td>154                           </td><td>154                           </td><td>155                           </td><td>156                           </td><td>156                           </td><td>155                           </td></tr>\n",
       "\t<tr><td>Tunisia                       </td><td>276                           </td><td>292                           </td><td>305                           </td><td>317                           </td><td>322                           </td><td>336                           </td><td>340                           </td><td>348                           </td><td>357                           </td><td>...                           </td><td>406                           </td><td>404                           </td><td>405                           </td><td>405                           </td><td>405                           </td><td>405                           </td><td>405                           </td><td>405                           </td><td>408                           </td><td>410                           </td></tr>\n",
       "\t<tr><td>Turkey                        </td><td>3050                          </td><td>3140                          </td><td>3210                          </td><td>3280                          </td><td>3360                          </td><td>3390                          </td><td>3330                          </td><td>3230                          </td><td>3180                          </td><td>...                           </td><td>2290                          </td><td>2260                          </td><td>2270                          </td><td>2350                          </td><td>2420                          </td><td>2420                          </td><td>2460                          </td><td>2500                          </td><td>2520                          </td><td>2590                          </td></tr>\n",
       "\t<tr><td>Tuvalu                        </td><td>1.83                          </td><td>1.8                           </td><td>1.77                          </td><td>1.74                          </td><td>1.7                           </td><td>1.69                          </td><td>1.68                          </td><td>1.69                          </td><td>1.66                          </td><td>...                           </td><td>1.71                          </td><td>1.73                          </td><td>1.75                          </td><td>1.77                          </td><td>1.79                          </td><td>1.81                          </td><td>1.83                          </td><td>1.86                          </td><td>1.87                          </td><td>1.89                          </td></tr>\n",
       "\t<tr><td>Taiwan                        </td><td>1910                          </td><td>1880                          </td><td>1890                          </td><td>1950                          </td><td>2090                          </td><td>2240                          </td><td>2460                          </td><td>2620                          </td><td>2840                          </td><td>...                           </td><td>4420                          </td><td>4460                          </td><td>4330                          </td><td>4150                          </td><td>4180                          </td><td>4080                          </td><td>4190                          </td><td>4230                          </td><td>4280                          </td><td>4300                          </td></tr>\n",
       "\t<tr><td>Tanzania                      </td><td>1770                          </td><td>1810                          </td><td>1860                          </td><td>1910                          </td><td>1960                          </td><td>2000                          </td><td>2030                          </td><td>2090                          </td><td>2160                          </td><td>...                           </td><td>2520                          </td><td>2570                          </td><td>2650                          </td><td>2730                          </td><td>2780                          </td><td>2840                          </td><td>2910                          </td><td>3010                          </td><td>3120                          </td><td>3230                          </td></tr>\n",
       "\t<tr><td>Uganda                        </td><td>935                           </td><td>1030                          </td><td>1090                          </td><td>1180                          </td><td>1270                          </td><td>1350                          </td><td>1450                          </td><td>1530                          </td><td>1630                          </td><td>...                           </td><td>1790                          </td><td>1810                          </td><td>1830                          </td><td>1880                          </td><td>1920                          </td><td>1940                          </td><td>2000                          </td><td>2020                          </td><td>2100                          </td><td>2170                          </td></tr>\n",
       "\t<tr><td>Ukraine                       </td><td>11.8k                         </td><td>12.9k                         </td><td>14.1k                         </td><td>15.3k                         </td><td>16.8k                         </td><td>18.9k                         </td><td>18.9k                         </td><td>18.3k                         </td><td>17.3k                         </td><td>...                           </td><td>11.1k                         </td><td>10.7k                         </td><td>10.8k                         </td><td>11.2k                         </td><td>10.9k                         </td><td>15.3k                         </td><td>14.9k                         </td><td>14.4k                         </td><td>14k                           </td><td>13.7k                         </td></tr>\n",
       "\t<tr><td>Uruguay                       </td><td>361                           </td><td>390                           </td><td>402                           </td><td>424                           </td><td>439                           </td><td>460                           </td><td>475                           </td><td>513                           </td><td>556                           </td><td>...                           </td><td>634                           </td><td>661                           </td><td>670                           </td><td>674                           </td><td>676                           </td><td>689                           </td><td>695                           </td><td>688                           </td><td>680                           </td><td>666                           </td></tr>\n",
       "\t<tr><td>United States                 </td><td>34k                           </td><td>34k                           </td><td>34.1k                         </td><td>34.9k                         </td><td>35.1k                         </td><td>35.2k                         </td><td>34.8k                         </td><td>34.6k                         </td><td>34.4k                         </td><td>...                           </td><td>41.7k                         </td><td>42.8k                         </td><td>43.4k                         </td><td>44k                           </td><td>45k                           </td><td>46.2k                         </td><td>47.6k                         </td><td>46.7k                         </td><td>46k                           </td><td>45.3k                         </td></tr>\n",
       "\t<tr><td>Uzbekistan                    </td><td>1430                          </td><td>1480                          </td><td>1560                          </td><td>1720                          </td><td>1890                          </td><td>2070                          </td><td>2280                          </td><td>2350                          </td><td>2440                          </td><td>...                           </td><td>2960                          </td><td>3130                          </td><td>3330                          </td><td>3470                          </td><td>3620                          </td><td>3740                          </td><td>3870                          </td><td>3820                          </td><td>3800                          </td><td>3790                          </td></tr>\n",
       "\t<tr><td>St. Vincent and the Grenadines</td><td>6.05                          </td><td>6.19                          </td><td>6.32                          </td><td>6.43                          </td><td>6.68                          </td><td>6.87                          </td><td>6.9                           </td><td>6.9                           </td><td>7.1                           </td><td>...                           </td><td>7.22                          </td><td>6.96                          </td><td>7.25                          </td><td>7.55                          </td><td>7.57                          </td><td>7.64                          </td><td>7.78                          </td><td>8.04                          </td><td>8.14                          </td><td>8.21                          </td></tr>\n",
       "\t<tr><td>Venezuela                     </td><td>1050                          </td><td>1150                          </td><td>1250                          </td><td>1380                          </td><td>1550                          </td><td>1670                          </td><td>1720                          </td><td>1720                          </td><td>1880                          </td><td>...                           </td><td>2050                          </td><td>2110                          </td><td>2250                          </td><td>2310                          </td><td>2380                          </td><td>2440                          </td><td>2360                          </td><td>2280                          </td><td>2290                          </td><td>2310                          </td></tr>\n",
       "\t<tr><td>Virgin Islands (U.S.)         </td><td>7.44                          </td><td>7.53                          </td><td>7.62                          </td><td>7.73                          </td><td>7.92                          </td><td>8.09                          </td><td>8.2                           </td><td>8.27                          </td><td>8.34                          </td><td>...                           </td><td>8.47                          </td><td>8.54                          </td><td>8.65                          </td><td>8.7                           </td><td>8.75                          </td><td>8.83                          </td><td>8.75                          </td><td>8.79                          </td><td>8.8                           </td><td>8.79                          </td></tr>\n",
       "\t<tr><td>Vietnam                       </td><td>5510                          </td><td>5570                          </td><td>5610                          </td><td>5660                          </td><td>5700                          </td><td>5760                          </td><td>5800                          </td><td>5840                          </td><td>5880                          </td><td>...                           </td><td>7050                          </td><td>7140                          </td><td>7270                          </td><td>7440                          </td><td>7620                          </td><td>7740                          </td><td>7880                          </td><td>8000                          </td><td>8070                          </td><td>8110                          </td></tr>\n",
       "\t<tr><td>Vanuatu                       </td><td>23.6                          </td><td>26.2                          </td><td>28.5                          </td><td>30.1                          </td><td>31.7                          </td><td>32.4                          </td><td>33.5                          </td><td>34.3                          </td><td>35                            </td><td>...                           </td><td>44                            </td><td>45.4                          </td><td>46.2                          </td><td>46.9                          </td><td>47.6                          </td><td>48.4                          </td><td>49.5                          </td><td>50.5                          </td><td>51.1                          </td><td>51.1                          </td></tr>\n",
       "\t<tr><td>Samoa                         </td><td>23.5                          </td><td>23.8                          </td><td>24.3                          </td><td>24.7                          </td><td>25                            </td><td>25.2                          </td><td>25.2                          </td><td>25.2                          </td><td>25.1                          </td><td>...                           </td><td>23.2                          </td><td>23.3                          </td><td>23.5                          </td><td>23.7                          </td><td>23.9                          </td><td>24.3                          </td><td>24.7                          </td><td>25.1                          </td><td>25.4                          </td><td>25.4                          </td></tr>\n",
       "\t<tr><td>Yemen                         </td><td>596                           </td><td>604                           </td><td>618                           </td><td>636                           </td><td>659                           </td><td>676                           </td><td>697                           </td><td>721                           </td><td>748                           </td><td>...                           </td><td>1130                          </td><td>1170                          </td><td>1190                          </td><td>1230                          </td><td>1240                          </td><td>1300                          </td><td>1360                          </td><td>1430                          </td><td>1520                          </td><td>1560                          </td></tr>\n",
       "\t<tr><td>South Africa                  </td><td>6730                          </td><td>6920                          </td><td>7490                          </td><td>6970                          </td><td>7270                          </td><td>7370                          </td><td>7250                          </td><td>8380                          </td><td>8860                          </td><td>...                           </td><td>8230                          </td><td>7540                          </td><td>7370                          </td><td>7340                          </td><td>7480                          </td><td>7460                          </td><td>7200                          </td><td>7320                          </td><td>7660                          </td><td>7860                          </td></tr>\n",
       "\t<tr><td>Zambia                        </td><td>584                           </td><td>623                           </td><td>660                           </td><td>694                           </td><td>729                           </td><td>766                           </td><td>792                           </td><td>812                           </td><td>829                           </td><td>...                           </td><td>1080                          </td><td>1110                          </td><td>1130                          </td><td>1170                          </td><td>1210                          </td><td>1250                          </td><td>1290                          </td><td>1340                          </td><td>1370                          </td><td>1400                          </td></tr>\n",
       "\t<tr><td>Zimbabwe                      </td><td>1020                          </td><td>1040                          </td><td>1100                          </td><td>1120                          </td><td>1190                          </td><td>1240                          </td><td>1230                          </td><td>1260                          </td><td>1340                          </td><td>...                           </td><td>2080                          </td><td>2080                          </td><td>2090                          </td><td>2100                          </td><td>2160                          </td><td>2240                          </td><td>2300                          </td><td>2340                          </td><td>2370                          </td><td>2400                          </td></tr>\n",
       "</tbody>\n",
       "</table>\n"
      ],
      "text/latex": [
       "\\begin{tabular}{r|lllllllllllllllllllllllllllllll}\n",
       " ï..country & X1990 & X1991 & X1992 & X1993 & X1994 & X1995 & X1996 & X1997 & X1998 & ... & X2010 & X2011 & X2012 & X2013 & X2014 & X2015 & X2016 & X2017 & X2018 & X2019\\\\\n",
       "\\hline\n",
       "\t Afghanistan            & 696                    & 751                    & 855                    & 943                    & 993                    & 1030                   & 1070                   & 1100                   & 1110                   & ...                    & 1370                   & 1390                   & 1410                   & 1430                   & 1440                   & 1470                   & 1500                   & 1550                   & 1580                   & 1610                  \\\\\n",
       "\t Angola                 & 973                    & 991                    & 1020                   & 1070                   & 1110                   & 1120                   & 1080                   & 1090                   & 1160                   & ...                    & 1500                   & 1550                   & 1600                   & 1640                   & 1650                   & 1690                   & 1720                   & 1800                   & 1870                   & 1930                  \\\\\n",
       "\t Albania                & 125                    & 136                    & 132                    & 131                    & 125                    & 133                    & 141                    & 158                    & 170                    & ...                    & 160                    & 160                    & 158                    & 157                    & 158                    & 160                    & 158                    & 156                    & 154                    & 152                   \\\\\n",
       "\t Andorra                & 5.96                   & 6.46                   & 6.81                   & 7.25                   & 7.24                   & 7.11                   & 7.09                   & 7                      & 6.97                   & ...                    & 8.08                   & 7.46                   & 7.28                   & 7.29                   & 7.49                   & 7.56                   & 7.63                   & 7.81                   & 7.98                   & 8.13                  \\\\\n",
       "\t United Arab Emirates   & 114                    & 121                    & 130                    & 140                    & 147                    & 161                    & 170                    & 181                    & 190                    & ...                    & 541                    & 562                    & 580                    & 610                    & 636                    & 645                    & 648                    & 648                    & 655                    & 664                   \\\\\n",
       "\t Argentina              & 2760                   & 2870                   & 3070                   & 3190                   & 3340                   & 3500                   & 3710                   & 3970                   & 4160                   & ...                    & 4580                   & 4680                   & 4780                   & 4840                   & 4810                   & 4770                   & 4930                   & 4980                   & 5010                   & 5030                  \\\\\n",
       "\t Armenia                & 105                    & 110                    & 128                    & 142                    & 148                    & 142                    & 139                    & 134                    & 129                    & ...                    & 296                    & 306                    & 308                    & 299                    & 297                    & 302                    & 297                    & 289                    & 289                    & 287                   \\\\\n",
       "\t American Samoa         & 3.05                   & 3.14                   & 3.22                   & 3.26                   & 3.34                   & 3.42                   & 3.47                   & 3.52                   & 3.49                   & ...                    & 3.29                   & 3.38                   & 3.46                   & 3.57                   & 3.68                   & 3.78                   & 3.9                    & 3.92                   & 3.93                   & 3.95                  \\\\\n",
       "\t Antigua and Barbuda    & 1.35                   & 1.37                   & 1.41                   & 1.48                   & 1.52                   & 1.58                   & 1.7                    & 1.77                   & 1.84                   & ...                    & 2.47                   & 2.52                   & 2.56                   & 2.58                   & 2.63                   & 2.66                   & 2.69                   & 2.67                   & 2.69                   & 2.74                  \\\\\n",
       "\t Australia              & 2340                   & 2360                   & 2390                   & 2380                   & 2470                   & 2530                   & 2600                   & 2680                   & 2720                   & ...                    & 2670                   & 2690                   & 2720                   & 2770                   & 2910                   & 3010                   & 2930                   & 2860                   & 2880                   & 2900                  \\\\\n",
       "\t Austria                & 1860                   & 1860                   & 1830                   & 1820                   & 1810                   & 1780                   & 1740                   & 1660                   & 1610                   & ...                    & 1450                   & 1450                   & 1450                   & 1450                   & 1450                   & 1470                   & 1460                   & 1440                   & 1430                   & 1420                  \\\\\n",
       "\t Azerbaijan             & 224                    & 231                    & 272                    & 275                    & 272                    & 220                    & 198                    & 198                    & 202                    & ...                    & 408                    & 406                    & 398                    & 394                    & 387                    & 376                    & 368                    & 369                    & 375                    & 379                   \\\\\n",
       "\t Burundi                & 615                    & 617                    & 619                    & 644                    & 656                    & 657                    & 658                    & 656                    & 651                    & ...                    & 648                    & 661                    & 678                    & 690                    & 696                    & 702                    & 714                    & 737                    & 774                    & 800                   \\\\\n",
       "\t Belgium                & 2190                   & 2190                   & 2250                   & 2310                   & 2340                   & 2350                   & 2330                   & 2340                   & 2330                   & ...                    & 2360                   & 2370                   & 2360                   & 2320                   & 2260                   & 2250                   & 2230                   & 2240                   & 2230                   & 2210                  \\\\\n",
       "\t Benin                  & 282                    & 292                    & 303                    & 315                    & 332                    & 349                    & 367                    & 383                    & 400                    & ...                    & 582                    & 607                    & 623                    & 640                    & 658                    & 668                    & 690                    & 714                    & 723                    & 742                   \\\\\n",
       "\t Burkina Faso           & 700                    & 700                    & 711                    & 727                    & 743                    & 763                    & 774                    & 797                    & 822                    & ...                    & 1070                   & 1100                   & 1170                   & 1230                   & 1300                   & 1350                   & 1420                   & 1480                   & 1530                   & 1550                  \\\\\n",
       "\t Bangladesh             & 10.9k                  & 10.3k                  & 10.5k                  & 10.5k                  & 10.5k                  & 10.7k                  & 10.5k                  & 10.1k                  & 9690                   & ...                    & 8130                   & 7530                   & 7120                   & 6950                   & 6970                   & 6860                   & 6890                   & 7100                   & 7210                   & 7370                  \\\\\n",
       "\t Bulgaria               & 1790                   & 1820                   & 1950                   & 2040                   & 2150                   & 2170                   & 2180                   & 2230                   & 2160                   & ...                    & 1200                   & 1150                   & 1110                   & 1070                   & 1080                   & 1060                   & 1080                   & 1080                   & 1090                   & 1090                  \\\\\n",
       "\t Bahrain                & 27.6                   & 28.8                   & 29.4                   & 30.4                   & 31.4                   & 32.2                   & 33.4                   & 34                     & 36.9                   & ...                    & 86.2                   & 85.5                   & 85.2                   & 83.8                   & 84.7                   & 83.7                   & 80.8                   & 79.2                   & 78                     & 77.3                  \\\\\n",
       "\t Bahamas                & 6.78                   & 7.14                   & 7.38                   & 7.78                   & 7.92                   & 8.33                   & 8.46                   & 8.6                    & 8.71                   & ...                    & 10.4                   & 10.5                   & 10.5                   & 10.4                   & 10.7                   & 11                     & 11.2                   & 11.3                   & 11.5                   & 11.7                  \\\\\n",
       "\t Bosnia and Herzegovina & 471                    & 549                    & 540                    & 502                    & 481                    & 451                    & 428                    & 424                    & 404                    & ...                    & 414                    & 409                    & 396                    & 397                    & 392                    & 393                    & 379                    & 372                    & 369                    & 366                   \\\\\n",
       "\t Belarus                & 2340                   & 2520                   & 2770                   & 3220                   & 3410                   & 3710                   & 3780                   & 3960                   & 4170                   & ...                    & 3420                   & 3400                   & 2820                   & 2620                   & 2480                   & 2350                   & 2300                   & 2320                   & 2320                   & 2270                  \\\\\n",
       "\t Belize                 & 7.44                   & 8.43                   & 8.96                   & 9.41                   & 9.8                    & 11.9                   & 12.9                   & 14.3                   & 15.4                   & ...                    & 20.2                   & 21.4                   & 21.4                   & 21.8                   & 22.3                   & 23.2                   & 24.3                   & 26                     & 26.8                   & 27.7                  \\\\\n",
       "\t Bermuda                & 3.82                   & 3.8                    & 3.66                   & 3.56                   & 3.46                   & 3.44                   & 3.26                   & 3.24                   & 3.19                   & ...                    & 2.9                    & 2.89                   & 2.9                    & 2.92                   & 2.88                   & 2.86                   & 2.86                   & 2.88                   & 2.89                   & 2.87                  \\\\\n",
       "\t Bolivia                & 390                    & 405                    & 421                    & 440                    & 454                    & 475                    & 489                    & 517                    & 537                    & ...                    & 676                    & 683                    & 688                    & 693                    & 695                    & 708                    & 727                    & 736                    & 742                    & 743                   \\\\\n",
       "\t Brazil                 & 9250                   & 9150                   & 9200                   & 9440                   & 9540                   & 9560                   & 9720                   & 10000                  & 10.4k                  & ...                    & 12.4k                  & 12.7k                  & 12.9k                  & 13.1k                  & 13.2k                  & 13.4k                  & 13.8k                  & 13.7k                  & 13.5k                  & 13.5k                 \\\\\n",
       "\t Barbados               & 12.4                   & 12.5                   & 12.9                   & 13.6                   & 13.6                   & 13.9                   & 14.3                   & 14.2                   & 14                     & ...                    & 12.9                   & 12.8                   & 12.9                   & 13.1                   & 13.3                   & 13.5                   & 13.7                   & 13.8                   & 14.2                   & 14.9                  \\\\\n",
       "\t Brunei                 & 12.2                   & 12.3                   & 12.5                   & 12.5                   & 12.4                   & 12.5                   & 12.6                   & 12.4                   & 11.9                   & ...                    & 18.1                   & 19.2                   & 20.2                   & 21.1                   & 21.7                   & 22                     & 22.5                   & 23.3                   & 24                     & 24.6                  \\\\\n",
       "\t Bhutan                 & 36.9                   & 35.8                   & 35                     & 34.7                   & 35                     & 35.6                   & 35.4                   & 36.1                   & 36.7                   & ...                    & 38                     & 38.7                   & 39.3                   & 39.7                   & 40.1                   & 40.4                   & 40.5                   & 40.5                   & 40.7                   & 41                    \\\\\n",
       "\t Botswana               & 162                    & 178                    & 200                    & 225                    & 254                    & 284                    & 311                    & 336                    & 363                    & ...                    & 384                    & 387                    & 386                    & 385                    & 384                    & 388                    & 388                    & 395                    & 402                    & 403                   \\\\\n",
       "\t ... & ... & ... & ... & ... & ... & ... & ... & ... & ... &     & ... & ... & ... & ... & ... & ... & ... & ... & ... & ...\\\\\n",
       "\t Syria                          & 292                            & 299                            & 313                            & 303                            & 302                            & 300                            & 300                            & 299                            & 305                            & ...                            & 415                            & 398                            & 364                            & 338                            & 322                            & 311                            & 305                            & 303                            & 309                            & 320                           \\\\\n",
       "\t Chad                           & 356                            & 356                            & 375                            & 399                            & 410                            & 427                            & 467                            & 507                            & 545                            & ...                            & 823                            & 839                            & 850                            & 856                            & 867                            & 879                            & 903                            & 930                            & 964                            & 996                           \\\\\n",
       "\t Togo                           & 200                            & 208                            & 218                            & 229                            & 241                            & 254                            & 269                            & 285                            & 303                            & ...                            & 485                            & 495                            & 501                            & 507                            & 524                            & 537                            & 557                            & 575                            & 582                            & 591                           \\\\\n",
       "\t Thailand                       & 7040                           & 7580                           & 8050                           & 8760                           & 9700                           & 10.8k                          & 11.6k                          & 10.7k                          & 10.3k                          & ...                            & 7030                           & 6920                           & 6840                           & 6650                           & 6690                           & 6810                           & 7030                           & 7090                           & 7150                           & 7110                          \\\\\n",
       "\t Tajikistan                     & 264                            & 267                            & 290                            & 297                            & 325                            & 310                            & 300                            & 288                            & 273                            & ...                            & 342                            & 359                            & 374                            & 382                            & 398                            & 416                            & 443                            & 446                            & 453                            & 464                           \\\\\n",
       "\t Tokelau                        & 0.2                            & 0.19                           & 0.19                           & 0.19                           & 0.19                           & 0.18                           & 0.18                           & 0.18                           & 0.18                           & ...                            & 0.13                           & 0.13                           & 0.13                           & 0.13                           & 0.13                           & 0.13                           & 0.13                           & 0.13                           & 0.13                           & 0.13                          \\\\\n",
       "\t Turkmenistan                   & 268                            & 271                            & 268                            & 301                            & 317                            & 328                            & 365                            & 406                            & 449                            & ...                            & 430                            & 430                            & 428                            & 435                            & 440                            & 443                            & 444                            & 444                            & 442                            & 440                           \\\\\n",
       "\t Timor-Leste                    & 51.7                           & 50.1                           & 51.4                           & 52.1                           & 51                             & 50                             & 48.5                           & 45.2                           & 45.2                           & ...                            & 38.4                           & 44.5                           & 49                             & 51.1                           & 53.7                           & 56                             & 58                             & 59.5                           & 61.3                           & 62.9                          \\\\\n",
       "\t Tonga                          & 3.87                           & 3.88                           & 3.8                            & 3.85                           & 3.9                            & 3.9                            & 3.96                           & 4.07                           & 4.3                            & ...                            & 4.72                           & 4.74                           & 4.75                           & 4.78                           & 4.79                           & 4.79                           & 4.81                           & 4.82                           & 4.82                           & 4.81                          \\\\\n",
       "\t Trinidad and Tobago            & 167                            & 166                            & 171                            & 183                            & 186                            & 186                            & 191                            & 181                            & 188                            & ...                            & 167                            & 159                            & 149                            & 154                            & 154                            & 154                            & 155                            & 156                            & 156                            & 155                           \\\\\n",
       "\t Tunisia                        & 276                            & 292                            & 305                            & 317                            & 322                            & 336                            & 340                            & 348                            & 357                            & ...                            & 406                            & 404                            & 405                            & 405                            & 405                            & 405                            & 405                            & 405                            & 408                            & 410                           \\\\\n",
       "\t Turkey                         & 3050                           & 3140                           & 3210                           & 3280                           & 3360                           & 3390                           & 3330                           & 3230                           & 3180                           & ...                            & 2290                           & 2260                           & 2270                           & 2350                           & 2420                           & 2420                           & 2460                           & 2500                           & 2520                           & 2590                          \\\\\n",
       "\t Tuvalu                         & 1.83                           & 1.8                            & 1.77                           & 1.74                           & 1.7                            & 1.69                           & 1.68                           & 1.69                           & 1.66                           & ...                            & 1.71                           & 1.73                           & 1.75                           & 1.77                           & 1.79                           & 1.81                           & 1.83                           & 1.86                           & 1.87                           & 1.89                          \\\\\n",
       "\t Taiwan                         & 1910                           & 1880                           & 1890                           & 1950                           & 2090                           & 2240                           & 2460                           & 2620                           & 2840                           & ...                            & 4420                           & 4460                           & 4330                           & 4150                           & 4180                           & 4080                           & 4190                           & 4230                           & 4280                           & 4300                          \\\\\n",
       "\t Tanzania                       & 1770                           & 1810                           & 1860                           & 1910                           & 1960                           & 2000                           & 2030                           & 2090                           & 2160                           & ...                            & 2520                           & 2570                           & 2650                           & 2730                           & 2780                           & 2840                           & 2910                           & 3010                           & 3120                           & 3230                          \\\\\n",
       "\t Uganda                         & 935                            & 1030                           & 1090                           & 1180                           & 1270                           & 1350                           & 1450                           & 1530                           & 1630                           & ...                            & 1790                           & 1810                           & 1830                           & 1880                           & 1920                           & 1940                           & 2000                           & 2020                           & 2100                           & 2170                          \\\\\n",
       "\t Ukraine                        & 11.8k                          & 12.9k                          & 14.1k                          & 15.3k                          & 16.8k                          & 18.9k                          & 18.9k                          & 18.3k                          & 17.3k                          & ...                            & 11.1k                          & 10.7k                          & 10.8k                          & 11.2k                          & 10.9k                          & 15.3k                          & 14.9k                          & 14.4k                          & 14k                            & 13.7k                         \\\\\n",
       "\t Uruguay                        & 361                            & 390                            & 402                            & 424                            & 439                            & 460                            & 475                            & 513                            & 556                            & ...                            & 634                            & 661                            & 670                            & 674                            & 676                            & 689                            & 695                            & 688                            & 680                            & 666                           \\\\\n",
       "\t United States                  & 34k                            & 34k                            & 34.1k                          & 34.9k                          & 35.1k                          & 35.2k                          & 34.8k                          & 34.6k                          & 34.4k                          & ...                            & 41.7k                          & 42.8k                          & 43.4k                          & 44k                            & 45k                            & 46.2k                          & 47.6k                          & 46.7k                          & 46k                            & 45.3k                         \\\\\n",
       "\t Uzbekistan                     & 1430                           & 1480                           & 1560                           & 1720                           & 1890                           & 2070                           & 2280                           & 2350                           & 2440                           & ...                            & 2960                           & 3130                           & 3330                           & 3470                           & 3620                           & 3740                           & 3870                           & 3820                           & 3800                           & 3790                          \\\\\n",
       "\t St. Vincent and the Grenadines & 6.05                           & 6.19                           & 6.32                           & 6.43                           & 6.68                           & 6.87                           & 6.9                            & 6.9                            & 7.1                            & ...                            & 7.22                           & 6.96                           & 7.25                           & 7.55                           & 7.57                           & 7.64                           & 7.78                           & 8.04                           & 8.14                           & 8.21                          \\\\\n",
       "\t Venezuela                      & 1050                           & 1150                           & 1250                           & 1380                           & 1550                           & 1670                           & 1720                           & 1720                           & 1880                           & ...                            & 2050                           & 2110                           & 2250                           & 2310                           & 2380                           & 2440                           & 2360                           & 2280                           & 2290                           & 2310                          \\\\\n",
       "\t Virgin Islands (U.S.)          & 7.44                           & 7.53                           & 7.62                           & 7.73                           & 7.92                           & 8.09                           & 8.2                            & 8.27                           & 8.34                           & ...                            & 8.47                           & 8.54                           & 8.65                           & 8.7                            & 8.75                           & 8.83                           & 8.75                           & 8.79                           & 8.8                            & 8.79                          \\\\\n",
       "\t Vietnam                        & 5510                           & 5570                           & 5610                           & 5660                           & 5700                           & 5760                           & 5800                           & 5840                           & 5880                           & ...                            & 7050                           & 7140                           & 7270                           & 7440                           & 7620                           & 7740                           & 7880                           & 8000                           & 8070                           & 8110                          \\\\\n",
       "\t Vanuatu                        & 23.6                           & 26.2                           & 28.5                           & 30.1                           & 31.7                           & 32.4                           & 33.5                           & 34.3                           & 35                             & ...                            & 44                             & 45.4                           & 46.2                           & 46.9                           & 47.6                           & 48.4                           & 49.5                           & 50.5                           & 51.1                           & 51.1                          \\\\\n",
       "\t Samoa                          & 23.5                           & 23.8                           & 24.3                           & 24.7                           & 25                             & 25.2                           & 25.2                           & 25.2                           & 25.1                           & ...                            & 23.2                           & 23.3                           & 23.5                           & 23.7                           & 23.9                           & 24.3                           & 24.7                           & 25.1                           & 25.4                           & 25.4                          \\\\\n",
       "\t Yemen                          & 596                            & 604                            & 618                            & 636                            & 659                            & 676                            & 697                            & 721                            & 748                            & ...                            & 1130                           & 1170                           & 1190                           & 1230                           & 1240                           & 1300                           & 1360                           & 1430                           & 1520                           & 1560                          \\\\\n",
       "\t South Africa                   & 6730                           & 6920                           & 7490                           & 6970                           & 7270                           & 7370                           & 7250                           & 8380                           & 8860                           & ...                            & 8230                           & 7540                           & 7370                           & 7340                           & 7480                           & 7460                           & 7200                           & 7320                           & 7660                           & 7860                          \\\\\n",
       "\t Zambia                         & 584                            & 623                            & 660                            & 694                            & 729                            & 766                            & 792                            & 812                            & 829                            & ...                            & 1080                           & 1110                           & 1130                           & 1170                           & 1210                           & 1250                           & 1290                           & 1340                           & 1370                           & 1400                          \\\\\n",
       "\t Zimbabwe                       & 1020                           & 1040                           & 1100                           & 1120                           & 1190                           & 1240                           & 1230                           & 1260                           & 1340                           & ...                            & 2080                           & 2080                           & 2090                           & 2100                           & 2160                           & 2240                           & 2300                           & 2340                           & 2370                           & 2400                          \\\\\n",
       "\\end{tabular}\n"
      ],
      "text/markdown": [
       "\n",
       "| ï..country | X1990 | X1991 | X1992 | X1993 | X1994 | X1995 | X1996 | X1997 | X1998 | ... | X2010 | X2011 | X2012 | X2013 | X2014 | X2015 | X2016 | X2017 | X2018 | X2019 |\n",
       "|---|---|---|---|---|---|---|---|---|---|---|---|---|---|---|---|---|---|---|---|---|\n",
       "| Afghanistan            | 696                    | 751                    | 855                    | 943                    | 993                    | 1030                   | 1070                   | 1100                   | 1110                   | ...                    | 1370                   | 1390                   | 1410                   | 1430                   | 1440                   | 1470                   | 1500                   | 1550                   | 1580                   | 1610                   |\n",
       "| Angola                 | 973                    | 991                    | 1020                   | 1070                   | 1110                   | 1120                   | 1080                   | 1090                   | 1160                   | ...                    | 1500                   | 1550                   | 1600                   | 1640                   | 1650                   | 1690                   | 1720                   | 1800                   | 1870                   | 1930                   |\n",
       "| Albania                | 125                    | 136                    | 132                    | 131                    | 125                    | 133                    | 141                    | 158                    | 170                    | ...                    | 160                    | 160                    | 158                    | 157                    | 158                    | 160                    | 158                    | 156                    | 154                    | 152                    |\n",
       "| Andorra                | 5.96                   | 6.46                   | 6.81                   | 7.25                   | 7.24                   | 7.11                   | 7.09                   | 7                      | 6.97                   | ...                    | 8.08                   | 7.46                   | 7.28                   | 7.29                   | 7.49                   | 7.56                   | 7.63                   | 7.81                   | 7.98                   | 8.13                   |\n",
       "| United Arab Emirates   | 114                    | 121                    | 130                    | 140                    | 147                    | 161                    | 170                    | 181                    | 190                    | ...                    | 541                    | 562                    | 580                    | 610                    | 636                    | 645                    | 648                    | 648                    | 655                    | 664                    |\n",
       "| Argentina              | 2760                   | 2870                   | 3070                   | 3190                   | 3340                   | 3500                   | 3710                   | 3970                   | 4160                   | ...                    | 4580                   | 4680                   | 4780                   | 4840                   | 4810                   | 4770                   | 4930                   | 4980                   | 5010                   | 5030                   |\n",
       "| Armenia                | 105                    | 110                    | 128                    | 142                    | 148                    | 142                    | 139                    | 134                    | 129                    | ...                    | 296                    | 306                    | 308                    | 299                    | 297                    | 302                    | 297                    | 289                    | 289                    | 287                    |\n",
       "| American Samoa         | 3.05                   | 3.14                   | 3.22                   | 3.26                   | 3.34                   | 3.42                   | 3.47                   | 3.52                   | 3.49                   | ...                    | 3.29                   | 3.38                   | 3.46                   | 3.57                   | 3.68                   | 3.78                   | 3.9                    | 3.92                   | 3.93                   | 3.95                   |\n",
       "| Antigua and Barbuda    | 1.35                   | 1.37                   | 1.41                   | 1.48                   | 1.52                   | 1.58                   | 1.7                    | 1.77                   | 1.84                   | ...                    | 2.47                   | 2.52                   | 2.56                   | 2.58                   | 2.63                   | 2.66                   | 2.69                   | 2.67                   | 2.69                   | 2.74                   |\n",
       "| Australia              | 2340                   | 2360                   | 2390                   | 2380                   | 2470                   | 2530                   | 2600                   | 2680                   | 2720                   | ...                    | 2670                   | 2690                   | 2720                   | 2770                   | 2910                   | 3010                   | 2930                   | 2860                   | 2880                   | 2900                   |\n",
       "| Austria                | 1860                   | 1860                   | 1830                   | 1820                   | 1810                   | 1780                   | 1740                   | 1660                   | 1610                   | ...                    | 1450                   | 1450                   | 1450                   | 1450                   | 1450                   | 1470                   | 1460                   | 1440                   | 1430                   | 1420                   |\n",
       "| Azerbaijan             | 224                    | 231                    | 272                    | 275                    | 272                    | 220                    | 198                    | 198                    | 202                    | ...                    | 408                    | 406                    | 398                    | 394                    | 387                    | 376                    | 368                    | 369                    | 375                    | 379                    |\n",
       "| Burundi                | 615                    | 617                    | 619                    | 644                    | 656                    | 657                    | 658                    | 656                    | 651                    | ...                    | 648                    | 661                    | 678                    | 690                    | 696                    | 702                    | 714                    | 737                    | 774                    | 800                    |\n",
       "| Belgium                | 2190                   | 2190                   | 2250                   | 2310                   | 2340                   | 2350                   | 2330                   | 2340                   | 2330                   | ...                    | 2360                   | 2370                   | 2360                   | 2320                   | 2260                   | 2250                   | 2230                   | 2240                   | 2230                   | 2210                   |\n",
       "| Benin                  | 282                    | 292                    | 303                    | 315                    | 332                    | 349                    | 367                    | 383                    | 400                    | ...                    | 582                    | 607                    | 623                    | 640                    | 658                    | 668                    | 690                    | 714                    | 723                    | 742                    |\n",
       "| Burkina Faso           | 700                    | 700                    | 711                    | 727                    | 743                    | 763                    | 774                    | 797                    | 822                    | ...                    | 1070                   | 1100                   | 1170                   | 1230                   | 1300                   | 1350                   | 1420                   | 1480                   | 1530                   | 1550                   |\n",
       "| Bangladesh             | 10.9k                  | 10.3k                  | 10.5k                  | 10.5k                  | 10.5k                  | 10.7k                  | 10.5k                  | 10.1k                  | 9690                   | ...                    | 8130                   | 7530                   | 7120                   | 6950                   | 6970                   | 6860                   | 6890                   | 7100                   | 7210                   | 7370                   |\n",
       "| Bulgaria               | 1790                   | 1820                   | 1950                   | 2040                   | 2150                   | 2170                   | 2180                   | 2230                   | 2160                   | ...                    | 1200                   | 1150                   | 1110                   | 1070                   | 1080                   | 1060                   | 1080                   | 1080                   | 1090                   | 1090                   |\n",
       "| Bahrain                | 27.6                   | 28.8                   | 29.4                   | 30.4                   | 31.4                   | 32.2                   | 33.4                   | 34                     | 36.9                   | ...                    | 86.2                   | 85.5                   | 85.2                   | 83.8                   | 84.7                   | 83.7                   | 80.8                   | 79.2                   | 78                     | 77.3                   |\n",
       "| Bahamas                | 6.78                   | 7.14                   | 7.38                   | 7.78                   | 7.92                   | 8.33                   | 8.46                   | 8.6                    | 8.71                   | ...                    | 10.4                   | 10.5                   | 10.5                   | 10.4                   | 10.7                   | 11                     | 11.2                   | 11.3                   | 11.5                   | 11.7                   |\n",
       "| Bosnia and Herzegovina | 471                    | 549                    | 540                    | 502                    | 481                    | 451                    | 428                    | 424                    | 404                    | ...                    | 414                    | 409                    | 396                    | 397                    | 392                    | 393                    | 379                    | 372                    | 369                    | 366                    |\n",
       "| Belarus                | 2340                   | 2520                   | 2770                   | 3220                   | 3410                   | 3710                   | 3780                   | 3960                   | 4170                   | ...                    | 3420                   | 3400                   | 2820                   | 2620                   | 2480                   | 2350                   | 2300                   | 2320                   | 2320                   | 2270                   |\n",
       "| Belize                 | 7.44                   | 8.43                   | 8.96                   | 9.41                   | 9.8                    | 11.9                   | 12.9                   | 14.3                   | 15.4                   | ...                    | 20.2                   | 21.4                   | 21.4                   | 21.8                   | 22.3                   | 23.2                   | 24.3                   | 26                     | 26.8                   | 27.7                   |\n",
       "| Bermuda                | 3.82                   | 3.8                    | 3.66                   | 3.56                   | 3.46                   | 3.44                   | 3.26                   | 3.24                   | 3.19                   | ...                    | 2.9                    | 2.89                   | 2.9                    | 2.92                   | 2.88                   | 2.86                   | 2.86                   | 2.88                   | 2.89                   | 2.87                   |\n",
       "| Bolivia                | 390                    | 405                    | 421                    | 440                    | 454                    | 475                    | 489                    | 517                    | 537                    | ...                    | 676                    | 683                    | 688                    | 693                    | 695                    | 708                    | 727                    | 736                    | 742                    | 743                    |\n",
       "| Brazil                 | 9250                   | 9150                   | 9200                   | 9440                   | 9540                   | 9560                   | 9720                   | 10000                  | 10.4k                  | ...                    | 12.4k                  | 12.7k                  | 12.9k                  | 13.1k                  | 13.2k                  | 13.4k                  | 13.8k                  | 13.7k                  | 13.5k                  | 13.5k                  |\n",
       "| Barbados               | 12.4                   | 12.5                   | 12.9                   | 13.6                   | 13.6                   | 13.9                   | 14.3                   | 14.2                   | 14                     | ...                    | 12.9                   | 12.8                   | 12.9                   | 13.1                   | 13.3                   | 13.5                   | 13.7                   | 13.8                   | 14.2                   | 14.9                   |\n",
       "| Brunei                 | 12.2                   | 12.3                   | 12.5                   | 12.5                   | 12.4                   | 12.5                   | 12.6                   | 12.4                   | 11.9                   | ...                    | 18.1                   | 19.2                   | 20.2                   | 21.1                   | 21.7                   | 22                     | 22.5                   | 23.3                   | 24                     | 24.6                   |\n",
       "| Bhutan                 | 36.9                   | 35.8                   | 35                     | 34.7                   | 35                     | 35.6                   | 35.4                   | 36.1                   | 36.7                   | ...                    | 38                     | 38.7                   | 39.3                   | 39.7                   | 40.1                   | 40.4                   | 40.5                   | 40.5                   | 40.7                   | 41                     |\n",
       "| Botswana               | 162                    | 178                    | 200                    | 225                    | 254                    | 284                    | 311                    | 336                    | 363                    | ...                    | 384                    | 387                    | 386                    | 385                    | 384                    | 388                    | 388                    | 395                    | 402                    | 403                    |\n",
       "| ... | ... | ... | ... | ... | ... | ... | ... | ... | ... |     | ... | ... | ... | ... | ... | ... | ... | ... | ... | ... |\n",
       "| Syria                          | 292                            | 299                            | 313                            | 303                            | 302                            | 300                            | 300                            | 299                            | 305                            | ...                            | 415                            | 398                            | 364                            | 338                            | 322                            | 311                            | 305                            | 303                            | 309                            | 320                            |\n",
       "| Chad                           | 356                            | 356                            | 375                            | 399                            | 410                            | 427                            | 467                            | 507                            | 545                            | ...                            | 823                            | 839                            | 850                            | 856                            | 867                            | 879                            | 903                            | 930                            | 964                            | 996                            |\n",
       "| Togo                           | 200                            | 208                            | 218                            | 229                            | 241                            | 254                            | 269                            | 285                            | 303                            | ...                            | 485                            | 495                            | 501                            | 507                            | 524                            | 537                            | 557                            | 575                            | 582                            | 591                            |\n",
       "| Thailand                       | 7040                           | 7580                           | 8050                           | 8760                           | 9700                           | 10.8k                          | 11.6k                          | 10.7k                          | 10.3k                          | ...                            | 7030                           | 6920                           | 6840                           | 6650                           | 6690                           | 6810                           | 7030                           | 7090                           | 7150                           | 7110                           |\n",
       "| Tajikistan                     | 264                            | 267                            | 290                            | 297                            | 325                            | 310                            | 300                            | 288                            | 273                            | ...                            | 342                            | 359                            | 374                            | 382                            | 398                            | 416                            | 443                            | 446                            | 453                            | 464                            |\n",
       "| Tokelau                        | 0.2                            | 0.19                           | 0.19                           | 0.19                           | 0.19                           | 0.18                           | 0.18                           | 0.18                           | 0.18                           | ...                            | 0.13                           | 0.13                           | 0.13                           | 0.13                           | 0.13                           | 0.13                           | 0.13                           | 0.13                           | 0.13                           | 0.13                           |\n",
       "| Turkmenistan                   | 268                            | 271                            | 268                            | 301                            | 317                            | 328                            | 365                            | 406                            | 449                            | ...                            | 430                            | 430                            | 428                            | 435                            | 440                            | 443                            | 444                            | 444                            | 442                            | 440                            |\n",
       "| Timor-Leste                    | 51.7                           | 50.1                           | 51.4                           | 52.1                           | 51                             | 50                             | 48.5                           | 45.2                           | 45.2                           | ...                            | 38.4                           | 44.5                           | 49                             | 51.1                           | 53.7                           | 56                             | 58                             | 59.5                           | 61.3                           | 62.9                           |\n",
       "| Tonga                          | 3.87                           | 3.88                           | 3.8                            | 3.85                           | 3.9                            | 3.9                            | 3.96                           | 4.07                           | 4.3                            | ...                            | 4.72                           | 4.74                           | 4.75                           | 4.78                           | 4.79                           | 4.79                           | 4.81                           | 4.82                           | 4.82                           | 4.81                           |\n",
       "| Trinidad and Tobago            | 167                            | 166                            | 171                            | 183                            | 186                            | 186                            | 191                            | 181                            | 188                            | ...                            | 167                            | 159                            | 149                            | 154                            | 154                            | 154                            | 155                            | 156                            | 156                            | 155                            |\n",
       "| Tunisia                        | 276                            | 292                            | 305                            | 317                            | 322                            | 336                            | 340                            | 348                            | 357                            | ...                            | 406                            | 404                            | 405                            | 405                            | 405                            | 405                            | 405                            | 405                            | 408                            | 410                            |\n",
       "| Turkey                         | 3050                           | 3140                           | 3210                           | 3280                           | 3360                           | 3390                           | 3330                           | 3230                           | 3180                           | ...                            | 2290                           | 2260                           | 2270                           | 2350                           | 2420                           | 2420                           | 2460                           | 2500                           | 2520                           | 2590                           |\n",
       "| Tuvalu                         | 1.83                           | 1.8                            | 1.77                           | 1.74                           | 1.7                            | 1.69                           | 1.68                           | 1.69                           | 1.66                           | ...                            | 1.71                           | 1.73                           | 1.75                           | 1.77                           | 1.79                           | 1.81                           | 1.83                           | 1.86                           | 1.87                           | 1.89                           |\n",
       "| Taiwan                         | 1910                           | 1880                           | 1890                           | 1950                           | 2090                           | 2240                           | 2460                           | 2620                           | 2840                           | ...                            | 4420                           | 4460                           | 4330                           | 4150                           | 4180                           | 4080                           | 4190                           | 4230                           | 4280                           | 4300                           |\n",
       "| Tanzania                       | 1770                           | 1810                           | 1860                           | 1910                           | 1960                           | 2000                           | 2030                           | 2090                           | 2160                           | ...                            | 2520                           | 2570                           | 2650                           | 2730                           | 2780                           | 2840                           | 2910                           | 3010                           | 3120                           | 3230                           |\n",
       "| Uganda                         | 935                            | 1030                           | 1090                           | 1180                           | 1270                           | 1350                           | 1450                           | 1530                           | 1630                           | ...                            | 1790                           | 1810                           | 1830                           | 1880                           | 1920                           | 1940                           | 2000                           | 2020                           | 2100                           | 2170                           |\n",
       "| Ukraine                        | 11.8k                          | 12.9k                          | 14.1k                          | 15.3k                          | 16.8k                          | 18.9k                          | 18.9k                          | 18.3k                          | 17.3k                          | ...                            | 11.1k                          | 10.7k                          | 10.8k                          | 11.2k                          | 10.9k                          | 15.3k                          | 14.9k                          | 14.4k                          | 14k                            | 13.7k                          |\n",
       "| Uruguay                        | 361                            | 390                            | 402                            | 424                            | 439                            | 460                            | 475                            | 513                            | 556                            | ...                            | 634                            | 661                            | 670                            | 674                            | 676                            | 689                            | 695                            | 688                            | 680                            | 666                            |\n",
       "| United States                  | 34k                            | 34k                            | 34.1k                          | 34.9k                          | 35.1k                          | 35.2k                          | 34.8k                          | 34.6k                          | 34.4k                          | ...                            | 41.7k                          | 42.8k                          | 43.4k                          | 44k                            | 45k                            | 46.2k                          | 47.6k                          | 46.7k                          | 46k                            | 45.3k                          |\n",
       "| Uzbekistan                     | 1430                           | 1480                           | 1560                           | 1720                           | 1890                           | 2070                           | 2280                           | 2350                           | 2440                           | ...                            | 2960                           | 3130                           | 3330                           | 3470                           | 3620                           | 3740                           | 3870                           | 3820                           | 3800                           | 3790                           |\n",
       "| St. Vincent and the Grenadines | 6.05                           | 6.19                           | 6.32                           | 6.43                           | 6.68                           | 6.87                           | 6.9                            | 6.9                            | 7.1                            | ...                            | 7.22                           | 6.96                           | 7.25                           | 7.55                           | 7.57                           | 7.64                           | 7.78                           | 8.04                           | 8.14                           | 8.21                           |\n",
       "| Venezuela                      | 1050                           | 1150                           | 1250                           | 1380                           | 1550                           | 1670                           | 1720                           | 1720                           | 1880                           | ...                            | 2050                           | 2110                           | 2250                           | 2310                           | 2380                           | 2440                           | 2360                           | 2280                           | 2290                           | 2310                           |\n",
       "| Virgin Islands (U.S.)          | 7.44                           | 7.53                           | 7.62                           | 7.73                           | 7.92                           | 8.09                           | 8.2                            | 8.27                           | 8.34                           | ...                            | 8.47                           | 8.54                           | 8.65                           | 8.7                            | 8.75                           | 8.83                           | 8.75                           | 8.79                           | 8.8                            | 8.79                           |\n",
       "| Vietnam                        | 5510                           | 5570                           | 5610                           | 5660                           | 5700                           | 5760                           | 5800                           | 5840                           | 5880                           | ...                            | 7050                           | 7140                           | 7270                           | 7440                           | 7620                           | 7740                           | 7880                           | 8000                           | 8070                           | 8110                           |\n",
       "| Vanuatu                        | 23.6                           | 26.2                           | 28.5                           | 30.1                           | 31.7                           | 32.4                           | 33.5                           | 34.3                           | 35                             | ...                            | 44                             | 45.4                           | 46.2                           | 46.9                           | 47.6                           | 48.4                           | 49.5                           | 50.5                           | 51.1                           | 51.1                           |\n",
       "| Samoa                          | 23.5                           | 23.8                           | 24.3                           | 24.7                           | 25                             | 25.2                           | 25.2                           | 25.2                           | 25.1                           | ...                            | 23.2                           | 23.3                           | 23.5                           | 23.7                           | 23.9                           | 24.3                           | 24.7                           | 25.1                           | 25.4                           | 25.4                           |\n",
       "| Yemen                          | 596                            | 604                            | 618                            | 636                            | 659                            | 676                            | 697                            | 721                            | 748                            | ...                            | 1130                           | 1170                           | 1190                           | 1230                           | 1240                           | 1300                           | 1360                           | 1430                           | 1520                           | 1560                           |\n",
       "| South Africa                   | 6730                           | 6920                           | 7490                           | 6970                           | 7270                           | 7370                           | 7250                           | 8380                           | 8860                           | ...                            | 8230                           | 7540                           | 7370                           | 7340                           | 7480                           | 7460                           | 7200                           | 7320                           | 7660                           | 7860                           |\n",
       "| Zambia                         | 584                            | 623                            | 660                            | 694                            | 729                            | 766                            | 792                            | 812                            | 829                            | ...                            | 1080                           | 1110                           | 1130                           | 1170                           | 1210                           | 1250                           | 1290                           | 1340                           | 1370                           | 1400                           |\n",
       "| Zimbabwe                       | 1020                           | 1040                           | 1100                           | 1120                           | 1190                           | 1240                           | 1230                           | 1260                           | 1340                           | ...                            | 2080                           | 2080                           | 2090                           | 2100                           | 2160                           | 2240                           | 2300                           | 2340                           | 2370                           | 2400                           |\n",
       "\n"
      ],
      "text/plain": [
       "    ï..country                     X1990 X1991 X1992 X1993 X1994 X1995 X1996\n",
       "1   Afghanistan                    696   751   855   943   993   1030  1070 \n",
       "2   Angola                         973   991   1020  1070  1110  1120  1080 \n",
       "3   Albania                        125   136   132   131   125   133   141  \n",
       "4   Andorra                        5.96  6.46  6.81  7.25  7.24  7.11  7.09 \n",
       "5   United Arab Emirates           114   121   130   140   147   161   170  \n",
       "6   Argentina                      2760  2870  3070  3190  3340  3500  3710 \n",
       "7   Armenia                        105   110   128   142   148   142   139  \n",
       "8   American Samoa                 3.05  3.14  3.22  3.26  3.34  3.42  3.47 \n",
       "9   Antigua and Barbuda            1.35  1.37  1.41  1.48  1.52  1.58  1.7  \n",
       "10  Australia                      2340  2360  2390  2380  2470  2530  2600 \n",
       "11  Austria                        1860  1860  1830  1820  1810  1780  1740 \n",
       "12  Azerbaijan                     224   231   272   275   272   220   198  \n",
       "13  Burundi                        615   617   619   644   656   657   658  \n",
       "14  Belgium                        2190  2190  2250  2310  2340  2350  2330 \n",
       "15  Benin                          282   292   303   315   332   349   367  \n",
       "16  Burkina Faso                   700   700   711   727   743   763   774  \n",
       "17  Bangladesh                     10.9k 10.3k 10.5k 10.5k 10.5k 10.7k 10.5k\n",
       "18  Bulgaria                       1790  1820  1950  2040  2150  2170  2180 \n",
       "19  Bahrain                        27.6  28.8  29.4  30.4  31.4  32.2  33.4 \n",
       "20  Bahamas                        6.78  7.14  7.38  7.78  7.92  8.33  8.46 \n",
       "21  Bosnia and Herzegovina         471   549   540   502   481   451   428  \n",
       "22  Belarus                        2340  2520  2770  3220  3410  3710  3780 \n",
       "23  Belize                         7.44  8.43  8.96  9.41  9.8   11.9  12.9 \n",
       "24  Bermuda                        3.82  3.8   3.66  3.56  3.46  3.44  3.26 \n",
       "25  Bolivia                        390   405   421   440   454   475   489  \n",
       "26  Brazil                         9250  9150  9200  9440  9540  9560  9720 \n",
       "27  Barbados                       12.4  12.5  12.9  13.6  13.6  13.9  14.3 \n",
       "28  Brunei                         12.2  12.3  12.5  12.5  12.4  12.5  12.6 \n",
       "29  Bhutan                         36.9  35.8  35    34.7  35    35.6  35.4 \n",
       "30  Botswana                       162   178   200   225   254   284   311  \n",
       "... ...                            ...   ...   ...   ...   ...   ...   ...  \n",
       "175 Syria                          292   299   313   303   302   300   300  \n",
       "176 Chad                           356   356   375   399   410   427   467  \n",
       "177 Togo                           200   208   218   229   241   254   269  \n",
       "178 Thailand                       7040  7580  8050  8760  9700  10.8k 11.6k\n",
       "179 Tajikistan                     264   267   290   297   325   310   300  \n",
       "180 Tokelau                        0.2   0.19  0.19  0.19  0.19  0.18  0.18 \n",
       "181 Turkmenistan                   268   271   268   301   317   328   365  \n",
       "182 Timor-Leste                    51.7  50.1  51.4  52.1  51    50    48.5 \n",
       "183 Tonga                          3.87  3.88  3.8   3.85  3.9   3.9   3.96 \n",
       "184 Trinidad and Tobago            167   166   171   183   186   186   191  \n",
       "185 Tunisia                        276   292   305   317   322   336   340  \n",
       "186 Turkey                         3050  3140  3210  3280  3360  3390  3330 \n",
       "187 Tuvalu                         1.83  1.8   1.77  1.74  1.7   1.69  1.68 \n",
       "188 Taiwan                         1910  1880  1890  1950  2090  2240  2460 \n",
       "189 Tanzania                       1770  1810  1860  1910  1960  2000  2030 \n",
       "190 Uganda                         935   1030  1090  1180  1270  1350  1450 \n",
       "191 Ukraine                        11.8k 12.9k 14.1k 15.3k 16.8k 18.9k 18.9k\n",
       "192 Uruguay                        361   390   402   424   439   460   475  \n",
       "193 United States                  34k   34k   34.1k 34.9k 35.1k 35.2k 34.8k\n",
       "194 Uzbekistan                     1430  1480  1560  1720  1890  2070  2280 \n",
       "195 St. Vincent and the Grenadines 6.05  6.19  6.32  6.43  6.68  6.87  6.9  \n",
       "196 Venezuela                      1050  1150  1250  1380  1550  1670  1720 \n",
       "197 Virgin Islands (U.S.)          7.44  7.53  7.62  7.73  7.92  8.09  8.2  \n",
       "198 Vietnam                        5510  5570  5610  5660  5700  5760  5800 \n",
       "199 Vanuatu                        23.6  26.2  28.5  30.1  31.7  32.4  33.5 \n",
       "200 Samoa                          23.5  23.8  24.3  24.7  25    25.2  25.2 \n",
       "201 Yemen                          596   604   618   636   659   676   697  \n",
       "202 South Africa                   6730  6920  7490  6970  7270  7370  7250 \n",
       "203 Zambia                         584   623   660   694   729   766   792  \n",
       "204 Zimbabwe                       1020  1040  1100  1120  1190  1240  1230 \n",
       "    X1997 X1998 ... X2010 X2011 X2012 X2013 X2014 X2015 X2016 X2017 X2018 X2019\n",
       "1   1100  1110  ... 1370  1390  1410  1430  1440  1470  1500  1550  1580  1610 \n",
       "2   1090  1160  ... 1500  1550  1600  1640  1650  1690  1720  1800  1870  1930 \n",
       "3   158   170   ... 160   160   158   157   158   160   158   156   154   152  \n",
       "4   7     6.97  ... 8.08  7.46  7.28  7.29  7.49  7.56  7.63  7.81  7.98  8.13 \n",
       "5   181   190   ... 541   562   580   610   636   645   648   648   655   664  \n",
       "6   3970  4160  ... 4580  4680  4780  4840  4810  4770  4930  4980  5010  5030 \n",
       "7   134   129   ... 296   306   308   299   297   302   297   289   289   287  \n",
       "8   3.52  3.49  ... 3.29  3.38  3.46  3.57  3.68  3.78  3.9   3.92  3.93  3.95 \n",
       "9   1.77  1.84  ... 2.47  2.52  2.56  2.58  2.63  2.66  2.69  2.67  2.69  2.74 \n",
       "10  2680  2720  ... 2670  2690  2720  2770  2910  3010  2930  2860  2880  2900 \n",
       "11  1660  1610  ... 1450  1450  1450  1450  1450  1470  1460  1440  1430  1420 \n",
       "12  198   202   ... 408   406   398   394   387   376   368   369   375   379  \n",
       "13  656   651   ... 648   661   678   690   696   702   714   737   774   800  \n",
       "14  2340  2330  ... 2360  2370  2360  2320  2260  2250  2230  2240  2230  2210 \n",
       "15  383   400   ... 582   607   623   640   658   668   690   714   723   742  \n",
       "16  797   822   ... 1070  1100  1170  1230  1300  1350  1420  1480  1530  1550 \n",
       "17  10.1k 9690  ... 8130  7530  7120  6950  6970  6860  6890  7100  7210  7370 \n",
       "18  2230  2160  ... 1200  1150  1110  1070  1080  1060  1080  1080  1090  1090 \n",
       "19  34    36.9  ... 86.2  85.5  85.2  83.8  84.7  83.7  80.8  79.2  78    77.3 \n",
       "20  8.6   8.71  ... 10.4  10.5  10.5  10.4  10.7  11    11.2  11.3  11.5  11.7 \n",
       "21  424   404   ... 414   409   396   397   392   393   379   372   369   366  \n",
       "22  3960  4170  ... 3420  3400  2820  2620  2480  2350  2300  2320  2320  2270 \n",
       "23  14.3  15.4  ... 20.2  21.4  21.4  21.8  22.3  23.2  24.3  26    26.8  27.7 \n",
       "24  3.24  3.19  ... 2.9   2.89  2.9   2.92  2.88  2.86  2.86  2.88  2.89  2.87 \n",
       "25  517   537   ... 676   683   688   693   695   708   727   736   742   743  \n",
       "26  10000 10.4k ... 12.4k 12.7k 12.9k 13.1k 13.2k 13.4k 13.8k 13.7k 13.5k 13.5k\n",
       "27  14.2  14    ... 12.9  12.8  12.9  13.1  13.3  13.5  13.7  13.8  14.2  14.9 \n",
       "28  12.4  11.9  ... 18.1  19.2  20.2  21.1  21.7  22    22.5  23.3  24    24.6 \n",
       "29  36.1  36.7  ... 38    38.7  39.3  39.7  40.1  40.4  40.5  40.5  40.7  41   \n",
       "30  336   363   ... 384   387   386   385   384   388   388   395   402   403  \n",
       "... ...   ...       ...   ...   ...   ...   ...   ...   ...   ...   ...   ...  \n",
       "175 299   305   ... 415   398   364   338   322   311   305   303   309   320  \n",
       "176 507   545   ... 823   839   850   856   867   879   903   930   964   996  \n",
       "177 285   303   ... 485   495   501   507   524   537   557   575   582   591  \n",
       "178 10.7k 10.3k ... 7030  6920  6840  6650  6690  6810  7030  7090  7150  7110 \n",
       "179 288   273   ... 342   359   374   382   398   416   443   446   453   464  \n",
       "180 0.18  0.18  ... 0.13  0.13  0.13  0.13  0.13  0.13  0.13  0.13  0.13  0.13 \n",
       "181 406   449   ... 430   430   428   435   440   443   444   444   442   440  \n",
       "182 45.2  45.2  ... 38.4  44.5  49    51.1  53.7  56    58    59.5  61.3  62.9 \n",
       "183 4.07  4.3   ... 4.72  4.74  4.75  4.78  4.79  4.79  4.81  4.82  4.82  4.81 \n",
       "184 181   188   ... 167   159   149   154   154   154   155   156   156   155  \n",
       "185 348   357   ... 406   404   405   405   405   405   405   405   408   410  \n",
       "186 3230  3180  ... 2290  2260  2270  2350  2420  2420  2460  2500  2520  2590 \n",
       "187 1.69  1.66  ... 1.71  1.73  1.75  1.77  1.79  1.81  1.83  1.86  1.87  1.89 \n",
       "188 2620  2840  ... 4420  4460  4330  4150  4180  4080  4190  4230  4280  4300 \n",
       "189 2090  2160  ... 2520  2570  2650  2730  2780  2840  2910  3010  3120  3230 \n",
       "190 1530  1630  ... 1790  1810  1830  1880  1920  1940  2000  2020  2100  2170 \n",
       "191 18.3k 17.3k ... 11.1k 10.7k 10.8k 11.2k 10.9k 15.3k 14.9k 14.4k 14k   13.7k\n",
       "192 513   556   ... 634   661   670   674   676   689   695   688   680   666  \n",
       "193 34.6k 34.4k ... 41.7k 42.8k 43.4k 44k   45k   46.2k 47.6k 46.7k 46k   45.3k\n",
       "194 2350  2440  ... 2960  3130  3330  3470  3620  3740  3870  3820  3800  3790 \n",
       "195 6.9   7.1   ... 7.22  6.96  7.25  7.55  7.57  7.64  7.78  8.04  8.14  8.21 \n",
       "196 1720  1880  ... 2050  2110  2250  2310  2380  2440  2360  2280  2290  2310 \n",
       "197 8.27  8.34  ... 8.47  8.54  8.65  8.7   8.75  8.83  8.75  8.79  8.8   8.79 \n",
       "198 5840  5880  ... 7050  7140  7270  7440  7620  7740  7880  8000  8070  8110 \n",
       "199 34.3  35    ... 44    45.4  46.2  46.9  47.6  48.4  49.5  50.5  51.1  51.1 \n",
       "200 25.2  25.1  ... 23.2  23.3  23.5  23.7  23.9  24.3  24.7  25.1  25.4  25.4 \n",
       "201 721   748   ... 1130  1170  1190  1230  1240  1300  1360  1430  1520  1560 \n",
       "202 8380  8860  ... 8230  7540  7370  7340  7480  7460  7200  7320  7660  7860 \n",
       "203 812   829   ... 1080  1110  1130  1170  1210  1250  1290  1340  1370  1400 \n",
       "204 1260  1340  ... 2080  2080  2090  2100  2160  2240  2300  2340  2370  2400 "
      ]
     },
     "metadata": {},
     "output_type": "display_data"
    }
   ],
   "source": [
    "Suicide_rates\n"
   ]
  },
  {
   "cell_type": "code",
   "execution_count": 36,
   "id": "f4f1be5d",
   "metadata": {},
   "outputs": [
    {
     "data": {
      "text/html": [
       "'C:/Users/VATSALA NEMA/Documents/SEM 8/Biostatistics/Biostatistics'"
      ],
      "text/latex": [
       "'C:/Users/VATSALA NEMA/Documents/SEM 8/Biostatistics/Biostatistics'"
      ],
      "text/markdown": [
       "'C:/Users/VATSALA NEMA/Documents/SEM 8/Biostatistics/Biostatistics'"
      ],
      "text/plain": [
       "[1] \"C:/Users/VATSALA NEMA/Documents/SEM 8/Biostatistics/Biostatistics\""
      ]
     },
     "metadata": {},
     "output_type": "display_data"
    }
   ],
   "source": [
    "getwd()\n"
   ]
  },
  {
   "cell_type": "code",
   "execution_count": 37,
   "id": "1560d49d",
   "metadata": {},
   "outputs": [],
   "source": [
    "lifeExpectancyInYears <- read.csv(\"life_expectancy_years.csv\", header = T)\n"
   ]
  },
  {
   "cell_type": "code",
   "execution_count": 38,
   "id": "023e76ac",
   "metadata": {},
   "outputs": [
    {
     "data": {
      "text/html": [
       "<ol class=list-inline>\n",
       "\t<li>195</li>\n",
       "\t<li>302</li>\n",
       "</ol>\n"
      ],
      "text/latex": [
       "\\begin{enumerate*}\n",
       "\\item 195\n",
       "\\item 302\n",
       "\\end{enumerate*}\n"
      ],
      "text/markdown": [
       "1. 195\n",
       "2. 302\n",
       "\n",
       "\n"
      ],
      "text/plain": [
       "[1] 195 302"
      ]
     },
     "metadata": {},
     "output_type": "display_data"
    },
    {
     "data": {
      "text/html": [
       "<table>\n",
       "<thead><tr><th scope=col>ï..country</th><th scope=col>X1800</th><th scope=col>X1801</th><th scope=col>X1802</th><th scope=col>X1803</th><th scope=col>X1804</th><th scope=col>X1805</th><th scope=col>X1806</th><th scope=col>X1807</th><th scope=col>X1808</th><th scope=col>...</th><th scope=col>X2091</th><th scope=col>X2092</th><th scope=col>X2093</th><th scope=col>X2094</th><th scope=col>X2095</th><th scope=col>X2096</th><th scope=col>X2097</th><th scope=col>X2098</th><th scope=col>X2099</th><th scope=col>X2100</th></tr></thead>\n",
       "<tbody>\n",
       "\t<tr><td>Afghanistan         </td><td>28.2                </td><td>28.2                </td><td>28.2                </td><td>28.2                </td><td>28.2                </td><td>28.2                </td><td>28.1                </td><td>28.1                </td><td>28.1                </td><td>...                 </td><td>75.5                </td><td>75.7                </td><td>75.8                </td><td>76.0                </td><td>76.1                </td><td>76.2                </td><td>76.4                </td><td>76.5                </td><td>76.6                </td><td>76.8                </td></tr>\n",
       "\t<tr><td>Angola              </td><td>27.0                </td><td>27.0                </td><td>27.0                </td><td>27.0                </td><td>27.0                </td><td>27.0                </td><td>27.0                </td><td>27.0                </td><td>27.0                </td><td>...                 </td><td>78.8                </td><td>79.0                </td><td>79.1                </td><td>79.2                </td><td>79.3                </td><td>79.5                </td><td>79.6                </td><td>79.7                </td><td>79.9                </td><td>80.0                </td></tr>\n",
       "\t<tr><td>Albania             </td><td>35.4                </td><td>35.4                </td><td>35.4                </td><td>35.4                </td><td>35.4                </td><td>35.4                </td><td>35.4                </td><td>35.4                </td><td>35.4                </td><td>...                 </td><td>87.4                </td><td>87.5                </td><td>87.6                </td><td>87.7                </td><td>87.8                </td><td>87.9                </td><td>88.0                </td><td>88.2                </td><td>88.3                </td><td>88.4                </td></tr>\n",
       "\t<tr><td>Andorra             </td><td>  NA                </td><td>  NA                </td><td>  NA                </td><td>  NA                </td><td>  NA                </td><td>  NA                </td><td>  NA                </td><td>  NA                </td><td>  NA                </td><td>...                 </td><td>  NA                </td><td>  NA                </td><td>  NA                </td><td>  NA                </td><td>  NA                </td><td>  NA                </td><td>  NA                </td><td>  NA                </td><td>  NA                </td><td>  NA                </td></tr>\n",
       "\t<tr><td>United Arab Emirates</td><td>30.7                </td><td>30.7                </td><td>30.7                </td><td>30.7                </td><td>30.7                </td><td>30.7                </td><td>30.7                </td><td>30.7                </td><td>30.7                </td><td>...                 </td><td>82.4                </td><td>82.5                </td><td>82.6                </td><td>82.7                </td><td>82.8                </td><td>82.9                </td><td>83.0                </td><td>83.1                </td><td>83.2                </td><td>83.3                </td></tr>\n",
       "\t<tr><td>Argentina           </td><td>33.2                </td><td>33.2                </td><td>33.2                </td><td>33.2                </td><td>33.2                </td><td>33.2                </td><td>33.2                </td><td>33.2                </td><td>33.2                </td><td>...                 </td><td>86.2                </td><td>86.3                </td><td>86.5                </td><td>86.5                </td><td>86.7                </td><td>86.8                </td><td>86.9                </td><td>87.0                </td><td>87.1                </td><td>87.2                </td></tr>\n",
       "</tbody>\n",
       "</table>\n"
      ],
      "text/latex": [
       "\\begin{tabular}{r|llllllllllllllllllllllllllllllllllllllllllllllllllllllllllllllllllllllllllllllllllllllllllllllllllllllllllllllllllllllllllllllllllllllllllllllllllllllllllllllllllllllllllllllllllllllllllllllllllllllllllllllllllllllllllllllllllllllllllllllllllllllllllllllllllllllllllllllllllllllllllllllllllllllllllllll}\n",
       " ï..country & X1800 & X1801 & X1802 & X1803 & X1804 & X1805 & X1806 & X1807 & X1808 & ... & X2091 & X2092 & X2093 & X2094 & X2095 & X2096 & X2097 & X2098 & X2099 & X2100\\\\\n",
       "\\hline\n",
       "\t Afghanistan          & 28.2                 & 28.2                 & 28.2                 & 28.2                 & 28.2                 & 28.2                 & 28.1                 & 28.1                 & 28.1                 & ...                  & 75.5                 & 75.7                 & 75.8                 & 76.0                 & 76.1                 & 76.2                 & 76.4                 & 76.5                 & 76.6                 & 76.8                \\\\\n",
       "\t Angola               & 27.0                 & 27.0                 & 27.0                 & 27.0                 & 27.0                 & 27.0                 & 27.0                 & 27.0                 & 27.0                 & ...                  & 78.8                 & 79.0                 & 79.1                 & 79.2                 & 79.3                 & 79.5                 & 79.6                 & 79.7                 & 79.9                 & 80.0                \\\\\n",
       "\t Albania              & 35.4                 & 35.4                 & 35.4                 & 35.4                 & 35.4                 & 35.4                 & 35.4                 & 35.4                 & 35.4                 & ...                  & 87.4                 & 87.5                 & 87.6                 & 87.7                 & 87.8                 & 87.9                 & 88.0                 & 88.2                 & 88.3                 & 88.4                \\\\\n",
       "\t Andorra              &   NA                 &   NA                 &   NA                 &   NA                 &   NA                 &   NA                 &   NA                 &   NA                 &   NA                 & ...                  &   NA                 &   NA                 &   NA                 &   NA                 &   NA                 &   NA                 &   NA                 &   NA                 &   NA                 &   NA                \\\\\n",
       "\t United Arab Emirates & 30.7                 & 30.7                 & 30.7                 & 30.7                 & 30.7                 & 30.7                 & 30.7                 & 30.7                 & 30.7                 & ...                  & 82.4                 & 82.5                 & 82.6                 & 82.7                 & 82.8                 & 82.9                 & 83.0                 & 83.1                 & 83.2                 & 83.3                \\\\\n",
       "\t Argentina            & 33.2                 & 33.2                 & 33.2                 & 33.2                 & 33.2                 & 33.2                 & 33.2                 & 33.2                 & 33.2                 & ...                  & 86.2                 & 86.3                 & 86.5                 & 86.5                 & 86.7                 & 86.8                 & 86.9                 & 87.0                 & 87.1                 & 87.2                \\\\\n",
       "\\end{tabular}\n"
      ],
      "text/markdown": [
       "\n",
       "| ï..country | X1800 | X1801 | X1802 | X1803 | X1804 | X1805 | X1806 | X1807 | X1808 | ... | X2091 | X2092 | X2093 | X2094 | X2095 | X2096 | X2097 | X2098 | X2099 | X2100 |\n",
       "|---|---|---|---|---|---|---|---|---|---|---|---|---|---|---|---|---|---|---|---|---|\n",
       "| Afghanistan          | 28.2                 | 28.2                 | 28.2                 | 28.2                 | 28.2                 | 28.2                 | 28.1                 | 28.1                 | 28.1                 | ...                  | 75.5                 | 75.7                 | 75.8                 | 76.0                 | 76.1                 | 76.2                 | 76.4                 | 76.5                 | 76.6                 | 76.8                 |\n",
       "| Angola               | 27.0                 | 27.0                 | 27.0                 | 27.0                 | 27.0                 | 27.0                 | 27.0                 | 27.0                 | 27.0                 | ...                  | 78.8                 | 79.0                 | 79.1                 | 79.2                 | 79.3                 | 79.5                 | 79.6                 | 79.7                 | 79.9                 | 80.0                 |\n",
       "| Albania              | 35.4                 | 35.4                 | 35.4                 | 35.4                 | 35.4                 | 35.4                 | 35.4                 | 35.4                 | 35.4                 | ...                  | 87.4                 | 87.5                 | 87.6                 | 87.7                 | 87.8                 | 87.9                 | 88.0                 | 88.2                 | 88.3                 | 88.4                 |\n",
       "| Andorra              |   NA                 |   NA                 |   NA                 |   NA                 |   NA                 |   NA                 |   NA                 |   NA                 |   NA                 | ...                  |   NA                 |   NA                 |   NA                 |   NA                 |   NA                 |   NA                 |   NA                 |   NA                 |   NA                 |   NA                 |\n",
       "| United Arab Emirates | 30.7                 | 30.7                 | 30.7                 | 30.7                 | 30.7                 | 30.7                 | 30.7                 | 30.7                 | 30.7                 | ...                  | 82.4                 | 82.5                 | 82.6                 | 82.7                 | 82.8                 | 82.9                 | 83.0                 | 83.1                 | 83.2                 | 83.3                 |\n",
       "| Argentina            | 33.2                 | 33.2                 | 33.2                 | 33.2                 | 33.2                 | 33.2                 | 33.2                 | 33.2                 | 33.2                 | ...                  | 86.2                 | 86.3                 | 86.5                 | 86.5                 | 86.7                 | 86.8                 | 86.9                 | 87.0                 | 87.1                 | 87.2                 |\n",
       "\n"
      ],
      "text/plain": [
       "  ï..country           X1800 X1801 X1802 X1803 X1804 X1805 X1806 X1807 X1808\n",
       "1 Afghanistan          28.2  28.2  28.2  28.2  28.2  28.2  28.1  28.1  28.1 \n",
       "2 Angola               27.0  27.0  27.0  27.0  27.0  27.0  27.0  27.0  27.0 \n",
       "3 Albania              35.4  35.4  35.4  35.4  35.4  35.4  35.4  35.4  35.4 \n",
       "4 Andorra                NA    NA    NA    NA    NA    NA    NA    NA    NA \n",
       "5 United Arab Emirates 30.7  30.7  30.7  30.7  30.7  30.7  30.7  30.7  30.7 \n",
       "6 Argentina            33.2  33.2  33.2  33.2  33.2  33.2  33.2  33.2  33.2 \n",
       "  ... X2091 X2092 X2093 X2094 X2095 X2096 X2097 X2098 X2099 X2100\n",
       "1 ... 75.5  75.7  75.8  76.0  76.1  76.2  76.4  76.5  76.6  76.8 \n",
       "2 ... 78.8  79.0  79.1  79.2  79.3  79.5  79.6  79.7  79.9  80.0 \n",
       "3 ... 87.4  87.5  87.6  87.7  87.8  87.9  88.0  88.2  88.3  88.4 \n",
       "4 ...   NA    NA    NA    NA    NA    NA    NA    NA    NA    NA \n",
       "5 ... 82.4  82.5  82.6  82.7  82.8  82.9  83.0  83.1  83.2  83.3 \n",
       "6 ... 86.2  86.3  86.5  86.5  86.7  86.8  86.9  87.0  87.1  87.2 "
      ]
     },
     "metadata": {},
     "output_type": "display_data"
    },
    {
     "name": "stdout",
     "output_type": "stream",
     "text": [
      "'data.frame':\t195 obs. of  302 variables:\n",
      " $ ï..country: Factor w/ 195 levels \"Afghanistan\",..: 1 5 2 4 185 7 8 6 9 10 ...\n",
      " $ X1800     : num  28.2 27 35.4 NA 30.7 33.2 34 33.5 34 34.4 ...\n",
      " $ X1801     : num  28.2 27 35.4 NA 30.7 33.2 34 33.5 34 34.4 ...\n",
      " $ X1802     : num  28.2 27 35.4 NA 30.7 33.2 34 33.5 34 34.4 ...\n",
      " $ X1803     : num  28.2 27 35.4 NA 30.7 33.2 34 33.5 34 34.4 ...\n",
      " $ X1804     : num  28.2 27 35.4 NA 30.7 33.2 34 33.5 34 34.4 ...\n",
      " $ X1805     : num  28.2 27 35.4 NA 30.7 33.2 34 33.5 34 34.4 ...\n",
      " $ X1806     : num  28.1 27 35.4 NA 30.7 33.2 34 33.5 34 34.4 ...\n",
      " $ X1807     : num  28.1 27 35.4 NA 30.7 33.2 34 33.5 34 34.4 ...\n",
      " $ X1808     : num  28.1 27 35.4 NA 30.7 33.2 34 33.5 34 34.4 ...\n",
      " $ X1809     : num  28.1 27 35.4 NA 30.7 33.2 34 33.5 34 34.4 ...\n",
      " $ X1810     : num  28.1 27 35.4 NA 30.7 33.2 34 33.5 34 34.4 ...\n",
      " $ X1811     : num  28.1 27 35.4 NA 30.7 33.2 34 33.5 34 34.4 ...\n",
      " $ X1812     : num  28.1 27 35.4 NA 30.7 33.2 34 33.5 34 34.4 ...\n",
      " $ X1813     : num  28.1 27 35.4 NA 30.7 33.2 34 33.5 34 34.4 ...\n",
      " $ X1814     : num  28.1 27 35.4 NA 30.7 33.2 34 33.5 34 34.4 ...\n",
      " $ X1815     : num  28.1 27 35.4 NA 30.7 33.2 34 33.5 34 34.4 ...\n",
      " $ X1816     : num  28.1 27 35.4 NA 30.7 33.2 34 33.5 34 34.4 ...\n",
      " $ X1817     : num  28 27 35.4 NA 30.7 33.2 34 33.5 34 34.4 ...\n",
      " $ X1818     : num  28 27 35.4 NA 30.7 33.2 34 33.5 34 34.4 ...\n",
      " $ X1819     : num  28 27 35.4 NA 30.7 33.2 34 33.5 34 34.4 ...\n",
      " $ X1820     : num  28 27 35.4 NA 30.7 33.2 34 33.5 34 34.4 ...\n",
      " $ X1821     : num  28 27 35.4 NA 30.7 33.2 34 33.5 34 34.4 ...\n",
      " $ X1822     : num  28 27 35.4 NA 30.7 33.2 34 33.5 34 34.4 ...\n",
      " $ X1823     : num  28 27 35.4 NA 30.7 33.2 34 33.5 34 34.4 ...\n",
      " $ X1824     : num  28 27 35.4 NA 30.7 33.2 34 33.5 34 34.4 ...\n",
      " $ X1825     : num  27.9 27 35.4 NA 30.7 33.2 34 33.5 34 34.4 ...\n",
      " $ X1826     : num  27.9 27 35.4 NA 30.7 33.2 34 33.5 34 34.4 ...\n",
      " $ X1827     : num  27.9 27 35.4 NA 30.7 33.2 34 33.5 34 34.4 ...\n",
      " $ X1828     : num  27.9 27 35.4 NA 30.7 33.2 34 33.5 34 34.4 ...\n",
      " $ X1829     : num  27.9 27 35.4 NA 30.7 33.2 34 33.5 34 34.4 ...\n",
      " $ X1830     : num  27.9 27 35.4 NA 30.7 33.2 34 33.5 34 34.4 ...\n",
      " $ X1831     : num  27.9 27 35.4 NA 30.7 33.2 34 33.5 34 34.4 ...\n",
      " $ X1832     : num  27.9 27 35.4 NA 30.7 33.2 34 33.5 34 34.4 ...\n",
      " $ X1833     : num  27.9 27 35.4 NA 30.7 33.2 34 33.5 34 34.4 ...\n",
      " $ X1834     : num  27.9 27 35.4 NA 30.7 33.2 34 33.5 34 34.4 ...\n",
      " $ X1835     : num  27.9 27 35.4 NA 30.7 33.2 34 33.5 34 34.4 ...\n",
      " $ X1836     : num  27.8 27 35.4 NA 30.7 33.2 34 33.5 34 34.4 ...\n",
      " $ X1837     : num  27.8 27 35.4 NA 30.7 33.2 34 33.5 34 34.4 ...\n",
      " $ X1838     : num  27.8 27 35.4 NA 30.7 33.2 34 33.5 34 34.4 ...\n",
      " $ X1839     : num  27.8 27 35.4 NA 30.7 33.2 34 33.5 34 34.4 ...\n",
      " $ X1840     : num  27.8 27 35.4 NA 30.7 33.2 34 33.5 34 34.4 ...\n",
      " $ X1841     : num  27.8 27 35.4 NA 30.7 33.2 34 33.5 34 34.4 ...\n",
      " $ X1842     : num  27.8 27 35.4 NA 30.7 33.2 34 33.5 34 34.4 ...\n",
      " $ X1843     : num  27.8 27 35.4 NA 30.7 33.2 34 33.5 34 34.4 ...\n",
      " $ X1844     : num  27.8 27 35.4 NA 30.7 33.2 34 33.5 34 34.4 ...\n",
      " $ X1845     : num  27.8 27 35.4 NA 30.7 33.2 34 33.5 34 34.4 ...\n",
      " $ X1846     : num  27.7 27 35.4 NA 30.7 33.2 34 33.5 34 34.4 ...\n",
      " $ X1847     : num  27.7 27 35.4 NA 30.7 33.2 34 33.5 34 34.4 ...\n",
      " $ X1848     : num  27.7 27 35.4 NA 30.7 33.2 34 33.5 34 34.4 ...\n",
      " $ X1849     : num  27.7 27 35.4 NA 30.7 33.2 34 33.5 34 34.4 ...\n",
      " $ X1850     : num  27.7 27 35.4 NA 30.7 33.2 34 33.5 34 34.4 ...\n",
      " $ X1851     : num  27.7 27 35.4 NA 30.7 33.2 34 33.5 34 34.4 ...\n",
      " $ X1852     : num  27.7 27 35.4 NA 30.7 33.2 34 33.5 34 34.4 ...\n",
      " $ X1853     : num  27.7 27 35.4 NA 30.7 33.2 34 33.5 34 34.4 ...\n",
      " $ X1854     : num  27.7 27 35.4 NA 30.7 33.2 34 33.5 34 34.4 ...\n",
      " $ X1855     : num  27.6 27 35.4 NA 30.7 33.2 34 33.5 34 34.4 ...\n",
      " $ X1856     : num  27.6 27 35.4 NA 30.7 33.2 34 33.5 34 34.4 ...\n",
      " $ X1857     : num  27.6 27 35.4 NA 30.7 33.2 34 33.5 34 34.4 ...\n",
      " $ X1858     : num  27.6 27 35.4 NA 30.7 33.2 34 33.5 34 34.4 ...\n",
      " $ X1859     : num  27.6 27 35.4 NA 30.7 33.2 34 33.5 34 34.4 ...\n",
      " $ X1860     : num  27.6 27 35.4 NA 30.7 33.2 34 33.5 34 34.4 ...\n",
      " $ X1861     : num  27.6 27 35.4 NA 30.7 33.2 34 33.5 34 34.4 ...\n",
      " $ X1862     : num  27.6 27 35.4 NA 30.7 33.2 34 33.5 34 34.4 ...\n",
      " $ X1863     : num  27.6 27 35.4 NA 30.7 33.2 34 33.5 34 34.4 ...\n",
      " $ X1864     : num  27.6 27 35.4 NA 30.7 33.2 33.5 33.5 34 34.4 ...\n",
      " $ X1865     : num  27.5 27 35.4 NA 30.7 33.2 33 33.5 34 34.4 ...\n",
      " $ X1866     : num  27.5 27 35.4 NA 30.7 33.2 32.4 33.5 34 34.4 ...\n",
      " $ X1867     : num  27.5 27 35.4 NA 30.7 33.2 31.9 33.5 34 34.4 ...\n",
      " $ X1868     : num  27.5 27 35.4 NA 30.7 33.2 31.4 33.5 34 34.4 ...\n",
      " $ X1869     : num  27.5 27 35.4 NA 30.7 33.2 31.4 33.5 34 34.4 ...\n",
      " $ X1870     : num  27.5 27 35.4 NA 30.7 33.2 31.5 33.5 34 34.4 ...\n",
      " $ X1871     : num  27.7 27.2 35.4 NA 30.9 33.2 31.5 33.5 34.6 34.5 ...\n",
      " $ X1872     : num  27.9 27.4 35.4 NA 31 33.2 31.6 33.5 35.1 34.5 ...\n",
      " $ X1873     : num  28.1 27.6 35.4 NA 31.2 33.2 31.6 33.5 35.6 34.6 ...\n",
      " $ X1874     : num  28.3 27.7 35.3 NA 31.3 33.3 31.8 33.5 36.2 34.6 ...\n",
      " $ X1875     : num  28.5 27.9 35.3 NA 31.5 33.3 32 33.6 36.7 34.7 ...\n",
      " $ X1876     : num  28.7 28.1 35.3 NA 31.6 33.3 32.2 33.6 37.2 34.7 ...\n",
      " $ X1877     : num  28.9 28.3 35.3 NA 31.8 33.3 32.4 33.6 37.8 34.8 ...\n",
      " $ X1878     : num  29.1 28.5 35.3 NA 32 33.2 32.6 33.6 38.3 34.8 ...\n",
      " $ X1879     : num  29.3 28.7 35.3 NA 32.1 33.2 32.8 33.6 38.8 34.9 ...\n",
      " $ X1880     : num  29.4 28.9 35.2 NA 32.3 33.2 33 33.6 39.4 34.9 ...\n",
      " $ X1881     : num  29.6 29.1 35.2 NA 32.4 33.1 33.2 33.6 39.9 35 ...\n",
      " $ X1882     : num  29.8 29.3 35.2 NA 32.6 33 33.4 33.6 40.4 35.2 ...\n",
      " $ X1883     : num  30 29.4 35.2 NA 32.8 33 33.6 33.6 41 35.5 ...\n",
      " $ X1884     : num  30.2 29.6 35.2 NA 32.9 32.9 33.8 33.6 41.5 35.7 ...\n",
      " $ X1885     : num  30.4 29.8 35.2 NA 33.1 32.8 34 33.6 42 35.9 ...\n",
      " $ X1886     : num  30.6 30 35.1 NA 33.2 33.1 34.2 33.6 42.6 36.1 ...\n",
      " $ X1887     : num  30.8 30.2 35.1 NA 33.4 33.4 34.4 33.6 43.1 36.4 ...\n",
      " $ X1888     : num  31 30.4 35.1 NA 33.5 33.7 34.6 33.6 43.6 36.6 ...\n",
      " $ X1889     : num  31.2 30.6 35.1 NA 33.7 34 34.8 33.6 44.2 36.8 ...\n",
      " $ X1890     : num  31.4 30.8 35.1 NA 33.9 34.3 35 33.6 44.7 37.1 ...\n",
      " $ X1891     : num  31.6 30.9 35.1 NA 34 34.1 35.2 33.6 45.2 37.3 ...\n",
      " $ X1892     : num  31.8 31.1 35 NA 34.2 34 35.4 33.6 45.8 37.8 ...\n",
      " $ X1893     : num  32 31.3 35 NA 34.3 33.9 35.6 33.6 46.3 38.2 ...\n",
      " $ X1894     : num  32.2 31.5 35 NA 34.5 33.8 35.8 33.6 46.8 38.7 ...\n",
      " $ X1895     : num  32.4 31.7 35 NA 34.6 33.6 36 33.6 47.4 39.2 ...\n",
      " $ X1896     : num  32.5 31.9 35 NA 34.8 34.3 36.2 33.6 47.9 39.6 ...\n",
      " $ X1897     : num  32.7 32.1 35 NA 35 35.1 36.4 33.6 48.4 40.1 ...\n",
      "  [list output truncated]\n"
     ]
    },
    {
     "data": {
      "text/plain": [
       "               ï..country      X1800           X1801           X1802      \n",
       " Afghanistan        :  1   Min.   :23.40   Min.   :23.40   Min.   :23.40  \n",
       " Albania            :  1   1st Qu.:29.02   1st Qu.:28.93   1st Qu.:28.90  \n",
       " Algeria            :  1   Median :31.75   Median :31.65   Median :31.55  \n",
       " Andorra            :  1   Mean   :31.50   Mean   :31.46   Mean   :31.48  \n",
       " Angola             :  1   3rd Qu.:33.88   3rd Qu.:33.90   3rd Qu.:33.88  \n",
       " Antigua and Barbuda:  1   Max.   :42.90   Max.   :40.30   Max.   :44.40  \n",
       " (Other)            :189   NA's   :9       NA's   :9       NA's   :9      \n",
       "     X1803           X1804           X1805           X1806      \n",
       " Min.   :19.60   Min.   :23.40   Min.   :23.40   Min.   :23.40  \n",
       " 1st Qu.:28.90   1st Qu.:28.93   1st Qu.:29.02   1st Qu.:29.02  \n",
       " Median :31.50   Median :31.55   Median :31.65   Median :31.75  \n",
       " Mean   :31.39   Mean   :31.46   Mean   :31.59   Mean   :31.64  \n",
       " 3rd Qu.:33.67   3rd Qu.:33.77   3rd Qu.:33.88   3rd Qu.:33.98  \n",
       " Max.   :44.80   Max.   :42.80   Max.   :44.30   Max.   :45.80  \n",
       " NA's   :9       NA's   :9       NA's   :9       NA's   :9      \n",
       "     X1807           X1808           X1809           X1810      \n",
       " Min.   :23.40   Min.   :12.50   Min.   :13.40   Min.   :23.40  \n",
       " 1st Qu.:29.02   1st Qu.:28.93   1st Qu.:28.82   1st Qu.:29.02  \n",
       " Median :31.75   Median :31.55   Median :31.50   Median :31.75  \n",
       " Mean   :31.60   Mean   :31.39   Mean   :31.31   Mean   :31.54  \n",
       " 3rd Qu.:33.98   3rd Qu.:33.77   3rd Qu.:33.67   3rd Qu.:33.88  \n",
       " Max.   :43.60   Max.   :43.50   Max.   :41.70   Max.   :43.10  \n",
       " NA's   :9       NA's   :9       NA's   :9       NA's   :9      \n",
       "     X1811           X1812           X1813           X1814      \n",
       " Min.   :23.40   Min.   :23.00   Min.   :23.40   Min.   :23.40  \n",
       " 1st Qu.:29.02   1st Qu.:29.02   1st Qu.:29.02   1st Qu.:29.02  \n",
       " Median :31.65   Median :31.70   Median :31.65   Median :31.65  \n",
       " Mean   :31.50   Mean   :31.49   Mean   :31.48   Mean   :31.54  \n",
       " 3rd Qu.:33.88   3rd Qu.:33.88   3rd Qu.:33.77   3rd Qu.:33.98  \n",
       " Max.   :40.10   Max.   :43.50   Max.   :43.00   Max.   :41.70  \n",
       " NA's   :9       NA's   :9       NA's   :9       NA's   :9      \n",
       "     X1815           X1816           X1817           X1818      \n",
       " Min.   :23.40   Min.   :23.40   Min.   :23.40   Min.   : 5.50  \n",
       " 1st Qu.:29.02   1st Qu.:29.02   1st Qu.:29.02   1st Qu.:29.02  \n",
       " Median :31.75   Median :31.65   Median :31.75   Median :31.75  \n",
       " Mean   :31.68   Mean   :31.66   Mean   :31.76   Mean   :31.60  \n",
       " 3rd Qu.:34.00   3rd Qu.:33.98   3rd Qu.:34.00   3rd Qu.:34.00  \n",
       " Max.   :45.60   Max.   :46.30   Max.   :48.90   Max.   :46.80  \n",
       " NA's   :9       NA's   :9       NA's   :9       NA's   :9      \n",
       "     X1819           X1820           X1821           X1822      \n",
       " Min.   : 1.50   Min.   : 6.50   Min.   :23.40   Min.   :23.40  \n",
       " 1st Qu.:29.02   1st Qu.:29.05   1st Qu.:29.05   1st Qu.:29.05  \n",
       " Median :31.75   Median :31.75   Median :31.65   Median :31.80  \n",
       " Mean   :31.51   Mean   :31.58   Mean   :31.65   Mean   :31.76  \n",
       " 3rd Qu.:34.00   3rd Qu.:34.00   3rd Qu.:33.98   3rd Qu.:34.00  \n",
       " Max.   :45.80   Max.   :47.00   Max.   :44.70   Max.   :48.40  \n",
       " NA's   :9       NA's   :9       NA's   :9       NA's   :9      \n",
       "     X1823           X1824           X1825           X1826      \n",
       " Min.   :23.40   Min.   :23.40   Min.   :23.40   Min.   :23.40  \n",
       " 1st Qu.:29.05   1st Qu.:29.05   1st Qu.:29.05   1st Qu.:28.93  \n",
       " Median :31.80   Median :31.80   Median :31.80   Median :31.75  \n",
       " Mean   :31.81   Mean   :31.74   Mean   :31.70   Mean   :31.62  \n",
       " 3rd Qu.:34.00   3rd Qu.:34.00   3rd Qu.:34.00   3rd Qu.:34.00  \n",
       " Max.   :48.80   Max.   :47.60   Max.   :49.20   Max.   :47.60  \n",
       " NA's   :9       NA's   :9       NA's   :9       NA's   :9      \n",
       "     X1827           X1828           X1829           X1830      \n",
       " Min.   :23.40   Min.   :23.40   Min.   :23.40   Min.   :23.40  \n",
       " 1st Qu.:28.93   1st Qu.:28.93   1st Qu.:29.05   1st Qu.:29.05  \n",
       " Median :31.75   Median :31.75   Median :31.75   Median :31.85  \n",
       " Mean   :31.66   Mean   :31.60   Mean   :31.58   Mean   :31.67  \n",
       " 3rd Qu.:34.00   3rd Qu.:34.00   3rd Qu.:34.00   3rd Qu.:34.00  \n",
       " Max.   :48.40   Max.   :46.20   Max.   :46.30   Max.   :45.80  \n",
       " NA's   :9       NA's   :9       NA's   :9       NA's   :9      \n",
       "     X1831           X1832           X1833           X1834      \n",
       " Min.   :23.40   Min.   :23.00   Min.   :20.40   Min.   :23.40  \n",
       " 1st Qu.:29.05   1st Qu.:29.05   1st Qu.:29.05   1st Qu.:29.05  \n",
       " Median :31.80   Median :31.75   Median :31.80   Median :31.80  \n",
       " Mean   :31.63   Mean   :31.59   Mean   :31.59   Mean   :31.58  \n",
       " 3rd Qu.:34.00   3rd Qu.:33.98   3rd Qu.:34.00   3rd Qu.:34.00  \n",
       " Max.   :45.70   Max.   :47.60   Max.   :44.90   Max.   :42.00  \n",
       " NA's   :9       NA's   :9       NA's   :9       NA's   :9      \n",
       "     X1835           X1836           X1837           X1838      \n",
       " Min.   :23.40   Min.   :23.40   Min.   :23.40   Min.   :23.40  \n",
       " 1st Qu.:28.93   1st Qu.:29.05   1st Qu.:28.93   1st Qu.:29.05  \n",
       " Median :31.80   Median :31.65   Median :31.80   Median :31.85  \n",
       " Mean   :31.71   Mean   :31.67   Mean   :31.61   Mean   :31.67  \n",
       " 3rd Qu.:34.00   3rd Qu.:33.98   3rd Qu.:34.00   3rd Qu.:34.00  \n",
       " Max.   :47.10   Max.   :46.50   Max.   :44.20   Max.   :43.10  \n",
       " NA's   :9       NA's   :9       NA's   :9       NA's   :9      \n",
       "     X1839           X1840           X1841           X1842      \n",
       " Min.   :23.40   Min.   :23.40   Min.   :23.00   Min.   :22.40  \n",
       " 1st Qu.:28.93   1st Qu.:29.20   1st Qu.:29.05   1st Qu.:29.05  \n",
       " Median :31.80   Median :31.90   Median :31.85   Median :31.85  \n",
       " Mean   :31.66   Mean   :31.75   Mean   :31.80   Mean   :31.77  \n",
       " 3rd Qu.:34.00   3rd Qu.:34.00   3rd Qu.:34.15   3rd Qu.:34.15  \n",
       " Max.   :43.00   Max.   :45.60   Max.   :49.50   Max.   :48.40  \n",
       " NA's   :9       NA's   :9       NA's   :9       NA's   :9      \n",
       "     X1843           X1844           X1845           X1846      \n",
       " Min.   :23.40   Min.   :15.00   Min.   :23.40   Min.   :18.30  \n",
       " 1st Qu.:28.93   1st Qu.:29.05   1st Qu.:29.05   1st Qu.:28.93  \n",
       " Median :31.80   Median :31.85   Median :31.85   Median :31.75  \n",
       " Mean   :31.76   Mean   :31.82   Mean   :31.87   Mean   :31.57  \n",
       " 3rd Qu.:34.00   3rd Qu.:34.15   3rd Qu.:34.15   3rd Qu.:34.00  \n",
       " Max.   :48.40   Max.   :49.70   Max.   :50.10   Max.   :48.00  \n",
       " NA's   :9       NA's   :9       NA's   :9       NA's   :9      \n",
       "     X1847           X1848           X1849           X1850      \n",
       " Min.   :23.40   Min.   :14.90   Min.   :14.10   Min.   :14.00  \n",
       " 1st Qu.:29.05   1st Qu.:28.93   1st Qu.:29.05   1st Qu.:29.20  \n",
       " Median :31.85   Median :31.85   Median :31.80   Median :31.80  \n",
       " Mean   :31.65   Mean   :31.64   Mean   :31.48   Mean   :31.67  \n",
       " 3rd Qu.:34.00   3rd Qu.:34.15   3rd Qu.:34.00   3rd Qu.:34.00  \n",
       " Max.   :44.80   Max.   :45.10   Max.   :48.00   Max.   :49.50  \n",
       " NA's   :9       NA's   :9       NA's   :9       NA's   :9      \n",
       "     X1851           X1852           X1853           X1854      \n",
       " Min.   :22.00   Min.   :23.40   Min.   :23.40   Min.   : 7.50  \n",
       " 1st Qu.:29.20   1st Qu.:29.20   1st Qu.:29.05   1st Qu.:28.90  \n",
       " Median :31.80   Median :31.85   Median :31.85   Median :31.80  \n",
       " Mean   :31.81   Mean   :31.83   Mean   :31.83   Mean   :31.70  \n",
       " 3rd Qu.:34.15   3rd Qu.:34.15   3rd Qu.:34.00   3rd Qu.:34.15  \n",
       " Max.   :49.70   Max.   :48.50   Max.   :48.60   Max.   :51.60  \n",
       " NA's   :9       NA's   :9       NA's   :9       NA's   :9      \n",
       "     X1855           X1856           X1857           X1858      \n",
       " Min.   :23.40   Min.   :17.60   Min.   :23.40   Min.   :23.40  \n",
       " 1st Qu.:28.93   1st Qu.:28.93   1st Qu.:29.05   1st Qu.:29.05  \n",
       " Median :31.80   Median :31.75   Median :31.80   Median :31.85  \n",
       " Mean   :31.74   Mean   :31.75   Mean   :31.75   Mean   :31.76  \n",
       " 3rd Qu.:34.00   3rd Qu.:34.00   3rd Qu.:34.15   3rd Qu.:34.15  \n",
       " Max.   :50.40   Max.   :50.40   Max.   :50.20   Max.   :51.60  \n",
       " NA's   :9       NA's   :9       NA's   :9       NA's   :9      \n",
       "     X1859           X1860           X1861           X1862      \n",
       " Min.   :23.40   Min.   :19.80   Min.   :22.00   Min.   :22.70  \n",
       " 1st Qu.:29.05   1st Qu.:28.93   1st Qu.:29.05   1st Qu.:28.93  \n",
       " Median :31.70   Median :31.75   Median :31.75   Median :31.75  \n",
       " Mean   :31.73   Mean   :31.81   Mean   :31.77   Mean   :31.70  \n",
       " 3rd Qu.:34.00   3rd Qu.:34.00   3rd Qu.:34.00   3rd Qu.:34.00  \n",
       " Max.   :49.90   Max.   :50.00   Max.   :47.60   Max.   :47.60  \n",
       " NA's   :9       NA's   :9       NA's   :9       NA's   :9      \n",
       "     X1863           X1864           X1865           X1866      \n",
       " Min.   :23.40   Min.   :23.20   Min.   :22.30   Min.   :21.00  \n",
       " 1st Qu.:29.05   1st Qu.:28.90   1st Qu.:28.90   1st Qu.:28.82  \n",
       " Median :31.80   Median :31.70   Median :31.70   Median :31.65  \n",
       " Mean   :31.76   Mean   :31.69   Mean   :31.64   Mean   :31.52  \n",
       " 3rd Qu.:34.00   3rd Qu.:34.00   3rd Qu.:34.00   3rd Qu.:33.77  \n",
       " Max.   :47.60   Max.   :48.80   Max.   :50.40   Max.   :49.90  \n",
       " NA's   :9       NA's   :9       NA's   :9       NA's   :9      \n",
       "     X1867           X1868           X1869           X1870      \n",
       " Min.   : 4.00   Min.   : 8.11   Min.   :15.00   Min.   :19.90  \n",
       " 1st Qu.:28.90   1st Qu.:28.82   1st Qu.:28.82   1st Qu.:29.05  \n",
       " Median :31.70   Median :31.55   Median :31.55   Median :31.75  \n",
       " Mean   :31.53   Mean   :31.25   Mean   :31.58   Mean   :31.82  \n",
       " 3rd Qu.:34.00   3rd Qu.:34.00   3rd Qu.:34.00   3rd Qu.:34.35  \n",
       " Max.   :47.90   Max.   :47.20   Max.   :49.30   Max.   :50.90  \n",
       " NA's   :9       NA's   :9       NA's   :9       NA's   :9      \n",
       "     X1871           X1872           X1873           X1874      \n",
       " Min.   :20.00   Min.   :20.00   Min.   :20.00   Min.   :20.20  \n",
       " 1st Qu.:29.12   1st Qu.:29.15   1st Qu.:29.43   1st Qu.:29.60  \n",
       " Median :31.75   Median :31.70   Median :31.80   Median :31.85  \n",
       " Mean   :31.78   Mean   :31.90   Mean   :32.01   Mean   :32.09  \n",
       " 3rd Qu.:34.35   3rd Qu.:34.80   3rd Qu.:34.83   3rd Qu.:34.83  \n",
       " Max.   :49.70   Max.   :50.10   Max.   :49.70   Max.   :47.80  \n",
       " NA's   :9       NA's   :9       NA's   :9       NA's   :9      \n",
       "     X1875           X1876           X1877           X1878      \n",
       " Min.   : 1.01   Min.   :20.40   Min.   :19.40   Min.   :20.50  \n",
       " 1st Qu.:29.70   1st Qu.:29.62   1st Qu.:29.70   1st Qu.:29.70  \n",
       " Median :31.90   Median :32.00   Median :32.10   Median :32.25  \n",
       " Mean   :32.00   Mean   :32.23   Mean   :32.34   Mean   :32.37  \n",
       " 3rd Qu.:34.98   3rd Qu.:34.90   3rd Qu.:34.90   3rd Qu.:35.08  \n",
       " Max.   :47.60   Max.   :46.90   Max.   :49.80   Max.   :51.80  \n",
       " NA's   :9       NA's   :9       NA's   :9       NA's   :9      \n",
       "     X1879           X1880           X1881           X1882      \n",
       " Min.   :21.20   Min.   :21.40   Min.   :21.50   Min.   :17.80  \n",
       " 1st Qu.:29.73   1st Qu.:29.90   1st Qu.:30.00   1st Qu.:29.80  \n",
       " Median :32.30   Median :32.35   Median :32.45   Median :32.50  \n",
       " Mean   :32.52   Mean   :32.55   Mean   :32.64   Mean   :32.61  \n",
       " 3rd Qu.:34.98   3rd Qu.:34.98   3rd Qu.:35.00   3rd Qu.:35.08  \n",
       " Max.   :53.20   Max.   :51.90   Max.   :50.50   Max.   :48.60  \n",
       " NA's   :9       NA's   :9       NA's   :9       NA's   :9      \n",
       "     X1883           X1884           X1885           X1886      \n",
       " Min.   :21.90   Min.   :22.10   Min.   :22.30   Min.   :22.50  \n",
       " 1st Qu.:30.00   1st Qu.:30.20   1st Qu.:30.30   1st Qu.:30.40  \n",
       " Median :32.50   Median :32.70   Median :32.70   Median :32.80  \n",
       " Mean   :32.79   Mean   :32.97   Mean   :33.06   Mean   :33.15  \n",
       " 3rd Qu.:35.08   3rd Qu.:35.10   3rd Qu.:35.08   3rd Qu.:35.08  \n",
       " Max.   :49.70   Max.   :50.80   Max.   :51.10   Max.   :51.80  \n",
       " NA's   :9       NA's   :9       NA's   :9       NA's   :9      \n",
       "     X1887           X1888           X1889           X1890      \n",
       " Min.   :22.70   Min.   :17.00   Min.   : 5.00   Min.   : 4.00  \n",
       " 1st Qu.:30.43   1st Qu.:30.50   1st Qu.:30.45   1st Qu.:30.45  \n",
       " Median :32.80   Median :32.80   Median :32.90   Median :32.90  \n",
       " Mean   :33.24   Mean   :33.30   Mean   :33.32   Mean   :33.12  \n",
       " 3rd Qu.:35.17   3rd Qu.:35.25   3rd Qu.:35.27   3rd Qu.:35.30  \n",
       " Max.   :51.70   Max.   :52.40   Max.   :52.60   Max.   :50.50  \n",
       " NA's   :9       NA's   :9       NA's   :9       NA's   :9      \n",
       "     X1891           X1892           X1893           X1894      \n",
       " Min.   : 8.00   Min.   :14.00   Min.   : 8.14   Min.   :21.70  \n",
       " 1st Qu.:30.65   1st Qu.:30.45   1st Qu.:30.32   1st Qu.:30.52  \n",
       " Median :33.05   Median :33.00   Median :33.00   Median :33.10  \n",
       " Mean   :33.35   Mean   :33.38   Mean   :33.47   Mean   :33.74  \n",
       " 3rd Qu.:35.40   3rd Qu.:35.48   3rd Qu.:35.58   3rd Qu.:35.60  \n",
       " Max.   :51.10   Max.   :52.80   Max.   :52.70   Max.   :52.10  \n",
       " NA's   :9       NA's   :9       NA's   :9       NA's   :9      \n",
       "     X1895           X1896           X1897           X1898      \n",
       " Min.   :21.50   Min.   :19.50   Min.   :18.50   Min.   :20.70  \n",
       " 1st Qu.:30.30   1st Qu.:30.27   1st Qu.:30.50   1st Qu.:30.32  \n",
       " Median :33.20   Median :33.30   Median :33.50   Median :33.50  \n",
       " Mean   :33.84   Mean   :33.96   Mean   :34.06   Mean   :34.13  \n",
       " 3rd Qu.:35.70   3rd Qu.:35.80   3rd Qu.:35.95   3rd Qu.:36.12  \n",
       " Max.   :54.20   Max.   :53.90   Max.   :54.20   Max.   :54.80  \n",
       " NA's   :9       NA's   :9       NA's   :9       NA's   :9      \n",
       "     X1899           X1900           X1901           X1902      \n",
       " Min.   :19.90   Min.   :20.10   Min.   :21.10   Min.   :12.70  \n",
       " 1st Qu.:30.32   1st Qu.:30.45   1st Qu.:30.25   1st Qu.:30.12  \n",
       " Median :33.65   Median :33.70   Median :33.70   Median :33.70  \n",
       " Mean   :34.13   Mean   :34.22   Mean   :34.43   Mean   :34.54  \n",
       " 3rd Qu.:36.25   3rd Qu.:36.33   3rd Qu.:36.42   3rd Qu.:36.58  \n",
       " Max.   :51.70   Max.   :53.60   Max.   :54.70   Max.   :56.60  \n",
       " NA's   :9       NA's   :9       NA's   :9       NA's   :9      \n",
       "     X1903           X1904           X1905           X1906      \n",
       " Min.   :20.10   Min.   : 5.77   Min.   :11.60   Min.   :20.80  \n",
       " 1st Qu.:30.27   1st Qu.:30.40   1st Qu.:30.32   1st Qu.:30.40  \n",
       " Median :33.80   Median :33.80   Median :33.75   Median :33.80  \n",
       " Mean   :34.60   Mean   :34.66   Mean   :34.73   Mean   :34.89  \n",
       " 3rd Qu.:36.55   3rd Qu.:36.58   3rd Qu.:36.75   3rd Qu.:36.67  \n",
       " Max.   :55.20   Max.   :56.20   Max.   :55.20   Max.   :57.00  \n",
       " NA's   :9       NA's   :9       NA's   :9       NA's   :9      \n",
       "     X1907           X1908           X1909           X1910      \n",
       " Min.   :20.10   Min.   :21.10   Min.   :21.20   Min.   :21.40  \n",
       " 1st Qu.:30.62   1st Qu.:30.82   1st Qu.:30.85   1st Qu.:30.93  \n",
       " Median :33.85   Median :33.95   Median :34.00   Median :34.25  \n",
       " Mean   :35.05   Mean   :35.20   Mean   :35.48   Mean   :35.67  \n",
       " 3rd Qu.:36.88   3rd Qu.:37.10   3rd Qu.:37.48   3rd Qu.:37.50  \n",
       " Max.   :57.10   Max.   :56.50   Max.   :58.50   Max.   :58.20  \n",
       " NA's   :9       NA's   :9       NA's   :9       NA's   :9      \n",
       "     X1911           X1912           X1913           X1914      \n",
       " Min.   :21.50   Min.   :21.60   Min.   :21.80   Min.   :21.90  \n",
       " 1st Qu.:30.93   1st Qu.:31.02   1st Qu.:31.10   1st Qu.:30.70  \n",
       " Median :34.45   Median :34.50   Median :34.35   Median :34.20  \n",
       " Mean   :35.81   Mean   :36.06   Mean   :36.11   Mean   :35.86  \n",
       " 3rd Qu.:37.98   3rd Qu.:37.95   3rd Qu.:37.88   3rd Qu.:38.08  \n",
       " Max.   :58.20   Max.   :58.20   Max.   :59.20   Max.   :58.70  \n",
       " NA's   :9       NA's   :9       NA's   :9       NA's   :9      \n",
       "     X1915           X1916           X1917           X1918      \n",
       " Min.   : 7.47   Min.   :20.20   Min.   :19.20   Min.   : 1.13  \n",
       " 1st Qu.:30.90   1st Qu.:31.12   1st Qu.:30.85   1st Qu.:14.32  \n",
       " Median :34.30   Median :34.35   Median :34.30   Median :22.45  \n",
       " Mean   :35.50   Mean   :35.65   Mean   :35.52   Mean   :23.52  \n",
       " 3rd Qu.:37.77   3rd Qu.:38.15   3rd Qu.:37.62   3rd Qu.:29.90  \n",
       " Max.   :58.60   Max.   :58.60   Max.   :59.30   Max.   :56.40  \n",
       " NA's   :9       NA's   :9       NA's   :9       NA's   :9      \n",
       "     X1919           X1920           X1921           X1922      \n",
       " Min.   :12.00   Min.   :14.80   Min.   :11.70   Min.   :13.70  \n",
       " 1st Qu.:31.23   1st Qu.:31.05   1st Qu.:31.05   1st Qu.:31.12  \n",
       " Median :34.35   Median :34.25   Median :34.45   Median :34.90  \n",
       " Mean   :35.70   Mean   :35.96   Mean   :36.49   Mean   :36.87  \n",
       " 3rd Qu.:37.92   3rd Qu.:38.27   3rd Qu.:38.40   3rd Qu.:38.85  \n",
       " Max.   :60.20   Max.   :60.70   Max.   :62.00   Max.   :63.10  \n",
       " NA's   :9       NA's   :9       NA's   :9       NA's   :9      \n",
       "     X1923           X1924           X1925           X1926      \n",
       " Min.   :23.20   Min.   :23.30   Min.   :23.50   Min.   :22.80  \n",
       " 1st Qu.:31.68   1st Qu.:32.00   1st Qu.:32.12   1st Qu.:32.50  \n",
       " Median :35.40   Median :35.95   Median :36.05   Median :36.75  \n",
       " Mean   :37.64   Mean   :37.96   Mean   :38.15   Mean   :38.58  \n",
       " 3rd Qu.:39.30   3rd Qu.:40.20   3rd Qu.:40.73   3rd Qu.:41.17  \n",
       " Max.   :63.10   Max.   :63.00   Max.   :63.50   Max.   :63.50  \n",
       " NA's   :9       NA's   :9       NA's   :9       NA's   :9      \n",
       "     X1927           X1928           X1929           X1930      \n",
       " Min.   :24.20   Min.   :24.10   Min.   :22.70   Min.   :24.10  \n",
       " 1st Qu.:32.70   1st Qu.:33.02   1st Qu.:33.30   1st Qu.:33.38  \n",
       " Median :36.85   Median :36.90   Median :37.30   Median :37.30  \n",
       " Mean   :38.77   Mean   :39.12   Mean   :39.17   Mean   :39.69  \n",
       " 3rd Qu.:42.05   3rd Qu.:42.27   3rd Qu.:42.95   3rd Qu.:43.45  \n",
       " Max.   :63.20   Max.   :63.80   Max.   :63.40   Max.   :65.20  \n",
       " NA's   :9       NA's   :9       NA's   :9       NA's   :9      \n",
       "     X1931           X1932           X1933           X1934      \n",
       " Min.   :16.70   Min.   : 8.37   Min.   : 4.19   Min.   :24.10  \n",
       " 1st Qu.:33.23   1st Qu.:33.12   1st Qu.:33.15   1st Qu.:34.60  \n",
       " Median :37.20   Median :37.55   Median :37.50   Median :38.60  \n",
       " Mean   :39.68   Mean   :39.71   Mean   :39.52   Mean   :41.08  \n",
       " 3rd Qu.:43.42   3rd Qu.:43.55   3rd Qu.:44.25   3rd Qu.:45.00  \n",
       " Max.   :65.70   Max.   :66.00   Max.   :66.20   Max.   :66.70  \n",
       " NA's   :9       NA's   :9       NA's   :9       NA's   :9      \n",
       "     X1935           X1936           X1937           X1938      \n",
       " Min.   :25.20   Min.   :23.00   Min.   :25.60   Min.   :25.60  \n",
       " 1st Qu.:34.88   1st Qu.:35.23   1st Qu.:35.25   1st Qu.:35.62  \n",
       " Median :39.35   Median :39.75   Median :40.00   Median :40.30  \n",
       " Mean   :41.50   Mean   :42.03   Mean   :42.37   Mean   :42.93  \n",
       " 3rd Qu.:46.15   3rd Qu.:46.73   3rd Qu.:47.20   3rd Qu.:47.95  \n",
       " Max.   :66.60   Max.   :66.90   Max.   :67.10   Max.   :67.50  \n",
       " NA's   :9       NA's   :9       NA's   :9       NA's   :9      \n",
       "     X1939           X1940           X1941           X1942      \n",
       " Min.   :25.60   Min.   :25.60   Min.   :12.60   Min.   :15.70  \n",
       " 1st Qu.:35.80   1st Qu.:36.15   1st Qu.:34.52   1st Qu.:34.23  \n",
       " Median :41.35   Median :41.35   Median :40.30   Median :40.30  \n",
       " Mean   :43.43   Mean   :43.41   Mean   :41.97   Mean   :41.81  \n",
       " 3rd Qu.:48.90   3rd Qu.:48.50   3rd Qu.:48.00   3rd Qu.:49.38  \n",
       " Max.   :67.80   Max.   :66.90   Max.   :67.20   Max.   :69.20  \n",
       " NA's   :9       NA's   :9       NA's   :9       NA's   :9      \n",
       "     X1943           X1944           X1945           X1946      \n",
       " Min.   :14.60   Min.   :15.40   Min.   :17.10   Min.   :28.90  \n",
       " 1st Qu.:34.45   1st Qu.:34.25   1st Qu.:35.33   1st Qu.:39.52  \n",
       " Median :40.45   Median :40.10   Median :41.15   Median :45.60  \n",
       " Mean   :41.62   Mean   :41.47   Mean   :43.28   Mean   :46.92  \n",
       " 3rd Qu.:48.75   3rd Qu.:48.10   3rd Qu.:49.88   3rd Qu.:54.23  \n",
       " Max.   :68.90   Max.   :68.40   Max.   :68.80   Max.   :69.80  \n",
       " NA's   :9       NA's   :9       NA's   :9       NA's   :9      \n",
       "     X1947           X1948           X1949           X1950      \n",
       " Min.   :13.60   Min.   :30.70   Min.   :30.70   Min.   :30.60  \n",
       " 1st Qu.:39.65   1st Qu.:42.15   1st Qu.:43.02   1st Qu.:44.00  \n",
       " Median :46.50   Median :49.00   Median :50.80   Median :52.10  \n",
       " Mean   :47.51   Mean   :49.76   Mean   :50.95   Mean   :52.44  \n",
       " 3rd Qu.:55.50   3rd Qu.:57.23   3rd Qu.:58.15   3rd Qu.:60.25  \n",
       " Max.   :70.30   Max.   :71.40   Max.   :71.90   Max.   :74.60  \n",
       " NA's   :9       NA's   :9       NA's   :9                      \n",
       "     X1951           X1952           X1953           X1954      \n",
       " Min.   :26.50   Min.   :29.50   Min.   :32.60   Min.   :33.20  \n",
       " 1st Qu.:44.15   1st Qu.:44.65   1st Qu.:45.05   1st Qu.:45.55  \n",
       " Median :52.60   Median :53.00   Median :53.40   Median :53.90  \n",
       " Mean   :52.63   Mean   :53.31   Mean   :53.90   Mean   :54.45  \n",
       " 3rd Qu.:60.65   3rd Qu.:61.45   3rd Qu.:62.25   3rd Qu.:62.65  \n",
       " Max.   :74.70   Max.   :74.80   Max.   :75.00   Max.   :75.10  \n",
       "                                                                \n",
       "     X1955           X1956           X1957           X1958      \n",
       " Min.   :33.40   Min.   :33.80   Min.   :33.00   Min.   :31.00  \n",
       " 1st Qu.:45.80   1st Qu.:46.00   1st Qu.:46.15   1st Qu.:46.45  \n",
       " Median :55.00   Median :55.40   Median :55.60   Median :56.70  \n",
       " Mean   :54.78   Mean   :55.21   Mean   :55.53   Mean   :56.08  \n",
       " 3rd Qu.:63.00   3rd Qu.:63.55   3rd Qu.:63.85   3rd Qu.:64.90  \n",
       " Max.   :75.20   Max.   :75.30   Max.   :75.40   Max.   :75.50  \n",
       "                                                                \n",
       "     X1959           X1960           X1961           X1962      \n",
       " Min.   :35.70   Min.   :27.50   Min.   :26.40   Min.   :36.30  \n",
       " 1st Qu.:46.80   1st Qu.:47.20   1st Qu.:47.65   1st Qu.:48.85  \n",
       " Median :57.10   Median :57.50   Median :58.20   Median :58.80  \n",
       " Mean   :56.43   Mean   :56.73   Mean   :57.22   Mean   :57.73  \n",
       " 3rd Qu.:64.95   3rd Qu.:65.30   3rd Qu.:66.20   3rd Qu.:66.00  \n",
       " Max.   :75.60   Max.   :75.70   Max.   :75.80   Max.   :75.90  \n",
       "                                                                \n",
       "     X1963           X1964           X1965           X1966           X1967     \n",
       " Min.   :36.00   Min.   :36.40   Min.   :36.80   Min.   :37.20   Min.   :35.1  \n",
       " 1st Qu.:49.05   1st Qu.:49.60   1st Qu.:49.75   1st Qu.:50.15   1st Qu.:50.4  \n",
       " Median :59.50   Median :60.00   Median :60.80   Median :61.20   Median :60.8  \n",
       " Mean   :58.12   Mean   :58.54   Mean   :58.87   Mean   :59.25   Mean   :59.4  \n",
       " 3rd Qu.:66.75   3rd Qu.:67.05   3rd Qu.:67.55   3rd Qu.:68.00   3rd Qu.:68.1  \n",
       " Max.   :76.00   Max.   :76.20   Max.   :76.30   Max.   :76.40   Max.   :76.5  \n",
       "                                                                               \n",
       "     X1968           X1969           X1970           X1971      \n",
       " Min.   :38.10   Min.   :38.50   Min.   :39.00   Min.   :39.40  \n",
       " 1st Qu.:51.10   1st Qu.:51.50   1st Qu.:51.55   1st Qu.:52.05  \n",
       " Median :61.30   Median :62.00   Median :62.10   Median :62.60  \n",
       " Mean   :59.77   Mean   :60.04   Mean   :60.31   Mean   :60.78  \n",
       " 3rd Qu.:67.95   3rd Qu.:68.05   3rd Qu.:68.55   3rd Qu.:69.00  \n",
       " Max.   :76.70   Max.   :76.80   Max.   :77.00   Max.   :77.10  \n",
       "                                                                \n",
       "     X1972           X1973           X1974           X1975      \n",
       " Min.   :17.10   Min.   :37.60   Min.   :38.90   Min.   :24.70  \n",
       " 1st Qu.:52.55   1st Qu.:53.05   1st Qu.:53.80   1st Qu.:54.45  \n",
       " Median :62.70   Median :63.00   Median :63.40   Median :64.00  \n",
       " Mean   :60.96   Mean   :61.39   Mean   :61.79   Mean   :62.09  \n",
       " 3rd Qu.:69.30   3rd Qu.:69.75   3rd Qu.:70.00   3rd Qu.:70.20  \n",
       " Max.   :77.20   Max.   :77.40   Max.   :77.50   Max.   :77.70  \n",
       "                                                                \n",
       "     X1976           X1977           X1978           X1979      \n",
       " Min.   :24.50   Min.   :24.40   Min.   :24.20   Min.   :24.10  \n",
       " 1st Qu.:54.80   1st Qu.:55.65   1st Qu.:56.00   1st Qu.:56.70  \n",
       " Median :64.60   Median :65.10   Median :65.90   Median :66.30  \n",
       " Mean   :62.34   Mean   :62.91   Mean   :63.21   Mean   :63.49  \n",
       " 3rd Qu.:70.30   3rd Qu.:70.40   3rd Qu.:70.70   3rd Qu.:70.70  \n",
       " Max.   :77.80   Max.   :78.00   Max.   :78.10   Max.   :78.20  \n",
       "                                                                \n",
       "     X1980           X1981           X1982           X1983      \n",
       " Min.   :42.70   Min.   :43.20   Min.   :42.30   Min.   :42.30  \n",
       " 1st Qu.:57.00   1st Qu.:57.05   1st Qu.:57.20   1st Qu.:57.80  \n",
       " Median :66.40   Median :66.60   Median :66.80   Median :66.90  \n",
       " Mean   :63.97   Mean   :64.20   Mean   :64.22   Mean   :64.56  \n",
       " 3rd Qu.:70.70   3rd Qu.:71.20   3rd Qu.:71.00   3rd Qu.:71.10  \n",
       " Max.   :78.30   Max.   :78.40   Max.   :78.50   Max.   :78.50  \n",
       "                                                                \n",
       "     X1984           X1985           X1986           X1987      \n",
       " Min.   :39.90   Min.   :42.00   Min.   :43.30   Min.   :45.60  \n",
       " 1st Qu.:58.50   1st Qu.:58.80   1st Qu.:58.80   1st Qu.:59.70  \n",
       " Median :67.30   Median :67.50   Median :68.00   Median :68.50  \n",
       " Mean   :64.83   Mean   :65.12   Mean   :65.44   Mean   :65.72  \n",
       " 3rd Qu.:71.30   3rd Qu.:71.50   3rd Qu.:72.10   3rd Qu.:72.10  \n",
       " Max.   :78.60   Max.   :78.70   Max.   :78.80   Max.   :79.00  \n",
       "                                                                \n",
       "     X1988           X1989           X1990           X1991      \n",
       " Min.   :46.00   Min.   :46.30   Min.   :46.20   Min.   :47.00  \n",
       " 1st Qu.:59.90   1st Qu.:60.25   1st Qu.:60.55   1st Qu.:60.45  \n",
       " Median :68.60   Median :68.60   Median :68.90   Median :68.90  \n",
       " Mean   :65.89   Mean   :66.16   Mean   :66.30   Mean   :66.40  \n",
       " 3rd Qu.:72.20   3rd Qu.:72.25   3rd Qu.:72.55   3rd Qu.:72.50  \n",
       " Max.   :79.20   Max.   :79.50   Max.   :79.70   Max.   :79.90  \n",
       "                                                                \n",
       "     X1992           X1993          X1994           X1995           X1996      \n",
       " Min.   :46.80   Min.   :46.0   Min.   : 9.50   Min.   :43.40   Min.   :43.00  \n",
       " 1st Qu.:60.10   1st Qu.:60.3   1st Qu.:60.70   1st Qu.:60.45   1st Qu.:60.40  \n",
       " Median :68.80   Median :69.0   Median :68.80   Median :69.00   Median :69.50  \n",
       " Mean   :66.51   Mean   :66.5   Mean   :66.36   Mean   :66.59   Mean   :66.79  \n",
       " 3rd Qu.:72.95   3rd Qu.:73.1   3rd Qu.:73.30   3rd Qu.:73.40   3rd Qu.:73.50  \n",
       " Max.   :80.10   Max.   :80.3   Max.   :80.40   Max.   :80.70   Max.   :80.90  \n",
       "                                                                               \n",
       "     X1997           X1998           X1999           X2000      \n",
       " Min.   :43.00   Min.   :43.80   Min.   :43.80   Min.   :43.80  \n",
       " 1st Qu.:60.15   1st Qu.:60.25   1st Qu.:60.20   1st Qu.:60.80  \n",
       " Median :69.80   Median :69.90   Median :70.20   Median :70.30  \n",
       " Mean   :66.90   Mean   :67.02   Mean   :67.17   Mean   :67.49  \n",
       " 3rd Qu.:73.85   3rd Qu.:74.10   3rd Qu.:74.40   3rd Qu.:74.70  \n",
       " Max.   :81.10   Max.   :81.30   Max.   :81.50   Max.   :81.60  \n",
       "                                                                \n",
       "     X2001           X2002           X2003           X2004      \n",
       " Min.   :43.90   Min.   :44.20   Min.   :43.90   Min.   :43.10  \n",
       " 1st Qu.:61.15   1st Qu.:61.45   1st Qu.:61.95   1st Qu.:62.15  \n",
       " Median :70.60   Median :70.70   Median :71.00   Median :71.10  \n",
       " Mean   :67.77   Mean   :67.96   Mean   :68.21   Mean   :68.47  \n",
       " 3rd Qu.:75.00   3rd Qu.:75.05   3rd Qu.:75.25   3rd Qu.:75.45  \n",
       " Max.   :81.90   Max.   :82.20   Max.   :82.30   Max.   :82.50  \n",
       "                                                                \n",
       "     X2005           X2006           X2007           X2008      \n",
       " Min.   :43.30   Min.   :44.10   Min.   :44.90   Min.   :45.50  \n",
       " 1st Qu.:62.20   1st Qu.:62.35   1st Qu.:62.80   1st Qu.:63.25  \n",
       " Median :71.20   Median :71.20   Median :71.60   Median :71.90  \n",
       " Mean   :68.82   Mean   :69.18   Mean   :69.54   Mean   :69.86  \n",
       " 3rd Qu.:75.60   3rd Qu.:75.90   3rd Qu.:75.95   3rd Qu.:75.95  \n",
       " Max.   :82.50   Max.   :82.80   Max.   :82.90   Max.   :83.10  \n",
       "                                                                \n",
       "     X2009           X2010           X2011           X2012      \n",
       " Min.   :46.40   Min.   :32.50   Min.   :48.20   Min.   :47.90  \n",
       " 1st Qu.:63.90   1st Qu.:64.20   1st Qu.:64.35   1st Qu.:64.80  \n",
       " Median :72.10   Median :72.30   Median :72.60   Median :72.60  \n",
       " Mean   :70.21   Mean   :70.45   Mean   :70.89   Mean   :71.19  \n",
       " 3rd Qu.:76.30   3rd Qu.:76.50   3rd Qu.:76.60   3rd Qu.:76.95  \n",
       " Max.   :83.30   Max.   :83.30   Max.   :83.20   Max.   :83.60  \n",
       "                                                                \n",
       "     X2013           X2014           X2015           X2016      \n",
       " Min.   :47.50   Min.   :47.50   Min.   :48.50   Min.   :49.60  \n",
       " 1st Qu.:65.45   1st Qu.:65.45   1st Qu.:65.90   1st Qu.:66.20  \n",
       " Median :72.80   Median :73.00   Median :73.20   Median :73.10  \n",
       " Mean   :71.47   Mean   :71.64   Mean   :71.88   Mean   :72.13  \n",
       " 3rd Qu.:77.15   3rd Qu.:77.20   3rd Qu.:77.50   3rd Qu.:77.60  \n",
       " Max.   :83.90   Max.   :84.10   Max.   :84.30   Max.   :84.50  \n",
       "                                                                \n",
       "     X2017           X2018           X2019           X2020      \n",
       " Min.   :50.40   Min.   :51.40   Min.   :51.80   Min.   :52.00  \n",
       " 1st Qu.:66.95   1st Qu.:66.90   1st Qu.:67.40   1st Qu.:67.42  \n",
       " Median :73.40   Median :73.50   Median :73.70   Median :73.20  \n",
       " Mean   :72.39   Mean   :72.63   Mean   :72.86   Mean   :72.45  \n",
       " 3rd Qu.:77.80   3rd Qu.:77.90   3rd Qu.:78.05   3rd Qu.:77.00  \n",
       " Max.   :84.70   Max.   :84.80   Max.   :84.80   Max.   :84.90  \n",
       "                                                 NA's   :9      \n",
       "     X2021           X2022           X2023           X2024      \n",
       " Min.   :52.60   Min.   :53.00   Min.   :53.30   Min.   :53.70  \n",
       " 1st Qu.:67.90   1st Qu.:68.03   1st Qu.:68.25   1st Qu.:68.53  \n",
       " Median :74.15   Median :74.30   Median :74.40   Median :74.60  \n",
       " Mean   :73.27   Mean   :73.46   Mean   :73.65   Mean   :73.83  \n",
       " 3rd Qu.:78.28   3rd Qu.:78.45   3rd Qu.:78.58   3rd Qu.:78.70  \n",
       " Max.   :85.10   Max.   :85.30   Max.   :85.40   Max.   :85.50  \n",
       " NA's   :9       NA's   :9       NA's   :9       NA's   :9      \n",
       "     X2025           X2026           X2027           X2028      \n",
       " Min.   :54.00   Min.   :54.40   Min.   :54.80   Min.   :55.10  \n",
       " 1st Qu.:68.80   1st Qu.:69.03   1st Qu.:69.20   1st Qu.:69.30  \n",
       " Median :74.80   Median :74.90   Median :75.05   Median :75.25  \n",
       " Mean   :74.02   Mean   :74.21   Mean   :74.39   Mean   :74.57  \n",
       " 3rd Qu.:78.88   3rd Qu.:79.08   3rd Qu.:79.28   3rd Qu.:79.47  \n",
       " Max.   :85.60   Max.   :85.80   Max.   :85.90   Max.   :86.00  \n",
       " NA's   :9       NA's   :9       NA's   :9       NA's   :9      \n",
       "     X2029           X2030           X2031           X2032      \n",
       " Min.   :55.40   Min.   :55.70   Min.   :56.00   Min.   :56.30  \n",
       " 1st Qu.:69.42   1st Qu.:69.62   1st Qu.:69.83   1st Qu.:70.12  \n",
       " Median :75.35   Median :75.55   Median :75.75   Median :75.90  \n",
       " Mean   :74.76   Mean   :74.93   Mean   :75.11   Mean   :75.29  \n",
       " 3rd Qu.:79.60   3rd Qu.:79.80   3rd Qu.:79.90   3rd Qu.:80.10  \n",
       " Max.   :86.10   Max.   :86.20   Max.   :86.30   Max.   :86.50  \n",
       " NA's   :9       NA's   :9       NA's   :9       NA's   :9      \n",
       "     X2033           X2034           X2035           X2036      \n",
       " Min.   :56.60   Min.   :56.80   Min.   :57.10   Min.   :57.40  \n",
       " 1st Qu.:70.35   1st Qu.:70.60   1st Qu.:70.80   1st Qu.:70.95  \n",
       " Median :76.05   Median :76.20   Median :76.40   Median :76.50  \n",
       " Mean   :75.46   Mean   :75.62   Mean   :75.79   Mean   :75.96  \n",
       " 3rd Qu.:80.28   3rd Qu.:80.38   3rd Qu.:80.58   3rd Qu.:80.75  \n",
       " Max.   :86.60   Max.   :86.70   Max.   :86.80   Max.   :87.00  \n",
       " NA's   :9       NA's   :9       NA's   :9       NA's   :9      \n",
       "     X2037           X2038           X2039           X2040      \n",
       " Min.   :57.60   Min.   :57.90   Min.   :58.10   Min.   :58.40  \n",
       " 1st Qu.:71.08   1st Qu.:71.28   1st Qu.:71.38   1st Qu.:71.58  \n",
       " Median :76.65   Median :76.80   Median :76.95   Median :77.05  \n",
       " Mean   :76.12   Mean   :76.28   Mean   :76.43   Mean   :76.59  \n",
       " 3rd Qu.:80.88   3rd Qu.:81.05   3rd Qu.:81.22   3rd Qu.:81.35  \n",
       " Max.   :87.10   Max.   :87.20   Max.   :87.30   Max.   :87.40  \n",
       " NA's   :9       NA's   :9       NA's   :9       NA's   :9      \n",
       "     X2041           X2042           X2043           X2044      \n",
       " Min.   :58.60   Min.   :58.90   Min.   :59.10   Min.   :59.30  \n",
       " 1st Qu.:71.85   1st Qu.:72.03   1st Qu.:72.30   1st Qu.:72.53  \n",
       " Median :77.25   Median :77.35   Median :77.45   Median :77.60  \n",
       " Mean   :76.74   Mean   :76.90   Mean   :77.05   Mean   :77.20  \n",
       " 3rd Qu.:81.53   3rd Qu.:81.62   3rd Qu.:81.75   3rd Qu.:81.92  \n",
       " Max.   :87.60   Max.   :87.70   Max.   :87.80   Max.   :87.90  \n",
       " NA's   :9       NA's   :9       NA's   :9       NA's   :9      \n",
       "     X2045           X2046           X2047           X2048      \n",
       " Min.   :59.50   Min.   :59.70   Min.   :60.00   Min.   :60.20  \n",
       " 1st Qu.:72.75   1st Qu.:72.95   1st Qu.:73.17   1st Qu.:73.38  \n",
       " Median :77.75   Median :77.85   Median :78.00   Median :78.15  \n",
       " Mean   :77.35   Mean   :77.50   Mean   :77.64   Mean   :77.80  \n",
       " 3rd Qu.:82.05   3rd Qu.:82.15   3rd Qu.:82.35   3rd Qu.:82.45  \n",
       " Max.   :88.00   Max.   :88.20   Max.   :88.30   Max.   :88.40  \n",
       " NA's   :9       NA's   :9       NA's   :9       NA's   :9      \n",
       "     X2049           X2050           X2051           X2052      \n",
       " Min.   :60.40   Min.   :60.60   Min.   :60.80   Min.   :61.00  \n",
       " 1st Qu.:73.58   1st Qu.:73.78   1st Qu.:73.97   1st Qu.:74.15  \n",
       " Median :78.30   Median :78.45   Median :78.60   Median :78.70  \n",
       " Mean   :77.93   Mean   :78.08   Mean   :78.22   Mean   :78.36  \n",
       " 3rd Qu.:82.58   3rd Qu.:82.67   3rd Qu.:82.88   3rd Qu.:82.97  \n",
       " Max.   :88.50   Max.   :88.60   Max.   :88.80   Max.   :88.90  \n",
       " NA's   :9       NA's   :9       NA's   :9       NA's   :9      \n",
       "     X2053           X2054           X2055           X2056      \n",
       " Min.   :61.10   Min.   :61.30   Min.   :61.50   Min.   :61.70  \n",
       " 1st Qu.:74.33   1st Qu.:74.50   1st Qu.:74.70   1st Qu.:74.80  \n",
       " Median :78.85   Median :79.00   Median :79.15   Median :79.30  \n",
       " Mean   :78.50   Mean   :78.64   Mean   :78.78   Mean   :78.92  \n",
       " 3rd Qu.:83.10   3rd Qu.:83.20   3rd Qu.:83.38   3rd Qu.:83.50  \n",
       " Max.   :89.00   Max.   :89.10   Max.   :89.20   Max.   :89.30  \n",
       " NA's   :9       NA's   :9       NA's   :9       NA's   :9      \n",
       "     X2057           X2058           X2059           X2060      \n",
       " Min.   :61.90   Min.   :62.00   Min.   :62.20   Min.   :62.40  \n",
       " 1st Qu.:74.92   1st Qu.:75.12   1st Qu.:75.25   1st Qu.:75.38  \n",
       " Median :79.45   Median :79.60   Median :79.75   Median :79.90  \n",
       " Mean   :79.06   Mean   :79.19   Mean   :79.33   Mean   :79.46  \n",
       " 3rd Qu.:83.67   3rd Qu.:83.78   3rd Qu.:83.95   3rd Qu.:84.08  \n",
       " Max.   :89.50   Max.   :89.60   Max.   :89.70   Max.   :89.80  \n",
       " NA's   :9       NA's   :9       NA's   :9       NA's   :9      \n",
       "     X2061           X2062           X2063           X2064      \n",
       " Min.   :62.50   Min.   :62.70   Min.   :62.80   Min.   :63.00  \n",
       " 1st Qu.:75.55   1st Qu.:75.65   1st Qu.:75.75   1st Qu.:75.88  \n",
       " Median :80.05   Median :80.15   Median :80.35   Median :80.45  \n",
       " Mean   :79.59   Mean   :79.73   Mean   :79.86   Mean   :80.00  \n",
       " 3rd Qu.:84.25   3rd Qu.:84.38   3rd Qu.:84.47   3rd Qu.:84.60  \n",
       " Max.   :89.90   Max.   :90.00   Max.   :90.20   Max.   :90.30  \n",
       " NA's   :9       NA's   :9       NA's   :9       NA's   :9      \n",
       "     X2065           X2066           X2067           X2068      \n",
       " Min.   :63.10   Min.   :63.30   Min.   :63.40   Min.   :63.60  \n",
       " 1st Qu.:75.97   1st Qu.:76.15   1st Qu.:76.25   1st Qu.:76.38  \n",
       " Median :80.65   Median :80.75   Median :80.95   Median :81.05  \n",
       " Mean   :80.13   Mean   :80.25   Mean   :80.38   Mean   :80.51  \n",
       " 3rd Qu.:84.70   3rd Qu.:84.80   3rd Qu.:84.97   3rd Qu.:85.08  \n",
       " Max.   :90.40   Max.   :90.50   Max.   :90.60   Max.   :90.80  \n",
       " NA's   :9       NA's   :9       NA's   :9       NA's   :9      \n",
       "     X2069           X2070           X2071           X2072      \n",
       " Min.   :63.70   Min.   :63.90   Min.   :64.00   Min.   :64.10  \n",
       " 1st Qu.:76.47   1st Qu.:76.65   1st Qu.:76.75   1st Qu.:76.95  \n",
       " Median :81.15   Median :81.35   Median :81.45   Median :81.60  \n",
       " Mean   :80.64   Mean   :80.77   Mean   :80.90   Mean   :81.03  \n",
       " 3rd Qu.:85.28   3rd Qu.:85.38   3rd Qu.:85.47   3rd Qu.:85.65  \n",
       " Max.   :90.90   Max.   :91.00   Max.   :91.10   Max.   :91.20  \n",
       " NA's   :9       NA's   :9       NA's   :9       NA's   :9      \n",
       "     X2073           X2074           X2075           X2076      \n",
       " Min.   :64.30   Min.   :64.40   Min.   :64.50   Min.   :64.60  \n",
       " 1st Qu.:77.05   1st Qu.:77.22   1st Qu.:77.42   1st Qu.:77.53  \n",
       " Median :81.70   Median :81.85   Median :81.95   Median :82.10  \n",
       " Mean   :81.16   Mean   :81.28   Mean   :81.41   Mean   :81.53  \n",
       " 3rd Qu.:85.75   3rd Qu.:85.85   3rd Qu.:85.97   3rd Qu.:86.08  \n",
       " Max.   :91.30   Max.   :91.40   Max.   :91.50   Max.   :91.70  \n",
       " NA's   :9       NA's   :9       NA's   :9       NA's   :9      \n",
       "     X2077           X2078           X2079           X2080      \n",
       " Min.   :64.80   Min.   :64.90   Min.   :65.00   Min.   :65.20  \n",
       " 1st Qu.:77.70   1st Qu.:77.80   1st Qu.:78.00   1st Qu.:78.10  \n",
       " Median :82.20   Median :82.35   Median :82.45   Median :82.65  \n",
       " Mean   :81.65   Mean   :81.78   Mean   :81.90   Mean   :82.03  \n",
       " 3rd Qu.:86.17   3rd Qu.:86.30   3rd Qu.:86.40   3rd Qu.:86.50  \n",
       " Max.   :91.80   Max.   :91.90   Max.   :92.00   Max.   :92.10  \n",
       " NA's   :9       NA's   :9       NA's   :9       NA's   :9      \n",
       "     X2081           X2082           X2083           X2084      \n",
       " Min.   :65.30   Min.   :65.40   Min.   :65.50   Min.   :65.60  \n",
       " 1st Qu.:78.30   1st Qu.:78.40   1st Qu.:78.53   1st Qu.:78.72  \n",
       " Median :82.75   Median :82.90   Median :83.05   Median :83.20  \n",
       " Mean   :82.15   Mean   :82.27   Mean   :82.39   Mean   :82.52  \n",
       " 3rd Qu.:86.67   3rd Qu.:86.80   3rd Qu.:86.88   3rd Qu.:87.00  \n",
       " Max.   :92.20   Max.   :92.30   Max.   :92.50   Max.   :92.60  \n",
       " NA's   :9       NA's   :9       NA's   :9       NA's   :9      \n",
       "     X2085           X2086           X2087           X2088      \n",
       " Min.   :65.80   Min.   :65.90   Min.   :66.00   Min.   :66.10  \n",
       " 1st Qu.:78.83   1st Qu.:78.92   1st Qu.:79.12   1st Qu.:79.22  \n",
       " Median :83.35   Median :83.45   Median :83.55   Median :83.70  \n",
       " Mean   :82.64   Mean   :82.76   Mean   :82.88   Mean   :83.00  \n",
       " 3rd Qu.:87.10   3rd Qu.:87.20   3rd Qu.:87.38   3rd Qu.:87.47  \n",
       " Max.   :92.70   Max.   :92.80   Max.   :92.90   Max.   :93.00  \n",
       " NA's   :9       NA's   :9       NA's   :9       NA's   :9      \n",
       "     X2089           X2090           X2091           X2092      \n",
       " Min.   :66.20   Min.   :66.30   Min.   :66.40   Min.   :66.50  \n",
       " 1st Qu.:79.35   1st Qu.:79.53   1st Qu.:79.65   1st Qu.:79.75  \n",
       " Median :83.80   Median :83.90   Median :84.00   Median :84.10  \n",
       " Mean   :83.12   Mean   :83.24   Mean   :83.36   Mean   :83.48  \n",
       " 3rd Qu.:87.58   3rd Qu.:87.67   3rd Qu.:87.78   3rd Qu.:87.88  \n",
       " Max.   :93.20   Max.   :93.30   Max.   :93.40   Max.   :93.50  \n",
       " NA's   :9       NA's   :9       NA's   :9       NA's   :9      \n",
       "     X2093           X2094           X2095           X2096      \n",
       " Min.   :66.70   Min.   :66.80   Min.   :66.90   Min.   :67.00  \n",
       " 1st Qu.:79.92   1st Qu.:80.03   1st Qu.:80.15   1st Qu.:80.33  \n",
       " Median :84.25   Median :84.30   Median :84.50   Median :84.60  \n",
       " Mean   :83.60   Mean   :83.72   Mean   :83.84   Mean   :83.96  \n",
       " 3rd Qu.:87.97   3rd Qu.:88.08   3rd Qu.:88.17   3rd Qu.:88.30  \n",
       " Max.   :93.60   Max.   :93.70   Max.   :93.80   Max.   :94.00  \n",
       " NA's   :9       NA's   :9       NA's   :9       NA's   :9      \n",
       "     X2097           X2098           X2099           X2100      \n",
       " Min.   :67.10   Min.   :67.20   Min.   :67.30   Min.   :67.40  \n",
       " 1st Qu.:80.42   1st Qu.:80.53   1st Qu.:80.70   1st Qu.:80.80  \n",
       " Median :84.70   Median :84.80   Median :84.90   Median :85.00  \n",
       " Mean   :84.08   Mean   :84.19   Mean   :84.31   Mean   :84.43  \n",
       " 3rd Qu.:88.40   3rd Qu.:88.50   3rd Qu.:88.67   3rd Qu.:88.78  \n",
       " Max.   :94.10   Max.   :94.20   Max.   :94.30   Max.   :94.40  \n",
       " NA's   :9       NA's   :9       NA's   :9       NA's   :9      "
      ]
     },
     "metadata": {},
     "output_type": "display_data"
    }
   ],
   "source": [
    "dim(lifeExpectancyInYears)\n",
    "head(lifeExpectancyInYears)\n",
    "str(lifeExpectancyInYears)\n",
    "summary(lifeExpectancyInYears)"
   ]
  },
  {
   "cell_type": "code",
   "execution_count": 39,
   "id": "ad410ec2",
   "metadata": {},
   "outputs": [],
   "source": [
    "#Using column names as it is\n",
    "lifeExpectancyInYears <- read.csv(\"life_expectancy_years.csv\", header = T, check.names = FALSE)"
   ]
  },
  {
   "cell_type": "code",
   "execution_count": 51,
   "id": "aedc2415",
   "metadata": {},
   "outputs": [],
   "source": [
    "lifeExpectancyInYears <- read.csv(\"life_expectancy_years.csv\", header = T)"
   ]
  },
  {
   "cell_type": "code",
   "execution_count": 40,
   "id": "8d6fec44",
   "metadata": {},
   "outputs": [
    {
     "data": {
      "image/png": "[encoded data removed]",
      "text/plain": [
       "plot without title"
      ]
     },
     "metadata": {},
     "output_type": "display_data"
    }
   ],
   "source": [
    "# Plotting Data ---\n",
    "plot(lifeExpectancyInYears[,2])"
   ]
  },
  {
   "cell_type": "code",
   "execution_count": 41,
   "id": "98e9e732",
   "metadata": {},
   "outputs": [
    {
     "data": {
      "image/png": "[encoded data removed]",
      "text/plain": [
       "plot without title"
      ]
     },
     "metadata": {},
     "output_type": "display_data"
    }
   ],
   "source": [
    "plot(as.vector(unlist(lifeExpectancyInYears[162,2:302])),\n",
    "     as.vector(unlist(colnames(lifeExpectancyInYears)[2:302]))\n",
    "     ,xlab=\"Life expectancy in years\", ylab=\"Year\")"
   ]
  },
  {
   "cell_type": "code",
   "execution_count": 42,
   "id": "58ee6b73",
   "metadata": {},
   "outputs": [
    {
     "data": {
      "image/png": "[encoded data removed]",
      "text/plain": [
       "plot without title"
      ]
     },
     "metadata": {},
     "output_type": "display_data"
    },
    {
     "data": {
      "image/png": "[encoded data removed]",
      "text/plain": [
       "plot without title"
      ]
     },
     "metadata": {},
     "output_type": "display_data"
    }
   ],
   "source": [
    "plot(lifeExpectancyInYears[,2],lifeExpectancyInYears[,101])\n",
    "plot(lifeExpectancyInYears[,2],lifeExpectancyInYears[,3],xlab=\"1800\", ylab=\"1801\")\n"
   ]
  },
  {
   "cell_type": "code",
   "execution_count": 43,
   "id": "79f25c3b",
   "metadata": {},
   "outputs": [
    {
     "data": {
      "image/png": "[encoded data removed]",
      "text/plain": [
       "plot without title"
      ]
     },
     "metadata": {},
     "output_type": "display_data"
    }
   ],
   "source": [
    "plot(as.vector(unlist(lifeExpectancyInYears[162,2:302])),as.vector(unlist(lifeExpectancyInYears[3,2:302])))\n"
   ]
  },
  {
   "cell_type": "markdown",
   "id": "b1008edc",
   "metadata": {},
   "source": [
    "# Class 12th January 2023"
   ]
  },
  {
   "cell_type": "code",
   "execution_count": 52,
   "id": "dfca0aef",
   "metadata": {},
   "outputs": [
    {
     "name": "stderr",
     "output_type": "stream",
     "text": [
      "Warning message in cbind(parts$left, ellip_h, parts$right, deparse.level = 0L):\n",
      "\"number of rows of result is not a multiple of vector length (arg 2)\"Warning message in cbind(parts$left, ellip_h, parts$right, deparse.level = 0L):\n",
      "\"number of rows of result is not a multiple of vector length (arg 2)\"Warning message in cbind(parts$left, ellip_h, parts$right, deparse.level = 0L):\n",
      "\"number of rows of result is not a multiple of vector length (arg 2)\"Warning message in cbind(parts$left, ellip_h, parts$right, deparse.level = 0L):\n",
      "\"number of rows of result is not a multiple of vector length (arg 2)\""
     ]
    },
    {
     "data": {
      "text/html": [
       "<table>\n",
       "<thead><tr><th scope=col>ï..country</th><th scope=col>X1800</th><th scope=col>X1801</th><th scope=col>X1802</th><th scope=col>X1803</th><th scope=col>X1804</th><th scope=col>X1805</th><th scope=col>X1806</th><th scope=col>X1807</th><th scope=col>X1808</th><th scope=col>...</th><th scope=col>X2091</th><th scope=col>X2092</th><th scope=col>X2093</th><th scope=col>X2094</th><th scope=col>X2095</th><th scope=col>X2096</th><th scope=col>X2097</th><th scope=col>X2098</th><th scope=col>X2099</th><th scope=col>X2100</th></tr></thead>\n",
       "<tbody>\n",
       "</tbody>\n",
       "</table>\n"
      ],
      "text/latex": [
       "\\begin{tabular}{r|llllllllllllllllllllllllllllllllllllllllllllllllllllllllllllllllllllllllllllllllllllllllllllllllllllllllllllllllllllllllllllllllllllllllllllllllllllllllllllllllllllllllllllllllllllllllllllllllllllllllllllllllllllllllllllllllllllllllllllllllllllllllllllllllllllllllllllllllllllllllllllllllllllllllllllll}\n",
       " ï..country & X1800 & X1801 & X1802 & X1803 & X1804 & X1805 & X1806 & X1807 & X1808 & ... & X2091 & X2092 & X2093 & X2094 & X2095 & X2096 & X2097 & X2098 & X2099 & X2100\\\\\n",
       "\\hline\n",
       "\\end{tabular}\n"
      ],
      "text/markdown": [
       "\n",
       "| ï..country | X1800 | X1801 | X1802 | X1803 | X1804 | X1805 | X1806 | X1807 | X1808 | ... | X2091 | X2092 | X2093 | X2094 | X2095 | X2096 | X2097 | X2098 | X2099 | X2100 |\n",
       "|---|---|---|---|---|---|---|---|---|---|---|---|---|---|---|---|---|---|---|---|---|\n",
       "\n"
      ],
      "text/plain": [
       "     ï..country X1800 X1801 X1802 X1803 X1804 X1805 X1806 X1807 X1808 ... X2091\n",
       "     X2092 X2093 X2094 X2095 X2096 X2097 X2098 X2099 X2100"
      ]
     },
     "metadata": {},
     "output_type": "display_data"
    }
   ],
   "source": [
    "#subset to life expectancy in Sweden\n",
    "lifeExpectancyInYears[lifeExpectancyInYears$country==\"Sweden\",]\n"
   ]
  },
  {
   "cell_type": "code",
   "execution_count": 54,
   "id": "65351b65",
   "metadata": {},
   "outputs": [],
   "source": [
    "lifeExpectancyInYears <- read.csv(\"life_expectancy_years.csv\", header = T)\n"
   ]
  },
  {
   "cell_type": "code",
   "execution_count": 55,
   "id": "4fdfef03",
   "metadata": {},
   "outputs": [
    {
     "data": {
      "text/html": [
       "<table>\n",
       "<thead><tr><th scope=col>ï..country</th><th scope=col>X1800</th><th scope=col>X1801</th><th scope=col>X1802</th><th scope=col>X1803</th><th scope=col>X1804</th><th scope=col>X1805</th><th scope=col>X1806</th><th scope=col>X1807</th><th scope=col>X1808</th><th scope=col>...</th><th scope=col>X2091</th><th scope=col>X2092</th><th scope=col>X2093</th><th scope=col>X2094</th><th scope=col>X2095</th><th scope=col>X2096</th><th scope=col>X2097</th><th scope=col>X2098</th><th scope=col>X2099</th><th scope=col>X2100</th></tr></thead>\n",
       "<tbody>\n",
       "\t<tr><td>Afghanistan             </td><td>28.2                    </td><td>28.2                    </td><td>28.2                    </td><td>28.2                    </td><td>28.2                    </td><td>28.2                    </td><td>28.1                    </td><td>28.1                    </td><td>28.1                    </td><td>...                     </td><td>75.5                    </td><td>75.7                    </td><td>75.8                    </td><td>76.0                    </td><td>76.1                    </td><td>76.2                    </td><td>76.4                    </td><td>76.5                    </td><td>76.6                    </td><td>76.8                    </td></tr>\n",
       "\t<tr><td>Angola                  </td><td>27.0                    </td><td>27.0                    </td><td>27.0                    </td><td>27.0                    </td><td>27.0                    </td><td>27.0                    </td><td>27.0                    </td><td>27.0                    </td><td>27.0                    </td><td>...                     </td><td>78.8                    </td><td>79.0                    </td><td>79.1                    </td><td>79.2                    </td><td>79.3                    </td><td>79.5                    </td><td>79.6                    </td><td>79.7                    </td><td>79.9                    </td><td>80.0                    </td></tr>\n",
       "\t<tr><td>Albania                 </td><td>35.4                    </td><td>35.4                    </td><td>35.4                    </td><td>35.4                    </td><td>35.4                    </td><td>35.4                    </td><td>35.4                    </td><td>35.4                    </td><td>35.4                    </td><td>...                     </td><td>87.4                    </td><td>87.5                    </td><td>87.6                    </td><td>87.7                    </td><td>87.8                    </td><td>87.9                    </td><td>88.0                    </td><td>88.2                    </td><td>88.3                    </td><td>88.4                    </td></tr>\n",
       "\t<tr><td>Andorra                 </td><td>  NA                    </td><td>  NA                    </td><td>  NA                    </td><td>  NA                    </td><td>  NA                    </td><td>  NA                    </td><td>  NA                    </td><td>  NA                    </td><td>  NA                    </td><td>...                     </td><td>  NA                    </td><td>  NA                    </td><td>  NA                    </td><td>  NA                    </td><td>  NA                    </td><td>  NA                    </td><td>  NA                    </td><td>  NA                    </td><td>  NA                    </td><td>  NA                    </td></tr>\n",
       "\t<tr><td>United Arab Emirates    </td><td>30.7                    </td><td>30.7                    </td><td>30.7                    </td><td>30.7                    </td><td>30.7                    </td><td>30.7                    </td><td>30.7                    </td><td>30.7                    </td><td>30.7                    </td><td>...                     </td><td>82.4                    </td><td>82.5                    </td><td>82.6                    </td><td>82.7                    </td><td>82.8                    </td><td>82.9                    </td><td>83.0                    </td><td>83.1                    </td><td>83.2                    </td><td>83.3                    </td></tr>\n",
       "\t<tr><td>Argentina               </td><td>33.2                    </td><td>33.2                    </td><td>33.2                    </td><td>33.2                    </td><td>33.2                    </td><td>33.2                    </td><td>33.2                    </td><td>33.2                    </td><td>33.2                    </td><td>...                     </td><td>86.2                    </td><td>86.3                    </td><td>86.5                    </td><td>86.5                    </td><td>86.7                    </td><td>86.8                    </td><td>86.9                    </td><td>87.0                    </td><td>87.1                    </td><td>87.2                    </td></tr>\n",
       "\t<tr><td>Armenia                 </td><td>34.0                    </td><td>34.0                    </td><td>34.0                    </td><td>34.0                    </td><td>34.0                    </td><td>34.0                    </td><td>34.0                    </td><td>34.0                    </td><td>34.0                    </td><td>...                     </td><td>85.2                    </td><td>85.3                    </td><td>85.4                    </td><td>85.5                    </td><td>85.6                    </td><td>85.7                    </td><td>85.8                    </td><td>86.0                    </td><td>86.1                    </td><td>86.2                    </td></tr>\n",
       "\t<tr><td>Antigua and Barbuda     </td><td>33.5                    </td><td>33.5                    </td><td>33.5                    </td><td>33.5                    </td><td>33.5                    </td><td>33.5                    </td><td>33.5                    </td><td>33.5                    </td><td>33.5                    </td><td>...                     </td><td>85.0                    </td><td>85.1                    </td><td>85.2                    </td><td>85.3                    </td><td>85.4                    </td><td>85.5                    </td><td>85.6                    </td><td>85.7                    </td><td>85.8                    </td><td>85.9                    </td></tr>\n",
       "\t<tr><td>Australia               </td><td>34.0                    </td><td>34.0                    </td><td>34.0                    </td><td>34.0                    </td><td>34.0                    </td><td>34.0                    </td><td>34.0                    </td><td>34.0                    </td><td>34.0                    </td><td>...                     </td><td>91.3                    </td><td>91.4                    </td><td>91.5                    </td><td>91.6                    </td><td>91.7                    </td><td>91.8                    </td><td>91.9                    </td><td>92.0                    </td><td>92.1                    </td><td>92.3                    </td></tr>\n",
       "\t<tr><td>Austria                 </td><td>34.4                    </td><td>34.4                    </td><td>34.4                    </td><td>34.4                    </td><td>34.4                    </td><td>34.4                    </td><td>34.4                    </td><td>34.4                    </td><td>34.4                    </td><td>...                     </td><td>91.0                    </td><td>91.1                    </td><td>91.2                    </td><td>91.3                    </td><td>91.5                    </td><td>91.6                    </td><td>91.7                    </td><td>91.8                    </td><td>91.9                    </td><td>92.0                    </td></tr>\n",
       "\t<tr><td>Azerbaijan              </td><td>29.2                    </td><td>29.2                    </td><td>29.2                    </td><td>29.2                    </td><td>29.2                    </td><td>29.2                    </td><td>29.2                    </td><td>29.2                    </td><td>29.2                    </td><td>...                     </td><td>79.6                    </td><td>79.7                    </td><td>79.9                    </td><td>80.0                    </td><td>80.1                    </td><td>80.3                    </td><td>80.4                    </td><td>80.5                    </td><td>80.7                    </td><td>80.8                    </td></tr>\n",
       "\t<tr><td>Burundi                 </td><td>31.5                    </td><td>31.5                    </td><td>31.5                    </td><td>31.5                    </td><td>31.5                    </td><td>31.5                    </td><td>31.5                    </td><td>31.5                    </td><td>31.5                    </td><td>...                     </td><td>78.8                    </td><td>78.9                    </td><td>79.1                    </td><td>79.2                    </td><td>79.4                    </td><td>79.5                    </td><td>79.7                    </td><td>79.8                    </td><td>80.0                    </td><td>80.1                    </td></tr>\n",
       "\t<tr><td>Belgium                 </td><td>40.0                    </td><td>40.0                    </td><td>40.0                    </td><td>40.0                    </td><td>40.0                    </td><td>40.0                    </td><td>40.0                    </td><td>40.1                    </td><td>40.1                    </td><td>...                     </td><td>90.1                    </td><td>90.2                    </td><td>90.3                    </td><td>90.4                    </td><td>90.5                    </td><td>90.6                    </td><td>90.7                    </td><td>90.8                    </td><td>91.0                    </td><td>91.1                    </td></tr>\n",
       "\t<tr><td>Benin                   </td><td>31.0                    </td><td>31.0                    </td><td>31.0                    </td><td>31.0                    </td><td>31.0                    </td><td>31.0                    </td><td>31.0                    </td><td>31.0                    </td><td>31.0                    </td><td>...                     </td><td>76.7                    </td><td>76.8                    </td><td>77.0                    </td><td>77.1                    </td><td>77.2                    </td><td>77.3                    </td><td>77.5                    </td><td>77.6                    </td><td>77.7                    </td><td>77.9                    </td></tr>\n",
       "\t<tr><td>Burkina Faso            </td><td>29.2                    </td><td>29.2                    </td><td>29.2                    </td><td>29.2                    </td><td>29.2                    </td><td>29.2                    </td><td>29.2                    </td><td>29.2                    </td><td>29.2                    </td><td>...                     </td><td>76.2                    </td><td>76.3                    </td><td>76.4                    </td><td>76.6                    </td><td>76.7                    </td><td>76.8                    </td><td>77.0                    </td><td>77.1                    </td><td>77.2                    </td><td>77.3                    </td></tr>\n",
       "\t<tr><td>Bangladesh              </td><td>25.5                    </td><td>25.5                    </td><td>25.5                    </td><td>25.5                    </td><td>25.5                    </td><td>25.5                    </td><td>25.5                    </td><td>25.5                    </td><td>25.5                    </td><td>...                     </td><td>87.7                    </td><td>87.8                    </td><td>87.9                    </td><td>88.0                    </td><td>88.1                    </td><td>88.3                    </td><td>88.4                    </td><td>88.5                    </td><td>88.6                    </td><td>88.7                    </td></tr>\n",
       "\t<tr><td>Bulgaria                </td><td>35.8                    </td><td>35.8                    </td><td>35.9                    </td><td>35.9                    </td><td>36.0                    </td><td>36.0                    </td><td>36.1                    </td><td>36.1                    </td><td>36.1                    </td><td>...                     </td><td>82.4                    </td><td>82.5                    </td><td>82.6                    </td><td>82.7                    </td><td>82.8                    </td><td>82.9                    </td><td>83.0                    </td><td>83.1                    </td><td>83.2                    </td><td>83.3                    </td></tr>\n",
       "\t<tr><td>Bahrain                 </td><td>30.3                    </td><td>30.3                    </td><td>30.3                    </td><td>30.3                    </td><td>30.3                    </td><td>30.3                    </td><td>30.3                    </td><td>30.3                    </td><td>30.3                    </td><td>...                     </td><td>85.5                    </td><td>85.6                    </td><td>85.7                    </td><td>85.8                    </td><td>85.9                    </td><td>86.0                    </td><td>86.1                    </td><td>86.2                    </td><td>86.3                    </td><td>86.4                    </td></tr>\n",
       "\t<tr><td>Bahamas                 </td><td>35.2                    </td><td>35.2                    </td><td>35.2                    </td><td>35.2                    </td><td>35.2                    </td><td>35.2                    </td><td>35.2                    </td><td>35.2                    </td><td>35.2                    </td><td>...                     </td><td>82.1                    </td><td>82.2                    </td><td>82.3                    </td><td>82.4                    </td><td>82.5                    </td><td>82.7                    </td><td>82.8                    </td><td>82.9                    </td><td>83.0                    </td><td>83.1                    </td></tr>\n",
       "\t<tr><td>Bosnia and Herzegovina  </td><td>35.1                    </td><td>35.1                    </td><td>35.1                    </td><td>35.1                    </td><td>35.1                    </td><td>35.1                    </td><td>35.1                    </td><td>35.1                    </td><td>35.1                    </td><td>...                     </td><td>86.4                    </td><td>86.5                    </td><td>86.6                    </td><td>86.7                    </td><td>86.8                    </td><td>86.9                    </td><td>87.0                    </td><td>87.2                    </td><td>87.3                    </td><td>87.3                    </td></tr>\n",
       "\t<tr><td>Belarus                 </td><td>36.2                    </td><td>36.2                    </td><td>36.2                    </td><td>36.2                    </td><td>36.2                    </td><td>36.2                    </td><td>36.2                    </td><td>36.2                    </td><td>36.2                    </td><td>...                     </td><td>83.4                    </td><td>83.5                    </td><td>83.6                    </td><td>83.7                    </td><td>83.8                    </td><td>83.9                    </td><td>84.0                    </td><td>84.1                    </td><td>84.2                    </td><td>84.3                    </td></tr>\n",
       "\t<tr><td>Belize                  </td><td>26.5                    </td><td>26.5                    </td><td>26.5                    </td><td>26.5                    </td><td>26.5                    </td><td>26.5                    </td><td>26.5                    </td><td>26.5                    </td><td>26.5                    </td><td>...                     </td><td>84.5                    </td><td>84.6                    </td><td>84.7                    </td><td>84.8                    </td><td>84.9                    </td><td>85.0                    </td><td>85.1                    </td><td>85.2                    </td><td>85.3                    </td><td>85.5                    </td></tr>\n",
       "\t<tr><td>Bolivia                 </td><td>33.0                    </td><td>33.0                    </td><td>33.0                    </td><td>33.0                    </td><td>33.0                    </td><td>33.0                    </td><td>33.0                    </td><td>33.0                    </td><td>33.0                    </td><td>...                     </td><td>84.0                    </td><td>84.1                    </td><td>84.3                    </td><td>84.4                    </td><td>84.5                    </td><td>84.6                    </td><td>84.7                    </td><td>84.8                    </td><td>85.0                    </td><td>85.1                    </td></tr>\n",
       "\t<tr><td>Brazil                  </td><td>32.0                    </td><td>32.0                    </td><td>32.0                    </td><td>32.0                    </td><td>32.0                    </td><td>32.0                    </td><td>32.0                    </td><td>32.0                    </td><td>32.0                    </td><td>...                     </td><td>86.9                    </td><td>87.0                    </td><td>87.2                    </td><td>87.3                    </td><td>87.4                    </td><td>87.5                    </td><td>87.6                    </td><td>87.7                    </td><td>87.8                    </td><td>88.0                    </td></tr>\n",
       "\t<tr><td>Barbados                </td><td>32.1                    </td><td>32.1                    </td><td>32.1                    </td><td>32.1                    </td><td>32.1                    </td><td>32.1                    </td><td>32.1                    </td><td>32.1                    </td><td>32.1                    </td><td>...                     </td><td>84.5                    </td><td>84.6                    </td><td>84.7                    </td><td>84.8                    </td><td>84.9                    </td><td>85.0                    </td><td>85.1                    </td><td>85.2                    </td><td>85.3                    </td><td>85.4                    </td></tr>\n",
       "\t<tr><td>Brunei                  </td><td>29.2                    </td><td>29.2                    </td><td>29.2                    </td><td>29.2                    </td><td>29.2                    </td><td>29.2                    </td><td>29.2                    </td><td>29.2                    </td><td>29.2                    </td><td>...                     </td><td>83.4                    </td><td>83.5                    </td><td>83.6                    </td><td>83.7                    </td><td>83.8                    </td><td>83.9                    </td><td>84.0                    </td><td>84.1                    </td><td>84.2                    </td><td>84.3                    </td></tr>\n",
       "\t<tr><td>Bhutan                  </td><td>28.8                    </td><td>28.8                    </td><td>28.8                    </td><td>28.8                    </td><td>28.8                    </td><td>28.8                    </td><td>28.8                    </td><td>28.8                    </td><td>28.8                    </td><td>...                     </td><td>85.2                    </td><td>85.3                    </td><td>85.5                    </td><td>85.6                    </td><td>85.7                    </td><td>85.8                    </td><td>86.0                    </td><td>86.1                    </td><td>86.2                    </td><td>86.3                    </td></tr>\n",
       "\t<tr><td>Botswana                </td><td>33.6                    </td><td>33.6                    </td><td>33.6                    </td><td>33.6                    </td><td>33.6                    </td><td>33.6                    </td><td>33.6                    </td><td>33.6                    </td><td>33.6                    </td><td>...                     </td><td>70.5                    </td><td>70.6                    </td><td>70.7                    </td><td>70.8                    </td><td>71.0                    </td><td>71.1                    </td><td>71.2                    </td><td>71.3                    </td><td>71.5                    </td><td>71.6                    </td></tr>\n",
       "\t<tr><td>Central African Republic</td><td>30.0                    </td><td>30.0                    </td><td>30.0                    </td><td>30.0                    </td><td>30.0                    </td><td>30.0                    </td><td>30.0                    </td><td>30.0                    </td><td>30.0                    </td><td>...                     </td><td>66.4                    </td><td>66.5                    </td><td>66.7                    </td><td>66.8                    </td><td>66.9                    </td><td>67.0                    </td><td>67.1                    </td><td>67.2                    </td><td>67.3                    </td><td>67.4                    </td></tr>\n",
       "\t<tr><td>Canada                  </td><td>39.0                    </td><td>39.0                    </td><td>39.0                    </td><td>39.0                    </td><td>39.0                    </td><td>39.0                    </td><td>39.0                    </td><td>39.0                    </td><td>39.0                    </td><td>...                     </td><td>90.6                    </td><td>90.7                    </td><td>90.8                    </td><td>90.9                    </td><td>91.0                    </td><td>91.2                    </td><td>91.3                    </td><td>91.4                    </td><td>91.5                    </td><td>91.6                    </td></tr>\n",
       "\t<tr><td>...</td><td>...</td><td>...</td><td>...</td><td>...</td><td>...</td><td>...</td><td>...</td><td>...</td><td>...</td><td>   </td><td>...</td><td>...</td><td>...</td><td>...</td><td>...</td><td>...</td><td>...</td><td>...</td><td>...</td><td>...</td></tr>\n",
       "\t<tr><td>Eswatini                      </td><td>32.3                          </td><td>32.3                          </td><td>32.3                          </td><td>32.3                          </td><td>32.3                          </td><td>32.3                          </td><td>32.3                          </td><td>32.3                          </td><td>32.3                          </td><td>...                           </td><td>70.8                          </td><td>70.9                          </td><td>71.0                          </td><td>71.1                          </td><td>71.2                          </td><td>71.3                          </td><td>71.5                          </td><td>71.6                          </td><td>71.7                          </td><td>71.8                          </td></tr>\n",
       "\t<tr><td>Seychelles                    </td><td>37.0                          </td><td>37.0                          </td><td>37.0                          </td><td>37.0                          </td><td>37.0                          </td><td>37.0                          </td><td>37.0                          </td><td>37.0                          </td><td>37.0                          </td><td>...                           </td><td>83.7                          </td><td>83.8                          </td><td>84.0                          </td><td>84.1                          </td><td>84.2                          </td><td>84.3                          </td><td>84.4                          </td><td>84.5                          </td><td>84.7                          </td><td>84.8                          </td></tr>\n",
       "\t<tr><td>Syria                         </td><td>31.1                          </td><td>31.1                          </td><td>31.1                          </td><td>31.1                          </td><td>31.1                          </td><td>31.1                          </td><td>31.1                          </td><td>31.1                          </td><td>31.1                          </td><td>...                           </td><td>86.9                          </td><td>87.0                          </td><td>87.1                          </td><td>87.2                          </td><td>87.3                          </td><td>87.5                          </td><td>87.6                          </td><td>87.7                          </td><td>87.8                          </td><td>87.9                          </td></tr>\n",
       "\t<tr><td>Chad                          </td><td>30.9                          </td><td>30.9                          </td><td>30.9                          </td><td>30.9                          </td><td>30.9                          </td><td>30.9                          </td><td>30.9                          </td><td>30.9                          </td><td>30.9                          </td><td>...                           </td><td>76.4                          </td><td>76.5                          </td><td>76.7                          </td><td>76.8                          </td><td>77.0                          </td><td>77.1                          </td><td>77.2                          </td><td>77.4                          </td><td>77.5                          </td><td>77.6                          </td></tr>\n",
       "\t<tr><td>Togo                          </td><td>31.3                          </td><td>31.3                          </td><td>31.3                          </td><td>31.3                          </td><td>31.3                          </td><td>31.3                          </td><td>31.3                          </td><td>31.3                          </td><td>31.3                          </td><td>...                           </td><td>77.9                          </td><td>78.0                          </td><td>78.2                          </td><td>78.3                          </td><td>78.5                          </td><td>78.6                          </td><td>78.7                          </td><td>78.9                          </td><td>79.0                          </td><td>79.1                          </td></tr>\n",
       "\t<tr><td>Thailand                      </td><td>30.4                          </td><td>30.4                          </td><td>30.4                          </td><td>30.4                          </td><td>30.4                          </td><td>30.4                          </td><td>30.4                          </td><td>30.4                          </td><td>30.4                          </td><td>...                           </td><td>88.8                          </td><td>88.9                          </td><td>89.0                          </td><td>89.2                          </td><td>89.3                          </td><td>89.4                          </td><td>89.5                          </td><td>89.6                          </td><td>89.7                          </td><td>89.8                          </td></tr>\n",
       "\t<tr><td>Tajikistan                    </td><td>24.2                          </td><td>24.2                          </td><td>24.2                          </td><td>24.2                          </td><td>24.2                          </td><td>24.2                          </td><td>24.2                          </td><td>24.2                          </td><td>24.2                          </td><td>...                           </td><td>80.1                          </td><td>80.3                          </td><td>80.4                          </td><td>80.5                          </td><td>80.6                          </td><td>80.8                          </td><td>80.9                          </td><td>81.0                          </td><td>81.1                          </td><td>81.3                          </td></tr>\n",
       "\t<tr><td>Turkmenistan                  </td><td>24.0                          </td><td>24.0                          </td><td>24.0                          </td><td>24.0                          </td><td>24.0                          </td><td>24.0                          </td><td>24.0                          </td><td>24.0                          </td><td>24.0                          </td><td>...                           </td><td>80.0                          </td><td>80.2                          </td><td>80.3                          </td><td>80.5                          </td><td>80.6                          </td><td>80.7                          </td><td>80.9                          </td><td>81.0                          </td><td>81.2                          </td><td>81.3                          </td></tr>\n",
       "\t<tr><td>Timor-Leste                   </td><td>28.9                          </td><td>28.9                          </td><td>28.9                          </td><td>28.9                          </td><td>28.9                          </td><td>28.9                          </td><td>28.9                          </td><td>28.9                          </td><td>28.9                          </td><td>...                           </td><td>81.2                          </td><td>81.3                          </td><td>81.5                          </td><td>81.6                          </td><td>81.7                          </td><td>81.9                          </td><td>82.0                          </td><td>82.1                          </td><td>82.3                          </td><td>82.4                          </td></tr>\n",
       "\t<tr><td>Tonga                         </td><td>28.2                          </td><td>28.2                          </td><td>28.2                          </td><td>28.2                          </td><td>28.2                          </td><td>28.2                          </td><td>28.2                          </td><td>28.2                          </td><td>28.2                          </td><td>...                           </td><td>81.5                          </td><td>81.6                          </td><td>81.8                          </td><td>81.9                          </td><td>82.0                          </td><td>82.2                          </td><td>82.3                          </td><td>82.5                          </td><td>82.6                          </td><td>82.7                          </td></tr>\n",
       "\t<tr><td>Trinidad and Tobago           </td><td>32.9                          </td><td>32.9                          </td><td>32.9                          </td><td>32.9                          </td><td>32.9                          </td><td>32.9                          </td><td>32.9                          </td><td>32.9                          </td><td>32.9                          </td><td>...                           </td><td>84.5                          </td><td>84.6                          </td><td>84.8                          </td><td>84.9                          </td><td>85.0                          </td><td>85.1                          </td><td>85.3                          </td><td>85.4                          </td><td>85.5                          </td><td>85.6                          </td></tr>\n",
       "\t<tr><td>Tunisia                       </td><td>28.8                          </td><td>28.8                          </td><td>28.8                          </td><td>28.8                          </td><td>28.8                          </td><td>28.8                          </td><td>28.8                          </td><td>28.8                          </td><td>28.8                          </td><td>...                           </td><td>88.0                          </td><td>88.1                          </td><td>88.2                          </td><td>88.3                          </td><td>88.4                          </td><td>88.5                          </td><td>88.6                          </td><td>88.7                          </td><td>88.8                          </td><td>88.9                          </td></tr>\n",
       "\t<tr><td>Turkey                        </td><td>35.0                          </td><td>35.0                          </td><td>35.0                          </td><td>35.0                          </td><td>35.0                          </td><td>35.0                          </td><td>35.0                          </td><td>35.0                          </td><td>35.0                          </td><td>...                           </td><td>89.5                          </td><td>89.7                          </td><td>89.8                          </td><td>89.9                          </td><td>90.0                          </td><td>90.1                          </td><td>90.2                          </td><td>90.3                          </td><td>90.4                          </td><td>90.5                          </td></tr>\n",
       "\t<tr><td>Tuvalu                        </td><td>  NA                          </td><td>  NA                          </td><td>  NA                          </td><td>  NA                          </td><td>  NA                          </td><td>  NA                          </td><td>  NA                          </td><td>  NA                          </td><td>  NA                          </td><td>...                           </td><td>  NA                          </td><td>  NA                          </td><td>  NA                          </td><td>  NA                          </td><td>  NA                          </td><td>  NA                          </td><td>  NA                          </td><td>  NA                          </td><td>  NA                          </td><td>  NA                          </td></tr>\n",
       "\t<tr><td>Taiwan                        </td><td>28.3                          </td><td>28.3                          </td><td>28.3                          </td><td>28.3                          </td><td>28.3                          </td><td>28.3                          </td><td>28.3                          </td><td>28.3                          </td><td>28.3                          </td><td>...                           </td><td>89.5                          </td><td>89.6                          </td><td>89.7                          </td><td>89.8                          </td><td>89.9                          </td><td>90.0                          </td><td>90.1                          </td><td>90.3                          </td><td>90.4                          </td><td>90.5                          </td></tr>\n",
       "\t<tr><td>Tanzania                      </td><td>32.2                          </td><td>32.2                          </td><td>32.2                          </td><td>32.2                          </td><td>32.2                          </td><td>32.2                          </td><td>32.2                          </td><td>32.2                          </td><td>32.2                          </td><td>...                           </td><td>80.6                          </td><td>80.8                          </td><td>80.9                          </td><td>81.1                          </td><td>81.2                          </td><td>81.4                          </td><td>81.5                          </td><td>81.7                          </td><td>81.8                          </td><td>82.0                          </td></tr>\n",
       "\t<tr><td>Uganda                        </td><td>25.3                          </td><td>25.3                          </td><td>25.3                          </td><td>25.3                          </td><td>25.3                          </td><td>25.3                          </td><td>25.3                          </td><td>25.3                          </td><td>25.3                          </td><td>...                           </td><td>80.4                          </td><td>80.6                          </td><td>80.7                          </td><td>80.9                          </td><td>81.0                          </td><td>81.2                          </td><td>81.3                          </td><td>81.5                          </td><td>81.6                          </td><td>81.8                          </td></tr>\n",
       "\t<tr><td>Ukraine                       </td><td>36.6                          </td><td>36.6                          </td><td>36.6                          </td><td>36.6                          </td><td>36.6                          </td><td>36.6                          </td><td>36.6                          </td><td>36.6                          </td><td>36.6                          </td><td>...                           </td><td>84.0                          </td><td>84.2                          </td><td>84.3                          </td><td>84.4                          </td><td>84.5                          </td><td>84.7                          </td><td>84.8                          </td><td>84.9                          </td><td>85.0                          </td><td>85.1                          </td></tr>\n",
       "\t<tr><td>Uruguay                       </td><td>32.9                          </td><td>32.9                          </td><td>32.9                          </td><td>32.9                          </td><td>32.9                          </td><td>32.9                          </td><td>32.9                          </td><td>32.9                          </td><td>32.9                          </td><td>...                           </td><td>86.8                          </td><td>86.9                          </td><td>87.0                          </td><td>87.1                          </td><td>87.2                          </td><td>87.3                          </td><td>87.5                          </td><td>87.6                          </td><td>87.7                          </td><td>87.8                          </td></tr>\n",
       "\t<tr><td>United States                 </td><td>39.4                          </td><td>39.4                          </td><td>39.4                          </td><td>39.4                          </td><td>39.4                          </td><td>39.4                          </td><td>39.4                          </td><td>39.4                          </td><td>39.4                          </td><td>...                           </td><td>88.0                          </td><td>88.1                          </td><td>88.2                          </td><td>88.3                          </td><td>88.4                          </td><td>88.5                          </td><td>88.6                          </td><td>88.7                          </td><td>88.8                          </td><td>88.9                          </td></tr>\n",
       "\t<tr><td>Uzbekistan                    </td><td>26.9                          </td><td>26.9                          </td><td>26.9                          </td><td>26.9                          </td><td>26.9                          </td><td>26.9                          </td><td>26.9                          </td><td>26.9                          </td><td>26.9                          </td><td>...                           </td><td>76.3                          </td><td>76.5                          </td><td>76.6                          </td><td>76.7                          </td><td>76.9                          </td><td>77.0                          </td><td>77.1                          </td><td>77.2                          </td><td>77.3                          </td><td>77.5                          </td></tr>\n",
       "\t<tr><td>St. Vincent and the Grenadines</td><td>26.0                          </td><td>26.0                          </td><td>26.0                          </td><td>26.0                          </td><td>26.0                          </td><td>26.0                          </td><td>26.0                          </td><td>26.0                          </td><td>26.0                          </td><td>...                           </td><td>82.3                          </td><td>82.5                          </td><td>82.6                          </td><td>82.8                          </td><td>82.9                          </td><td>83.0                          </td><td>83.1                          </td><td>83.3                          </td><td>83.4                          </td><td>83.5                          </td></tr>\n",
       "\t<tr><td>Venezuela                     </td><td>32.2                          </td><td>32.2                          </td><td>32.2                          </td><td>32.2                          </td><td>32.2                          </td><td>32.2                          </td><td>32.2                          </td><td>32.2                          </td><td>32.2                          </td><td>...                           </td><td>86.2                          </td><td>86.3                          </td><td>86.4                          </td><td>86.5                          </td><td>86.7                          </td><td>86.8                          </td><td>86.9                          </td><td>87.0                          </td><td>87.2                          </td><td>87.3                          </td></tr>\n",
       "\t<tr><td>Vietnam                       </td><td>32.0                          </td><td>32.0                          </td><td>32.0                          </td><td>32.0                          </td><td>32.0                          </td><td>32.0                          </td><td>32.0                          </td><td>32.0                          </td><td>32.0                          </td><td>...                           </td><td>84.0                          </td><td>84.2                          </td><td>84.3                          </td><td>84.4                          </td><td>84.5                          </td><td>84.6                          </td><td>84.7                          </td><td>84.8                          </td><td>84.9                          </td><td>85.0                          </td></tr>\n",
       "\t<tr><td>Vanuatu                       </td><td>24.3                          </td><td>24.3                          </td><td>24.3                          </td><td>24.3                          </td><td>24.3                          </td><td>24.3                          </td><td>24.3                          </td><td>24.3                          </td><td>24.3                          </td><td>...                           </td><td>74.0                          </td><td>74.1                          </td><td>74.2                          </td><td>74.3                          </td><td>74.5                          </td><td>74.6                          </td><td>74.7                          </td><td>74.8                          </td><td>74.9                          </td><td>75.1                          </td></tr>\n",
       "\t<tr><td>Samoa                         </td><td>25.4                          </td><td>25.4                          </td><td>25.4                          </td><td>25.4                          </td><td>25.4                          </td><td>25.4                          </td><td>25.4                          </td><td>25.4                          </td><td>25.4                          </td><td>...                           </td><td>79.8                          </td><td>79.9                          </td><td>80.0                          </td><td>80.1                          </td><td>80.3                          </td><td>80.4                          </td><td>80.5                          </td><td>80.6                          </td><td>80.7                          </td><td>80.8                          </td></tr>\n",
       "\t<tr><td>Yemen                         </td><td>23.4                          </td><td>23.4                          </td><td>23.4                          </td><td>23.4                          </td><td>23.4                          </td><td>23.4                          </td><td>23.4                          </td><td>23.4                          </td><td>23.4                          </td><td>...                           </td><td>76.9                          </td><td>77.0                          </td><td>77.1                          </td><td>77.3                          </td><td>77.4                          </td><td>77.5                          </td><td>77.6                          </td><td>77.8                          </td><td>77.9                          </td><td>78.0                          </td></tr>\n",
       "\t<tr><td>South Africa                  </td><td>33.5                          </td><td>33.5                          </td><td>33.5                          </td><td>33.5                          </td><td>33.5                          </td><td>33.5                          </td><td>33.5                          </td><td>33.5                          </td><td>33.5                          </td><td>...                           </td><td>76.4                          </td><td>76.5                          </td><td>76.7                          </td><td>76.8                          </td><td>77.0                          </td><td>77.1                          </td><td>77.3                          </td><td>77.4                          </td><td>77.5                          </td><td>77.7                          </td></tr>\n",
       "\t<tr><td>Zambia                        </td><td>32.6                          </td><td>32.6                          </td><td>32.6                          </td><td>32.6                          </td><td>32.6                          </td><td>32.6                          </td><td>32.6                          </td><td>32.6                          </td><td>32.6                          </td><td>...                           </td><td>75.8                          </td><td>76.0                          </td><td>76.1                          </td><td>76.3                          </td><td>76.4                          </td><td>76.5                          </td><td>76.7                          </td><td>76.8                          </td><td>77.0                          </td><td>77.1                          </td></tr>\n",
       "\t<tr><td>Zimbabwe                      </td><td>33.7                          </td><td>33.7                          </td><td>33.7                          </td><td>33.7                          </td><td>33.7                          </td><td>33.7                          </td><td>33.7                          </td><td>33.7                          </td><td>33.7                          </td><td>...                           </td><td>73.3                          </td><td>73.4                          </td><td>73.5                          </td><td>73.7                          </td><td>73.8                          </td><td>73.9                          </td><td>74.0                          </td><td>74.2                          </td><td>74.3                          </td><td>74.4                          </td></tr>\n",
       "</tbody>\n",
       "</table>\n"
      ],
      "text/latex": [
       "\\begin{tabular}{r|llllllllllllllllllllllllllllllllllllllllllllllllllllllllllllllllllllllllllllllllllllllllllllllllllllllllllllllllllllllllllllllllllllllllllllllllllllllllllllllllllllllllllllllllllllllllllllllllllllllllllllllllllllllllllllllllllllllllllllllllllllllllllllllllllllllllllllllllllllllllllllllllllllllllllllll}\n",
       " ï..country & X1800 & X1801 & X1802 & X1803 & X1804 & X1805 & X1806 & X1807 & X1808 & ... & X2091 & X2092 & X2093 & X2094 & X2095 & X2096 & X2097 & X2098 & X2099 & X2100\\\\\n",
       "\\hline\n",
       "\t Afghanistan              & 28.2                     & 28.2                     & 28.2                     & 28.2                     & 28.2                     & 28.2                     & 28.1                     & 28.1                     & 28.1                     & ...                      & 75.5                     & 75.7                     & 75.8                     & 76.0                     & 76.1                     & 76.2                     & 76.4                     & 76.5                     & 76.6                     & 76.8                    \\\\\n",
       "\t Angola                   & 27.0                     & 27.0                     & 27.0                     & 27.0                     & 27.0                     & 27.0                     & 27.0                     & 27.0                     & 27.0                     & ...                      & 78.8                     & 79.0                     & 79.1                     & 79.2                     & 79.3                     & 79.5                     & 79.6                     & 79.7                     & 79.9                     & 80.0                    \\\\\n",
       "\t Albania                  & 35.4                     & 35.4                     & 35.4                     & 35.4                     & 35.4                     & 35.4                     & 35.4                     & 35.4                     & 35.4                     & ...                      & 87.4                     & 87.5                     & 87.6                     & 87.7                     & 87.8                     & 87.9                     & 88.0                     & 88.2                     & 88.3                     & 88.4                    \\\\\n",
       "\t Andorra                  &   NA                     &   NA                     &   NA                     &   NA                     &   NA                     &   NA                     &   NA                     &   NA                     &   NA                     & ...                      &   NA                     &   NA                     &   NA                     &   NA                     &   NA                     &   NA                     &   NA                     &   NA                     &   NA                     &   NA                    \\\\\n",
       "\t United Arab Emirates     & 30.7                     & 30.7                     & 30.7                     & 30.7                     & 30.7                     & 30.7                     & 30.7                     & 30.7                     & 30.7                     & ...                      & 82.4                     & 82.5                     & 82.6                     & 82.7                     & 82.8                     & 82.9                     & 83.0                     & 83.1                     & 83.2                     & 83.3                    \\\\\n",
       "\t Argentina                & 33.2                     & 33.2                     & 33.2                     & 33.2                     & 33.2                     & 33.2                     & 33.2                     & 33.2                     & 33.2                     & ...                      & 86.2                     & 86.3                     & 86.5                     & 86.5                     & 86.7                     & 86.8                     & 86.9                     & 87.0                     & 87.1                     & 87.2                    \\\\\n",
       "\t Armenia                  & 34.0                     & 34.0                     & 34.0                     & 34.0                     & 34.0                     & 34.0                     & 34.0                     & 34.0                     & 34.0                     & ...                      & 85.2                     & 85.3                     & 85.4                     & 85.5                     & 85.6                     & 85.7                     & 85.8                     & 86.0                     & 86.1                     & 86.2                    \\\\\n",
       "\t Antigua and Barbuda      & 33.5                     & 33.5                     & 33.5                     & 33.5                     & 33.5                     & 33.5                     & 33.5                     & 33.5                     & 33.5                     & ...                      & 85.0                     & 85.1                     & 85.2                     & 85.3                     & 85.4                     & 85.5                     & 85.6                     & 85.7                     & 85.8                     & 85.9                    \\\\\n",
       "\t Australia                & 34.0                     & 34.0                     & 34.0                     & 34.0                     & 34.0                     & 34.0                     & 34.0                     & 34.0                     & 34.0                     & ...                      & 91.3                     & 91.4                     & 91.5                     & 91.6                     & 91.7                     & 91.8                     & 91.9                     & 92.0                     & 92.1                     & 92.3                    \\\\\n",
       "\t Austria                  & 34.4                     & 34.4                     & 34.4                     & 34.4                     & 34.4                     & 34.4                     & 34.4                     & 34.4                     & 34.4                     & ...                      & 91.0                     & 91.1                     & 91.2                     & 91.3                     & 91.5                     & 91.6                     & 91.7                     & 91.8                     & 91.9                     & 92.0                    \\\\\n",
       "\t Azerbaijan               & 29.2                     & 29.2                     & 29.2                     & 29.2                     & 29.2                     & 29.2                     & 29.2                     & 29.2                     & 29.2                     & ...                      & 79.6                     & 79.7                     & 79.9                     & 80.0                     & 80.1                     & 80.3                     & 80.4                     & 80.5                     & 80.7                     & 80.8                    \\\\\n",
       "\t Burundi                  & 31.5                     & 31.5                     & 31.5                     & 31.5                     & 31.5                     & 31.5                     & 31.5                     & 31.5                     & 31.5                     & ...                      & 78.8                     & 78.9                     & 79.1                     & 79.2                     & 79.4                     & 79.5                     & 79.7                     & 79.8                     & 80.0                     & 80.1                    \\\\\n",
       "\t Belgium                  & 40.0                     & 40.0                     & 40.0                     & 40.0                     & 40.0                     & 40.0                     & 40.0                     & 40.1                     & 40.1                     & ...                      & 90.1                     & 90.2                     & 90.3                     & 90.4                     & 90.5                     & 90.6                     & 90.7                     & 90.8                     & 91.0                     & 91.1                    \\\\\n",
       "\t Benin                    & 31.0                     & 31.0                     & 31.0                     & 31.0                     & 31.0                     & 31.0                     & 31.0                     & 31.0                     & 31.0                     & ...                      & 76.7                     & 76.8                     & 77.0                     & 77.1                     & 77.2                     & 77.3                     & 77.5                     & 77.6                     & 77.7                     & 77.9                    \\\\\n",
       "\t Burkina Faso             & 29.2                     & 29.2                     & 29.2                     & 29.2                     & 29.2                     & 29.2                     & 29.2                     & 29.2                     & 29.2                     & ...                      & 76.2                     & 76.3                     & 76.4                     & 76.6                     & 76.7                     & 76.8                     & 77.0                     & 77.1                     & 77.2                     & 77.3                    \\\\\n",
       "\t Bangladesh               & 25.5                     & 25.5                     & 25.5                     & 25.5                     & 25.5                     & 25.5                     & 25.5                     & 25.5                     & 25.5                     & ...                      & 87.7                     & 87.8                     & 87.9                     & 88.0                     & 88.1                     & 88.3                     & 88.4                     & 88.5                     & 88.6                     & 88.7                    \\\\\n",
       "\t Bulgaria                 & 35.8                     & 35.8                     & 35.9                     & 35.9                     & 36.0                     & 36.0                     & 36.1                     & 36.1                     & 36.1                     & ...                      & 82.4                     & 82.5                     & 82.6                     & 82.7                     & 82.8                     & 82.9                     & 83.0                     & 83.1                     & 83.2                     & 83.3                    \\\\\n",
       "\t Bahrain                  & 30.3                     & 30.3                     & 30.3                     & 30.3                     & 30.3                     & 30.3                     & 30.3                     & 30.3                     & 30.3                     & ...                      & 85.5                     & 85.6                     & 85.7                     & 85.8                     & 85.9                     & 86.0                     & 86.1                     & 86.2                     & 86.3                     & 86.4                    \\\\\n",
       "\t Bahamas                  & 35.2                     & 35.2                     & 35.2                     & 35.2                     & 35.2                     & 35.2                     & 35.2                     & 35.2                     & 35.2                     & ...                      & 82.1                     & 82.2                     & 82.3                     & 82.4                     & 82.5                     & 82.7                     & 82.8                     & 82.9                     & 83.0                     & 83.1                    \\\\\n",
       "\t Bosnia and Herzegovina   & 35.1                     & 35.1                     & 35.1                     & 35.1                     & 35.1                     & 35.1                     & 35.1                     & 35.1                     & 35.1                     & ...                      & 86.4                     & 86.5                     & 86.6                     & 86.7                     & 86.8                     & 86.9                     & 87.0                     & 87.2                     & 87.3                     & 87.3                    \\\\\n",
       "\t Belarus                  & 36.2                     & 36.2                     & 36.2                     & 36.2                     & 36.2                     & 36.2                     & 36.2                     & 36.2                     & 36.2                     & ...                      & 83.4                     & 83.5                     & 83.6                     & 83.7                     & 83.8                     & 83.9                     & 84.0                     & 84.1                     & 84.2                     & 84.3                    \\\\\n",
       "\t Belize                   & 26.5                     & 26.5                     & 26.5                     & 26.5                     & 26.5                     & 26.5                     & 26.5                     & 26.5                     & 26.5                     & ...                      & 84.5                     & 84.6                     & 84.7                     & 84.8                     & 84.9                     & 85.0                     & 85.1                     & 85.2                     & 85.3                     & 85.5                    \\\\\n",
       "\t Bolivia                  & 33.0                     & 33.0                     & 33.0                     & 33.0                     & 33.0                     & 33.0                     & 33.0                     & 33.0                     & 33.0                     & ...                      & 84.0                     & 84.1                     & 84.3                     & 84.4                     & 84.5                     & 84.6                     & 84.7                     & 84.8                     & 85.0                     & 85.1                    \\\\\n",
       "\t Brazil                   & 32.0                     & 32.0                     & 32.0                     & 32.0                     & 32.0                     & 32.0                     & 32.0                     & 32.0                     & 32.0                     & ...                      & 86.9                     & 87.0                     & 87.2                     & 87.3                     & 87.4                     & 87.5                     & 87.6                     & 87.7                     & 87.8                     & 88.0                    \\\\\n",
       "\t Barbados                 & 32.1                     & 32.1                     & 32.1                     & 32.1                     & 32.1                     & 32.1                     & 32.1                     & 32.1                     & 32.1                     & ...                      & 84.5                     & 84.6                     & 84.7                     & 84.8                     & 84.9                     & 85.0                     & 85.1                     & 85.2                     & 85.3                     & 85.4                    \\\\\n",
       "\t Brunei                   & 29.2                     & 29.2                     & 29.2                     & 29.2                     & 29.2                     & 29.2                     & 29.2                     & 29.2                     & 29.2                     & ...                      & 83.4                     & 83.5                     & 83.6                     & 83.7                     & 83.8                     & 83.9                     & 84.0                     & 84.1                     & 84.2                     & 84.3                    \\\\\n",
       "\t Bhutan                   & 28.8                     & 28.8                     & 28.8                     & 28.8                     & 28.8                     & 28.8                     & 28.8                     & 28.8                     & 28.8                     & ...                      & 85.2                     & 85.3                     & 85.5                     & 85.6                     & 85.7                     & 85.8                     & 86.0                     & 86.1                     & 86.2                     & 86.3                    \\\\\n",
       "\t Botswana                 & 33.6                     & 33.6                     & 33.6                     & 33.6                     & 33.6                     & 33.6                     & 33.6                     & 33.6                     & 33.6                     & ...                      & 70.5                     & 70.6                     & 70.7                     & 70.8                     & 71.0                     & 71.1                     & 71.2                     & 71.3                     & 71.5                     & 71.6                    \\\\\n",
       "\t Central African Republic & 30.0                     & 30.0                     & 30.0                     & 30.0                     & 30.0                     & 30.0                     & 30.0                     & 30.0                     & 30.0                     & ...                      & 66.4                     & 66.5                     & 66.7                     & 66.8                     & 66.9                     & 67.0                     & 67.1                     & 67.2                     & 67.3                     & 67.4                    \\\\\n",
       "\t Canada                   & 39.0                     & 39.0                     & 39.0                     & 39.0                     & 39.0                     & 39.0                     & 39.0                     & 39.0                     & 39.0                     & ...                      & 90.6                     & 90.7                     & 90.8                     & 90.9                     & 91.0                     & 91.2                     & 91.3                     & 91.4                     & 91.5                     & 91.6                    \\\\\n",
       "\t ... & ... & ... & ... & ... & ... & ... & ... & ... & ... &     & ... & ... & ... & ... & ... & ... & ... & ... & ... & ...\\\\\n",
       "\t Eswatini                       & 32.3                           & 32.3                           & 32.3                           & 32.3                           & 32.3                           & 32.3                           & 32.3                           & 32.3                           & 32.3                           & ...                            & 70.8                           & 70.9                           & 71.0                           & 71.1                           & 71.2                           & 71.3                           & 71.5                           & 71.6                           & 71.7                           & 71.8                          \\\\\n",
       "\t Seychelles                     & 37.0                           & 37.0                           & 37.0                           & 37.0                           & 37.0                           & 37.0                           & 37.0                           & 37.0                           & 37.0                           & ...                            & 83.7                           & 83.8                           & 84.0                           & 84.1                           & 84.2                           & 84.3                           & 84.4                           & 84.5                           & 84.7                           & 84.8                          \\\\\n",
       "\t Syria                          & 31.1                           & 31.1                           & 31.1                           & 31.1                           & 31.1                           & 31.1                           & 31.1                           & 31.1                           & 31.1                           & ...                            & 86.9                           & 87.0                           & 87.1                           & 87.2                           & 87.3                           & 87.5                           & 87.6                           & 87.7                           & 87.8                           & 87.9                          \\\\\n",
       "\t Chad                           & 30.9                           & 30.9                           & 30.9                           & 30.9                           & 30.9                           & 30.9                           & 30.9                           & 30.9                           & 30.9                           & ...                            & 76.4                           & 76.5                           & 76.7                           & 76.8                           & 77.0                           & 77.1                           & 77.2                           & 77.4                           & 77.5                           & 77.6                          \\\\\n",
       "\t Togo                           & 31.3                           & 31.3                           & 31.3                           & 31.3                           & 31.3                           & 31.3                           & 31.3                           & 31.3                           & 31.3                           & ...                            & 77.9                           & 78.0                           & 78.2                           & 78.3                           & 78.5                           & 78.6                           & 78.7                           & 78.9                           & 79.0                           & 79.1                          \\\\\n",
       "\t Thailand                       & 30.4                           & 30.4                           & 30.4                           & 30.4                           & 30.4                           & 30.4                           & 30.4                           & 30.4                           & 30.4                           & ...                            & 88.8                           & 88.9                           & 89.0                           & 89.2                           & 89.3                           & 89.4                           & 89.5                           & 89.6                           & 89.7                           & 89.8                          \\\\\n",
       "\t Tajikistan                     & 24.2                           & 24.2                           & 24.2                           & 24.2                           & 24.2                           & 24.2                           & 24.2                           & 24.2                           & 24.2                           & ...                            & 80.1                           & 80.3                           & 80.4                           & 80.5                           & 80.6                           & 80.8                           & 80.9                           & 81.0                           & 81.1                           & 81.3                          \\\\\n",
       "\t Turkmenistan                   & 24.0                           & 24.0                           & 24.0                           & 24.0                           & 24.0                           & 24.0                           & 24.0                           & 24.0                           & 24.0                           & ...                            & 80.0                           & 80.2                           & 80.3                           & 80.5                           & 80.6                           & 80.7                           & 80.9                           & 81.0                           & 81.2                           & 81.3                          \\\\\n",
       "\t Timor-Leste                    & 28.9                           & 28.9                           & 28.9                           & 28.9                           & 28.9                           & 28.9                           & 28.9                           & 28.9                           & 28.9                           & ...                            & 81.2                           & 81.3                           & 81.5                           & 81.6                           & 81.7                           & 81.9                           & 82.0                           & 82.1                           & 82.3                           & 82.4                          \\\\\n",
       "\t Tonga                          & 28.2                           & 28.2                           & 28.2                           & 28.2                           & 28.2                           & 28.2                           & 28.2                           & 28.2                           & 28.2                           & ...                            & 81.5                           & 81.6                           & 81.8                           & 81.9                           & 82.0                           & 82.2                           & 82.3                           & 82.5                           & 82.6                           & 82.7                          \\\\\n",
       "\t Trinidad and Tobago            & 32.9                           & 32.9                           & 32.9                           & 32.9                           & 32.9                           & 32.9                           & 32.9                           & 32.9                           & 32.9                           & ...                            & 84.5                           & 84.6                           & 84.8                           & 84.9                           & 85.0                           & 85.1                           & 85.3                           & 85.4                           & 85.5                           & 85.6                          \\\\\n",
       "\t Tunisia                        & 28.8                           & 28.8                           & 28.8                           & 28.8                           & 28.8                           & 28.8                           & 28.8                           & 28.8                           & 28.8                           & ...                            & 88.0                           & 88.1                           & 88.2                           & 88.3                           & 88.4                           & 88.5                           & 88.6                           & 88.7                           & 88.8                           & 88.9                          \\\\\n",
       "\t Turkey                         & 35.0                           & 35.0                           & 35.0                           & 35.0                           & 35.0                           & 35.0                           & 35.0                           & 35.0                           & 35.0                           & ...                            & 89.5                           & 89.7                           & 89.8                           & 89.9                           & 90.0                           & 90.1                           & 90.2                           & 90.3                           & 90.4                           & 90.5                          \\\\\n",
       "\t Tuvalu                         &   NA                           &   NA                           &   NA                           &   NA                           &   NA                           &   NA                           &   NA                           &   NA                           &   NA                           & ...                            &   NA                           &   NA                           &   NA                           &   NA                           &   NA                           &   NA                           &   NA                           &   NA                           &   NA                           &   NA                          \\\\\n",
       "\t Taiwan                         & 28.3                           & 28.3                           & 28.3                           & 28.3                           & 28.3                           & 28.3                           & 28.3                           & 28.3                           & 28.3                           & ...                            & 89.5                           & 89.6                           & 89.7                           & 89.8                           & 89.9                           & 90.0                           & 90.1                           & 90.3                           & 90.4                           & 90.5                          \\\\\n",
       "\t Tanzania                       & 32.2                           & 32.2                           & 32.2                           & 32.2                           & 32.2                           & 32.2                           & 32.2                           & 32.2                           & 32.2                           & ...                            & 80.6                           & 80.8                           & 80.9                           & 81.1                           & 81.2                           & 81.4                           & 81.5                           & 81.7                           & 81.8                           & 82.0                          \\\\\n",
       "\t Uganda                         & 25.3                           & 25.3                           & 25.3                           & 25.3                           & 25.3                           & 25.3                           & 25.3                           & 25.3                           & 25.3                           & ...                            & 80.4                           & 80.6                           & 80.7                           & 80.9                           & 81.0                           & 81.2                           & 81.3                           & 81.5                           & 81.6                           & 81.8                          \\\\\n",
       "\t Ukraine                        & 36.6                           & 36.6                           & 36.6                           & 36.6                           & 36.6                           & 36.6                           & 36.6                           & 36.6                           & 36.6                           & ...                            & 84.0                           & 84.2                           & 84.3                           & 84.4                           & 84.5                           & 84.7                           & 84.8                           & 84.9                           & 85.0                           & 85.1                          \\\\\n",
       "\t Uruguay                        & 32.9                           & 32.9                           & 32.9                           & 32.9                           & 32.9                           & 32.9                           & 32.9                           & 32.9                           & 32.9                           & ...                            & 86.8                           & 86.9                           & 87.0                           & 87.1                           & 87.2                           & 87.3                           & 87.5                           & 87.6                           & 87.7                           & 87.8                          \\\\\n",
       "\t United States                  & 39.4                           & 39.4                           & 39.4                           & 39.4                           & 39.4                           & 39.4                           & 39.4                           & 39.4                           & 39.4                           & ...                            & 88.0                           & 88.1                           & 88.2                           & 88.3                           & 88.4                           & 88.5                           & 88.6                           & 88.7                           & 88.8                           & 88.9                          \\\\\n",
       "\t Uzbekistan                     & 26.9                           & 26.9                           & 26.9                           & 26.9                           & 26.9                           & 26.9                           & 26.9                           & 26.9                           & 26.9                           & ...                            & 76.3                           & 76.5                           & 76.6                           & 76.7                           & 76.9                           & 77.0                           & 77.1                           & 77.2                           & 77.3                           & 77.5                          \\\\\n",
       "\t St. Vincent and the Grenadines & 26.0                           & 26.0                           & 26.0                           & 26.0                           & 26.0                           & 26.0                           & 26.0                           & 26.0                           & 26.0                           & ...                            & 82.3                           & 82.5                           & 82.6                           & 82.8                           & 82.9                           & 83.0                           & 83.1                           & 83.3                           & 83.4                           & 83.5                          \\\\\n",
       "\t Venezuela                      & 32.2                           & 32.2                           & 32.2                           & 32.2                           & 32.2                           & 32.2                           & 32.2                           & 32.2                           & 32.2                           & ...                            & 86.2                           & 86.3                           & 86.4                           & 86.5                           & 86.7                           & 86.8                           & 86.9                           & 87.0                           & 87.2                           & 87.3                          \\\\\n",
       "\t Vietnam                        & 32.0                           & 32.0                           & 32.0                           & 32.0                           & 32.0                           & 32.0                           & 32.0                           & 32.0                           & 32.0                           & ...                            & 84.0                           & 84.2                           & 84.3                           & 84.4                           & 84.5                           & 84.6                           & 84.7                           & 84.8                           & 84.9                           & 85.0                          \\\\\n",
       "\t Vanuatu                        & 24.3                           & 24.3                           & 24.3                           & 24.3                           & 24.3                           & 24.3                           & 24.3                           & 24.3                           & 24.3                           & ...                            & 74.0                           & 74.1                           & 74.2                           & 74.3                           & 74.5                           & 74.6                           & 74.7                           & 74.8                           & 74.9                           & 75.1                          \\\\\n",
       "\t Samoa                          & 25.4                           & 25.4                           & 25.4                           & 25.4                           & 25.4                           & 25.4                           & 25.4                           & 25.4                           & 25.4                           & ...                            & 79.8                           & 79.9                           & 80.0                           & 80.1                           & 80.3                           & 80.4                           & 80.5                           & 80.6                           & 80.7                           & 80.8                          \\\\\n",
       "\t Yemen                          & 23.4                           & 23.4                           & 23.4                           & 23.4                           & 23.4                           & 23.4                           & 23.4                           & 23.4                           & 23.4                           & ...                            & 76.9                           & 77.0                           & 77.1                           & 77.3                           & 77.4                           & 77.5                           & 77.6                           & 77.8                           & 77.9                           & 78.0                          \\\\\n",
       "\t South Africa                   & 33.5                           & 33.5                           & 33.5                           & 33.5                           & 33.5                           & 33.5                           & 33.5                           & 33.5                           & 33.5                           & ...                            & 76.4                           & 76.5                           & 76.7                           & 76.8                           & 77.0                           & 77.1                           & 77.3                           & 77.4                           & 77.5                           & 77.7                          \\\\\n",
       "\t Zambia                         & 32.6                           & 32.6                           & 32.6                           & 32.6                           & 32.6                           & 32.6                           & 32.6                           & 32.6                           & 32.6                           & ...                            & 75.8                           & 76.0                           & 76.1                           & 76.3                           & 76.4                           & 76.5                           & 76.7                           & 76.8                           & 77.0                           & 77.1                          \\\\\n",
       "\t Zimbabwe                       & 33.7                           & 33.7                           & 33.7                           & 33.7                           & 33.7                           & 33.7                           & 33.7                           & 33.7                           & 33.7                           & ...                            & 73.3                           & 73.4                           & 73.5                           & 73.7                           & 73.8                           & 73.9                           & 74.0                           & 74.2                           & 74.3                           & 74.4                          \\\\\n",
       "\\end{tabular}\n"
      ],
      "text/markdown": [
       "\n",
       "| ï..country | X1800 | X1801 | X1802 | X1803 | X1804 | X1805 | X1806 | X1807 | X1808 | ... | X2091 | X2092 | X2093 | X2094 | X2095 | X2096 | X2097 | X2098 | X2099 | X2100 |\n",
       "|---|---|---|---|---|---|---|---|---|---|---|---|---|---|---|---|---|---|---|---|---|\n",
       "| Afghanistan              | 28.2                     | 28.2                     | 28.2                     | 28.2                     | 28.2                     | 28.2                     | 28.1                     | 28.1                     | 28.1                     | ...                      | 75.5                     | 75.7                     | 75.8                     | 76.0                     | 76.1                     | 76.2                     | 76.4                     | 76.5                     | 76.6                     | 76.8                     |\n",
       "| Angola                   | 27.0                     | 27.0                     | 27.0                     | 27.0                     | 27.0                     | 27.0                     | 27.0                     | 27.0                     | 27.0                     | ...                      | 78.8                     | 79.0                     | 79.1                     | 79.2                     | 79.3                     | 79.5                     | 79.6                     | 79.7                     | 79.9                     | 80.0                     |\n",
       "| Albania                  | 35.4                     | 35.4                     | 35.4                     | 35.4                     | 35.4                     | 35.4                     | 35.4                     | 35.4                     | 35.4                     | ...                      | 87.4                     | 87.5                     | 87.6                     | 87.7                     | 87.8                     | 87.9                     | 88.0                     | 88.2                     | 88.3                     | 88.4                     |\n",
       "| Andorra                  |   NA                     |   NA                     |   NA                     |   NA                     |   NA                     |   NA                     |   NA                     |   NA                     |   NA                     | ...                      |   NA                     |   NA                     |   NA                     |   NA                     |   NA                     |   NA                     |   NA                     |   NA                     |   NA                     |   NA                     |\n",
       "| United Arab Emirates     | 30.7                     | 30.7                     | 30.7                     | 30.7                     | 30.7                     | 30.7                     | 30.7                     | 30.7                     | 30.7                     | ...                      | 82.4                     | 82.5                     | 82.6                     | 82.7                     | 82.8                     | 82.9                     | 83.0                     | 83.1                     | 83.2                     | 83.3                     |\n",
       "| Argentina                | 33.2                     | 33.2                     | 33.2                     | 33.2                     | 33.2                     | 33.2                     | 33.2                     | 33.2                     | 33.2                     | ...                      | 86.2                     | 86.3                     | 86.5                     | 86.5                     | 86.7                     | 86.8                     | 86.9                     | 87.0                     | 87.1                     | 87.2                     |\n",
       "| Armenia                  | 34.0                     | 34.0                     | 34.0                     | 34.0                     | 34.0                     | 34.0                     | 34.0                     | 34.0                     | 34.0                     | ...                      | 85.2                     | 85.3                     | 85.4                     | 85.5                     | 85.6                     | 85.7                     | 85.8                     | 86.0                     | 86.1                     | 86.2                     |\n",
       "| Antigua and Barbuda      | 33.5                     | 33.5                     | 33.5                     | 33.5                     | 33.5                     | 33.5                     | 33.5                     | 33.5                     | 33.5                     | ...                      | 85.0                     | 85.1                     | 85.2                     | 85.3                     | 85.4                     | 85.5                     | 85.6                     | 85.7                     | 85.8                     | 85.9                     |\n",
       "| Australia                | 34.0                     | 34.0                     | 34.0                     | 34.0                     | 34.0                     | 34.0                     | 34.0                     | 34.0                     | 34.0                     | ...                      | 91.3                     | 91.4                     | 91.5                     | 91.6                     | 91.7                     | 91.8                     | 91.9                     | 92.0                     | 92.1                     | 92.3                     |\n",
       "| Austria                  | 34.4                     | 34.4                     | 34.4                     | 34.4                     | 34.4                     | 34.4                     | 34.4                     | 34.4                     | 34.4                     | ...                      | 91.0                     | 91.1                     | 91.2                     | 91.3                     | 91.5                     | 91.6                     | 91.7                     | 91.8                     | 91.9                     | 92.0                     |\n",
       "| Azerbaijan               | 29.2                     | 29.2                     | 29.2                     | 29.2                     | 29.2                     | 29.2                     | 29.2                     | 29.2                     | 29.2                     | ...                      | 79.6                     | 79.7                     | 79.9                     | 80.0                     | 80.1                     | 80.3                     | 80.4                     | 80.5                     | 80.7                     | 80.8                     |\n",
       "| Burundi                  | 31.5                     | 31.5                     | 31.5                     | 31.5                     | 31.5                     | 31.5                     | 31.5                     | 31.5                     | 31.5                     | ...                      | 78.8                     | 78.9                     | 79.1                     | 79.2                     | 79.4                     | 79.5                     | 79.7                     | 79.8                     | 80.0                     | 80.1                     |\n",
       "| Belgium                  | 40.0                     | 40.0                     | 40.0                     | 40.0                     | 40.0                     | 40.0                     | 40.0                     | 40.1                     | 40.1                     | ...                      | 90.1                     | 90.2                     | 90.3                     | 90.4                     | 90.5                     | 90.6                     | 90.7                     | 90.8                     | 91.0                     | 91.1                     |\n",
       "| Benin                    | 31.0                     | 31.0                     | 31.0                     | 31.0                     | 31.0                     | 31.0                     | 31.0                     | 31.0                     | 31.0                     | ...                      | 76.7                     | 76.8                     | 77.0                     | 77.1                     | 77.2                     | 77.3                     | 77.5                     | 77.6                     | 77.7                     | 77.9                     |\n",
       "| Burkina Faso             | 29.2                     | 29.2                     | 29.2                     | 29.2                     | 29.2                     | 29.2                     | 29.2                     | 29.2                     | 29.2                     | ...                      | 76.2                     | 76.3                     | 76.4                     | 76.6                     | 76.7                     | 76.8                     | 77.0                     | 77.1                     | 77.2                     | 77.3                     |\n",
       "| Bangladesh               | 25.5                     | 25.5                     | 25.5                     | 25.5                     | 25.5                     | 25.5                     | 25.5                     | 25.5                     | 25.5                     | ...                      | 87.7                     | 87.8                     | 87.9                     | 88.0                     | 88.1                     | 88.3                     | 88.4                     | 88.5                     | 88.6                     | 88.7                     |\n",
       "| Bulgaria                 | 35.8                     | 35.8                     | 35.9                     | 35.9                     | 36.0                     | 36.0                     | 36.1                     | 36.1                     | 36.1                     | ...                      | 82.4                     | 82.5                     | 82.6                     | 82.7                     | 82.8                     | 82.9                     | 83.0                     | 83.1                     | 83.2                     | 83.3                     |\n",
       "| Bahrain                  | 30.3                     | 30.3                     | 30.3                     | 30.3                     | 30.3                     | 30.3                     | 30.3                     | 30.3                     | 30.3                     | ...                      | 85.5                     | 85.6                     | 85.7                     | 85.8                     | 85.9                     | 86.0                     | 86.1                     | 86.2                     | 86.3                     | 86.4                     |\n",
       "| Bahamas                  | 35.2                     | 35.2                     | 35.2                     | 35.2                     | 35.2                     | 35.2                     | 35.2                     | 35.2                     | 35.2                     | ...                      | 82.1                     | 82.2                     | 82.3                     | 82.4                     | 82.5                     | 82.7                     | 82.8                     | 82.9                     | 83.0                     | 83.1                     |\n",
       "| Bosnia and Herzegovina   | 35.1                     | 35.1                     | 35.1                     | 35.1                     | 35.1                     | 35.1                     | 35.1                     | 35.1                     | 35.1                     | ...                      | 86.4                     | 86.5                     | 86.6                     | 86.7                     | 86.8                     | 86.9                     | 87.0                     | 87.2                     | 87.3                     | 87.3                     |\n",
       "| Belarus                  | 36.2                     | 36.2                     | 36.2                     | 36.2                     | 36.2                     | 36.2                     | 36.2                     | 36.2                     | 36.2                     | ...                      | 83.4                     | 83.5                     | 83.6                     | 83.7                     | 83.8                     | 83.9                     | 84.0                     | 84.1                     | 84.2                     | 84.3                     |\n",
       "| Belize                   | 26.5                     | 26.5                     | 26.5                     | 26.5                     | 26.5                     | 26.5                     | 26.5                     | 26.5                     | 26.5                     | ...                      | 84.5                     | 84.6                     | 84.7                     | 84.8                     | 84.9                     | 85.0                     | 85.1                     | 85.2                     | 85.3                     | 85.5                     |\n",
       "| Bolivia                  | 33.0                     | 33.0                     | 33.0                     | 33.0                     | 33.0                     | 33.0                     | 33.0                     | 33.0                     | 33.0                     | ...                      | 84.0                     | 84.1                     | 84.3                     | 84.4                     | 84.5                     | 84.6                     | 84.7                     | 84.8                     | 85.0                     | 85.1                     |\n",
       "| Brazil                   | 32.0                     | 32.0                     | 32.0                     | 32.0                     | 32.0                     | 32.0                     | 32.0                     | 32.0                     | 32.0                     | ...                      | 86.9                     | 87.0                     | 87.2                     | 87.3                     | 87.4                     | 87.5                     | 87.6                     | 87.7                     | 87.8                     | 88.0                     |\n",
       "| Barbados                 | 32.1                     | 32.1                     | 32.1                     | 32.1                     | 32.1                     | 32.1                     | 32.1                     | 32.1                     | 32.1                     | ...                      | 84.5                     | 84.6                     | 84.7                     | 84.8                     | 84.9                     | 85.0                     | 85.1                     | 85.2                     | 85.3                     | 85.4                     |\n",
       "| Brunei                   | 29.2                     | 29.2                     | 29.2                     | 29.2                     | 29.2                     | 29.2                     | 29.2                     | 29.2                     | 29.2                     | ...                      | 83.4                     | 83.5                     | 83.6                     | 83.7                     | 83.8                     | 83.9                     | 84.0                     | 84.1                     | 84.2                     | 84.3                     |\n",
       "| Bhutan                   | 28.8                     | 28.8                     | 28.8                     | 28.8                     | 28.8                     | 28.8                     | 28.8                     | 28.8                     | 28.8                     | ...                      | 85.2                     | 85.3                     | 85.5                     | 85.6                     | 85.7                     | 85.8                     | 86.0                     | 86.1                     | 86.2                     | 86.3                     |\n",
       "| Botswana                 | 33.6                     | 33.6                     | 33.6                     | 33.6                     | 33.6                     | 33.6                     | 33.6                     | 33.6                     | 33.6                     | ...                      | 70.5                     | 70.6                     | 70.7                     | 70.8                     | 71.0                     | 71.1                     | 71.2                     | 71.3                     | 71.5                     | 71.6                     |\n",
       "| Central African Republic | 30.0                     | 30.0                     | 30.0                     | 30.0                     | 30.0                     | 30.0                     | 30.0                     | 30.0                     | 30.0                     | ...                      | 66.4                     | 66.5                     | 66.7                     | 66.8                     | 66.9                     | 67.0                     | 67.1                     | 67.2                     | 67.3                     | 67.4                     |\n",
       "| Canada                   | 39.0                     | 39.0                     | 39.0                     | 39.0                     | 39.0                     | 39.0                     | 39.0                     | 39.0                     | 39.0                     | ...                      | 90.6                     | 90.7                     | 90.8                     | 90.9                     | 91.0                     | 91.2                     | 91.3                     | 91.4                     | 91.5                     | 91.6                     |\n",
       "| ... | ... | ... | ... | ... | ... | ... | ... | ... | ... |     | ... | ... | ... | ... | ... | ... | ... | ... | ... | ... |\n",
       "| Eswatini                       | 32.3                           | 32.3                           | 32.3                           | 32.3                           | 32.3                           | 32.3                           | 32.3                           | 32.3                           | 32.3                           | ...                            | 70.8                           | 70.9                           | 71.0                           | 71.1                           | 71.2                           | 71.3                           | 71.5                           | 71.6                           | 71.7                           | 71.8                           |\n",
       "| Seychelles                     | 37.0                           | 37.0                           | 37.0                           | 37.0                           | 37.0                           | 37.0                           | 37.0                           | 37.0                           | 37.0                           | ...                            | 83.7                           | 83.8                           | 84.0                           | 84.1                           | 84.2                           | 84.3                           | 84.4                           | 84.5                           | 84.7                           | 84.8                           |\n",
       "| Syria                          | 31.1                           | 31.1                           | 31.1                           | 31.1                           | 31.1                           | 31.1                           | 31.1                           | 31.1                           | 31.1                           | ...                            | 86.9                           | 87.0                           | 87.1                           | 87.2                           | 87.3                           | 87.5                           | 87.6                           | 87.7                           | 87.8                           | 87.9                           |\n",
       "| Chad                           | 30.9                           | 30.9                           | 30.9                           | 30.9                           | 30.9                           | 30.9                           | 30.9                           | 30.9                           | 30.9                           | ...                            | 76.4                           | 76.5                           | 76.7                           | 76.8                           | 77.0                           | 77.1                           | 77.2                           | 77.4                           | 77.5                           | 77.6                           |\n",
       "| Togo                           | 31.3                           | 31.3                           | 31.3                           | 31.3                           | 31.3                           | 31.3                           | 31.3                           | 31.3                           | 31.3                           | ...                            | 77.9                           | 78.0                           | 78.2                           | 78.3                           | 78.5                           | 78.6                           | 78.7                           | 78.9                           | 79.0                           | 79.1                           |\n",
       "| Thailand                       | 30.4                           | 30.4                           | 30.4                           | 30.4                           | 30.4                           | 30.4                           | 30.4                           | 30.4                           | 30.4                           | ...                            | 88.8                           | 88.9                           | 89.0                           | 89.2                           | 89.3                           | 89.4                           | 89.5                           | 89.6                           | 89.7                           | 89.8                           |\n",
       "| Tajikistan                     | 24.2                           | 24.2                           | 24.2                           | 24.2                           | 24.2                           | 24.2                           | 24.2                           | 24.2                           | 24.2                           | ...                            | 80.1                           | 80.3                           | 80.4                           | 80.5                           | 80.6                           | 80.8                           | 80.9                           | 81.0                           | 81.1                           | 81.3                           |\n",
       "| Turkmenistan                   | 24.0                           | 24.0                           | 24.0                           | 24.0                           | 24.0                           | 24.0                           | 24.0                           | 24.0                           | 24.0                           | ...                            | 80.0                           | 80.2                           | 80.3                           | 80.5                           | 80.6                           | 80.7                           | 80.9                           | 81.0                           | 81.2                           | 81.3                           |\n",
       "| Timor-Leste                    | 28.9                           | 28.9                           | 28.9                           | 28.9                           | 28.9                           | 28.9                           | 28.9                           | 28.9                           | 28.9                           | ...                            | 81.2                           | 81.3                           | 81.5                           | 81.6                           | 81.7                           | 81.9                           | 82.0                           | 82.1                           | 82.3                           | 82.4                           |\n",
       "| Tonga                          | 28.2                           | 28.2                           | 28.2                           | 28.2                           | 28.2                           | 28.2                           | 28.2                           | 28.2                           | 28.2                           | ...                            | 81.5                           | 81.6                           | 81.8                           | 81.9                           | 82.0                           | 82.2                           | 82.3                           | 82.5                           | 82.6                           | 82.7                           |\n",
       "| Trinidad and Tobago            | 32.9                           | 32.9                           | 32.9                           | 32.9                           | 32.9                           | 32.9                           | 32.9                           | 32.9                           | 32.9                           | ...                            | 84.5                           | 84.6                           | 84.8                           | 84.9                           | 85.0                           | 85.1                           | 85.3                           | 85.4                           | 85.5                           | 85.6                           |\n",
       "| Tunisia                        | 28.8                           | 28.8                           | 28.8                           | 28.8                           | 28.8                           | 28.8                           | 28.8                           | 28.8                           | 28.8                           | ...                            | 88.0                           | 88.1                           | 88.2                           | 88.3                           | 88.4                           | 88.5                           | 88.6                           | 88.7                           | 88.8                           | 88.9                           |\n",
       "| Turkey                         | 35.0                           | 35.0                           | 35.0                           | 35.0                           | 35.0                           | 35.0                           | 35.0                           | 35.0                           | 35.0                           | ...                            | 89.5                           | 89.7                           | 89.8                           | 89.9                           | 90.0                           | 90.1                           | 90.2                           | 90.3                           | 90.4                           | 90.5                           |\n",
       "| Tuvalu                         |   NA                           |   NA                           |   NA                           |   NA                           |   NA                           |   NA                           |   NA                           |   NA                           |   NA                           | ...                            |   NA                           |   NA                           |   NA                           |   NA                           |   NA                           |   NA                           |   NA                           |   NA                           |   NA                           |   NA                           |\n",
       "| Taiwan                         | 28.3                           | 28.3                           | 28.3                           | 28.3                           | 28.3                           | 28.3                           | 28.3                           | 28.3                           | 28.3                           | ...                            | 89.5                           | 89.6                           | 89.7                           | 89.8                           | 89.9                           | 90.0                           | 90.1                           | 90.3                           | 90.4                           | 90.5                           |\n",
       "| Tanzania                       | 32.2                           | 32.2                           | 32.2                           | 32.2                           | 32.2                           | 32.2                           | 32.2                           | 32.2                           | 32.2                           | ...                            | 80.6                           | 80.8                           | 80.9                           | 81.1                           | 81.2                           | 81.4                           | 81.5                           | 81.7                           | 81.8                           | 82.0                           |\n",
       "| Uganda                         | 25.3                           | 25.3                           | 25.3                           | 25.3                           | 25.3                           | 25.3                           | 25.3                           | 25.3                           | 25.3                           | ...                            | 80.4                           | 80.6                           | 80.7                           | 80.9                           | 81.0                           | 81.2                           | 81.3                           | 81.5                           | 81.6                           | 81.8                           |\n",
       "| Ukraine                        | 36.6                           | 36.6                           | 36.6                           | 36.6                           | 36.6                           | 36.6                           | 36.6                           | 36.6                           | 36.6                           | ...                            | 84.0                           | 84.2                           | 84.3                           | 84.4                           | 84.5                           | 84.7                           | 84.8                           | 84.9                           | 85.0                           | 85.1                           |\n",
       "| Uruguay                        | 32.9                           | 32.9                           | 32.9                           | 32.9                           | 32.9                           | 32.9                           | 32.9                           | 32.9                           | 32.9                           | ...                            | 86.8                           | 86.9                           | 87.0                           | 87.1                           | 87.2                           | 87.3                           | 87.5                           | 87.6                           | 87.7                           | 87.8                           |\n",
       "| United States                  | 39.4                           | 39.4                           | 39.4                           | 39.4                           | 39.4                           | 39.4                           | 39.4                           | 39.4                           | 39.4                           | ...                            | 88.0                           | 88.1                           | 88.2                           | 88.3                           | 88.4                           | 88.5                           | 88.6                           | 88.7                           | 88.8                           | 88.9                           |\n",
       "| Uzbekistan                     | 26.9                           | 26.9                           | 26.9                           | 26.9                           | 26.9                           | 26.9                           | 26.9                           | 26.9                           | 26.9                           | ...                            | 76.3                           | 76.5                           | 76.6                           | 76.7                           | 76.9                           | 77.0                           | 77.1                           | 77.2                           | 77.3                           | 77.5                           |\n",
       "| St. Vincent and the Grenadines | 26.0                           | 26.0                           | 26.0                           | 26.0                           | 26.0                           | 26.0                           | 26.0                           | 26.0                           | 26.0                           | ...                            | 82.3                           | 82.5                           | 82.6                           | 82.8                           | 82.9                           | 83.0                           | 83.1                           | 83.3                           | 83.4                           | 83.5                           |\n",
       "| Venezuela                      | 32.2                           | 32.2                           | 32.2                           | 32.2                           | 32.2                           | 32.2                           | 32.2                           | 32.2                           | 32.2                           | ...                            | 86.2                           | 86.3                           | 86.4                           | 86.5                           | 86.7                           | 86.8                           | 86.9                           | 87.0                           | 87.2                           | 87.3                           |\n",
       "| Vietnam                        | 32.0                           | 32.0                           | 32.0                           | 32.0                           | 32.0                           | 32.0                           | 32.0                           | 32.0                           | 32.0                           | ...                            | 84.0                           | 84.2                           | 84.3                           | 84.4                           | 84.5                           | 84.6                           | 84.7                           | 84.8                           | 84.9                           | 85.0                           |\n",
       "| Vanuatu                        | 24.3                           | 24.3                           | 24.3                           | 24.3                           | 24.3                           | 24.3                           | 24.3                           | 24.3                           | 24.3                           | ...                            | 74.0                           | 74.1                           | 74.2                           | 74.3                           | 74.5                           | 74.6                           | 74.7                           | 74.8                           | 74.9                           | 75.1                           |\n",
       "| Samoa                          | 25.4                           | 25.4                           | 25.4                           | 25.4                           | 25.4                           | 25.4                           | 25.4                           | 25.4                           | 25.4                           | ...                            | 79.8                           | 79.9                           | 80.0                           | 80.1                           | 80.3                           | 80.4                           | 80.5                           | 80.6                           | 80.7                           | 80.8                           |\n",
       "| Yemen                          | 23.4                           | 23.4                           | 23.4                           | 23.4                           | 23.4                           | 23.4                           | 23.4                           | 23.4                           | 23.4                           | ...                            | 76.9                           | 77.0                           | 77.1                           | 77.3                           | 77.4                           | 77.5                           | 77.6                           | 77.8                           | 77.9                           | 78.0                           |\n",
       "| South Africa                   | 33.5                           | 33.5                           | 33.5                           | 33.5                           | 33.5                           | 33.5                           | 33.5                           | 33.5                           | 33.5                           | ...                            | 76.4                           | 76.5                           | 76.7                           | 76.8                           | 77.0                           | 77.1                           | 77.3                           | 77.4                           | 77.5                           | 77.7                           |\n",
       "| Zambia                         | 32.6                           | 32.6                           | 32.6                           | 32.6                           | 32.6                           | 32.6                           | 32.6                           | 32.6                           | 32.6                           | ...                            | 75.8                           | 76.0                           | 76.1                           | 76.3                           | 76.4                           | 76.5                           | 76.7                           | 76.8                           | 77.0                           | 77.1                           |\n",
       "| Zimbabwe                       | 33.7                           | 33.7                           | 33.7                           | 33.7                           | 33.7                           | 33.7                           | 33.7                           | 33.7                           | 33.7                           | ...                            | 73.3                           | 73.4                           | 73.5                           | 73.7                           | 73.8                           | 73.9                           | 74.0                           | 74.2                           | 74.3                           | 74.4                           |\n",
       "\n"
      ],
      "text/plain": [
       "    ï..country                     X1800 X1801 X1802 X1803 X1804 X1805 X1806\n",
       "1   Afghanistan                    28.2  28.2  28.2  28.2  28.2  28.2  28.1 \n",
       "2   Angola                         27.0  27.0  27.0  27.0  27.0  27.0  27.0 \n",
       "3   Albania                        35.4  35.4  35.4  35.4  35.4  35.4  35.4 \n",
       "4   Andorra                          NA    NA    NA    NA    NA    NA    NA \n",
       "5   United Arab Emirates           30.7  30.7  30.7  30.7  30.7  30.7  30.7 \n",
       "6   Argentina                      33.2  33.2  33.2  33.2  33.2  33.2  33.2 \n",
       "7   Armenia                        34.0  34.0  34.0  34.0  34.0  34.0  34.0 \n",
       "8   Antigua and Barbuda            33.5  33.5  33.5  33.5  33.5  33.5  33.5 \n",
       "9   Australia                      34.0  34.0  34.0  34.0  34.0  34.0  34.0 \n",
       "10  Austria                        34.4  34.4  34.4  34.4  34.4  34.4  34.4 \n",
       "11  Azerbaijan                     29.2  29.2  29.2  29.2  29.2  29.2  29.2 \n",
       "12  Burundi                        31.5  31.5  31.5  31.5  31.5  31.5  31.5 \n",
       "13  Belgium                        40.0  40.0  40.0  40.0  40.0  40.0  40.0 \n",
       "14  Benin                          31.0  31.0  31.0  31.0  31.0  31.0  31.0 \n",
       "15  Burkina Faso                   29.2  29.2  29.2  29.2  29.2  29.2  29.2 \n",
       "16  Bangladesh                     25.5  25.5  25.5  25.5  25.5  25.5  25.5 \n",
       "17  Bulgaria                       35.8  35.8  35.9  35.9  36.0  36.0  36.1 \n",
       "18  Bahrain                        30.3  30.3  30.3  30.3  30.3  30.3  30.3 \n",
       "19  Bahamas                        35.2  35.2  35.2  35.2  35.2  35.2  35.2 \n",
       "20  Bosnia and Herzegovina         35.1  35.1  35.1  35.1  35.1  35.1  35.1 \n",
       "21  Belarus                        36.2  36.2  36.2  36.2  36.2  36.2  36.2 \n",
       "22  Belize                         26.5  26.5  26.5  26.5  26.5  26.5  26.5 \n",
       "23  Bolivia                        33.0  33.0  33.0  33.0  33.0  33.0  33.0 \n",
       "24  Brazil                         32.0  32.0  32.0  32.0  32.0  32.0  32.0 \n",
       "25  Barbados                       32.1  32.1  32.1  32.1  32.1  32.1  32.1 \n",
       "26  Brunei                         29.2  29.2  29.2  29.2  29.2  29.2  29.2 \n",
       "27  Bhutan                         28.8  28.8  28.8  28.8  28.8  28.8  28.8 \n",
       "28  Botswana                       33.6  33.6  33.6  33.6  33.6  33.6  33.6 \n",
       "29  Central African Republic       30.0  30.0  30.0  30.0  30.0  30.0  30.0 \n",
       "30  Canada                         39.0  39.0  39.0  39.0  39.0  39.0  39.0 \n",
       "... ...                            ...   ...   ...   ...   ...   ...   ...  \n",
       "166 Eswatini                       32.3  32.3  32.3  32.3  32.3  32.3  32.3 \n",
       "167 Seychelles                     37.0  37.0  37.0  37.0  37.0  37.0  37.0 \n",
       "168 Syria                          31.1  31.1  31.1  31.1  31.1  31.1  31.1 \n",
       "169 Chad                           30.9  30.9  30.9  30.9  30.9  30.9  30.9 \n",
       "170 Togo                           31.3  31.3  31.3  31.3  31.3  31.3  31.3 \n",
       "171 Thailand                       30.4  30.4  30.4  30.4  30.4  30.4  30.4 \n",
       "172 Tajikistan                     24.2  24.2  24.2  24.2  24.2  24.2  24.2 \n",
       "173 Turkmenistan                   24.0  24.0  24.0  24.0  24.0  24.0  24.0 \n",
       "174 Timor-Leste                    28.9  28.9  28.9  28.9  28.9  28.9  28.9 \n",
       "175 Tonga                          28.2  28.2  28.2  28.2  28.2  28.2  28.2 \n",
       "176 Trinidad and Tobago            32.9  32.9  32.9  32.9  32.9  32.9  32.9 \n",
       "177 Tunisia                        28.8  28.8  28.8  28.8  28.8  28.8  28.8 \n",
       "178 Turkey                         35.0  35.0  35.0  35.0  35.0  35.0  35.0 \n",
       "179 Tuvalu                           NA    NA    NA    NA    NA    NA    NA \n",
       "180 Taiwan                         28.3  28.3  28.3  28.3  28.3  28.3  28.3 \n",
       "181 Tanzania                       32.2  32.2  32.2  32.2  32.2  32.2  32.2 \n",
       "182 Uganda                         25.3  25.3  25.3  25.3  25.3  25.3  25.3 \n",
       "183 Ukraine                        36.6  36.6  36.6  36.6  36.6  36.6  36.6 \n",
       "184 Uruguay                        32.9  32.9  32.9  32.9  32.9  32.9  32.9 \n",
       "185 United States                  39.4  39.4  39.4  39.4  39.4  39.4  39.4 \n",
       "186 Uzbekistan                     26.9  26.9  26.9  26.9  26.9  26.9  26.9 \n",
       "187 St. Vincent and the Grenadines 26.0  26.0  26.0  26.0  26.0  26.0  26.0 \n",
       "188 Venezuela                      32.2  32.2  32.2  32.2  32.2  32.2  32.2 \n",
       "189 Vietnam                        32.0  32.0  32.0  32.0  32.0  32.0  32.0 \n",
       "190 Vanuatu                        24.3  24.3  24.3  24.3  24.3  24.3  24.3 \n",
       "191 Samoa                          25.4  25.4  25.4  25.4  25.4  25.4  25.4 \n",
       "192 Yemen                          23.4  23.4  23.4  23.4  23.4  23.4  23.4 \n",
       "193 South Africa                   33.5  33.5  33.5  33.5  33.5  33.5  33.5 \n",
       "194 Zambia                         32.6  32.6  32.6  32.6  32.6  32.6  32.6 \n",
       "195 Zimbabwe                       33.7  33.7  33.7  33.7  33.7  33.7  33.7 \n",
       "    X1807 X1808 ... X2091 X2092 X2093 X2094 X2095 X2096 X2097 X2098 X2099 X2100\n",
       "1   28.1  28.1  ... 75.5  75.7  75.8  76.0  76.1  76.2  76.4  76.5  76.6  76.8 \n",
       "2   27.0  27.0  ... 78.8  79.0  79.1  79.2  79.3  79.5  79.6  79.7  79.9  80.0 \n",
       "3   35.4  35.4  ... 87.4  87.5  87.6  87.7  87.8  87.9  88.0  88.2  88.3  88.4 \n",
       "4     NA    NA  ...   NA    NA    NA    NA    NA    NA    NA    NA    NA    NA \n",
       "5   30.7  30.7  ... 82.4  82.5  82.6  82.7  82.8  82.9  83.0  83.1  83.2  83.3 \n",
       "6   33.2  33.2  ... 86.2  86.3  86.5  86.5  86.7  86.8  86.9  87.0  87.1  87.2 \n",
       "7   34.0  34.0  ... 85.2  85.3  85.4  85.5  85.6  85.7  85.8  86.0  86.1  86.2 \n",
       "8   33.5  33.5  ... 85.0  85.1  85.2  85.3  85.4  85.5  85.6  85.7  85.8  85.9 \n",
       "9   34.0  34.0  ... 91.3  91.4  91.5  91.6  91.7  91.8  91.9  92.0  92.1  92.3 \n",
       "10  34.4  34.4  ... 91.0  91.1  91.2  91.3  91.5  91.6  91.7  91.8  91.9  92.0 \n",
       "11  29.2  29.2  ... 79.6  79.7  79.9  80.0  80.1  80.3  80.4  80.5  80.7  80.8 \n",
       "12  31.5  31.5  ... 78.8  78.9  79.1  79.2  79.4  79.5  79.7  79.8  80.0  80.1 \n",
       "13  40.1  40.1  ... 90.1  90.2  90.3  90.4  90.5  90.6  90.7  90.8  91.0  91.1 \n",
       "14  31.0  31.0  ... 76.7  76.8  77.0  77.1  77.2  77.3  77.5  77.6  77.7  77.9 \n",
       "15  29.2  29.2  ... 76.2  76.3  76.4  76.6  76.7  76.8  77.0  77.1  77.2  77.3 \n",
       "16  25.5  25.5  ... 87.7  87.8  87.9  88.0  88.1  88.3  88.4  88.5  88.6  88.7 \n",
       "17  36.1  36.1  ... 82.4  82.5  82.6  82.7  82.8  82.9  83.0  83.1  83.2  83.3 \n",
       "18  30.3  30.3  ... 85.5  85.6  85.7  85.8  85.9  86.0  86.1  86.2  86.3  86.4 \n",
       "19  35.2  35.2  ... 82.1  82.2  82.3  82.4  82.5  82.7  82.8  82.9  83.0  83.1 \n",
       "20  35.1  35.1  ... 86.4  86.5  86.6  86.7  86.8  86.9  87.0  87.2  87.3  87.3 \n",
       "21  36.2  36.2  ... 83.4  83.5  83.6  83.7  83.8  83.9  84.0  84.1  84.2  84.3 \n",
       "22  26.5  26.5  ... 84.5  84.6  84.7  84.8  84.9  85.0  85.1  85.2  85.3  85.5 \n",
       "23  33.0  33.0  ... 84.0  84.1  84.3  84.4  84.5  84.6  84.7  84.8  85.0  85.1 \n",
       "24  32.0  32.0  ... 86.9  87.0  87.2  87.3  87.4  87.5  87.6  87.7  87.8  88.0 \n",
       "25  32.1  32.1  ... 84.5  84.6  84.7  84.8  84.9  85.0  85.1  85.2  85.3  85.4 \n",
       "26  29.2  29.2  ... 83.4  83.5  83.6  83.7  83.8  83.9  84.0  84.1  84.2  84.3 \n",
       "27  28.8  28.8  ... 85.2  85.3  85.5  85.6  85.7  85.8  86.0  86.1  86.2  86.3 \n",
       "28  33.6  33.6  ... 70.5  70.6  70.7  70.8  71.0  71.1  71.2  71.3  71.5  71.6 \n",
       "29  30.0  30.0  ... 66.4  66.5  66.7  66.8  66.9  67.0  67.1  67.2  67.3  67.4 \n",
       "30  39.0  39.0  ... 90.6  90.7  90.8  90.9  91.0  91.2  91.3  91.4  91.5  91.6 \n",
       "... ...   ...       ...   ...   ...   ...   ...   ...   ...   ...   ...   ...  \n",
       "166 32.3  32.3  ... 70.8  70.9  71.0  71.1  71.2  71.3  71.5  71.6  71.7  71.8 \n",
       "167 37.0  37.0  ... 83.7  83.8  84.0  84.1  84.2  84.3  84.4  84.5  84.7  84.8 \n",
       "168 31.1  31.1  ... 86.9  87.0  87.1  87.2  87.3  87.5  87.6  87.7  87.8  87.9 \n",
       "169 30.9  30.9  ... 76.4  76.5  76.7  76.8  77.0  77.1  77.2  77.4  77.5  77.6 \n",
       "170 31.3  31.3  ... 77.9  78.0  78.2  78.3  78.5  78.6  78.7  78.9  79.0  79.1 \n",
       "171 30.4  30.4  ... 88.8  88.9  89.0  89.2  89.3  89.4  89.5  89.6  89.7  89.8 \n",
       "172 24.2  24.2  ... 80.1  80.3  80.4  80.5  80.6  80.8  80.9  81.0  81.1  81.3 \n",
       "173 24.0  24.0  ... 80.0  80.2  80.3  80.5  80.6  80.7  80.9  81.0  81.2  81.3 \n",
       "174 28.9  28.9  ... 81.2  81.3  81.5  81.6  81.7  81.9  82.0  82.1  82.3  82.4 \n",
       "175 28.2  28.2  ... 81.5  81.6  81.8  81.9  82.0  82.2  82.3  82.5  82.6  82.7 \n",
       "176 32.9  32.9  ... 84.5  84.6  84.8  84.9  85.0  85.1  85.3  85.4  85.5  85.6 \n",
       "177 28.8  28.8  ... 88.0  88.1  88.2  88.3  88.4  88.5  88.6  88.7  88.8  88.9 \n",
       "178 35.0  35.0  ... 89.5  89.7  89.8  89.9  90.0  90.1  90.2  90.3  90.4  90.5 \n",
       "179   NA    NA  ...   NA    NA    NA    NA    NA    NA    NA    NA    NA    NA \n",
       "180 28.3  28.3  ... 89.5  89.6  89.7  89.8  89.9  90.0  90.1  90.3  90.4  90.5 \n",
       "181 32.2  32.2  ... 80.6  80.8  80.9  81.1  81.2  81.4  81.5  81.7  81.8  82.0 \n",
       "182 25.3  25.3  ... 80.4  80.6  80.7  80.9  81.0  81.2  81.3  81.5  81.6  81.8 \n",
       "183 36.6  36.6  ... 84.0  84.2  84.3  84.4  84.5  84.7  84.8  84.9  85.0  85.1 \n",
       "184 32.9  32.9  ... 86.8  86.9  87.0  87.1  87.2  87.3  87.5  87.6  87.7  87.8 \n",
       "185 39.4  39.4  ... 88.0  88.1  88.2  88.3  88.4  88.5  88.6  88.7  88.8  88.9 \n",
       "186 26.9  26.9  ... 76.3  76.5  76.6  76.7  76.9  77.0  77.1  77.2  77.3  77.5 \n",
       "187 26.0  26.0  ... 82.3  82.5  82.6  82.8  82.9  83.0  83.1  83.3  83.4  83.5 \n",
       "188 32.2  32.2  ... 86.2  86.3  86.4  86.5  86.7  86.8  86.9  87.0  87.2  87.3 \n",
       "189 32.0  32.0  ... 84.0  84.2  84.3  84.4  84.5  84.6  84.7  84.8  84.9  85.0 \n",
       "190 24.3  24.3  ... 74.0  74.1  74.2  74.3  74.5  74.6  74.7  74.8  74.9  75.1 \n",
       "191 25.4  25.4  ... 79.8  79.9  80.0  80.1  80.3  80.4  80.5  80.6  80.7  80.8 \n",
       "192 23.4  23.4  ... 76.9  77.0  77.1  77.3  77.4  77.5  77.6  77.8  77.9  78.0 \n",
       "193 33.5  33.5  ... 76.4  76.5  76.7  76.8  77.0  77.1  77.3  77.4  77.5  77.7 \n",
       "194 32.6  32.6  ... 75.8  76.0  76.1  76.3  76.4  76.5  76.7  76.8  77.0  77.1 \n",
       "195 33.7  33.7  ... 73.3  73.4  73.5  73.7  73.8  73.9  74.0  74.2  74.3  74.4 "
      ]
     },
     "metadata": {},
     "output_type": "display_data"
    }
   ],
   "source": [
    "lifeExpectancyInYears"
   ]
  },
  {
   "cell_type": "code",
   "execution_count": 62,
   "id": "993f0964",
   "metadata": {},
   "outputs": [],
   "source": [
    "na.omit(as.numeric(unlist(lifeExpectancyInYears[lifeExpectancyInYears$country==\"Sweden\",])))->SwedenLife\n",
    "na.omit(as.numeric(unlist(lifeExpectancyInYears[lifeExpectancyInYears$country==\"India\",])))->IndiaLife\n",
    "\n"
   ]
  },
  {
   "cell_type": "code",
   "execution_count": 67,
   "id": "0133b497",
   "metadata": {},
   "outputs": [
    {
     "data": {
      "text/html": [
       "<table>\n",
       "<thead><tr><th></th><th scope=col>country</th><th scope=col>1800</th><th scope=col>1801</th><th scope=col>1802</th><th scope=col>1803</th><th scope=col>1804</th><th scope=col>1805</th><th scope=col>1806</th><th scope=col>1807</th><th scope=col>1808</th><th scope=col>...</th><th scope=col>2091</th><th scope=col>2092</th><th scope=col>2093</th><th scope=col>2094</th><th scope=col>2095</th><th scope=col>2096</th><th scope=col>2097</th><th scope=col>2098</th><th scope=col>2099</th><th scope=col>2100</th></tr></thead>\n",
       "<tbody>\n",
       "\t<tr><th scope=row>165</th><td>Sweden</td><td>32.2  </td><td>36.9  </td><td>40.2  </td><td>40.3  </td><td>39.7  </td><td>41    </td><td>36.2  </td><td>38.8  </td><td>30.1  </td><td>...   </td><td>91.2  </td><td>91.3  </td><td>91.4  </td><td>91.5  </td><td>91.6  </td><td>91.7  </td><td>91.8  </td><td>91.9  </td><td>92    </td><td>92.1  </td></tr>\n",
       "</tbody>\n",
       "</table>\n"
      ],
      "text/latex": [
       "\\begin{tabular}{r|llllllllllllllllllllllllllllllllllllllllllllllllllllllllllllllllllllllllllllllllllllllllllllllllllllllllllllllllllllllllllllllllllllllllllllllllllllllllllllllllllllllllllllllllllllllllllllllllllllllllllllllllllllllllllllllllllllllllllllllllllllllllllllllllllllllllllllllllllllllllllllllllllllllllllllll}\n",
       "  & country & 1800 & 1801 & 1802 & 1803 & 1804 & 1805 & 1806 & 1807 & 1808 & ... & 2091 & 2092 & 2093 & 2094 & 2095 & 2096 & 2097 & 2098 & 2099 & 2100\\\\\n",
       "\\hline\n",
       "\t165 & Sweden & 32.2   & 36.9   & 40.2   & 40.3   & 39.7   & 41     & 36.2   & 38.8   & 30.1   & ...    & 91.2   & 91.3   & 91.4   & 91.5   & 91.6   & 91.7   & 91.8   & 91.9   & 92     & 92.1  \\\\\n",
       "\\end{tabular}\n"
      ],
      "text/markdown": [
       "\n",
       "| <!--/--> | country | 1800 | 1801 | 1802 | 1803 | 1804 | 1805 | 1806 | 1807 | 1808 | ... | 2091 | 2092 | 2093 | 2094 | 2095 | 2096 | 2097 | 2098 | 2099 | 2100 |\n",
       "|---|---|---|---|---|---|---|---|---|---|---|---|---|---|---|---|---|---|---|---|---|---|\n",
       "| 165 | Sweden | 32.2   | 36.9   | 40.2   | 40.3   | 39.7   | 41     | 36.2   | 38.8   | 30.1   | ...    | 91.2   | 91.3   | 91.4   | 91.5   | 91.6   | 91.7   | 91.8   | 91.9   | 92     | 92.1   |\n",
       "\n"
      ],
      "text/plain": [
       "    country 1800 1801 1802 1803 1804 1805 1806 1807 1808 ... 2091 2092 2093\n",
       "165 Sweden  32.2 36.9 40.2 40.3 39.7 41   36.2 38.8 30.1 ... 91.2 91.3 91.4\n",
       "    2094 2095 2096 2097 2098 2099 2100\n",
       "165 91.5 91.6 91.7 91.8 91.9 92   92.1"
      ]
     },
     "metadata": {},
     "output_type": "display_data"
    }
   ],
   "source": [
    "lifeExpectancyInYears[lifeExpectancyInYears$country==\"Sweden\",]"
   ]
  },
  {
   "cell_type": "code",
   "execution_count": 66,
   "id": "21d1697d",
   "metadata": {},
   "outputs": [],
   "source": [
    "lifeExpectancyInYears <- read.csv(\"life_expectancy_years.csv\", header = T, check.names = FALSE)\n",
    "colnames(lifeExpectancyInYears)[1] <- \"country\""
   ]
  },
  {
   "cell_type": "code",
   "execution_count": 70,
   "id": "d20f2cce",
   "metadata": {},
   "outputs": [],
   "source": [
    "par(mfrow=c(1,2))\n",
    "na.omit(as.numeric(unlist(lifeExpectancyInYears[lifeExpectancyInYears$country==\"Sweden\",])))->SwedenLife\n",
    "na.omit(as.numeric(unlist(lifeExpectancyInYears[lifeExpectancyInYears$country==\"India\",])))->IndiaLife"
   ]
  },
  {
   "cell_type": "code",
   "execution_count": 74,
   "id": "73f3b3c6",
   "metadata": {},
   "outputs": [
    {
     "data": {
      "image/png": "[encoded data removed]",
      "text/plain": [
       "Plot with title \"Histogram of IndiaLife\""
      ]
     },
     "metadata": {},
     "output_type": "display_data"
    }
   ],
   "source": [
    "hist(SwedenLife)"
   ]
  },
  {
   "cell_type": "code",
   "execution_count": 75,
   "id": "7832b4a2",
   "metadata": {},
   "outputs": [
    {
     "data": {
      "image/png": "[encoded data removed]",
      "text/plain": [
       "Plot with title \"Histogram of IndiaLife\""
      ]
     },
     "metadata": {},
     "output_type": "display_data"
    }
   ],
   "source": [
    "hist(IndiaLife)"
   ]
  },
  {
   "cell_type": "code",
   "execution_count": 86,
   "id": "f552050e",
   "metadata": {},
   "outputs": [],
   "source": [
    "\n",
    "na.omit(as.numeric(unlist(lifeExpectancyInYears[lifeExpectancyInYears$country==\"Bangladesh\",])))->BanglaLife\n",
    "na.omit(as.numeric(unlist(lifeExpectancyInYears[lifeExpectancyInYears$country==\"Australia\",])))->AussieLife\n",
    "na.omit(as.numeric(unlist(lifeExpectancyInYears[lifeExpectancyInYears$country==\"China\",])))->ChinaLife\n"
   ]
  },
  {
   "cell_type": "code",
   "execution_count": 82,
   "id": "370583ef",
   "metadata": {},
   "outputs": [],
   "source": [
    "na.omit(as.numeric(unlist(lifeExpectancyInYears[lifeExpectancyInYears$country==\"Korea\",])))->KoreanLife"
   ]
  },
  {
   "cell_type": "code",
   "execution_count": 87,
   "id": "fb4cb2b8",
   "metadata": {
    "scrolled": false
   },
   "outputs": [
    {
     "ename": "ERROR",
     "evalue": "Error in hist.default(KoreanLife): invalid number of 'breaks'\n",
     "output_type": "error",
     "traceback": [
      "Error in hist.default(KoreanLife): invalid number of 'breaks'\nTraceback:\n",
      "1. hist(KoreanLife)",
      "2. hist.default(KoreanLife)",
      "3. stop(\"invalid number of 'breaks'\")"
     ]
    }
   ],
   "source": [
    "par(mfrow=c(1,1))\n",
    "hist(KoreanLife)"
   ]
  },
  {
   "cell_type": "code",
   "execution_count": 83,
   "id": "0d2211b0",
   "metadata": {},
   "outputs": [
    {
     "ename": "ERROR",
     "evalue": "Error in xy.coords(x, y, xlabel, ylabel, log): 'x' and 'y' lengths differ\n",
     "output_type": "error",
     "traceback": [
      "Error in xy.coords(x, y, xlabel, ylabel, log): 'x' and 'y' lengths differ\nTraceback:\n",
      "1. plot(c(1800:2100), SwedenLife, col = \"red\", main = \"Life Expectancy in Years\", \n .     pch = 15, ylim = c(0, 100), xlab = \"Years\", ylab = \"Age\")",
      "2. plot.default(c(1800:2100), SwedenLife, col = \"red\", main = \"Life Expectancy in Years\", \n .     pch = 15, ylim = c(0, 100), xlab = \"Years\", ylab = \"Age\")",
      "3. xy.coords(x, y, xlabel, ylabel, log)",
      "4. stop(\"'x' and 'y' lengths differ\")"
     ]
    }
   ],
   "source": [
    "plot(c(1800:2100),SwedenLife,col=\"red\",main=\"Life Expectancy in Years\",pch=15,ylim=c(0,100),xlab=\"Years\",ylab=\"Age\")\n",
    "points(c(1800:2100),IndiaLife,col=\"blue\")\n",
    "points(c(1800:2100),BanglaLife,col=\"green\")\n",
    "points(c(1800:2100),AussieLife,col=\"black\")\n",
    "points(c(1800:2100),ChinaLife,col=\"yellow\")\n",
    "\n",
    "legend(x = \"topleft\",# Position\n",
    "       legend = c(\"Sweden\", \"India\", \"Bangladesh\", \"Australia\", \"China\"),  # Legend texts\n",
    "       fill = c(\"red\", \"blue\",\"green\", \"black\", \"yellow\"))              # Colors\n"
   ]
  },
  {
   "cell_type": "markdown",
   "id": "78224a7e",
   "metadata": {},
   "source": [
    "##Theory:\n",
    "\n",
    "$$Standard Deviation =\\sqrt {\\frac {\\sum_{i=1}^{N} (x_i - \\bar{x})} {N}}$$\n",
    "$$Standard Error = \\frac{\\sigma}{n^{1/2}}$$\n",
    "\n",
    "\n"
   ]
  }
 ],
 "metadata": {
  "kernelspec": {
   "display_name": "R",
   "language": "R",
   "name": "ir"
  },
  "language_info": {
   "codemirror_mode": "r",
   "file_extension": ".r",
   "mimetype": "text/x-r-source",
   "name": "R",
   "pygments_lexer": "r",
   "version": "3.6.1"
  }
 },
 "nbformat": 4,
 "nbformat_minor": 5
}
