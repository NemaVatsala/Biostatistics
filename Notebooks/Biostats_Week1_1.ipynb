{
 "cells": [
  {
   "cell_type": "markdown",
   "id": "f8cd341a",
   "metadata": {},
   "source": [
    "# BIOSTATISTICS, 2022-23-II"
   ]
  },
  {
   "cell_type": "markdown",
   "id": "4763efa0",
   "metadata": {},
   "source": [
    "Course Info:\n",
    "Grading\n",
    "\n",
    "Ref books:\n",
    "1. R book : https://r4ds.had.co.nz/\n",
    "2. Learning R"
   ]
  },
  {
   "cell_type": "code",
   "execution_count": 3,
   "id": "8589da21",
   "metadata": {},
   "outputs": [
    {
     "data": {
      "text/html": [
       "6"
      ],
      "text/latex": [
       "6"
      ],
      "text/markdown": [
       "6"
      ],
      "text/plain": [
       "[1] 6"
      ]
     },
     "metadata": {},
     "output_type": "display_data"
    },
    {
     "data": {
      "text/html": [
       "<ol class=list-inline>\n",
       "\t<li>1</li>\n",
       "\t<li>2</li>\n",
       "\t<li>3</li>\n",
       "\t<li>4</li>\n",
       "\t<li>5</li>\n",
       "\t<li>6</li>\n",
       "\t<li>7</li>\n",
       "\t<li>8</li>\n",
       "\t<li>9</li>\n",
       "\t<li>10</li>\n",
       "</ol>\n"
      ],
      "text/latex": [
       "\\begin{enumerate*}\n",
       "\\item 1\n",
       "\\item 2\n",
       "\\item 3\n",
       "\\item 4\n",
       "\\item 5\n",
       "\\item 6\n",
       "\\item 7\n",
       "\\item 8\n",
       "\\item 9\n",
       "\\item 10\n",
       "\\end{enumerate*}\n"
      ],
      "text/markdown": [
       "1. 1\n",
       "2. 2\n",
       "3. 3\n",
       "4. 4\n",
       "5. 5\n",
       "6. 6\n",
       "7. 7\n",
       "8. 8\n",
       "9. 9\n",
       "10. 10\n",
       "\n",
       "\n"
      ],
      "text/plain": [
       " [1]  1  2  3  4  5  6  7  8  9 10"
      ]
     },
     "metadata": {},
     "output_type": "display_data"
    }
   ],
   "source": [
    "#Creating objects in R\n",
    "a<-10*6\n",
    "a<-6\n",
    "\n",
    "a\n",
    "c(1:10)\n",
    "\n",
    "# CHARACTER STRINGS MUST BE IN QUOTES\n",
    "#Boolean values must be in ALL CAPS, however they can be abbreviated\n",
    "\n",
    "Boolvals<-c(F,F,T,T)\n",
    "#List may contain a list along with vectors\n",
    "\n"
   ]
  },
  {
   "cell_type": "markdown",
   "id": "eb1d682e",
   "metadata": {},
   "source": [
    "# Generating Random Numbers"
   ]
  },
  {
   "cell_type": "code",
   "execution_count": 1,
   "id": "d69379dd",
   "metadata": {},
   "outputs": [
    {
     "data": {
      "text/html": [
       "<ol class=list-inline>\n",
       "\t<li>0.265541238477454</li>\n",
       "\t<li>0.439566439716145</li>\n",
       "\t<li>0.0199127907399088</li>\n",
       "</ol>\n"
      ],
      "text/latex": [
       "\\begin{enumerate*}\n",
       "\\item 0.265541238477454\n",
       "\\item 0.439566439716145\n",
       "\\item 0.0199127907399088\n",
       "\\end{enumerate*}\n"
      ],
      "text/markdown": [
       "1. 0.265541238477454\n",
       "2. 0.439566439716145\n",
       "3. 0.0199127907399088\n",
       "\n",
       "\n"
      ],
      "text/plain": [
       "[1] 0.26554124 0.43956644 0.01991279"
      ]
     },
     "metadata": {},
     "output_type": "display_data"
    }
   ],
   "source": [
    "runif(3)"
   ]
  },
  {
   "cell_type": "code",
   "execution_count": 2,
   "id": "6b932b9c",
   "metadata": {},
   "outputs": [
    {
     "data": {
      "text/html": [
       "<ol class=list-inline>\n",
       "\t<li>0.414654668420553</li>\n",
       "\t<li>-0.115209417417645</li>\n",
       "</ol>\n"
      ],
      "text/latex": [
       "\\begin{enumerate*}\n",
       "\\item 0.414654668420553\n",
       "\\item -0.115209417417645\n",
       "\\end{enumerate*}\n"
      ],
      "text/markdown": [
       "1. 0.414654668420553\n",
       "2. -0.115209417417645\n",
       "\n",
       "\n"
      ],
      "text/plain": [
       "[1]  0.4146547 -0.1152094"
      ]
     },
     "metadata": {},
     "output_type": "display_data"
    }
   ],
   "source": [
    "runif(2, -1, 1)"
   ]
  },
  {
   "cell_type": "code",
   "execution_count": 3,
   "id": "5c893f58",
   "metadata": {},
   "outputs": [
    {
     "data": {
      "image/png": "[encoded data removed]",
      "text/plain": [
       "Plot with title \"Histogram of rnorm(200, mean = 35)\""
      ]
     },
     "metadata": {},
     "output_type": "display_data"
    }
   ],
   "source": [
    "hist(rnorm(200, mean=35))"
   ]
  },
  {
   "cell_type": "code",
   "execution_count": 4,
   "id": "7311985e",
   "metadata": {},
   "outputs": [
    {
     "data": {
      "image/png": "[encoded data removed]",
      "text/plain": [
       "Plot with title \"Histogram of runif(100, 0, 100)\""
      ]
     },
     "metadata": {},
     "output_type": "display_data"
    }
   ],
   "source": [
    "hist(runif(100, 0, 100))"
   ]
  },
  {
   "cell_type": "code",
   "execution_count": 5,
   "id": "3a785410",
   "metadata": {},
   "outputs": [],
   "source": [
    "#hist(rnorm(120, mean=50), xlim=0, ylim=55 )"
   ]
  },
  {
   "cell_type": "markdown",
   "id": "68b98af9",
   "metadata": {},
   "source": [
    "# 10th January 2023"
   ]
  },
  {
   "cell_type": "code",
   "execution_count": 6,
   "id": "770369c6",
   "metadata": {},
   "outputs": [
    {
     "data": {
      "text/html": [
       "<ol class=list-inline>\n",
       "\t<li>1</li>\n",
       "\t<li>2</li>\n",
       "\t<li>3</li>\n",
       "\t<li>4</li>\n",
       "\t<li>5</li>\n",
       "\t<li>6</li>\n",
       "\t<li>7</li>\n",
       "\t<li>8</li>\n",
       "\t<li>9</li>\n",
       "\t<li>10</li>\n",
       "</ol>\n"
      ],
      "text/latex": [
       "\\begin{enumerate*}\n",
       "\\item 1\n",
       "\\item 2\n",
       "\\item 3\n",
       "\\item 4\n",
       "\\item 5\n",
       "\\item 6\n",
       "\\item 7\n",
       "\\item 8\n",
       "\\item 9\n",
       "\\item 10\n",
       "\\end{enumerate*}\n"
      ],
      "text/markdown": [
       "1. 1\n",
       "2. 2\n",
       "3. 3\n",
       "4. 4\n",
       "5. 5\n",
       "6. 6\n",
       "7. 7\n",
       "8. 8\n",
       "9. 9\n",
       "10. 10\n",
       "\n",
       "\n"
      ],
      "text/plain": [
       " [1]  1  2  3  4  5  6  7  8  9 10"
      ]
     },
     "metadata": {},
     "output_type": "display_data"
    }
   ],
   "source": [
    "#Vectors of numbers, alphabets, booleans\n",
    "c(1:10)"
   ]
  },
  {
   "cell_type": "code",
   "execution_count": 7,
   "id": "eb88e999",
   "metadata": {},
   "outputs": [
    {
     "data": {
      "text/html": [
       "<ol class=list-inline>\n",
       "\t<li>'mon'</li>\n",
       "\t<li>'tue'</li>\n",
       "\t<li>'wed'</li>\n",
       "</ol>\n"
      ],
      "text/latex": [
       "\\begin{enumerate*}\n",
       "\\item 'mon'\n",
       "\\item 'tue'\n",
       "\\item 'wed'\n",
       "\\end{enumerate*}\n"
      ],
      "text/markdown": [
       "1. 'mon'\n",
       "2. 'tue'\n",
       "3. 'wed'\n",
       "\n",
       "\n"
      ],
      "text/plain": [
       "[1] \"mon\" \"tue\" \"wed\""
      ]
     },
     "metadata": {},
     "output_type": "display_data"
    }
   ],
   "source": [
    "c(\"mon\", \"tue\", \"wed\")"
   ]
  },
  {
   "cell_type": "code",
   "execution_count": 8,
   "id": "1816c535",
   "metadata": {},
   "outputs": [],
   "source": [
    "#use double square brackets to access elements in a list "
   ]
  },
  {
   "cell_type": "code",
   "execution_count": 5,
   "id": "3676dce5",
   "metadata": {},
   "outputs": [],
   "source": [
    "days<-c(\"mon\", \"tue\", \"wed\")"
   ]
  },
  {
   "cell_type": "code",
   "execution_count": 10,
   "id": "ebd10137",
   "metadata": {},
   "outputs": [
    {
     "data": {
      "text/html": [
       "<ol class=list-inline>\n",
       "\t<li>'mon'</li>\n",
       "\t<li>'wed'</li>\n",
       "</ol>\n"
      ],
      "text/latex": [
       "\\begin{enumerate*}\n",
       "\\item 'mon'\n",
       "\\item 'wed'\n",
       "\\end{enumerate*}\n"
      ],
      "text/markdown": [
       "1. 'mon'\n",
       "2. 'wed'\n",
       "\n",
       "\n"
      ],
      "text/plain": [
       "[1] \"mon\" \"wed\""
      ]
     },
     "metadata": {},
     "output_type": "display_data"
    }
   ],
   "source": [
    "days[c(1,3)]"
   ]
  },
  {
   "cell_type": "code",
   "execution_count": 6,
   "id": "50844933",
   "metadata": {},
   "outputs": [
    {
     "data": {
      "text/html": [
       "<ol class=list-inline>\n",
       "\t<li>'mon'</li>\n",
       "\t<li>'tue'</li>\n",
       "\t<li>'wed'</li>\n",
       "</ol>\n"
      ],
      "text/latex": [
       "\\begin{enumerate*}\n",
       "\\item 'mon'\n",
       "\\item 'tue'\n",
       "\\item 'wed'\n",
       "\\end{enumerate*}\n"
      ],
      "text/markdown": [
       "1. 'mon'\n",
       "2. 'tue'\n",
       "3. 'wed'\n",
       "\n",
       "\n"
      ],
      "text/plain": [
       "[1] \"mon\" \"tue\" \"wed\""
      ]
     },
     "metadata": {},
     "output_type": "display_data"
    }
   ],
   "source": [
    "days[c(1:3)]"
   ]
  },
  {
   "cell_type": "code",
   "execution_count": null,
   "id": "58358400",
   "metadata": {},
   "outputs": [],
   "source": [
    "new.function <- function(a,b,c)\n",
    "    {\n",
    "    sum<-a+b+c\n",
    "    print(sum)\n",
    "}"
   ]
  },
  {
   "cell_type": "code",
   "execution_count": null,
   "id": "e58b08b7",
   "metadata": {},
   "outputs": [],
   "source": [
    "new.function(a = 11, b = 5, c = 3)"
   ]
  },
  {
   "cell_type": "code",
   "execution_count": null,
   "id": "a8e25080",
   "metadata": {},
   "outputs": [],
   "source": [
    "new.function(5, 3, 4)"
   ]
  },
  {
   "cell_type": "code",
   "execution_count": null,
   "id": "a44bb0ff",
   "metadata": {},
   "outputs": [],
   "source": [
    "x<-c(1,2,3,47,85,23)"
   ]
  },
  {
   "cell_type": "code",
   "execution_count": null,
   "id": "b919cbf5",
   "metadata": {},
   "outputs": [],
   "source": [
    "new.my_mean<- function(x){\n",
    "    n<-length(x)\n",
    "    avg<-sum(x)/n\n",
    "    print(avg)\n",
    "    \n",
    "}"
   ]
  },
  {
   "cell_type": "code",
   "execution_count": null,
   "id": "878cb1cf",
   "metadata": {},
   "outputs": [],
   "source": [
    "new.my_mean(x)"
   ]
  },
  {
   "cell_type": "code",
   "execution_count": null,
   "id": "276da811",
   "metadata": {},
   "outputs": [],
   "source": [
    "#Data frames\n",
    "\n",
    "id<-(1:200)\n",
    "group<-c(rep(\"Vehicle\", 100), rep(\"Drug\", 100))\n",
    "group2<-rep(c(rep(\"Vehicle\", 50), rep(\"Drug\", 50)), 2)"
   ]
  },
  {
   "cell_type": "code",
   "execution_count": null,
   "id": "5b9204cb",
   "metadata": {},
   "outputs": [],
   "source": [
    "#group2"
   ]
  },
  {
   "cell_type": "code",
   "execution_count": null,
   "id": "c5ef7d56",
   "metadata": {},
   "outputs": [],
   "source": [
    "response<-c(rnorm(100, mean=25, sd=5),rnorm(100, mean=23, sd=10))"
   ]
  },
  {
   "cell_type": "code",
   "execution_count": null,
   "id": "af2b3d1c",
   "metadata": {},
   "outputs": [],
   "source": [
    "myData<-data.frame(Patient=id, Treatment=group, Response=response)"
   ]
  },
  {
   "cell_type": "code",
   "execution_count": null,
   "id": "3f30a12e",
   "metadata": {},
   "outputs": [],
   "source": [
    "head(myData)"
   ]
  },
  {
   "cell_type": "code",
   "execution_count": null,
   "id": "daad3ee7",
   "metadata": {},
   "outputs": [],
   "source": [
    "head(myData, 12)\n",
    "tail(myData,15)"
   ]
  },
  {
   "cell_type": "code",
   "execution_count": null,
   "id": "a4a7ea8e",
   "metadata": {},
   "outputs": [],
   "source": [
    "view(myData)"
   ]
  },
  {
   "cell_type": "code",
   "execution_count": null,
   "id": "91e2a39f",
   "metadata": {},
   "outputs": [],
   "source": [
    "class(myData)\n",
    "dim(myData)"
   ]
  },
  {
   "cell_type": "code",
   "execution_count": null,
   "id": "83cfdd36",
   "metadata": {},
   "outputs": [],
   "source": [
    "str(myData) # structure of the dataframes"
   ]
  },
  {
   "cell_type": "code",
   "execution_count": null,
   "id": "19e62178",
   "metadata": {},
   "outputs": [],
   "source": [
    "summary(myData)"
   ]
  },
  {
   "cell_type": "code",
   "execution_count": null,
   "id": "702e7ae3",
   "metadata": {},
   "outputs": [],
   "source": [
    "#subsetting dataframes - questions"
   ]
  },
  {
   "cell_type": "markdown",
   "id": "001dcd8f",
   "metadata": {},
   "source": [
    "# 11th January 2023\n"
   ]
  },
  {
   "cell_type": "code",
   "execution_count": null,
   "id": "d04a064a",
   "metadata": {},
   "outputs": [],
   "source": [
    "myData[1, 2]"
   ]
  },
  {
   "cell_type": "code",
   "execution_count": null,
   "id": "7244bcea",
   "metadata": {},
   "outputs": [],
   "source": [
    "myData[myData$Response > 26, ]"
   ]
  },
  {
   "cell_type": "code",
   "execution_count": null,
   "id": "246584b4",
   "metadata": {},
   "outputs": [],
   "source": [
    "myData[myData$Treatment == \"Vehicle\" & myData$Response <= 26, ]"
   ]
  },
  {
   "cell_type": "code",
   "execution_count": null,
   "id": "f6781d9a",
   "metadata": {},
   "outputs": [],
   "source": [
    "myData$Patient[myData$Treatment!=\"Vehicle\" | myData$Response > 25, ]"
   ]
  },
  {
   "cell_type": "code",
   "execution_count": null,
   "id": "1a1502a6",
   "metadata": {},
   "outputs": [],
   "source": [
    "my_Patient_out_time<- function(x, Data_frame){\n",
    "    myData$Patient[myData$Treatment!=\"Vehicle\" | myData$Response > 25, ]\n",
    "        print(\"in 5 days\")   \n",
    "}"
   ]
  },
  {
   "cell_type": "code",
   "execution_count": null,
   "id": "9eab7486",
   "metadata": {},
   "outputs": [],
   "source": [
    "#Takes vector x and returns average \n",
    "new.my_mean<- function(x){\n",
    "    n<-length(x)\n",
    "    avg<-sum(x)/n\n",
    "    print(avg)\n",
    "    \n",
    "} #important for midsem- functions\n",
    " "
   ]
  },
  {
   "cell_type": "code",
   "execution_count": null,
   "id": "0c2769bb",
   "metadata": {},
   "outputs": [],
   "source": [
    "getwd()"
   ]
  },
  {
   "cell_type": "code",
   "execution_count": null,
   "id": "e92b1f06",
   "metadata": {},
   "outputs": [],
   "source": [
    "setwd(\"C:/Users/VATSALA NEMA/Documents/SEM 8/Biostatistics/Biostatistics\")"
   ]
  },
  {
   "cell_type": "code",
   "execution_count": null,
   "id": "a0d7e3ae",
   "metadata": {},
   "outputs": [],
   "source": [
    "Suicide_rates <- read.csv(\"suicide_total_deaths.csv\", header=T)"
   ]
  },
  {
   "cell_type": "code",
   "execution_count": null,
   "id": "556567af",
   "metadata": {},
   "outputs": [],
   "source": [
    "Suicide_rates\n"
   ]
  },
  {
   "cell_type": "code",
   "execution_count": null,
   "id": "f4f1be5d",
   "metadata": {},
   "outputs": [],
   "source": [
    "plot()"
   ]
  }
 ],
 "metadata": {
  "kernelspec": {
   "display_name": "R",
   "language": "R",
   "name": "ir"
  },
  "language_info": {
   "codemirror_mode": "r",
   "file_extension": ".r",
   "mimetype": "text/x-r-source",
   "name": "R",
   "pygments_lexer": "r",
   "version": "3.6.1"
  },
  "vscode": {
   "interpreter": {
    "hash": "7949c4222293d59e9134bfb3c395faadabdcf8f77a8823fd7df2531ad8dd5cad"
   }
  }
 },
 "nbformat": 4,
 "nbformat_minor": 5
}
