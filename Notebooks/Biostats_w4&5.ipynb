{
 "cells": [
  {
   "cell_type": "markdown",
   "id": "8732b809",
   "metadata": {
    "dotnet_interactive": {
     "language": "csharp"
    },
    "polyglot_notebook": {
     "kernelName": "csharp"
    }
   },
   "source": [
    "# Biostatistics - Week 4\n",
    "\n",
    "Control for confounding variables relevant to the experiment - paired Dataset \n",
    "\n",
    "Preference for paired datasets \n"
   ]
  },
  {
   "cell_type": "markdown",
   "id": "f39db37b",
   "metadata": {
    "dotnet_interactive": {
     "language": "csharp"
    },
    "polyglot_notebook": {
     "kernelName": "csharp"
    }
   },
   "source": [
    "# 7th February 2023"
   ]
  },
  {
   "cell_type": "code",
   "execution_count": 1,
   "id": "50038413",
   "metadata": {},
   "outputs": [
    {
     "ename": "NameError",
     "evalue": "name 'library' is not defined",
     "output_type": "error",
     "traceback": [
      "\u001b[1;31m---------------------------------------------------------------------------\u001b[0m",
      "\u001b[1;31mNameError\u001b[0m                                 Traceback (most recent call last)",
      "Cell \u001b[1;32mIn[1], line 3\u001b[0m\n\u001b[0;32m      1\u001b[0m \u001b[39m#install.packages(\"gapminder\")\u001b[39;00m\n\u001b[0;32m      2\u001b[0m \u001b[39m#load the installed package\u001b[39;00m\n\u001b[1;32m----> 3\u001b[0m library(gapminder)\n\u001b[0;32m      4\u001b[0m \u001b[39mstr\u001b[39m(gapminder_unfiltered)\n\u001b[0;32m      5\u001b[0m \u001b[39mstr\u001b[39m(gapminder)\n",
      "\u001b[1;31mNameError\u001b[0m: name 'library' is not defined"
     ]
    }
   ],
   "source": [
    "#install.packages(\"gapminder\")\n",
    "#load the installed package\n",
    "library(gapminder)\n",
    "str(gapminder_unfiltered)\n",
    "str(gapminder)"
   ]
  },
  {
   "cell_type": "code",
   "execution_count": 2,
   "id": "74d5946a",
   "metadata": {},
   "outputs": [
    {
     "ename": "NameError",
     "evalue": "name 'setwd' is not defined",
     "output_type": "error",
     "traceback": [
      "\u001b[1;31m---------------------------------------------------------------------------\u001b[0m",
      "\u001b[1;31mNameError\u001b[0m                                 Traceback (most recent call last)",
      "Cell \u001b[1;32mIn[2], line 1\u001b[0m\n\u001b[1;32m----> 1\u001b[0m setwd(\u001b[39m\"\u001b[39m\u001b[39mC:/Users/VATSALA NEMA/Documents/SEM 8/Biostatistics\u001b[39m\u001b[39m\"\u001b[39m)\n",
      "\u001b[1;31mNameError\u001b[0m: name 'setwd' is not defined"
     ]
    }
   ],
   "source": [
    "setwd(\"C:/Users/VATSALA NEMA/Documents/SEM 8/Biostatistics\") #But this will work\n"
   ]
  },
  {
   "cell_type": "code",
   "execution_count": null,
   "id": "8702e65a",
   "metadata": {},
   "outputs": [
    {
     "ename": "Error",
     "evalue": "(2,2): error CS1024: Preprocessor directive expected",
     "output_type": "error",
     "traceback": [
      "(2,2): error CS1024: Preprocessor directive expected"
     ]
    }
   ],
   "source": [
    "summary(gapminder_unfiltered)\n",
    "#plot(gapminder_unfiltered)"
   ]
  },
  {
   "cell_type": "code",
   "execution_count": null,
   "id": "0d675432",
   "metadata": {},
   "outputs": [
    {
     "ename": "Error",
     "evalue": "(1,2): error CS1024: Preprocessor directive expected\r\n(2,7): error CS7010: Quoted file name expected\r\n(3,2): error CS1024: Preprocessor directive expected",
     "output_type": "error",
     "traceback": [
      "(1,2): error CS1024: Preprocessor directive expected\r\n",
      "(2,7): error CS7010: Quoted file name expected\r\n",
      "(3,2): error CS1024: Preprocessor directive expected"
     ]
    }
   ],
   "source": [
    "#install.packages(\"Hmisc\")\n",
    "#load the installed package\n",
    "#library(Hmisc)"
   ]
  },
  {
   "cell_type": "code",
   "execution_count": null,
   "id": "59bfb523",
   "metadata": {},
   "outputs": [
    {
     "ename": "Error",
     "evalue": "(1,2): error CS1024: Preprocessor directive expected",
     "output_type": "error",
     "traceback": [
      "(1,2): error CS1024: Preprocessor directive expected"
     ]
    }
   ],
   "source": [
    "#as.data.frame(unlist(strsplit(unique())))"
   ]
  },
  {
   "cell_type": "code",
   "execution_count": null,
   "id": "9855715f",
   "metadata": {},
   "outputs": [
    {
     "ename": "Error",
     "evalue": "(1,16): error CS1056: Unexpected character '$'\r\n(1,17): error CS1003: Syntax error, ',' expected\r\n(1,32): error CS1056: Unexpected character '$'\r\n(1,33): error CS1003: Syntax error, ',' expected\r\n(1,54): error CS1002: ; expected",
     "output_type": "error",
     "traceback": [
      "(1,16): error CS1056: Unexpected character '$'\r\n",
      "(1,17): error CS1003: Syntax error, ',' expected\r\n",
      "(1,32): error CS1056: Unexpected character '$'\r\n",
      "(1,33): error CS1003: Syntax error, ',' expected\r\n",
      "(1,54): error CS1002: ; expected"
     ]
    }
   ],
   "source": [
    "table(gapminder$year, gapminder$continent)-> crossTab\n",
    "barplot(crossTab)"
   ]
  },
  {
   "cell_type": "code",
   "execution_count": null,
   "id": "37c30d98",
   "metadata": {},
   "outputs": [
    {
     "ename": "Error",
     "evalue": "(1,1): error CS0103: The name 'barplot' does not exist in the current context\r\n(1,9): error CS0103: The name 'crossTab' does not exist in the current context\r\n(1,18): error CS0103: The name 'beside' does not exist in the current context\r\n(1,25): error CS0103: The name 'TRUE' does not exist in the current context\r\n(1,30): error CS0103: The name 'col' does not exist in the current context\r\n(1,34): error CS0103: The name 'c' does not exist in the current context",
     "output_type": "error",
     "traceback": [
      "(1,1): error CS0103: The name 'barplot' does not exist in the current context\r\n",
      "(1,9): error CS0103: The name 'crossTab' does not exist in the current context\r\n",
      "(1,18): error CS0103: The name 'beside' does not exist in the current context\r\n",
      "(1,25): error CS0103: The name 'TRUE' does not exist in the current context\r\n",
      "(1,30): error CS0103: The name 'col' does not exist in the current context\r\n",
      "(1,34): error CS0103: The name 'c' does not exist in the current context"
     ]
    }
   ],
   "source": [
    "barplot(crossTab,beside=TRUE,col=c(\"red\",\"blue\",\"green\",\"yellow\",\n",
    "                                   \"brown\",\"pink\",\"grey\",\"black\"))\n"
   ]
  },
  {
   "cell_type": "code",
   "execution_count": null,
   "id": "fc7fc809",
   "metadata": {},
   "outputs": [
    {
     "ename": "Error",
     "evalue": "(1,3): error CS1024: Preprocessor directive expected\r\n(2,3): error CS1024: Preprocessor directive expected\r\n(3,3): error CS1024: Preprocessor directive expected",
     "output_type": "error",
     "traceback": [
      "(1,3): error CS1024: Preprocessor directive expected\r\n",
      "(2,3): error CS1024: Preprocessor directive expected\r\n",
      "(3,3): error CS1024: Preprocessor directive expected"
     ]
    }
   ],
   "source": [
    "# Why is it bad to perform too many tests?\n",
    "# The p-value turns to creep into the significant value \n",
    "# ANOVA, Kruskals test, and - midsem "
   ]
  },
  {
   "cell_type": "code",
   "execution_count": null,
   "id": "98a62639",
   "metadata": {},
   "outputs": [
    {
     "ename": "Error",
     "evalue": "(1,2): error CS1024: Preprocessor directive expected\r\n(2,28): error CS1002: ; expected\r\n(3,27): error CS1002: ; expected\r\n(4,27): error CS1002: ; expected",
     "output_type": "error",
     "traceback": [
      "(1,2): error CS1024: Preprocessor directive expected\r\n",
      "(2,28): error CS1002: ; expected\r\n",
      "(3,27): error CS1002: ; expected\r\n",
      "(4,27): error CS1002: ; expected"
     ]
    }
   ],
   "source": [
    "#comparing more than 2 vectors ----\n",
    "x = rnorm(10,sd=100,mean=5)\n",
    "y = rnorm(10,sd=10,mean=6)\n",
    "z = rnorm(10,sd=10,mean=7)\n",
    "\n",
    "data.frame(values=c(x,y,z)\n",
    "           ,variable=c(rep(\"x\",length(x)),rep(\"y\",length(y)),\n",
    "                       rep(\"z\",length(z))))->xyzBox\n"
   ]
  },
  {
   "cell_type": "code",
   "execution_count": null,
   "id": "72cc265b",
   "metadata": {},
   "outputs": [
    {
     "ename": "Error",
     "evalue": "(1,15): error CS1056: Unexpected character '$'\r\n(1,16): error CS1003: Syntax error, ',' expected\r\n(1,22): error CS1003: Syntax error, ',' expected\r\n(1,29): error CS1056: Unexpected character '$'\r\n(1,30): error CS1003: Syntax error, ',' expected",
     "output_type": "error",
     "traceback": [
      "(1,15): error CS1056: Unexpected character '$'\r\n",
      "(1,16): error CS1003: Syntax error, ',' expected\r\n",
      "(1,22): error CS1003: Syntax error, ',' expected\r\n",
      "(1,29): error CS1056: Unexpected character '$'\r\n",
      "(1,30): error CS1003: Syntax error, ',' expected"
     ]
    }
   ],
   "source": [
    "boxplot(xyzBox$values~xyzBox$variable)"
   ]
  },
  {
   "cell_type": "code",
   "execution_count": null,
   "id": "2c5043be",
   "metadata": {},
   "outputs": [
    {
     "ename": "Error",
     "evalue": "(1,29): error CS1002: ; expected\r\n(2,27): error CS1002: ; expected\r\n(3,27): error CS1002: ; expected\r\n(7,52): error CS1002: ; expected\r\n(9,15): error CS1056: Unexpected character '$'\r\n(9,16): error CS1003: Syntax error, ',' expected\r\n(9,22): error CS1003: Syntax error, ',' expected\r\n(9,29): error CS1056: Unexpected character '$'\r\n(9,30): error CS1003: Syntax error, ',' expected",
     "output_type": "error",
     "traceback": [
      "(1,29): error CS1002: ; expected\r\n",
      "(2,27): error CS1002: ; expected\r\n",
      "(3,27): error CS1002: ; expected\r\n",
      "(7,52): error CS1002: ; expected\r\n",
      "(9,15): error CS1056: Unexpected character '$'\r\n",
      "(9,16): error CS1003: Syntax error, ',' expected\r\n",
      "(9,22): error CS1003: Syntax error, ',' expected\r\n",
      "(9,29): error CS1056: Unexpected character '$'\r\n",
      "(9,30): error CS1003: Syntax error, ',' expected"
     ]
    }
   ],
   "source": [
    "a = rnorm(10,sd=100,mean=50)\n",
    "b = rnorm(10,sd=10,mean=6)\n",
    "c = rnorm(10,sd=10,mean=7)\n",
    "\n",
    "data.frame(values=c(a,b,c)\n",
    "           ,variable=c(rep(\"a\",length(a)),rep(\"b\",length(b)),\n",
    "                       rep(\"c\",length(c))))->abcBox\n",
    "\n",
    "boxplot(abcBox$values~abcBox$variable)"
   ]
  },
  {
   "cell_type": "code",
   "execution_count": null,
   "id": "fb5b4ac9",
   "metadata": {},
   "outputs": [],
   "source": []
  },
  {
   "cell_type": "code",
   "execution_count": null,
   "id": "7b8f9ea1",
   "metadata": {},
   "outputs": [
    {
     "ename": "Error",
     "evalue": "(1,2): error CS1024: Preprocessor directive expected\r\n(2,32): error CS1002: ; expected\r\n(3,18): error CS1056: Unexpected character '$'\r\n(3,19): error CS1003: Syntax error, ',' expected\r\n(3,25): error CS1003: Syntax error, ',' expected\r\n(3,35): error CS1056: Unexpected character '$'\r\n(3,36): error CS1003: Syntax error, ',' expected",
     "output_type": "error",
     "traceback": [
      "(1,2): error CS1024: Preprocessor directive expected\r\n",
      "(2,32): error CS1002: ; expected\r\n",
      "(3,18): error CS1056: Unexpected character '$'\r\n",
      "(3,19): error CS1003: Syntax error, ',' expected\r\n",
      "(3,25): error CS1003: Syntax error, ',' expected\r\n",
      "(3,35): error CS1056: Unexpected character '$'\r\n",
      "(3,36): error CS1003: Syntax error, ',' expected"
     ]
    }
   ],
   "source": [
    "#rbind will append the rows\n",
    "rbind(abcBox,xyzBox)->abcxyzBox\n",
    "boxplot(abcxyzBox$values~abcxyzBox$variable)"
   ]
  },
  {
   "cell_type": "code",
   "execution_count": null,
   "id": "587cfab7",
   "metadata": {},
   "outputs": [
    {
     "ename": "Error",
     "evalue": "(1,2): error CS1024: Preprocessor directive expected\r\n(2,24): error CS1003: Syntax error, ',' expected\r\n(2,51): error CS1002: ; expected\r\n(3,2): error CS1024: Preprocessor directive expected",
     "output_type": "error",
     "traceback": [
      "(1,2): error CS1024: Preprocessor directive expected\r\n",
      "(2,24): error CS1003: Syntax error, ',' expected\r\n",
      "(2,51): error CS1002: ; expected\r\n",
      "(3,2): error CS1024: Preprocessor directive expected"
     ]
    }
   ],
   "source": [
    "#One way ANOVA\n",
    "res.aov1 <- aov(values ~ variable, data=abcxyzBox)\n",
    "#Null hypothesis: All groups have same mean\n",
    "res.aov1\n"
   ]
  },
  {
   "cell_type": "code",
   "execution_count": null,
   "id": "53dd6cd7",
   "metadata": {},
   "outputs": [
    {
     "ename": "Error",
     "evalue": "(1,1): error CS0103: The name 'summary' does not exist in the current context\r\n(1,9): error CS0103: The name 'res' does not exist in the current context",
     "output_type": "error",
     "traceback": [
      "(1,1): error CS0103: The name 'summary' does not exist in the current context\r\n",
      "(1,9): error CS0103: The name 'res' does not exist in the current context"
     ]
    }
   ],
   "source": [
    "summary(res.aov1)"
   ]
  },
  {
   "cell_type": "code",
   "execution_count": null,
   "id": "1f6c1ff6",
   "metadata": {},
   "outputs": [
    {
     "ename": "Error",
     "evalue": "(1,2): error CS1024: Preprocessor directive expected\r\n(3,24): error CS1003: Syntax error, ',' expected\r\n(3,50): error CS1002: ; expected",
     "output_type": "error",
     "traceback": [
      "(1,2): error CS1024: Preprocessor directive expected\r\n",
      "(3,24): error CS1003: Syntax error, ',' expected\r\n",
      "(3,50): error CS1002: ; expected"
     ]
    }
   ],
   "source": [
    "#Alternative hypothesis:All groups don't have the same mean\n",
    "\n",
    "res.aov2 <- aov(values ~ variable, data = xyzBox)\n",
    "res.aov2\n"
   ]
  },
  {
   "cell_type": "code",
   "execution_count": null,
   "id": "809a49a5",
   "metadata": {},
   "outputs": [
    {
     "ename": "Error",
     "evalue": "(1,1): error CS0103: The name 'summary' does not exist in the current context\r\n(1,9): error CS0103: The name 'res' does not exist in the current context",
     "output_type": "error",
     "traceback": [
      "(1,1): error CS0103: The name 'summary' does not exist in the current context\r\n",
      "(1,9): error CS0103: The name 'res' does not exist in the current context"
     ]
    }
   ],
   "source": [
    "summary(res.aov2)\n"
   ]
  },
  {
   "cell_type": "code",
   "execution_count": null,
   "id": "5f5e3a25",
   "metadata": {},
   "outputs": [
    {
     "ename": "Error",
     "evalue": "(1,23): error CS1003: Syntax error, ',' expected\r\n(1,47): error CS1002: ; expected\r\n(2,20): error CS1040: Preprocessor directives must appear as the first non-whitespace character on a line",
     "output_type": "error",
     "traceback": [
      "(1,23): error CS1003: Syntax error, ',' expected\r\n",
      "(1,47): error CS1002: ; expected\r\n",
      "(2,20): error CS1040: Preprocessor directives must appear as the first non-whitespace character on a line"
     ]
    }
   ],
   "source": [
    "res.aov0<- aov(values ~ variable, data=abcBox)\n",
    "TukeyHSD(res.aov0) # for multiple testing correction p value is adjusted"
   ]
  },
  {
   "cell_type": "code",
   "execution_count": null,
   "id": "4551f1b4",
   "metadata": {},
   "outputs": [
    {
     "ename": "Error",
     "evalue": "(1,2): error CS1024: Preprocessor directive expected\r\n(3,2): error CS1024: Preprocessor directive expected",
     "output_type": "error",
     "traceback": [
      "(1,2): error CS1024: Preprocessor directive expected\r\n",
      "(3,2): error CS1024: Preprocessor directive expected"
     ]
    }
   ],
   "source": [
    "#Quantile -Quantile Plot\n",
    "\n",
    "#Homogeneity of variances: Data from multiple groups have the same "
   ]
  },
  {
   "cell_type": "code",
   "execution_count": null,
   "id": "b3ecd32c",
   "metadata": {},
   "outputs": [
    {
     "ename": "Error",
     "evalue": "(1,1): error CS0103: The name 'plot' does not exist in the current context\r\n(1,6): error CS0103: The name 'res' does not exist in the current context",
     "output_type": "error",
     "traceback": [
      "(1,1): error CS0103: The name 'plot' does not exist in the current context\r\n",
      "(1,6): error CS0103: The name 'res' does not exist in the current context"
     ]
    }
   ],
   "source": [
    "plot(res.aov0, 1)"
   ]
  },
  {
   "cell_type": "code",
   "execution_count": null,
   "id": "c845e0a1",
   "metadata": {},
   "outputs": [
    {
     "ename": "Error",
     "evalue": "(1,2): error CS1024: Preprocessor directive expected",
     "output_type": "error",
     "traceback": [
      "(1,2): error CS1024: Preprocessor directive expected"
     ]
    }
   ],
   "source": [
    "#Pairwise TukeyHSD ----\n",
    "TukeyHSD(res.aov1)"
   ]
  },
  {
   "cell_type": "code",
   "execution_count": null,
   "id": "12c79ef1",
   "metadata": {},
   "outputs": [
    {
     "ename": "Error",
     "evalue": "(1,2): error CS1024: Preprocessor directive expected",
     "output_type": "error",
     "traceback": [
      "(1,2): error CS1024: Preprocessor directive expected"
     ]
    }
   ],
   "source": [
    "#install.packages(\"car\")\n",
    "library(car)"
   ]
  },
  {
   "cell_type": "code",
   "execution_count": null,
   "id": "272f3eed",
   "metadata": {},
   "outputs": [
    {
     "ename": "Error",
     "evalue": "(1,2): error CS1024: Preprocessor directive expected",
     "output_type": "error",
     "traceback": [
      "(1,2): error CS1024: Preprocessor directive expected"
     ]
    }
   ],
   "source": [
    "#leveneTest(values~variable, data=abcBox) #to see if the variances are equal "
   ]
  },
  {
   "cell_type": "code",
   "execution_count": null,
   "id": "7775afc3",
   "metadata": {},
   "outputs": [
    {
     "ename": "Error",
     "evalue": "(1,1): error CS0103: The name 'plot' does not exist in the current context\r\n(1,6): error CS0103: The name 'res' does not exist in the current context",
     "output_type": "error",
     "traceback": [
      "(1,1): error CS0103: The name 'plot' does not exist in the current context\r\n",
      "(1,6): error CS0103: The name 'res' does not exist in the current context"
     ]
    }
   ],
   "source": [
    "plot(res.aov0, 2)"
   ]
  },
  {
   "cell_type": "code",
   "execution_count": null,
   "id": "2c3a7283",
   "metadata": {},
   "outputs": [
    {
     "ename": "Error",
     "evalue": "(1,2): error CS1024: Preprocessor directive expected",
     "output_type": "error",
     "traceback": [
      "(1,2): error CS1024: Preprocessor directive expected"
     ]
    }
   ],
   "source": [
    "#qqplot(values ~ variable, data=abcBox)"
   ]
  },
  {
   "cell_type": "code",
   "execution_count": null,
   "id": "91d284ec",
   "metadata": {},
   "outputs": [
    {
     "ename": "Error",
     "evalue": "(1,2): error CS1024: Preprocessor directive expected",
     "output_type": "error",
     "traceback": [
      "(1,2): error CS1024: Preprocessor directive expected"
     ]
    }
   ],
   "source": [
    "#Non parametric equivalent of ANOVA -kruskals value test "
   ]
  },
  {
   "cell_type": "markdown",
   "id": "41c8b8d6",
   "metadata": {
    "dotnet_interactive": {
     "language": "csharp"
    },
    "polyglot_notebook": {
     "kernelName": "csharp"
    }
   },
   "source": [
    "# Week 5 | 16th February 2023"
   ]
  },
  {
   "cell_type": "markdown",
   "id": "61860510",
   "metadata": {
    "dotnet_interactive": {
     "language": "csharp"
    },
    "polyglot_notebook": {
     "kernelName": "csharp"
    }
   },
   "source": [
    "***Midsem imp stuff***\n",
    "\n",
    "ANOVA (Parametric)\n",
    "1. Continuous \n",
    "2. Categorical \n",
    "\n",
    "Post hoc test: \n",
    "1. Tukey HSD\n",
    "2. Pair t-test \n",
    "\n",
    "Non parametric - Kruskal walis test **Question**\n",
    "1. Pair wilcox - for each pair of categorical variables\n",
    "2. Dunn test \n",
    "3. PMCMR\n",
    "4. Conover \n",
    "\n",
    "Correction tests: \n",
    "**Question**\n",
    "1. FDR\n",
    "2. Bonferroni \n",
    "3. Holm \n",
    "4. bh \n",
    "\n",
    "\n"
   ]
  },
  {
   "cell_type": "code",
   "execution_count": null,
   "id": "01ba84ce",
   "metadata": {},
   "outputs": [
    {
     "ename": "Error",
     "evalue": "(1,1): error CS0103: The name 'install' does not exist in the current context",
     "output_type": "error",
     "traceback": [
      "(1,1): error CS0103: The name 'install' does not exist in the current context"
     ]
    }
   ],
   "source": [
    "install.packages(\"dunn.test\")"
   ]
  },
  {
   "cell_type": "code",
   "execution_count": null,
   "id": "68228b09",
   "metadata": {},
   "outputs": [
    {
     "ename": "Error",
     "evalue": "(1,1): error CS0103: The name 'library' does not exist in the current context\r\n(1,9): error CS0103: The name 'dunn' does not exist in the current context",
     "output_type": "error",
     "traceback": [
      "(1,1): error CS0103: The name 'library' does not exist in the current context\r\n",
      "(1,9): error CS0103: The name 'dunn' does not exist in the current context"
     ]
    }
   ],
   "source": [
    "library(dunn.test)"
   ]
  },
  {
   "cell_type": "code",
   "execution_count": null,
   "id": "6acc9171",
   "metadata": {},
   "outputs": [
    {
     "ename": "Error",
     "evalue": "(1,2): error CS1024: Preprocessor directive expected\r\n(3,30): error CS1002: ; expected",
     "output_type": "error",
     "traceback": [
      "(1,2): error CS1024: Preprocessor directive expected\r\n",
      "(3,30): error CS1002: ; expected"
     ]
    }
   ],
   "source": [
    "#Pairwise multiple comparision of mean ranks (PMCMR)\n",
    "\n",
    "install.packages(\"PMCMRplus\")\n",
    "library(PMCMRplus)"
   ]
  },
  {
   "cell_type": "code",
   "execution_count": null,
   "id": "aca318f0",
   "metadata": {},
   "outputs": [
    {
     "ename": "Error",
     "evalue": "(1,2): error CS1024: Preprocessor directive expected\r\n(2,2): error CS1024: Preprocessor directive expected",
     "output_type": "error",
     "traceback": [
      "(1,2): error CS1024: Preprocessor directive expected\r\n",
      "(2,2): error CS1024: Preprocessor directive expected"
     ]
    }
   ],
   "source": [
    "#Conover-Iman test of multiple comparisions using rank sums, p-values \n",
    "#F-test(var.test used for checking whether variances are equal)"
   ]
  },
  {
   "cell_type": "markdown",
   "id": "3dc15c1e",
   "metadata": {
    "dotnet_interactive": {
     "language": "csharp"
    },
    "polyglot_notebook": {
     "kernelName": "csharp"
    }
   },
   "source": [
    "## **Linear Regression** ##\n",
    "<br />\n",
    "y=mx+c\n",
    "<br />\n",
    "Intercept: H0=>c=0\n",
    "<br />\n",
    "For slope: H-0: m=0\n",
    "<br />\n",
    "For Interactive effects \"\\*\" \n",
    "<br />\n",
    "Null hypothesis: There is a strong correlation between them "
   ]
  },
  {
   "cell_type": "code",
   "execution_count": null,
   "id": "4aabdfb8",
   "metadata": {},
   "outputs": [
    {
     "ename": "Error",
     "evalue": "(1,63): error CS1002: ; expected",
     "output_type": "error",
     "traceback": [
      "(1,63): error CS1002: ; expected"
     ]
    }
   ],
   "source": [
    "LunchAmount<-c(300, 154, 72, 899,1234, 36, 764, 321, 540, 684)\n",
    "TipAmount<-c(30, 15, 7, 89, 123, 3, 76, 32, 54, 68)\n"
   ]
  },
  {
   "cell_type": "code",
   "execution_count": null,
   "id": "e21639d6",
   "metadata": {},
   "outputs": [
    {
     "ename": "Error",
     "evalue": "(1,24): error CS1003: Syntax error, ',' expected",
     "output_type": "error",
     "traceback": [
      "(1,24): error CS1003: Syntax error, ',' expected"
     ]
    }
   ],
   "source": [
    "reg_model<-lm(TipAmount~LunchAmount)"
   ]
  },
  {
   "cell_type": "code",
   "execution_count": null,
   "id": "62eac6f9",
   "metadata": {},
   "outputs": [
    {
     "ename": "Error",
     "evalue": "(1,15): error CS1003: Syntax error, ',' expected\r\n(1,65): error CS1003: Syntax error, ',' expected",
     "output_type": "error",
     "traceback": [
      "(1,15): error CS1003: Syntax error, ',' expected\r\n",
      "(1,65): error CS1003: Syntax error, ',' expected"
     ]
    }
   ],
   "source": [
    "plot(TipAmount~LunchAmount, data=faithful) + abline(lm(TipAmount~LunchAmount, data=faithful), col=\"blue\")"
   ]
  },
  {
   "cell_type": "code",
   "execution_count": null,
   "id": "ddcfa31c",
   "metadata": {},
   "outputs": [
    {
     "ename": "Error",
     "evalue": "(1,1): error CS0103: The name 'summary' does not exist in the current context\r\n(1,9): error CS0103: The name 'reg_model' does not exist in the current context",
     "output_type": "error",
     "traceback": [
      "(1,1): error CS0103: The name 'summary' does not exist in the current context\r\n",
      "(1,9): error CS0103: The name 'reg_model' does not exist in the current context"
     ]
    }
   ],
   "source": [
    "summary(reg_model)"
   ]
  },
  {
   "cell_type": "code",
   "execution_count": null,
   "id": "b3a3aa9f",
   "metadata": {},
   "outputs": [
    {
     "ename": "Error",
     "evalue": "(1,1): error CS0103: The name 'a' does not exist in the current context\r\n(1,4): error CS0103: The name 'data' does not exist in the current context\r\n(1,15): error CS0103: The name 'newdata' does not exist in the current context",
     "output_type": "error",
     "traceback": [
      "(1,1): error CS0103: The name 'a' does not exist in the current context\r\n",
      "(1,4): error CS0103: The name 'data' does not exist in the current context\r\n",
      "(1,15): error CS0103: The name 'newdata' does not exist in the current context"
     ]
    }
   ],
   "source": [
    "a<-data.frame(newdata=394)"
   ]
  },
  {
   "cell_type": "code",
   "execution_count": null,
   "id": "f2c420cc",
   "metadata": {},
   "outputs": [
    {
     "ename": "Error",
     "evalue": "(1,49): error CS1002: ; expected\r\n(2,27): error CS1003: Syntax error, ',' expected\r\n(2,56): error CS1002: ; expected",
     "output_type": "error",
     "traceback": [
      "(1,49): error CS1002: ; expected\r\n",
      "(2,27): error CS1003: Syntax error, ',' expected\r\n",
      "(2,56): error CS1002: ; expected"
     ]
    }
   ],
   "source": [
    "RestaurantClass<-c(2, 1, 1, 3, 4, 1, 2, 1, 2, 2)\n",
    "reg_model2 <- lm(TipAmount~LunchAmount+RestaurantClass)\n",
    "abline()"
   ]
  },
  {
   "cell_type": "code",
   "execution_count": null,
   "id": "4378c4cc",
   "metadata": {},
   "outputs": [
    {
     "ename": "Error",
     "evalue": "(1,25): error CS1003: Syntax error, ',' expected\r\n(1,55): error CS1040: Preprocessor directives must appear as the first non-whitespace character on a line",
     "output_type": "error",
     "traceback": [
      "(1,25): error CS1003: Syntax error, ',' expected\r\n",
      "(1,55): error CS1040: Preprocessor directives must appear as the first non-whitespace character on a line"
     ]
    }
   ],
   "source": [
    "reg_model3<-lm(TipAmount~LunchAmount*RestaurantClass) #m1*m2=0 "
   ]
  },
  {
   "cell_type": "code",
   "execution_count": null,
   "id": "a9fa6ccd",
   "metadata": {},
   "outputs": [
    {
     "ename": "Error",
     "evalue": "(1,2): error CS1024: Preprocessor directive expected\r\n(2,15): error CS1002: ; expected\r\n(3,16): error CS1002: ; expected",
     "output_type": "error",
     "traceback": [
      "(1,2): error CS1024: Preprocessor directive expected\r\n",
      "(2,15): error CS1002: ; expected\r\n",
      "(3,16): error CS1002: ; expected"
     ]
    }
   ],
   "source": [
    "#AIC - Akaike information criterion\n",
    "AIC(reg_model)\n",
    "AIC(reg_model2)\n",
    "AIC(reg_model3)"
   ]
  },
  {
   "cell_type": "markdown",
   "id": "20ea57fe",
   "metadata": {
    "dotnet_interactive": {
     "language": "csharp"
    },
    "polyglot_notebook": {
     "kernelName": "csharp"
    }
   },
   "source": [
    "# Class: 16th March 2023"
   ]
  },
  {
   "cell_type": "code",
   "execution_count": null,
   "id": "91ce039e",
   "metadata": {},
   "outputs": [
    {
     "ename": "Error",
     "evalue": "(2,40): error CS1002: ; expected\r\n(4,2): error CS1024: Preprocessor directive expected\r\n(5,25): error CS1003: Syntax error, ',' expected\r\n(5,54): error CS1002: ; expected\r\n(7,29): error CS1002: ; expected",
     "output_type": "error",
     "traceback": [
      "(2,40): error CS1002: ; expected\r\n",
      "(4,2): error CS1024: Preprocessor directive expected\r\n",
      "(5,25): error CS1003: Syntax error, ',' expected\r\n",
      "(5,54): error CS1002: ; expected\r\n",
      "(7,29): error CS1002: ; expected"
     ]
    }
   ],
   "source": [
    "\n",
    "RestaurantClass<-c(2,1,1,3,4,1,2,1,2,2)\n",
    "\n",
    "#Plotting the regression fit\n",
    "reg_model <-lm(TipAmount~LunchAmount+RestaurantClass)\n",
    "\n",
    "abline(reg_model, col=\"red\")\n",
    "summary(reg_model)"
   ]
  },
  {
   "cell_type": "code",
   "execution_count": null,
   "id": "ab134dea",
   "metadata": {},
   "outputs": [
    {
     "ename": "Error",
     "evalue": "(2,1): error CS0103: The name 'data' does not exist in the current context\r\n(2,12): error CS0103: The name 'Year' does not exist in the current context\r\n(2,18): error CS0103: The name 'Month' does not exist in the current context\r\n(2,25): error CS0103: The name 'Interest_Rate' does not exist in the current context\r\n(2,40): error CS0103: The name 'Unemployment_Rate' does not exist in the current context\r\n(2,59): error CS0103: The name 'Stock_index_price' does not exist in the current context",
     "output_type": "error",
     "traceback": [
      "(2,1): error CS0103: The name 'data' does not exist in the current context\r\n",
      "(2,12): error CS0103: The name 'Year' does not exist in the current context\r\n",
      "(2,18): error CS0103: The name 'Month' does not exist in the current context\r\n",
      "(2,25): error CS0103: The name 'Interest_Rate' does not exist in the current context\r\n",
      "(2,40): error CS0103: The name 'Unemployment_Rate' does not exist in the current context\r\n",
      "(2,59): error CS0103: The name 'Stock_index_price' does not exist in the current context"
     ]
    }
   ],
   "source": [
    "\n",
    "data.frame(Year, Month, Interest_Rate, Unemployment_Rate, Stock_index_price)"
   ]
  },
  {
   "cell_type": "code",
   "execution_count": null,
   "id": "e04efec1",
   "metadata": {},
   "outputs": [
    {
     "ename": "Error",
     "evalue": "(1,2): error CS1024: Preprocessor directive expected",
     "output_type": "error",
     "traceback": [
      "(1,2): error CS1024: Preprocessor directive expected"
     ]
    }
   ],
   "source": [
    "#install.packages(\"installr\")"
   ]
  },
  {
   "cell_type": "code",
   "execution_count": null,
   "id": "27a59ccd",
   "metadata": {},
   "outputs": [
    {
     "ename": "Error",
     "evalue": "(1,2): error CS1024: Preprocessor directive expected",
     "output_type": "error",
     "traceback": [
      "(1,2): error CS1024: Preprocessor directive expected"
     ]
    }
   ],
   "source": [
    "#library(installr)"
   ]
  },
  {
   "cell_type": "code",
   "execution_count": null,
   "id": "ebe853a3",
   "metadata": {},
   "outputs": [],
   "source": [
    "#install.packages(\"PCATools\")"
   ]
  },
  {
   "cell_type": "markdown",
   "id": "17943a66",
   "metadata": {},
   "source": [
    "Screeplot explained variation differs amongst the packages \n",
    "Methods to determine the most significant Principal components \n",
    "1. Elbow point method: finds the elbow point - where tangent has 0 slope \n",
    "2. Horn's method : sees overall distribution of variance and determines the PC with highest contribution to variance. \n",
    "</br>\n",
    "In PCA Tools: explained variation below a certain threshold is neglected \n",
    "</br>\n",
    "Biplot\n",
    "Pairsplot: All pairs of PC's taken into account\n",
    "\n",
    "**Imp funct: Plot loadings**: Look at all PC's and determine the contribution of each component towards each sport/parameter.  \n"
   ]
  },
  {
   "cell_type": "code",
   "execution_count": 1,
   "id": "3e972b95",
   "metadata": {},
   "outputs": [
    {
     "ename": "NameError",
     "evalue": "name 'setwd' is not defined",
     "output_type": "error",
     "traceback": [
      "\u001b[1;31m---------------------------------------------------------------------------\u001b[0m",
      "\u001b[1;31mNameError\u001b[0m                                 Traceback (most recent call last)",
      "Cell \u001b[1;32mIn[1], line 1\u001b[0m\n\u001b[1;32m----> 1\u001b[0m \u001b[43msetwd\u001b[49m(\u001b[38;5;124m\"\u001b[39m\u001b[38;5;124mC:/Users/VATSALA NEMA/Documents/SEM 8/Biostatistics\u001b[39m\u001b[38;5;124m\"\u001b[39m)\n",
      "\u001b[1;31mNameError\u001b[0m: name 'setwd' is not defined"
     ]
    }
   ],
   "source": [
    "setwd(\"C:/Users/VATSALA NEMA/Documents/SEM 8/Biostatistics\")"
   ]
  }
 ],
 "metadata": {
  "kernelspec": {
   "display_name": "Python 3 (ipykernel)",
   "language": "python",
   "name": "python3"
  },
  "language_info": {
   "codemirror_mode": {
    "name": "ipython",
    "version": 3
   },
   "file_extension": ".py",
   "mimetype": "text/x-python",
   "name": "python",
   "nbconvert_exporter": "python",
   "pygments_lexer": "ipython3",
   "version": "3.8.15"
  },
  "polyglot_notebook": {
   "kernelInfo": {
    "defaultKernelName": "csharp",
    "items": [
     {
      "aliases": [],
      "name": "csharp"
     }
    ]
   }
  }
 },
 "nbformat": 4,
 "nbformat_minor": 5
}
